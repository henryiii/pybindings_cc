{
 "cells": [
  {
   "cell_type": "markdown",
   "metadata": {
    "slideshow": {
     "slide_type": "slide"
    }
   },
   "source": [
    "# Python Binding\n",
    "## Henry Schreiner\n",
    "## PyCHEP 2018\n"
   ]
  },
  {
   "cell_type": "markdown",
   "metadata": {
    "slideshow": {
     "slide_type": "slide"
    }
   },
   "source": [
    "# Focus\n",
    "\n",
    "* What Python bindings do\n",
    "* What tools are available\n",
    "* How Python bindings work"
   ]
  },
  {
   "cell_type": "markdown",
   "metadata": {
    "slideshow": {
     "slide_type": "subslide"
    }
   },
   "source": [
    "# Caviats\n",
    "\n",
    "* Will cover C++ and C binding only\n",
    "* Will not cover every tool available\n",
    "* Will not cover `cppyy` in detail (but see next talk)\n",
    "* Python 2 is dying, long live Python 3!"
   ]
  },
  {
   "cell_type": "markdown",
   "metadata": {
    "slideshow": {
     "slide_type": "subslide"
    }
   },
   "source": [
    "# Selection:\n",
    "* C Binding: ctypes, <pypy based thing>\n",
    "* Manual binding (quick look)\n",
    "* SWIG (Too automatic)\n",
    "* Cython (Two languages)\n",
    "* PyBind11 (just right)\n",
    "* Special mention: Numba, cppyy"
   ]
  },
  {
   "cell_type": "markdown",
   "metadata": {
    "slideshow": {
     "slide_type": "subslide"
    }
   },
   "source": [
    "# Preperation\n",
    "\n",
    "This talk is interactive, and uses `cookiecutter` to set up code for you to play with. Install CookieCutter:\n",
    "\n",
    "```shell\n",
    "pip install cookiecutter\n",
    "```\n",
    "\n",
    "Then run:\n",
    "\n",
    "```shell\n",
    "cookiecutter gh:henryiii/pybindings_cc\n",
    "```\n",
    "\n",
    "Answer the questions, and then you'll have a new directory ready to go!"
   ]
  },
  {
   "cell_type": "markdown",
   "metadata": {
    "slideshow": {
     "slide_type": "slide"
    }
   },
   "source": [
    "# Bindngs: What is it?\n",
    "\n",
    "Bindings allow a function(alitiy) to be accessed from Python."
   ]
  },
  {
   "cell_type": "code",
   "execution_count": 1,
   "metadata": {},
   "outputs": [
    {
     "name": "stdout",
     "output_type": "stream",
     "text": [
      "Overwriting simple.c\n"
     ]
    }
   ],
   "source": [
    "%%writefile simple.c\n",
    "\n",
    "float square(float x) {\n",
    "    return x*x;\n",
    "}"
   ]
  },
  {
   "cell_type": "markdown",
   "metadata": {},
   "source": [
    "### Desired usage in Python:\n",
    "```python\n",
    "y = square(x)\n",
    "```"
   ]
  },
  {
   "cell_type": "markdown",
   "metadata": {
    "slideshow": {
     "slide_type": "subslide"
    }
   },
   "source": [
    "C bindings are very easy. Just compile into a shared library, then open it in python with the built in `ctypes` module:"
   ]
  },
  {
   "cell_type": "code",
   "execution_count": 2,
   "metadata": {},
   "outputs": [],
   "source": [
    "!cc simple.c -shared -o simple.so"
   ]
  },
  {
   "cell_type": "code",
   "execution_count": 3,
   "metadata": {},
   "outputs": [
    {
     "data": {
      "text/plain": [
       "True"
      ]
     },
     "execution_count": 3,
     "metadata": {},
     "output_type": "execute_result"
    }
   ],
   "source": [
    "from ctypes import cdll, c_float\n",
    "lib = cdll.LoadLibrary('simple.so')\n",
    "lib.square.argtypes = (c_float,)\n",
    "lib.square.restype = c_float\n",
    "lib.square(2.0) == 4.0"
   ]
  },
  {
   "cell_type": "markdown",
   "metadata": {},
   "source": [
    "See [AmpGen](https://gitlab.cern.ch/lhcb/Gauss/blob/LHCBGAUSS-1058.AmpGenDev/Gen/AmpGen/options/ampgen.py) Python interface. In Pythonista for iOS, we can even use `ctypes` to access Apple's public APIs!"
   ]
  },
  {
   "cell_type": "markdown",
   "metadata": {
    "slideshow": {
     "slide_type": "slide"
    }
   },
   "source": [
    "# Why do we need more?\n",
    "\n",
    "For some cases, this is enougth. But often, you have an elegant (hopefully) C++ api. You can't reduce this down to `export \"C\"`. You'd like to be able to do the same thing in Python that you'd do in C++. You need overloading, classes, memory managment, etc.\n",
    "\n",
    "Let's start looking at ways to bind C++, but let's try one more C example first:"
   ]
  },
  {
   "cell_type": "code",
   "execution_count": 4,
   "metadata": {
    "slideshow": {
     "slide_type": "subslide"
    }
   },
   "outputs": [
    {
     "name": "stdout",
     "output_type": "stream",
     "text": [
      "Overwriting pysimple.c\n"
     ]
    }
   ],
   "source": [
    "%%writefile pysimple.c\n",
    "\n",
    "#include <Python.h>\n",
    "\n",
    "float square(float x) {\n",
    "    return x*x; }\n",
    "\n",
    "/* C reminder: static means only visible in this file (not exported) */\n",
    "static PyObject* square_wrapper(PyObject* self, PyObject* args) {\n",
    "  float input, result;\n",
    "\n",
    "  if (!PyArg_ParseTuple(args, \"f\", &input)) {\n",
    "      return NULL; }\n",
    "\n",
    "  result = square(input);\n",
    "  return PyFloat_FromDouble(result);}\n",
    "\n",
    "static PyMethodDef pysimple_methods[] = {\n",
    " { \"square\", square_wrapper, METH_VARARGS, \"Square function\" },\n",
    " { NULL, NULL, 0, NULL } };\n",
    "\n",
    "#if PY_MAJOR_VERSION >= 3\n",
    "static struct PyModuleDef pysimple_module = {\n",
    "    PyModuleDef_HEAD_INIT, \"pysimple\", NULL, -1, pysimple_methods};\n",
    "\n",
    "PyMODINIT_FUNC PyInit_pysimple(void) {\n",
    "    return PyModule_Create(&pysimple_module);\n",
    "}\n",
    "#else\n",
    "DL_EXPORT(void) initpysimple(void) {\n",
    "  Py_InitModule(\"pysimple\", pysimple_methods); }\n",
    "#endif"
   ]
  },
  {
   "cell_type": "markdown",
   "metadata": {
    "slideshow": {
     "slide_type": "subslide"
    }
   },
   "source": [
    "### Build:"
   ]
  },
  {
   "cell_type": "code",
   "execution_count": 5,
   "metadata": {},
   "outputs": [],
   "source": [
    "from sysconfig import get_paths\n",
    "inc = get_paths()['include']"
   ]
  },
  {
   "cell_type": "code",
   "execution_count": 6,
   "metadata": {},
   "outputs": [],
   "source": [
    "!cc -I {inc} -shared -o pysimple.so pysimple.c -undefined dynamic_lookup"
   ]
  },
  {
   "cell_type": "markdown",
   "metadata": {},
   "source": [
    "### Run:"
   ]
  },
  {
   "cell_type": "code",
   "execution_count": 7,
   "metadata": {},
   "outputs": [
    {
     "data": {
      "text/plain": [
       "True"
      ]
     },
     "execution_count": 7,
     "metadata": {},
     "output_type": "execute_result"
    }
   ],
   "source": [
    "import pysimple\n",
    "pysimple.square(2.0) == 4.0"
   ]
  },
  {
   "cell_type": "markdown",
   "metadata": {},
   "source": [
    "# SWIG : automated bindins\n",
    "\n",
    "* Produces \"automatic\" bindings\n",
    "* Works with many output languages\n",
    "* Has supporting module built into CMake\n",
    "\n",
    "Downsides:\n",
    "\n",
    "* Can be all or nothing\n",
    "* Hard to customize\n",
    "* Customizations tend to be language specific\n",
    "* Slow development"
   ]
  },
  {
   "cell_type": "code",
   "execution_count": 8,
   "metadata": {},
   "outputs": [
    {
     "name": "stdout",
     "output_type": "stream",
     "text": [
      "Overwriting SimpleClass.hpp\n"
     ]
    }
   ],
   "source": [
    "%%writefile SimpleClass.hpp\n",
    "#pragma once\n",
    "\n",
    "class Simple {\n",
    "    int x;\n",
    "  public:\n",
    "    Simple(int x):x(x) {}\n",
    "    int get() const {return x;}\n",
    "};"
   ]
  },
  {
   "cell_type": "code",
   "execution_count": 9,
   "metadata": {},
   "outputs": [
    {
     "name": "stdout",
     "output_type": "stream",
     "text": [
      "Overwriting SimpleSWIG.i\n"
     ]
    }
   ],
   "source": [
    "%%writefile SimpleSWIG.i\n",
    "\n",
    "%module simpleswig\n",
    "%{\n",
    "/* Includes the header in the wrapper code */\n",
    "#include \"SimpleClass.hpp\"\n",
    "%}\n",
    " \n",
    "/* Parse the header file to generate wrappers */\n",
    "%include \"SimpleClass.hpp\""
   ]
  },
  {
   "cell_type": "code",
   "execution_count": 10,
   "metadata": {},
   "outputs": [],
   "source": [
    "!swig -python -c++ SimpleSWIG.i"
   ]
  },
  {
   "cell_type": "code",
   "execution_count": 11,
   "metadata": {},
   "outputs": [],
   "source": [
    "!c++ -shared SimpleSWIG_wrap.cxx -I {inc} -o _simpleswig.so -undefined dynamic_lookup"
   ]
  },
  {
   "cell_type": "code",
   "execution_count": 12,
   "metadata": {},
   "outputs": [
    {
     "data": {
      "text/plain": [
       "2"
      ]
     },
     "execution_count": 12,
     "metadata": {},
     "output_type": "execute_result"
    }
   ],
   "source": [
    "import simpleswig\n",
    "x = simpleswig.Simple(2)\n",
    "x.get()"
   ]
  },
  {
   "cell_type": "markdown",
   "metadata": {
    "slideshow": {
     "slide_type": "slide"
    }
   },
   "source": [
    "# Cython\n",
    "\n",
    "* Built to be a Python+C language for high performance compututations\n",
    "* Performance computation space in competition with numba\n",
    "* Due to design, also makes binding easy\n",
    "\n",
    "Downsides:\n",
    "* Requires learning a new(ish) language\n",
    "* Have to think with three hats\n",
    "* Very verbose"
   ]
  },
  {
   "cell_type": "markdown",
   "metadata": {
    "slideshow": {
     "slide_type": "subslide"
    }
   },
   "source": [
    "# Speed comparison"
   ]
  },
  {
   "cell_type": "code",
   "execution_count": 13,
   "metadata": {},
   "outputs": [],
   "source": [
    "def f(x):\n",
    "    for _ in range(100000000):\n",
    "        x=x+1\n",
    "    return x"
   ]
  },
  {
   "cell_type": "code",
   "execution_count": 14,
   "metadata": {},
   "outputs": [
    {
     "name": "stdout",
     "output_type": "stream",
     "text": [
      "6.11 s ± 180 ms per loop (mean ± std. dev. of 7 runs, 1 loop each)\n"
     ]
    }
   ],
   "source": [
    "%%timeit\n",
    "f(1)"
   ]
  },
  {
   "cell_type": "code",
   "execution_count": 15,
   "metadata": {
    "slideshow": {
     "slide_type": "subslide"
    }
   },
   "outputs": [],
   "source": [
    "%load_ext Cython"
   ]
  },
  {
   "cell_type": "code",
   "execution_count": 16,
   "metadata": {},
   "outputs": [],
   "source": [
    "%%cython\n",
    "\n",
    "def f(int x):\n",
    "    for _ in range(100000000):\n",
    "        x=x+1\n",
    "    return x"
   ]
  },
  {
   "cell_type": "code",
   "execution_count": 17,
   "metadata": {},
   "outputs": [
    {
     "name": "stdout",
     "output_type": "stream",
     "text": [
      "65.2 ns ± 1.16 ns per loop (mean ± std. dev. of 7 runs, 10000000 loops each)\n"
     ]
    }
   ],
   "source": [
    "%%timeit\n",
    "f(23)"
   ]
  },
  {
   "cell_type": "code",
   "execution_count": 18,
   "metadata": {
    "slideshow": {
     "slide_type": "subslide"
    }
   },
   "outputs": [],
   "source": [
    "import numba\n",
    "@numba.jit\n",
    "def f(x):\n",
    "    for _ in range(100000000):\n",
    "        x=x+1\n",
    "    return x"
   ]
  },
  {
   "cell_type": "code",
   "execution_count": 19,
   "metadata": {},
   "outputs": [
    {
     "name": "stdout",
     "output_type": "stream",
     "text": [
      "CPU times: user 2 µs, sys: 0 ns, total: 2 µs\n",
      "Wall time: 6.2 µs\n"
     ]
    },
    {
     "data": {
      "text/plain": [
       "100000041"
      ]
     },
     "execution_count": 19,
     "metadata": {},
     "output_type": "execute_result"
    }
   ],
   "source": [
    "%time\n",
    "f(41)"
   ]
  },
  {
   "cell_type": "code",
   "execution_count": 20,
   "metadata": {},
   "outputs": [
    {
     "name": "stdout",
     "output_type": "stream",
     "text": [
      "200 ns ± 14.1 ns per loop (mean ± std. dev. of 7 runs, 10000000 loops each)\n"
     ]
    }
   ],
   "source": [
    "%%timeit\n",
    "f(41)"
   ]
  },
  {
   "cell_type": "markdown",
   "metadata": {
    "slideshow": {
     "slide_type": "subslide"
    }
   },
   "source": [
    "# Binding with Cython"
   ]
  },
  {
   "cell_type": "code",
   "execution_count": 21,
   "metadata": {
    "slideshow": {
     "slide_type": "subslide"
    }
   },
   "outputs": [
    {
     "name": "stdout",
     "output_type": "stream",
     "text": [
      "Overwriting simpleclass.pxd\n"
     ]
    }
   ],
   "source": [
    "%%writefile simpleclass.pxd\n",
    "# distutils: language = c++\n",
    "\n",
    "cdef extern from \"SimpleClass.hpp\":\n",
    "    cdef cppclass Simple:\n",
    "        Simple(int x)\n",
    "        int get()"
   ]
  },
  {
   "cell_type": "code",
   "execution_count": 22,
   "metadata": {
    "slideshow": {
     "slide_type": "subslide"
    }
   },
   "outputs": [
    {
     "name": "stdout",
     "output_type": "stream",
     "text": [
      "Overwriting cythonclass.pyx\n"
     ]
    }
   ],
   "source": [
    "%%writefile cythonclass.pyx\n",
    "# distutils: language = c++\n",
    "\n",
    "from simpleclass cimport Simple as cSimple\n",
    "\n",
    "cdef class Simple:\n",
    "    cdef cSimple *cself\n",
    "    \n",
    "    def __cinit__(self, int x):\n",
    "        self.cself = new cSimple(x)\n",
    "    \n",
    "    def get(self):\n",
    "        return self.cself.get()\n",
    "    \n",
    "    def __dealloc__(self):\n",
    "        del self.cself"
   ]
  },
  {
   "cell_type": "code",
   "execution_count": 23,
   "metadata": {},
   "outputs": [
    {
     "name": "stdout",
     "output_type": "stream",
     "text": [
      "Compiling /Users/henryiii/git/presentations/physics/pychep/cythonclass.pyx because it changed.\r\n",
      "[1/1] Cythonizing /Users/henryiii/git/presentations/physics/pychep/cythonclass.pyx\r\n"
     ]
    }
   ],
   "source": [
    "!cythonize cythonclass.pyx"
   ]
  },
  {
   "cell_type": "code",
   "execution_count": 24,
   "metadata": {},
   "outputs": [],
   "source": [
    "!g++ cythonclass.cpp -shared -I {inc} -o cythonclass.so -undefined dynamic_lookup"
   ]
  },
  {
   "cell_type": "code",
   "execution_count": 25,
   "metadata": {},
   "outputs": [
    {
     "data": {
      "text/plain": [
       "3"
      ]
     },
     "execution_count": 25,
     "metadata": {},
     "output_type": "execute_result"
    }
   ],
   "source": [
    "import cythonclass\n",
    "x = cythonclass.Simple(3)\n",
    "x.get()"
   ]
  },
  {
   "cell_type": "markdown",
   "metadata": {
    "slideshow": {
     "slide_type": "slide"
    }
   },
   "source": [
    "# PyBind11\n",
    "\n",
    "* Designed for making bindings\n",
    "* Pure C++11 (no new language required)\n",
    "* Builds remain simple and don't require preprocessing\n",
    "* Easy to customize\n",
    "* Great Gitter community\n",
    "* Similar to Boost::Python, but easier to build\n",
    "\n",
    "Downsides:\n",
    "* Still verbose\n",
    "* Development variable\n",
    "* Requires C++11 (and better with C++14)"
   ]
  },
  {
   "cell_type": "code",
   "execution_count": 26,
   "metadata": {
    "slideshow": {
     "slide_type": "subslide"
    }
   },
   "outputs": [
    {
     "name": "stdout",
     "output_type": "stream",
     "text": [
      "Overwriting pybindclass.cpp\n"
     ]
    }
   ],
   "source": [
    "%%writefile pybindclass.cpp\n",
    "\n",
    "#include <pybind11/pybind11.h>\n",
    "#include \"SimpleClass.hpp\"\n",
    "\n",
    "namespace py = pybind11;\n",
    "\n",
    "PYBIND11_MODULE(pybindclass, m) {\n",
    "    py::class_<Simple>(m, \"Simple\")\n",
    "        .def(py::init<int>())\n",
    "        .def(\"get\", &Simple::get)\n",
    "    ;\n",
    "}"
   ]
  },
  {
   "cell_type": "code",
   "execution_count": 27,
   "metadata": {
    "slideshow": {
     "slide_type": "subslide"
    }
   },
   "outputs": [],
   "source": [
    "!c++ -std=c++11 pybindclass.cpp -shared -I {inc} -o pybindclass.so -undefined dynamic_lookup"
   ]
  },
  {
   "cell_type": "code",
   "execution_count": 28,
   "metadata": {},
   "outputs": [
    {
     "data": {
      "text/plain": [
       "4"
      ]
     },
     "execution_count": 28,
     "metadata": {},
     "output_type": "execute_result"
    }
   ],
   "source": [
    "import pybindclass\n",
    "x = pybindclass.Simple(4)\n",
    "x.get()"
   ]
  },
  {
   "cell_type": "markdown",
   "metadata": {
    "slideshow": {
     "slide_type": "slide"
    }
   },
   "source": [
    "# Cppyy\n",
    "\n",
    "* Born from ROOT bindings\n",
    "* Built on top of Cling\n",
    "* JIT, so can handle templates\n",
    "\n",
    "Downsides:\n",
    "\n",
    "* Header code runs in Cling\n",
    "* Can be slow (PyPy supposed to be faster)"
   ]
  },
  {
   "cell_type": "code",
   "execution_count": 29,
   "metadata": {
    "slideshow": {
     "slide_type": "subslide"
    }
   },
   "outputs": [],
   "source": [
    "import cppyy"
   ]
  },
  {
   "cell_type": "code",
   "execution_count": 30,
   "metadata": {},
   "outputs": [],
   "source": [
    "cppyy.include('SimpleClass.hpp')"
   ]
  },
  {
   "cell_type": "code",
   "execution_count": 31,
   "metadata": {},
   "outputs": [
    {
     "data": {
      "text/plain": [
       "5"
      ]
     },
     "execution_count": 31,
     "metadata": {},
     "output_type": "execute_result"
    }
   ],
   "source": [
    "x = cppyy.gbl.Simple(5)\n",
    "x.get()"
   ]
  }
 ],
 "metadata": {
  "celltoolbar": "Slideshow",
  "kernelspec": {
   "display_name": "Anaconda Python 3",
   "language": "python",
   "name": "anaconda"
  },
  "language_info": {
   "codemirror_mode": {
    "name": "ipython",
    "version": 3
   },
   "file_extension": ".py",
   "mimetype": "text/x-python",
   "name": "python",
   "nbconvert_exporter": "python",
   "pygments_lexer": "ipython3",
   "version": "3.6.5"
  }
 },
 "nbformat": 4,
 "nbformat_minor": 2
}
