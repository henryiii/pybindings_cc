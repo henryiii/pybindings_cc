{
 "cells": [
  {
   "cell_type": "markdown",
   "metadata": {
    "slideshow": {
     "slide_type": "slide"
    }
   },
   "source": [
    "# Tools to Bind to Python\n",
    "## Henry Schreiner\n",
    "## PyHEP 2018\n"
   ]
  },
  {
   "cell_type": "markdown",
   "metadata": {
    "slideshow": {
     "slide_type": "slide"
    }
   },
   "source": [
    "# Focus\n",
    "\n",
    "* What Python bindings do\n",
    "* What tools are available\n",
    "* How Python bindings work"
   ]
  },
  {
   "cell_type": "markdown",
   "metadata": {
    "slideshow": {
     "slide_type": "subslide"
    }
   },
   "source": [
    "# Caviats\n",
    "\n",
    "* Will cover C++ and C binding only\n",
    "* Will not cover every tool available\n",
    "* Will not cover `cppyy` in detail (but see Enric's talk)\n",
    "* Python 2 is dying, long live Python 3!\n",
    "    * but this talk is Py2 compatible also"
   ]
  },
  {
   "cell_type": "markdown",
   "metadata": {
    "slideshow": {
     "slide_type": "subslide"
    }
   },
   "source": [
    "# Selection:\n",
    "* C Binding: ctypes, CFFI\n",
    "* Manual binding (quick look)\n",
    "* SWIG (Too automatic)\n",
    "* Cython (Two languages)\n",
    "* PyBind11 (just right)\n",
    "* Special mention: Numba, cppyy"
   ]
  },
  {
   "cell_type": "markdown",
   "metadata": {
    "slideshow": {
     "slide_type": "subslide"
    }
   },
   "source": [
    "# Preperation\n",
    "\n",
    "This talk is interactive, and can be run in SWAN:\n",
    "\n",
    "[![Open in SWAN](http://swanserver.web.cern.ch/swanserver/images/badge_swan_white_150.png)](https://cern.ch/swanserver/cgi-bin/go?projurl=https://github.com/henryiii/pybindings_cc.git)\n",
    "\n",
    "If you want to run it manually, just download the repository from github: [henryiii/pybindings_cc](https://github.com/henryiii/pybindings_cc)\n"
   ]
  },
  {
   "cell_type": "markdown",
   "metadata": {
    "slideshow": {
     "slide_type": "subslide"
    }
   },
   "source": [
    "Since this talk is an interactive notebook, *no code will be hidden* from you. Here are the required packages:"
   ]
  },
  {
   "cell_type": "code",
   "execution_count": 39,
   "metadata": {},
   "outputs": [
    {
     "name": "stdout",
     "output_type": "stream",
     "text": [
      "Requirement already satisfied: cffi in /eos/user/h/hschrein/.local/lib/python3.6/site-packages\n",
      "Requirement already satisfied: pybind11 in /eos/user/h/hschrein/.local/lib/python3.6/site-packages\n",
      "Requirement already satisfied: numba in /cvmfs/sft-nightlies.cern.ch/lcg/views/dev3python3/Mon/x86_64-slc6-gcc62-opt/lib/python3.6/site-packages\n",
      "Requirement already satisfied: pycparser in /eos/user/h/hschrein/.local/lib/python3.6/site-packages (from cffi)\n",
      "Requirement already satisfied: llvmlite in /eos/user/h/hschrein/.local/lib/python3.6/site-packages (from numba)\n",
      "Requirement already satisfied: numpy in /cvmfs/sft-nightlies.cern.ch/lcg/views/dev3python3/Mon/x86_64-slc6-gcc62-opt/lib/python3.6/site-packages (from numba)\n",
      "\u001b[33mYou are using pip version 9.0.3, however version 10.0.1 is available.\n",
      "You should consider upgrading via the 'pip install --upgrade pip' command.\u001b[0m\n"
     ]
    }
   ],
   "source": [
    "!pip install --user cffi pybind11 numba\n",
    "# Other requirements: cython cppyy (SWIG is also needed but not a python module)\n",
    "# Using Anaconda recommended for users not using SWAN"
   ]
  },
  {
   "cell_type": "markdown",
   "metadata": {},
   "source": [
    "Other requirements:\n",
    "* cython, cppyy\n",
    "* SWIG is also needed but not a python module\n",
    "* Using Anaconda recommended for users not using SWAN"
   ]
  },
  {
   "cell_type": "markdown",
   "metadata": {
    "slideshow": {
     "slide_type": "subslide"
    }
   },
   "source": [
    "And, here are the standard imports. We will also add two variables to help with compiling:"
   ]
  },
  {
   "cell_type": "code",
   "execution_count": 41,
   "metadata": {},
   "outputs": [
    {
     "name": "stdout",
     "output_type": "stream",
     "text": [
      "inc: -I /eos/user/h/hschrein/.local/include/python3.6m -I /cvmfs/sft-nightlies.cern.ch/lcg/nightlies/dev3python3/Mon/Python/3.6.5/x86_64-slc6-gcc62-opt/include/python3.6m\n",
      "plat: -fPIC\n"
     ]
    }
   ],
   "source": [
    "from __future__ import print_function\n",
    "import os\n",
    "import sys\n",
    "from pybind11 import get_include\n",
    "inc = '-I ' + get_include(user=True) + ' -I ' + get_include(user=False)\n",
    "plat = '-undefined dynamic_lookup' if 'darwin' in sys.platform else '-fPIC'\n",
    "print('inc:', inc)\n",
    "print('plat:', plat)"
   ]
  },
  {
   "cell_type": "markdown",
   "metadata": {
    "slideshow": {
     "slide_type": "slide"
    }
   },
   "source": [
    "# What is meant by bindings?\n",
    "\n",
    "Bindings allow a function(alitiy) in a library to be accessed from Python.\n",
    "\n",
    "#### We will start with this example:"
   ]
  },
  {
   "cell_type": "code",
   "execution_count": 38,
   "metadata": {},
   "outputs": [
    {
     "name": "stdout",
     "output_type": "stream",
     "text": [
      "Overwriting simple.c\n"
     ]
    }
   ],
   "source": [
    "%%writefile simple.c\n",
    "\n",
    "float square(float x) {\n",
    "    return x*x;\n",
    "}"
   ]
  },
  {
   "cell_type": "markdown",
   "metadata": {},
   "source": [
    "#### Desired usage in Python:\n",
    "```python\n",
    "y = square(x)\n",
    "```"
   ]
  },
  {
   "cell_type": "markdown",
   "metadata": {
    "slideshow": {
     "slide_type": "subslide"
    }
   },
   "source": [
    "C bindings are very easy. Just compile into a shared library, then open it in python with the built in [ctypes](https://docs.python.org/3.7/library/ctypes.html) module:"
   ]
  },
  {
   "cell_type": "code",
   "execution_count": 4,
   "metadata": {},
   "outputs": [],
   "source": [
    "!cc simple.c -shared -o simple.so"
   ]
  },
  {
   "cell_type": "code",
   "execution_count": 42,
   "metadata": {},
   "outputs": [
    {
     "data": {
      "text/plain": [
       "4.0"
      ]
     },
     "execution_count": 42,
     "metadata": {},
     "output_type": "execute_result"
    }
   ],
   "source": [
    "from ctypes import cdll, c_float\n",
    "lib = cdll.LoadLibrary('./simple.so')\n",
    "lib.square.argtypes = (c_float,)\n",
    "lib.square.restype = c_float\n",
    "lib.square(2.0)"
   ]
  },
  {
   "cell_type": "markdown",
   "metadata": {},
   "source": [
    "* This may be all you need! See [AmpGen](https://gitlab.cern.ch/lhcb/Gauss/blob/LHCBGAUSS-1058.AmpGenDev/Gen/AmpGen/options/ampgen.py) Python interface.\n",
    "* In [Pythonista](http://omz-software.com/pythonista/) for iOS, we can even use ctypes to access Apple's public APIs!"
   ]
  },
  {
   "cell_type": "markdown",
   "metadata": {
    "slideshow": {
     "slide_type": "subslide"
    }
   },
   "source": [
    "### [CFFI](http://cffi.readthedocs.io/en/latest/overview.html)\n",
    "\n",
    "* The *C Foreign Function Interface* for Python\n",
    "* Still C only\n",
    "* Developed for PyPy, but available in CPython too\n",
    "\n",
    "The same example as before:"
   ]
  },
  {
   "cell_type": "code",
   "execution_count": 43,
   "metadata": {
    "slideshow": {
     "slide_type": "-"
    }
   },
   "outputs": [
    {
     "data": {
      "text/plain": [
       "4.0"
      ]
     },
     "execution_count": 43,
     "metadata": {},
     "output_type": "execute_result"
    }
   ],
   "source": [
    "from cffi import FFI\n",
    "ffi = FFI()\n",
    "ffi.cdef(\"float square(float);\")\n",
    "C = ffi.dlopen('./simple.so')\n",
    "C.square(2.0)"
   ]
  },
  {
   "cell_type": "markdown",
   "metadata": {
    "slideshow": {
     "slide_type": "slide"
    }
   },
   "source": [
    "# CPython\n",
    "\n",
    "* Let's see how bindings work before going into C++ binding tools\n",
    "* This is how CPython itself is implemented\n",
    "\n",
    "> C reminder: `static` means visible in this file only"
   ]
  },
  {
   "cell_type": "code",
   "execution_count": 8,
   "metadata": {
    "slideshow": {
     "slide_type": "subslide"
    }
   },
   "outputs": [
    {
     "name": "stdout",
     "output_type": "stream",
     "text": [
      "Overwriting pysimple.c\n"
     ]
    }
   ],
   "source": [
    "%%writefile pysimple.c\n",
    "#include <Python.h>\n",
    "\n",
    "float square(float x) {return x*x; }\n",
    "\n",
    "static PyObject* square_wrapper(PyObject* self, PyObject* args) {\n",
    "  float input, result;\n",
    "  if (!PyArg_ParseTuple(args, \"f\", &input)) {return NULL;}\n",
    "  result = square(input);\n",
    "  return PyFloat_FromDouble(result);}\n",
    "\n",
    "static PyMethodDef pysimple_methods[] = {\n",
    " { \"square\", square_wrapper, METH_VARARGS, \"Square function\" },\n",
    " { NULL, NULL, 0, NULL } };\n",
    "\n",
    "#if PY_MAJOR_VERSION >= 3\n",
    "static struct PyModuleDef pysimple_module = {\n",
    "    PyModuleDef_HEAD_INIT, \"pysimple\", NULL, -1, pysimple_methods};\n",
    "PyMODINIT_FUNC PyInit_pysimple(void) {\n",
    "    return PyModule_Create(&pysimple_module); }\n",
    "#else\n",
    "DL_EXPORT(void) initpysimple(void) {\n",
    "  Py_InitModule(\"pysimple\", pysimple_methods); }\n",
    "#endif"
   ]
  },
  {
   "cell_type": "markdown",
   "metadata": {
    "slideshow": {
     "slide_type": "subslide"
    }
   },
   "source": [
    "### Build:"
   ]
  },
  {
   "cell_type": "code",
   "execution_count": 9,
   "metadata": {},
   "outputs": [],
   "source": [
    "!cc {inc} -shared -o pysimple.so pysimple.c {plat}"
   ]
  },
  {
   "cell_type": "markdown",
   "metadata": {},
   "source": [
    "### Run:"
   ]
  },
  {
   "cell_type": "code",
   "execution_count": 45,
   "metadata": {},
   "outputs": [
    {
     "data": {
      "text/plain": [
       "4.0"
      ]
     },
     "execution_count": 45,
     "metadata": {},
     "output_type": "execute_result"
    }
   ],
   "source": [
    "import pysimple\n",
    "pysimple.square(2.0)"
   ]
  },
  {
   "cell_type": "markdown",
   "metadata": {
    "slideshow": {
     "slide_type": "slide"
    }
   },
   "source": [
    "# C++: Why do we need more?\n",
    "\n",
    "* Sometimes simple is enough!\n",
    "* `export \"C\"` allows C++ backend\n",
    "* C++ API can have: overloading, classes, memory managment, etc...\n",
    "* We could manually translate everything using C API\n",
    "\n",
    "### Solution:\n",
    "\n",
    "C++ binding tools!"
   ]
  },
  {
   "cell_type": "markdown",
   "metadata": {},
   "source": [
    "This is our C++ example:"
   ]
  },
  {
   "cell_type": "code",
   "execution_count": 11,
   "metadata": {
    "slideshow": {
     "slide_type": "-"
    }
   },
   "outputs": [
    {
     "name": "stdout",
     "output_type": "stream",
     "text": [
      "Overwriting SimpleClass.hpp\n"
     ]
    }
   ],
   "source": [
    "%%writefile SimpleClass.hpp\n",
    "#pragma once\n",
    "\n",
    "class Simple {\n",
    "    int x;\n",
    "  public:\n",
    "    Simple(int x): x(x) {}\n",
    "    int get() const {return x;}\n",
    "};"
   ]
  },
  {
   "cell_type": "markdown",
   "metadata": {
    "slideshow": {
     "slide_type": "slide"
    }
   },
   "source": [
    "# SWIG : automated bindings\n",
    "\n",
    "* Produces \"automatic\" bindings\n",
    "* Works with many output languages\n",
    "* Has supporting module built into CMake\n",
    "\n",
    "Downsides:\n",
    "\n",
    "* Can be all or nothing\n",
    "* Hard to customize\n",
    "* Customizations tend to be language specific\n",
    "* Slow development"
   ]
  },
  {
   "cell_type": "code",
   "execution_count": 12,
   "metadata": {
    "slideshow": {
     "slide_type": "subslide"
    }
   },
   "outputs": [
    {
     "name": "stdout",
     "output_type": "stream",
     "text": [
      "Overwriting SimpleSWIG.i\n"
     ]
    }
   ],
   "source": [
    "%%writefile SimpleSWIG.i\n",
    "\n",
    "%module simpleswig\n",
    "%{\n",
    "/* Includes the header in the wrapper code */\n",
    "#include \"SimpleClass.hpp\"\n",
    "%}\n",
    " \n",
    "/* Parse the header file to generate wrappers */\n",
    "%include \"SimpleClass.hpp\""
   ]
  },
  {
   "cell_type": "code",
   "execution_count": 13,
   "metadata": {},
   "outputs": [
    {
     "name": "stdout",
     "output_type": "stream",
     "text": [
      "/build/jenkins/workspace/install/swig/3.0.12/x86_64-slc6-gcc62-opt/share/swig/3.0.12\r\n"
     ]
    }
   ],
   "source": [
    "!swig -swiglib"
   ]
  },
  {
   "cell_type": "markdown",
   "metadata": {
    "slideshow": {
     "slide_type": "subslide"
    }
   },
   "source": [
    "#### SWAN/LxPlus only:\n",
    "\n",
    "We need to fix the `SWIG_LIB` path if we are using LCG's version of SWIG (such as on SWAN)"
   ]
  },
  {
   "cell_type": "code",
   "execution_count": 14,
   "metadata": {},
   "outputs": [],
   "source": [
    "if 'LCG_VIEW' in os.environ:\n",
    "    swiglibold = !swig -swiglib\n",
    "    swigloc = swiglibold[0].split('/')[-3:]\n",
    "    swiglib = os.path.join(os.environ['LCG_VIEW'], *swigloc)\n",
    "    os.environ['SWIG_LIB'] = swiglib"
   ]
  },
  {
   "cell_type": "code",
   "execution_count": 15,
   "metadata": {
    "slideshow": {
     "slide_type": "subslide"
    }
   },
   "outputs": [],
   "source": [
    "!swig -python -c++ SimpleSWIG.i"
   ]
  },
  {
   "cell_type": "code",
   "execution_count": 16,
   "metadata": {},
   "outputs": [],
   "source": [
    "!c++ -shared SimpleSWIG_wrap.cxx {inc} -o _simpleswig.so {plat}"
   ]
  },
  {
   "cell_type": "code",
   "execution_count": 17,
   "metadata": {},
   "outputs": [
    {
     "data": {
      "text/plain": [
       "2"
      ]
     },
     "execution_count": 17,
     "metadata": {},
     "output_type": "execute_result"
    }
   ],
   "source": [
    "import simpleswig\n",
    "x = simpleswig.Simple(2)\n",
    "x.get()"
   ]
  },
  {
   "cell_type": "markdown",
   "metadata": {
    "slideshow": {
     "slide_type": "slide"
    }
   },
   "source": [
    "# Cython\n",
    "\n",
    "* Built to be a Python+C language for high performance compututations\n",
    "* Performance computation space in competition with numba\n",
    "* Due to design, also makes binding easy\n",
    "* Easy to customize result\n",
    "* Can write Python 2 or 3, regardless of calling language\n",
    "\n",
    "Downsides:\n",
    "* Requires learning a new(ish) language\n",
    "* Have to think with three hats\n",
    "* *Very* verbose"
   ]
  },
  {
   "cell_type": "markdown",
   "metadata": {
    "slideshow": {
     "slide_type": "subslide"
    }
   },
   "source": [
    "# Speed comparison"
   ]
  },
  {
   "cell_type": "code",
   "execution_count": 18,
   "metadata": {},
   "outputs": [],
   "source": [
    "def f(x):\n",
    "    for _ in range(100000000):\n",
    "        x=x+1\n",
    "    return x"
   ]
  },
  {
   "cell_type": "code",
   "execution_count": 19,
   "metadata": {},
   "outputs": [
    {
     "name": "stdout",
     "output_type": "stream",
     "text": [
      "4.63 s ± 27.2 ms per loop (mean ± std. dev. of 7 runs, 1 loop each)\n"
     ]
    }
   ],
   "source": [
    "%%timeit\n",
    "f(1)"
   ]
  },
  {
   "cell_type": "code",
   "execution_count": 20,
   "metadata": {
    "slideshow": {
     "slide_type": "subslide"
    }
   },
   "outputs": [],
   "source": [
    "%load_ext Cython"
   ]
  },
  {
   "cell_type": "code",
   "execution_count": 21,
   "metadata": {},
   "outputs": [],
   "source": [
    "%%cython\n",
    "\n",
    "def f(int x):\n",
    "    for _ in range(10000000):\n",
    "        x=x+1\n",
    "    return x"
   ]
  },
  {
   "cell_type": "code",
   "execution_count": 22,
   "metadata": {},
   "outputs": [
    {
     "name": "stdout",
     "output_type": "stream",
     "text": [
      "68.6 ns ± 6.83 ns per loop (mean ± std. dev. of 7 runs, 10000000 loops each)\n"
     ]
    }
   ],
   "source": [
    "%%timeit\n",
    "f(23)"
   ]
  },
  {
   "cell_type": "code",
   "execution_count": 24,
   "metadata": {
    "slideshow": {
     "slide_type": "subslide"
    }
   },
   "outputs": [],
   "source": [
    "import numba\n",
    "@numba.jit\n",
    "def f(x):\n",
    "    for _ in range(10000000):\n",
    "        x=x+1\n",
    "    return x"
   ]
  },
  {
   "cell_type": "code",
   "execution_count": 25,
   "metadata": {},
   "outputs": [
    {
     "name": "stdout",
     "output_type": "stream",
     "text": [
      "CPU times: user 10 µs, sys: 0 ns, total: 10 µs\n",
      "Wall time: 23.8 µs\n"
     ]
    },
    {
     "data": {
      "text/plain": [
       "10000041"
      ]
     },
     "execution_count": 25,
     "metadata": {},
     "output_type": "execute_result"
    }
   ],
   "source": [
    "%time\n",
    "f(41)"
   ]
  },
  {
   "cell_type": "code",
   "execution_count": 26,
   "metadata": {},
   "outputs": [
    {
     "name": "stdout",
     "output_type": "stream",
     "text": [
      "216 ns ± 23.4 ns per loop (mean ± std. dev. of 7 runs, 1000000 loops each)\n"
     ]
    }
   ],
   "source": [
    "%%timeit\n",
    "f(41)"
   ]
  },
  {
   "cell_type": "markdown",
   "metadata": {
    "slideshow": {
     "slide_type": "subslide"
    }
   },
   "source": [
    "# Binding with Cython"
   ]
  },
  {
   "cell_type": "code",
   "execution_count": 27,
   "metadata": {
    "slideshow": {
     "slide_type": "-"
    }
   },
   "outputs": [
    {
     "name": "stdout",
     "output_type": "stream",
     "text": [
      "Overwriting simpleclass.pxd\n"
     ]
    }
   ],
   "source": [
    "%%writefile simpleclass.pxd\n",
    "# distutils: language = c++\n",
    "\n",
    "cdef extern from \"SimpleClass.hpp\":\n",
    "    cdef cppclass Simple:\n",
    "        Simple(int x)\n",
    "        int get()"
   ]
  },
  {
   "cell_type": "code",
   "execution_count": 28,
   "metadata": {
    "slideshow": {
     "slide_type": "subslide"
    }
   },
   "outputs": [
    {
     "name": "stdout",
     "output_type": "stream",
     "text": [
      "Overwriting cythonclass.pyx\n"
     ]
    }
   ],
   "source": [
    "%%writefile cythonclass.pyx\n",
    "# distutils: language = c++\n",
    "\n",
    "from simpleclass cimport Simple as cSimple\n",
    "\n",
    "cdef class Simple:\n",
    "    cdef cSimple *cself\n",
    "    \n",
    "    def __cinit__(self, int x):\n",
    "        self.cself = new cSimple(x)\n",
    "    \n",
    "    def get(self):\n",
    "        return self.cself.get()\n",
    "    \n",
    "    def __dealloc__(self):\n",
    "        del self.cself"
   ]
  },
  {
   "cell_type": "code",
   "execution_count": 29,
   "metadata": {
    "slideshow": {
     "slide_type": "subslide"
    }
   },
   "outputs": [
    {
     "name": "stdout",
     "output_type": "stream",
     "text": [
      "Compiling /eos/user/h/hschrein/SWAN_projects/pybindings_cc/cythonclass.pyx because it changed.\r\n",
      "[1/1] Cythonizing /eos/user/h/hschrein/SWAN_projects/pybindings_cc/cythonclass.pyx\r\n"
     ]
    }
   ],
   "source": [
    "!cythonize cythonclass.pyx"
   ]
  },
  {
   "cell_type": "code",
   "execution_count": 30,
   "metadata": {},
   "outputs": [],
   "source": [
    "!g++ cythonclass.cpp -shared {inc} -o cythonclass.so {plat}"
   ]
  },
  {
   "cell_type": "code",
   "execution_count": 31,
   "metadata": {},
   "outputs": [
    {
     "data": {
      "text/plain": [
       "3"
      ]
     },
     "execution_count": 31,
     "metadata": {},
     "output_type": "execute_result"
    }
   ],
   "source": [
    "import cythonclass\n",
    "x = cythonclass.Simple(3)\n",
    "x.get()"
   ]
  },
  {
   "cell_type": "markdown",
   "metadata": {
    "slideshow": {
     "slide_type": "slide"
    }
   },
   "source": [
    "# PyBind11\n",
    "\n",
    "* Designed for making bindings\n",
    "* Pure C++11 (no new language required)\n",
    "* Builds remain simple and don't require preprocessing\n",
    "* Easy to customize result\n",
    "* Great Gitter community\n",
    "* Similar to Boost::Python, but easier to build\n",
    "\n",
    "Downsides:\n",
    "* Still verbose\n",
    "* Development variable\n",
    "* Requires C++11 (and better with C++14)"
   ]
  },
  {
   "cell_type": "code",
   "execution_count": 32,
   "metadata": {
    "slideshow": {
     "slide_type": "subslide"
    }
   },
   "outputs": [
    {
     "name": "stdout",
     "output_type": "stream",
     "text": [
      "Overwriting pybindclass.cpp\n"
     ]
    }
   ],
   "source": [
    "%%writefile pybindclass.cpp\n",
    "\n",
    "#include <pybind11/pybind11.h>\n",
    "#include \"SimpleClass.hpp\"\n",
    "\n",
    "namespace py = pybind11;\n",
    "\n",
    "PYBIND11_MODULE(pybindclass, m) {\n",
    "    py::class_<Simple>(m, \"Simple\")\n",
    "        .def(py::init<int>())\n",
    "        .def(\"get\", &Simple::get)\n",
    "    ;\n",
    "}"
   ]
  },
  {
   "cell_type": "code",
   "execution_count": 33,
   "metadata": {
    "slideshow": {
     "slide_type": "subslide"
    }
   },
   "outputs": [],
   "source": [
    "!c++ -std=c++11 pybindclass.cpp -shared {inc} -o pybindclass.so {plat}"
   ]
  },
  {
   "cell_type": "code",
   "execution_count": 34,
   "metadata": {},
   "outputs": [
    {
     "data": {
      "text/plain": [
       "4"
      ]
     },
     "execution_count": 34,
     "metadata": {},
     "output_type": "execute_result"
    }
   ],
   "source": [
    "import pybindclass\n",
    "x = pybindclass.Simple(4)\n",
    "x.get()"
   ]
  },
  {
   "cell_type": "markdown",
   "metadata": {
    "slideshow": {
     "slide_type": "slide"
    }
   },
   "source": [
    "# Cppyy\n",
    "\n",
    "* Born from ROOT bindings\n",
    "* Built on top of Cling\n",
    "* JIT, so can handle templates\n",
    "\n",
    "Downsides:\n",
    "\n",
    "* Header code runs in Cling\n",
    "* Can be slow (PyPy supposed to be faster)\n",
    "* ROOT vs. PyPy vs. pip versions\n",
    "* Harder to customize result than PyBind11\n",
    "* Broken on SWAN (so will not show working example here)"
   ]
  },
  {
   "cell_type": "code",
   "execution_count": 35,
   "metadata": {
    "slideshow": {
     "slide_type": "slide"
    }
   },
   "outputs": [],
   "source": [
    "import cppyy"
   ]
  },
  {
   "cell_type": "code",
   "execution_count": 36,
   "metadata": {},
   "outputs": [
    {
     "ename": "AttributeError",
     "evalue": "module 'cppyy' has no attribute 'include'",
     "output_type": "error",
     "traceback": [
      "\u001b[0;31m---------------------------------------------------------------------------\u001b[0m",
      "\u001b[0;31mAttributeError\u001b[0m                            Traceback (most recent call last)",
      "\u001b[0;32m<ipython-input-36-c25a8b099220>\u001b[0m in \u001b[0;36m<module>\u001b[0;34m()\u001b[0m\n\u001b[0;32m----> 1\u001b[0;31m \u001b[0mcppyy\u001b[0m\u001b[0;34m.\u001b[0m\u001b[0minclude\u001b[0m\u001b[0;34m(\u001b[0m\u001b[0;34m'SimpleClass.hpp'\u001b[0m\u001b[0;34m)\u001b[0m\u001b[0;34m\u001b[0m\u001b[0m\n\u001b[0m",
      "\u001b[0;31mAttributeError\u001b[0m: module 'cppyy' has no attribute 'include'"
     ]
    }
   ],
   "source": [
    "cppyy.include('SimpleClass.hpp')"
   ]
  },
  {
   "cell_type": "code",
   "execution_count": null,
   "metadata": {},
   "outputs": [],
   "source": [
    "x = cppyy.gbl.Simple(5)\n",
    "x.get()"
   ]
  }
 ],
 "metadata": {
  "celltoolbar": "Slideshow",
  "kernelspec": {
   "display_name": "Python 3",
   "language": "python",
   "name": "python3"
  },
  "language_info": {
   "codemirror_mode": {
    "name": "ipython",
    "version": 3
   },
   "file_extension": ".py",
   "mimetype": "text/x-python",
   "name": "python",
   "nbconvert_exporter": "python",
   "pygments_lexer": "ipython3",
   "version": "3.6.5"
  }
 },
 "nbformat": 4,
 "nbformat_minor": 2
}
