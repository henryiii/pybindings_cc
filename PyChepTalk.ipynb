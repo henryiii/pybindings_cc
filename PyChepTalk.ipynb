{
 "cells": [
  {
   "cell_type": "markdown",
   "metadata": {
    "slideshow": {
     "slide_type": "slide"
    }
   },
   "source": [
    "# Python Binding\n",
    "## Henry Schreiner\n",
    "## PyCHEP 2018\n"
   ]
  },
  {
   "cell_type": "markdown",
   "metadata": {
    "slideshow": {
     "slide_type": "slide"
    }
   },
   "source": [
    "# Focus\n",
    "\n",
    "* What Python bindings do\n",
    "* What tools are available\n",
    "* How Python bindings work"
   ]
  },
  {
   "cell_type": "markdown",
   "metadata": {
    "slideshow": {
     "slide_type": "fragment"
    }
   },
   "source": [
    "# Caviats\n",
    "\n",
    "* Will cover C++ and C binding only\n",
    "* Will not cover every tool available\n",
    "* Will not cover `cppyy` in detail (but see next talk)\n",
    "* Python 2 is dying, long live Python 3!"
   ]
  },
  {
   "cell_type": "markdown",
   "metadata": {},
   "source": [
    "# Selection:\n",
    "* C Binding: ctypes, <pypy based thing>\n",
    "* Manual binding (quick look)\n",
    "* SWIG (Too automatic)\n",
    "* Cython (Two languages)\n",
    "* PyBind11 (just right)\n",
    "* Special mention: Numba, cppyy"
   ]
  },
  {
   "cell_type": "markdown",
   "metadata": {},
   "source": [
    "# Preperation\n",
    "\n",
    "This talk is interactive, and uses `cookiecutter` to set up code for you to play with. Install CookieCutter:\n",
    "\n",
    "```shell\n",
    "pip install cookiecutter\n",
    "```\n",
    "\n",
    "Then run:\n",
    "\n",
    "```shell\n",
    "cookiecutter gh:henryiii/pybindings_cc\n",
    "```\n",
    "\n",
    "Answer the questions, and then you'll have a new directory ready to go!"
   ]
  },
  {
   "cell_type": "markdown",
   "metadata": {},
   "source": [
    "# What is it?\n",
    "\n",
    "Bindings allow a function(alitiy) to be accessed from Python. \n",
    "\n",
    "### Source: simple.c\n",
    "```c\n",
    "float square(float x) {\n",
    "    return x*x;\n",
    "}\n",
    "```\n",
    "\n",
    "### Desired usage\n",
    "```python\n",
    "y = square(x)\n",
    "```"
   ]
  },
  {
   "cell_type": "markdown",
   "metadata": {},
   "source": [
    "# C Bindings\n",
    "\n",
    "```cpp\n",
    "cc simple.c -shared -o simple.so\n",
    "```\n",
    "\n",
    "C bindings are increably easy. Just compile into a shared library, then open it in python with the built in `ctypes` module:\n",
    "\n",
    "```python\n",
    "from ctypes import cdll, c_float\n",
    "lib = ctypes.cdll.LoadLibrary('simple.so')\n",
    "lib.square.argtypes = (ctypes.c_float,)\n",
    "lib.square.restype = ctypes.c_float\n",
    "lib.square(2.0) == 4.0\n",
    "```\n",
    "\n",
    "See [AmpGen](https://gitlab.cern.ch/lhcb/Gauss/blob/LHCBGAUSS-1058.AmpGenDev/Gen/AmpGen/options/ampgen.py) Python interface"
   ]
  },
  {
   "cell_type": "markdown",
   "metadata": {},
   "source": [
    "# iOS example\n",
    "\n",
    "Using Pythonista for iOS, we can use `ctypes` to access Apple's public APIs:"
   ]
  },
  {
   "cell_type": "markdown",
   "metadata": {},
   "source": [
    "# Why do we need more?\n",
    "\n",
    "For some cases, this is enougth. But often, you have an elegant (hopefully) C++ api. You can't reduce this down to `export \"C\"`. You'd like to be able to do the same thing in Python that you'd do in C++. You need memory managment, etc.\n",
    "\n",
    "Let's start looking at ways to bind C++, but let's try one more C example first:"
   ]
  },
  {
   "cell_type": "markdown",
   "metadata": {},
   "source": [
    "```c\n",
    "#include <Python.h>\n",
    "\n",
    "float square(float x) {\n",
    "    return x*x; }\n",
    "\n",
    "/* C reminder: static means only visible in this file (not exported) */\n",
    "static PyObject* square_wrapper(PyObject* self, PyObject* args) {\n",
    "  float input, result;\n",
    "  PyObject* ret;\n",
    "\n",
    "  if (!PyArg_ParseTuple(args, \"f\", &input)) {\n",
    "      return NULL; }\n",
    "\n",
    "  result = square(input);\n",
    "  ret = PyFloat_FromDouble(result);\n",
    "  return ret; }\n",
    "\n",
    "static PyMethodDef PySimpleMethods[] = {\n",
    " { \"square\", square_wrapper, METH_VARARGS, \"Square function\" },\n",
    " { NULL, NULL, 0, NULL } };\n",
    "\n",
    "DL_EXPORT(void) initpysimple(void) {\n",
    "  Py_InitModule(\"pysimple\", PySimpleMethods); }\n",
    "```\n",
    "\n",
    "Build:\n",
    "\n",
    "```bash\n",
    "cc -fPIC -I /usr/include/python2.7 -shared -o pysimple.so pysimple.c -L /usr/lib  -lpython2.7\n",
    "```\n",
    "\n",
    "Run:\n",
    "\n",
    "```python\n",
    "import pysimple\n",
    "pysimple.square(2.0) == 4.0\n",
    "```"
   ]
  },
  {
   "cell_type": "code",
   "execution_count": null,
   "metadata": {},
   "outputs": [],
   "source": []
  },
  {
   "cell_type": "code",
   "execution_count": 2,
   "metadata": {},
   "outputs": [
    {
     "name": "stdout",
     "output_type": "stream",
     "text": [
      "Collecting cppyy\n",
      "  Downloading https://files.pythonhosted.org/packages/8a/a9/31c76324f70841af4888df3727bb86262d0b9f7e3bf81d26f19802ad1dd0/cppyy-1.1.1.tar.gz\n",
      "Collecting CPyCppyy>=1.1.0 (from cppyy)\n",
      "\u001b[?25l  Downloading https://files.pythonhosted.org/packages/a2/5f/7a84e20d1aacadcb8590e67b73e53a9533eb47c549f02ebec04b810ee0ae/CPyCppyy-1.1.1.tar.gz (115kB)\n",
      "\u001b[K    100% |████████████████████████████████| 122kB 5.7MB/s ta 0:00:01\n",
      "\u001b[?25hCollecting cppyy-backend>=1.1 (from CPyCppyy>=1.1.0->cppyy)\n",
      "  Downloading https://files.pythonhosted.org/packages/53/48/adde5b13d05ccb53f442155ab27089453599d054ceacc225d2f573f8e917/cppyy-backend-1.1.1.tar.gz\n",
      "Collecting cppyy-cling (from cppyy-backend>=1.1->CPyCppyy>=1.1.0->cppyy)\n",
      "\u001b[?25l  Downloading https://files.pythonhosted.org/packages/43/ed/5240edaf05b0f4f4dcea05a4032a72bcacba89d927670366cbeacf25f0be/cppyy-cling-6.12.6.3.tar.gz (49.8MB)\n",
      "\u001b[K    100% |████████████████████████████████| 49.8MB 536kB/s eta 0:00:01\n",
      "\u001b[?25hBuilding wheels for collected packages: cppyy, CPyCppyy, cppyy-backend, cppyy-cling\n",
      "  Running setup.py bdist_wheel for cppyy ... \u001b[?25ldone\n",
      "\u001b[?25h  Stored in directory: /Users/henryiii/Library/Caches/pip/wheels/80/98/9f/771658b19903186a6ae15b024c1651d01032f98d8f199ad15b\n",
      "  Running setup.py bdist_wheel for CPyCppyy ... \u001b[?25ldone\n",
      "\u001b[?25h  Running setup.py clean for CPyCppyy\n",
      "  Running setup.py bdist_wheel for cppyy-backend ... \u001b[?25ldone\n",
      "\u001b[?25h  Running setup.py clean for cppyy-backend\n",
      "  Running setup.py bdist_wheel for cppyy-cling ... \u001b[?25ldone\n",
      "\u001b[?25h  Stored in directory: /Users/henryiii/Library/Caches/pip/wheels/9c/cc/0a/bf008b9fc74a35714a3cfeca0e2774d9ef0ea281f8bdd71520\n",
      "Successfully built cppyy cppyy-cling\n",
      "Failed to build CPyCppyy cppyy-backend\n",
      "\u001b[31mdistributed 1.21.8 requires msgpack, which is not installed.\u001b[0m\n",
      "\u001b[31mtensorboard 1.8.0 has requirement bleach==1.5.0, but you'll have bleach 2.1.3 which is incompatible.\u001b[0m\n",
      "\u001b[31mtensorboard 1.8.0 has requirement html5lib==0.9999999, but you'll have html5lib 1.0.1 which is incompatible.\u001b[0m\n",
      "Installing collected packages: cppyy-cling, cppyy-backend, CPyCppyy, cppyy\n",
      "  Running setup.py install for cppyy-backend ... \u001b[?25ldone\n",
      "\u001b[?25h  Running setup.py install for CPyCppyy ... \u001b[?25ldone\n",
      "\u001b[?25hSuccessfully installed CPyCppyy-1.1.1 cppyy-1.1.1 cppyy-backend-1.1.1 cppyy-cling-6.12.6.3\n"
     ]
    }
   ],
   "source": [
    "!pip install cppyy"
   ]
  },
  {
   "cell_type": "code",
   "execution_count": 3,
   "metadata": {},
   "outputs": [],
   "source": [
    "import cppyy"
   ]
  },
  {
   "cell_type": "code",
   "execution_count": null,
   "metadata": {},
   "outputs": [],
   "source": []
  }
 ],
 "metadata": {
  "celltoolbar": "Slideshow",
  "kernelspec": {
   "display_name": "Anaconda Python 3",
   "language": "python",
   "name": "anaconda"
  },
  "language_info": {
   "codemirror_mode": {
    "name": "ipython",
    "version": 3
   },
   "file_extension": ".py",
   "mimetype": "text/x-python",
   "name": "python",
   "nbconvert_exporter": "python",
   "pygments_lexer": "ipython3",
   "version": "3.6.5"
  }
 },
 "nbformat": 4,
 "nbformat_minor": 2
}
