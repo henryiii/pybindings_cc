{
 "cells": [
  {
   "cell_type": "markdown",
   "metadata": {
    "slideshow": {
     "slide_type": "slide"
    }
   },
   "source": [
    "# Binding detailed example: Minuit2\n",
    "\n",
    "Let's try a non-trivial example: Minuit2 (6.14.0 standalone edition)\n",
    "\n",
    "### Requirements\n",
    "\n",
    "* Minuit2 6.14.0 standalone edition (included)\n",
    "* Pybind11 (included)\n",
    "* NumPy\n",
    "* C++11 compatible compiler\n",
    "* CMake 3\n",
    "\n",
    "### Expectations\n",
    "* Be able to minimize a very simple function and get some parameters"
   ]
  },
  {
   "cell_type": "markdown",
   "metadata": {
    "slideshow": {
     "slide_type": "slide"
    }
   },
   "source": [
    "# Step 1: Get source\n",
    "\n",
    "* Download Minuit2 source (provided in `minuit2src`)\n",
    "* Install Pybind11 or add as submodule (provided in `pybind11`)"
   ]
  },
  {
   "cell_type": "markdown",
   "metadata": {
    "slideshow": {
     "slide_type": "slide"
    }
   },
   "source": [
    "# Step 2: Plan interface\n",
    "\n",
    "* You should know what the C++ looks like, and know what you want the Python to look like\n",
    "* For now, let's replicate the C++ experience\n",
    "\n",
    "For example: a simple minimizer for $f(x) = x^2$ (should quickly find 0 as minimum):\n",
    "\n",
    "* Define FCN\n",
    "* Setup parameters\n",
    "* Minimize\n",
    "* Print result\n",
    "\n",
    "Will use print out for illustration (instead of `MnPrint::SetLevel`)"
   ]
  },
  {
   "cell_type": "code",
   "execution_count": 1,
   "metadata": {
    "slideshow": {
     "slide_type": "subslide"
    }
   },
   "outputs": [
    {
     "name": "stdout",
     "output_type": "stream",
     "text": [
      "Overwriting SimpleFCN.h\n"
     ]
    }
   ],
   "source": [
    "%%writefile SimpleFCN.h\n",
    "#pragma once\n",
    "\n",
    "#include <Minuit2/FCNBase.h>\n",
    "#include <Minuit2/FunctionMinimum.h>\n",
    "#include <Minuit2/MnPrint.h>\n",
    "#include <Minuit2/MnMigrad.h>\n",
    "\n",
    "using namespace ROOT::Minuit2;\n",
    "\n",
    "class SimpleFCN : public FCNBase {\n",
    "    double Up() const override {return 0.5;}\n",
    "    double operator()(const std::vector<double> &v) const override {\n",
    "        std::cout << \"val = \" << v.at(0) << std::endl;\n",
    "        return v.at(0)*v.at(0);\n",
    "    }\n",
    "};"
   ]
  },
  {
   "cell_type": "code",
   "execution_count": 2,
   "metadata": {
    "slideshow": {
     "slide_type": "subslide"
    }
   },
   "outputs": [
    {
     "name": "stdout",
     "output_type": "stream",
     "text": [
      "Overwriting simpleminuit.cpp\n"
     ]
    }
   ],
   "source": [
    "%%writefile simpleminuit.cpp\n",
    "#include \"SimpleFCN.h\"\n",
    "\n",
    "int main() {\n",
    "    SimpleFCN fcn;\n",
    "    MnUserParameters upar;\n",
    "    upar.Add(\"x\", 1., 0.1);\n",
    "    MnMigrad migrad(fcn, upar);\n",
    "    FunctionMinimum min = migrad();\n",
    "    std::cout << min << std::endl;\n",
    "}"
   ]
  },
  {
   "cell_type": "code",
   "execution_count": 3,
   "metadata": {
    "slideshow": {
     "slide_type": "subslide"
    }
   },
   "outputs": [
    {
     "name": "stdout",
     "output_type": "stream",
     "text": [
      "Overwriting CMakeLists.txt\n"
     ]
    }
   ],
   "source": [
    "%%writefile CMakeLists.txt\n",
    "\n",
    "cmake_minimum_required(VERSION 3.4)\n",
    "project(Minuit2SimpleExamle LANGUAGES CXX)\n",
    "\n",
    "add_subdirectory(minuit2src)\n",
    "add_executable(simpleminuit simpleminuit.cpp SimpleFCN.h)\n",
    "target_link_libraries(simpleminuit PRIVATE Minuit2::Minuit2)"
   ]
  },
  {
   "cell_type": "markdown",
   "metadata": {
    "slideshow": {
     "slide_type": "subslide"
    }
   },
   "source": [
    "Standard CMake configure and build (using Ninja instead of Make for speed)"
   ]
  },
  {
   "cell_type": "code",
   "execution_count": 4,
   "metadata": {
    "slideshow": {
     "slide_type": "-"
    }
   },
   "outputs": [
    {
     "name": "stdout",
     "output_type": "stream",
     "text": [
      "-- Configuring done\n",
      "-- Generating done\n",
      "-- Build files have been written to: /eos/user/h/hschrein/SWAN_projects/pybindings_cc\n",
      "[2/2] Linking CXX executable simpleminuit\u001b[Kinuit.dir/simpleminuit.cpp.o\u001b[K\n"
     ]
    }
   ],
   "source": [
    "!cmake -GNinja .\n",
    "!cmake --build ."
   ]
  },
  {
   "cell_type": "code",
   "execution_count": 5,
   "metadata": {
    "slideshow": {
     "slide_type": "subslide"
    }
   },
   "outputs": [
    {
     "name": "stdout",
     "output_type": "stream",
     "text": [
      "val = 1\r\n",
      "val = 1.001\r\n",
      "val = 0.999\r\n",
      "val = 1.0006\r\n",
      "val = 0.999402\r\n",
      "val = -8.23008e-11\r\n",
      "val = 0.000345267\r\n",
      "val = -0.000345267\r\n",
      "val = -8.23008e-11\r\n",
      "val = 0.000345267\r\n",
      "val = -0.000345267\r\n",
      "val = 6.90533e-05\r\n",
      "val = -6.90535e-05\r\n",
      "\r\n",
      "Minuit did successfully converge.\r\n",
      "# of function calls: 13\r\n",
      "minimum function Value: 6.773427082119e-21\r\n",
      "minimum edm: 6.773427081817e-21\r\n",
      "minimum internal state vector: LAVector parameters:\r\n",
      " -8.230083281546e-11\r\n",
      "\r\n",
      "minimum internal covariance matrix: LASymMatrix parameters:\r\n",
      "              1\r\n",
      "\r\n",
      "\r\n",
      "# ext. ||   Name    ||   type  ||     Value     ||  Error +/- \r\n",
      "\r\n",
      "   0   ||         x ||  free   || -8.230083281546e-11 ||0.7071067811865\r\n",
      "\r\n",
      "\r\n",
      "\r\n",
      "\r\n",
      "\r\n"
     ]
    }
   ],
   "source": [
    "!./simpleminuit"
   ]
  },
  {
   "cell_type": "markdown",
   "metadata": {
    "slideshow": {
     "slide_type": "slide"
    }
   },
   "source": [
    "## Step 3: Bind parts we need\n",
    "\n",
    "* subclassable FCNBase\n",
    "* MnUserParameters (constructor and `Add(string, double, double)`)\n",
    "* MnMigrad (constructor and operator())\n",
    "* FunctionMinimum (cout)\n"
   ]
  },
  {
   "cell_type": "markdown",
   "metadata": {
    "slideshow": {
     "slide_type": "slide"
    }
   },
   "source": [
    "## Recommended structure of a Pybind11 program\n",
    "\n",
    "#### main.cpp\n",
    "\n",
    "* Builds module\n",
    "* Avoids imports (fast compile)\n",
    "\n",
    "```cpp\n",
    "include <pybind11/pybind11.h>\n",
    "namespace py = pybind11;\n",
    "\n",
    "void init_part1(py::module &);\n",
    "void init_part2(py::module &);\n",
    "\n",
    "PYBIND11_MODULE(mymodule, m) {\n",
    "    m.doc() = \"Real code would never have such poor documentation...\";\n",
    "    init_part1(m);\n",
    "    init_part2(m);\n",
    "}\n",
    "```"
   ]
  },
  {
   "cell_type": "code",
   "execution_count": 6,
   "metadata": {
    "slideshow": {
     "slide_type": "subslide"
    }
   },
   "outputs": [],
   "source": [
    "mkdir -p pyminuit2"
   ]
  },
  {
   "cell_type": "code",
   "execution_count": 7,
   "metadata": {},
   "outputs": [
    {
     "name": "stdout",
     "output_type": "stream",
     "text": [
      "Overwriting pyminuit2/pyminuit2.cpp\n"
     ]
    }
   ],
   "source": [
    "%%writefile pyminuit2/pyminuit2.cpp\n",
    "\n",
    "#include <pybind11/pybind11.h>\n",
    "\n",
    "namespace py = pybind11;\n",
    "\n",
    "void init_FCNBase(py::module &);\n",
    "void init_MnUserParameters(py::module &);\n",
    "void init_MnMigrad(py::module &);\n",
    "void init_FunctionMinimum(py::module &);\n",
    "\n",
    "PYBIND11_MODULE(minuit2, m) {\n",
    "    init_FCNBase(m);\n",
    "    init_MnUserParameters(m);\n",
    "    init_MnMigrad(m);\n",
    "    init_FunctionMinimum(m);\n",
    "}"
   ]
  },
  {
   "cell_type": "markdown",
   "metadata": {
    "slideshow": {
     "slide_type": "subslide"
    }
   },
   "source": [
    "We will put all headers in a collective header (not a good idea unless you are trying to show files one per slide)."
   ]
  },
  {
   "cell_type": "code",
   "execution_count": 8,
   "metadata": {},
   "outputs": [
    {
     "name": "stdout",
     "output_type": "stream",
     "text": [
      "Overwriting pyminuit2/PyHeader.h\n"
     ]
    }
   ],
   "source": [
    "%%writefile pyminuit2/PyHeader.h\n",
    "#pragma once\n",
    "#include <pybind11/pybind11.h>\n",
    "#include <pybind11/functional.h>\n",
    "#include <pybind11/numpy.h>\n",
    "#include <pybind11/stl.h>\n",
    "\n",
    "#include <Minuit2/FCNBase.h>\n",
    "#include <Minuit2/MnMigrad.h>\n",
    "#include <Minuit2/MnApplication.h>\n",
    "#include <Minuit2/MnUserParameters.h>\n",
    "#include <Minuit2/FunctionMinimum.h>\n",
    "\n",
    "namespace py = pybind11;\n",
    "using namespace pybind11::literals;\n",
    "using namespace ROOT::Minuit2;"
   ]
  },
  {
   "cell_type": "markdown",
   "metadata": {
    "slideshow": {
     "slide_type": "subslide"
    }
   },
   "source": [
    "## Overloads\n",
    "\n",
    "* Pure virtual methods cannot be instantiated in C++\n",
    "* Have to provide \"Trampoline class\" to provide Python class"
   ]
  },
  {
   "cell_type": "code",
   "execution_count": 9,
   "metadata": {
    "slideshow": {
     "slide_type": "-"
    }
   },
   "outputs": [
    {
     "name": "stdout",
     "output_type": "stream",
     "text": [
      "Overwriting pyminuit2/FCNBase.cpp\n"
     ]
    }
   ],
   "source": [
    "%%writefile pyminuit2/FCNBase.cpp\n",
    "#include \"PyHeader.h\"\n",
    "class PyFCNBase : public FCNBase {\n",
    "   public:\n",
    "     using FCNBase::FCNBase;\n",
    "\n",
    "     double operator()(const std::vector<double> &v) const override {\n",
    "         PYBIND11_OVERLOAD_PURE_NAME(\n",
    "             double, FCNBase, \"__call__\", operator(), v);}\n",
    "\n",
    "     double Up() const override {\n",
    "         PYBIND11_OVERLOAD_PURE(double, FCNBase, Up, );}\n",
    " };\n",
    "void init_FCNBase(py::module &m) {\n",
    "    py::class_<FCNBase, PyFCNBase>(m, \"FCNBase\")\n",
    "         .def(py::init<>())\n",
    "         .def(\"__call__\", &FCNBase::operator())\n",
    "         .def(\"Up\", &FCNBase::Up);\n",
    "}"
   ]
  },
  {
   "cell_type": "markdown",
   "metadata": {
    "slideshow": {
     "slide_type": "subslide"
    }
   },
   "source": [
    "## Overloaded function signatures:\n",
    "* C++11 syntax: `(bool (MnUserParameters::*)(const std::string &, double)) &MnUserParameters::Add`\n",
    "* C++14 syntax: `py::overload_cast<const std::string &, double>(&MnUserParameters::Add)`"
   ]
  },
  {
   "cell_type": "code",
   "execution_count": 10,
   "metadata": {
    "slideshow": {
     "slide_type": "-"
    }
   },
   "outputs": [
    {
     "name": "stdout",
     "output_type": "stream",
     "text": [
      "Overwriting pyminuit2/MnUserParameters.cpp\n"
     ]
    }
   ],
   "source": [
    "%%writefile pyminuit2/MnUserParameters.cpp\n",
    "#include \"PyHeader.h\"\n",
    "\n",
    "void init_MnUserParameters(py::module &m) {\n",
    "    py::class_<MnUserParameters>(m, \"MnUserParameters\")\n",
    "        .def(py::init<>())\n",
    "        .def(\"Add\", (bool (MnUserParameters::*)(const std::string &, double)) &MnUserParameters::Add)\n",
    "        .def(\"Add\", (bool (MnUserParameters::*)(const std::string &, double, double)) &MnUserParameters::Add)\n",
    "    ;\n",
    "}"
   ]
  },
  {
   "cell_type": "markdown",
   "metadata": {
    "slideshow": {
     "slide_type": "subslide"
    }
   },
   "source": [
    "## Adding default arguments (and named arguments)\n",
    "* Using `\"\"_a` literal, names and even defaults can be added "
   ]
  },
  {
   "cell_type": "code",
   "execution_count": 11,
   "metadata": {
    "slideshow": {
     "slide_type": "-"
    }
   },
   "outputs": [
    {
     "name": "stdout",
     "output_type": "stream",
     "text": [
      "Overwriting pyminuit2/MnMigrad.cpp\n"
     ]
    }
   ],
   "source": [
    "%%writefile pyminuit2/MnMigrad.cpp\n",
    "#include \"PyHeader.h\"\n",
    "        \n",
    "void init_MnMigrad(py::module &m) {\n",
    "    py::class_<MnApplication>(m, \"MnApplication\")\n",
    "        .def(\"__call__\",\n",
    "             &MnApplication::operator(),\n",
    "             \"Minimize the function, returns a function minimum\",\n",
    "             \"maxfcn\"_a    = 0,\n",
    "             \"tolerance\"_a = 0.1);\n",
    "    \n",
    "    py::class_<MnMigrad, MnApplication>(m, \"MnMigrad\")\n",
    "        .def(py::init<const FCNBase &, const MnUserParameters &, unsigned int>(),\n",
    "             \"fcn\"_a, \"par\"_a, \"stra\"_a = 1)\n",
    "    ;\n",
    "}    "
   ]
  },
  {
   "cell_type": "markdown",
   "metadata": {
    "slideshow": {
     "slide_type": "subslide"
    }
   },
   "source": [
    "## Lambda functions\n",
    "\n",
    "* Pybind11 accepts lambda functions, as well"
   ]
  },
  {
   "cell_type": "code",
   "execution_count": 12,
   "metadata": {
    "slideshow": {
     "slide_type": "-"
    }
   },
   "outputs": [
    {
     "name": "stdout",
     "output_type": "stream",
     "text": [
      "Overwriting pyminuit2/FunctionMinimum.cpp\n"
     ]
    }
   ],
   "source": [
    "%%writefile pyminuit2/FunctionMinimum.cpp\n",
    "#include \"PyHeader.h\"\n",
    "\n",
    "#include <sstream>\n",
    "#include <Minuit2/MnPrint.h>\n",
    "\n",
    "void init_FunctionMinimum(py::module &m) {\n",
    "    py::class_<FunctionMinimum>(m, \"FunctionMinimum\")\n",
    "        .def(\"__str__\", [](const FunctionMinimum &self) {\n",
    "            std::stringstream os;\n",
    "            os << self;\n",
    "            return os.str();\n",
    "        })\n",
    "    ;\n",
    "}"
   ]
  },
  {
   "cell_type": "code",
   "execution_count": 13,
   "metadata": {
    "slideshow": {
     "slide_type": "subslide"
    }
   },
   "outputs": [
    {
     "name": "stdout",
     "output_type": "stream",
     "text": [
      "Overwriting CMakeLists.txt\n"
     ]
    }
   ],
   "source": [
    "%%writefile CMakeLists.txt\n",
    "cmake_minimum_required(VERSION 3.4)\n",
    "project(Minuit2SimpleExamle LANGUAGES CXX)\n",
    "\n",
    "set(CMAKE_POSITION_INDEPENDENT_CODE ON)\n",
    "add_subdirectory(minuit2src)\n",
    "add_executable(simpleminuit simpleminuit.cpp SimpleFCN.h)\n",
    "target_link_libraries(simpleminuit PRIVATE Minuit2::Minuit2)\n",
    "\n",
    "add_subdirectory(pybind11)\n",
    "\n",
    "file(GLOB OUTPUT pyminuit2/*.cpp)\n",
    "pybind11_add_module(minuit2 ${OUTPUT})\n",
    "target_link_libraries(minuit2 PUBLIC Minuit2::Minuit2)"
   ]
  },
  {
   "cell_type": "code",
   "execution_count": 14,
   "metadata": {
    "slideshow": {
     "slide_type": "subslide"
    }
   },
   "outputs": [
    {
     "name": "stdout",
     "output_type": "stream",
     "text": [
      "-- pybind11 v2.2.3\n",
      "-- Configuring done\n",
      "-- Generating done\n",
      "-- Build files have been written to: /eos/user/h/hschrein/SWAN_projects/pybindings_cc\n",
      "[85/85] Linking CXX shared module minuit2.cpython-36m-x86_64-linux-gnu.so\u001b[K[Ko\u001b[K\n"
     ]
    }
   ],
   "source": [
    "!cmake .\n",
    "!cmake --build ."
   ]
  },
  {
   "cell_type": "markdown",
   "metadata": {
    "slideshow": {
     "slide_type": "slide"
    }
   },
   "source": [
    "# Usage\n",
    "\n",
    "We can now use our module! (Built in the current directory by CMake)"
   ]
  },
  {
   "cell_type": "code",
   "execution_count": 15,
   "metadata": {
    "slideshow": {
     "slide_type": "-"
    }
   },
   "outputs": [],
   "source": [
    "import sys\n",
    "if '.' not in sys.path:\n",
    "    sys.path.append('.')"
   ]
  },
  {
   "cell_type": "code",
   "execution_count": 16,
   "metadata": {
    "slideshow": {
     "slide_type": "-"
    }
   },
   "outputs": [],
   "source": [
    "import minuit2\n",
    "\n",
    "class SimpleFCN (minuit2.FCNBase):\n",
    "    def Up(self):\n",
    "        return 0.5\n",
    "    def __call__(self, v):\n",
    "        print(\"val =\", v[0])\n",
    "        return v[0]**2;"
   ]
  },
  {
   "cell_type": "code",
   "execution_count": 17,
   "metadata": {
    "slideshow": {
     "slide_type": "subslide"
    }
   },
   "outputs": [
    {
     "name": "stdout",
     "output_type": "stream",
     "text": [
      "val = 1.0\n",
      "val = 1.001\n",
      "val = 0.999\n",
      "val = 1.0005980198587356\n",
      "val = 0.9994019801412644\n",
      "val = -8.230083281546285e-11\n",
      "val = 0.00034526688527999595\n",
      "val = -0.0003452670498816616\n",
      "val = -8.230083281546285e-11\n",
      "val = 0.00034526688527999595\n",
      "val = -0.0003452670498816616\n",
      "val = 6.905331121533294e-05\n",
      "val = -6.905347581699857e-05\n"
     ]
    }
   ],
   "source": [
    "fcn = SimpleFCN()\n",
    "upar = minuit2.MnUserParameters()\n",
    "upar.Add(\"x\", 1., 0.1)\n",
    "migrad = minuit2.MnMigrad(fcn, upar)\n",
    "min = migrad()"
   ]
  },
  {
   "cell_type": "code",
   "execution_count": 18,
   "metadata": {
    "slideshow": {
     "slide_type": "subslide"
    }
   },
   "outputs": [
    {
     "name": "stdout",
     "output_type": "stream",
     "text": [
      "\n",
      "Minuit did successfully converge.\n",
      "# of function calls: 13\n",
      "minimum function Value: 6.773427082119e-21\n",
      "minimum edm: 6.773427081817e-21\n",
      "minimum internal state vector: LAVector parameters:\n",
      " -8.230083281546e-11\n",
      "\n",
      "minimum internal covariance matrix: LASymMatrix parameters:\n",
      "              1\n",
      "\n",
      "\n",
      "# ext. ||   Name    ||   type  ||     Value     ||  Error +/- \n",
      "\n",
      "   0   ||         x ||  free   || -8.230083281546e-11 ||0.7071067811865\n",
      "\n",
      "\n",
      "\n",
      "\n",
      "\n"
     ]
    }
   ],
   "source": [
    "print(min)"
   ]
  },
  {
   "cell_type": "markdown",
   "metadata": {
    "slideshow": {
     "slide_type": "slide"
    }
   },
   "source": [
    "# Done\n",
    "\n",
    "* See [GooFit's built in Minuit2 bindings](https://github.com/GooFit/GooFit/tree/master/python/Minuit2) for a more complete example\n",
    "* Pybind11 bindings can talk to each other at the C level!\n",
    "\n",
    "\n",
    "### Overall topics covered: \n",
    "* ctypes, CFFI : Pure Python, C only\n",
    "* CPython: How all bindings work \n",
    "* SWIG: Multi-language, automatic\n",
    "* Cython: New language \n",
    "* Pybind11: Pure C++11\n",
    "* CPPYY: From ROOT's JIT engine\n",
    "* An advanced binding in Pybind11"
   ]
  },
  {
   "cell_type": "markdown",
   "metadata": {
    "slideshow": {
     "slide_type": "slide"
    }
   },
   "source": [
    "# Backup:\n",
    "\n",
    "This is the setup.py file for the Miniut2 bindings. With this, you can use the standard Python tools to build! (but slower and more verbose than CMake)"
   ]
  },
  {
   "cell_type": "code",
   "execution_count": 19,
   "metadata": {
    "slideshow": {
     "slide_type": "subslide"
    }
   },
   "outputs": [
    {
     "name": "stdout",
     "output_type": "stream",
     "text": [
      "Overwriting setup.py\n"
     ]
    }
   ],
   "source": [
    "%%writefile setup.py\n",
    "\n",
    "from setuptools import setup, Extension\n",
    "from setuptools.command.build_ext import build_ext\n",
    "import sys\n",
    "import setuptools\n",
    "from pathlib import Path # Python 3 or Python 2 backport: pathlib2\n",
    "import pybind11 # Real code should defer this import\n",
    "\n",
    "sources = set(str(p) for p in Path('Minuit2-6.14.0-Source/src').glob('**/*.cxx'))\n",
    "sources.remove('Minuit2-6.14.0-Source/src/TMinuit2TraceObject.cxx')\n",
    "\n",
    "## Add your sources to `sources`\n",
    "sources |= set(str(p) for p in Path('pyminuit2').glob('*.cpp'))\n",
    "\n",
    "ext_modules = [\n",
    "    Extension(\n",
    "        'minuit2',\n",
    "        list(sources),\n",
    "        include_dirs=[\n",
    "            pybind11.get_include(False),\n",
    "            pybind11.get_include(True),\n",
    "            'Minuit2-6.14.0-Source/inc',\n",
    "        ],\n",
    "        language='c++',\n",
    "        define_macros=[('WARNINGMSG', None),\n",
    "                       ('MATH_NO_PLUGIN_MANAGER', None),\n",
    "                       ('ROOT_Math_VecTypes', None)\n",
    "                      ],\n",
    "    ),\n",
    "]\n",
    "\n",
    "class BuildExt(build_ext):\n",
    "    \"\"\"A custom build extension for adding compiler-specific options.\"\"\"\n",
    "    c_opts = {\n",
    "        'msvc': ['/EHsc'],\n",
    "        'unix': [],\n",
    "    }\n",
    "\n",
    "    if sys.platform == 'darwin':\n",
    "        c_opts['unix'] += ['-stdlib=libc++', '-mmacosx-version-min=10.7']\n",
    "\n",
    "    def build_extensions(self):\n",
    "        ct = self.compiler.compiler_type\n",
    "        opts = self.c_opts.get(ct, [])\n",
    "        if ct == 'unix':\n",
    "            opts.append('-DVERSION_INFO=\"%s\"' % self.distribution.get_version())\n",
    "            opts.append('-std=c++14')\n",
    "            opts.append('-fvisibility=hidden')\n",
    "        elif ct == 'msvc':\n",
    "            opts.append('/DVERSION_INFO=\\\\\"%s\\\\\"' % self.distribution.get_version())\n",
    "        for ext in self.extensions:\n",
    "            ext.extra_compile_args = opts\n",
    "        build_ext.build_extensions(self)\n",
    "\n",
    "setup(\n",
    "    name='minuit2',\n",
    "    version='6.14.0',\n",
    "    author='Henry Schriener',\n",
    "    author_email='hschrein@cern.ch',\n",
    "    url='https://github.com/GooFit/Minuit2',\n",
    "    description='A Pybind11 Minuit2 binding',\n",
    "    long_description='',\n",
    "    ext_modules=ext_modules,\n",
    "    install_requires=['pybind11>=2.2', 'numpy>=1.10'],\n",
    "    cmdclass={'build_ext': BuildExt},\n",
    "    zip_safe=False,\n",
    ")"
   ]
  },
  {
   "cell_type": "code",
   "execution_count": 20,
   "metadata": {
    "scrolled": true,
    "slideshow": {
     "slide_type": "subslide"
    }
   },
   "outputs": [],
   "source": [
    "#!python setup.py build_ext"
   ]
  }
 ],
 "metadata": {
  "kernelspec": {
   "display_name": "Python 3",
   "language": "python",
   "name": "python3"
  },
  "language_info": {
   "codemirror_mode": {
    "name": "ipython",
    "version": 3
   },
   "file_extension": ".py",
   "mimetype": "text/x-python",
   "name": "python",
   "nbconvert_exporter": "python",
   "pygments_lexer": "ipython3",
   "version": "3.6.5"
  }
 },
 "nbformat": 4,
 "nbformat_minor": 2
}
