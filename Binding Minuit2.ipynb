{
 "cells": [
  {
   "cell_type": "markdown",
   "metadata": {
    "slideshow": {
     "slide_type": "slide"
    }
   },
   "source": [
    "# Binding detailed example: Minuit2\n",
    "\n",
    "Let's try a non-trivial example: Minuit2 (6.14.0 standalone edition)\n",
    "\n",
    "### Requirements\n",
    "\n",
    "* Minuit2 6.14.0 standalone edition (included)\n",
    "* PyBind11 (included)\n",
    "* NumPy\n",
    "* C++11 compatible compiler\n",
    "* CMake 3\n",
    "\n",
    "### Expectations\n",
    "* Be able to minimize a very simple function and get some parameters"
   ]
  },
  {
   "cell_type": "markdown",
   "metadata": {
    "slideshow": {
     "slide_type": "slide"
    }
   },
   "source": [
    "# Step 1: Get source\n",
    "\n",
    "* Download Minuit2 source (provided in `minuit2src`)\n",
    "* Install PyBind11 or add as submodule (provided in `pybind11`)"
   ]
  },
  {
   "cell_type": "markdown",
   "metadata": {
    "slideshow": {
     "slide_type": "slide"
    }
   },
   "source": [
    "# Step 2: Plan interface\n",
    "\n",
    "* You should know what the C++ looks like, and know what you want the Python to look like\\\n",
    "* For now, let's replicate the C++ experience\n",
    "\n",
    "For example: a simple minimizer for $f(x) = x^2$ (should quickly find 0 as minimum):\n",
    "\n",
    "* Define FCN\n",
    "* Setup parameters\n",
    "* Minimize\n",
    "* Print result"
   ]
  },
  {
   "cell_type": "markdown",
   "metadata": {},
   "source": [
    "* Adding manual print for illistration (instead of `MnPrint::SetLevel`)"
   ]
  },
  {
   "cell_type": "code",
   "execution_count": 1,
   "metadata": {
    "slideshow": {
     "slide_type": "subslide"
    }
   },
   "outputs": [
    {
     "name": "stdout",
     "output_type": "stream",
     "text": [
      "Overwriting SimpleFCN.h\n"
     ]
    }
   ],
   "source": [
    "%%writefile SimpleFCN.h\n",
    "#pragma once\n",
    "\n",
    "#include <Minuit2/FCNBase.h>\n",
    "#include <Minuit2/FunctionMinimum.h>\n",
    "#include <Minuit2/MnPrint.h>\n",
    "#include <Minuit2/MnMigrad.h>\n",
    "\n",
    "using namespace ROOT::Minuit2;\n",
    "\n",
    "class SimpleFCN : public FCNBase {\n",
    "    double Up() const override {return 0.5;}\n",
    "    double operator()(const std::vector<double> &v) const override {\n",
    "        std::cout << \"val = \" << v.at(0) << std::endl;\n",
    "        return v.at(0)*v.at(0);\n",
    "    }\n",
    "};"
   ]
  },
  {
   "cell_type": "code",
   "execution_count": 96,
   "metadata": {
    "slideshow": {
     "slide_type": "subslide"
    }
   },
   "outputs": [
    {
     "name": "stdout",
     "output_type": "stream",
     "text": [
      "Overwriting simpleminuit.cpp\n"
     ]
    }
   ],
   "source": [
    "%%writefile simpleminuit.cpp\n",
    "#include \"SimpleFCN.h\"\n",
    "\n",
    "int main() {\n",
    "    SimpleFCN fcn;\n",
    "    MnUserParameters upar;\n",
    "    upar.Add(\"x\", 1., 0.1);\n",
    "    MnMigrad migrad(fcn, upar);\n",
    "    FunctionMinimum min = migrad();\n",
    "    std::cout << min << std::endl;\n",
    "}"
   ]
  },
  {
   "cell_type": "code",
   "execution_count": 97,
   "metadata": {
    "slideshow": {
     "slide_type": "subslide"
    }
   },
   "outputs": [
    {
     "name": "stdout",
     "output_type": "stream",
     "text": [
      "Overwriting CMakeLists.txt\n"
     ]
    }
   ],
   "source": [
    "%%writefile CMakeLists.txt\n",
    "\n",
    "cmake_minimum_required(VERSION 3.4)\n",
    "project(Minuit2SimpleExamle LANGUAGES CXX)\n",
    "\n",
    "add_subdirectory(minuit2src)\n",
    "add_executable(simpleminuit simpleminuit.cpp SimpleFCN.h)\n",
    "target_link_libraries(simpleminuit PRIVATE Minuit2::Minuit2)"
   ]
  },
  {
   "cell_type": "markdown",
   "metadata": {
    "slideshow": {
     "slide_type": "subslide"
    }
   },
   "source": [
    "Standard CMake configure and build (using Ninja instead of Make for speed)"
   ]
  },
  {
   "cell_type": "code",
   "execution_count": 98,
   "metadata": {
    "slideshow": {
     "slide_type": "-"
    }
   },
   "outputs": [
    {
     "name": "stdout",
     "output_type": "stream",
     "text": [
      "-- Configuring done\n",
      "-- Generating done\n",
      "-- Build files have been written to: /eos/user/h/hschrein/SWAN_projects/pybindings_cc\n",
      "[79/79] Linking CXX executable simpleminuit\u001b[Ksrc/libMinuit2.a\u001b[KcBuilder.cxx.o\u001b[K\n"
     ]
    }
   ],
   "source": [
    "!cmake -GNinja .\n",
    "!cmake --build ."
   ]
  },
  {
   "cell_type": "code",
   "execution_count": 99,
   "metadata": {
    "slideshow": {
     "slide_type": "subslide"
    }
   },
   "outputs": [
    {
     "name": "stdout",
     "output_type": "stream",
     "text": [
      "val = 1\r\n",
      "MnSeedGenerator: for initial parameters FCN = 1\r\n",
      "val = 1.001\r\n",
      "val = 0.999\r\n",
      "val = 1.0006\r\n",
      "val = 0.999402\r\n",
      "MnSeedGenerator: Initial state:   - FCN =                1 Edm =            1 NCalls =      5\r\n",
      "VariableMetric: start iterating until Edm is < 0.0001\r\n",
      "VariableMetric: Initial state   - FCN =                1 Edm =            1 NCalls =      5\r\n",
      "VariableMetric: Iteration #   0 - FCN =                1 Edm =            1 NCalls =      5\r\n",
      "val = -8.23008e-11\r\n",
      "val = 0.000345267\r\n",
      "val = -0.000345267\r\n",
      "VariableMetric: Iteration #   1 - FCN = 6.773427082119e-21 Edm =  6.77343e-21 NCalls =      8\r\n",
      "val = -8.23008e-11\r\n",
      "val = 0.000345267\r\n",
      "val = -0.000345267\r\n",
      "val = 6.90533e-05\r\n",
      "val = -6.90535e-05\r\n",
      "VariableMetric: After Hessian   - FCN = 6.773427082119e-21 Edm =  6.77343e-21 NCalls =     13\r\n",
      "VariableMetric: Iteration #   2 - FCN = 6.773427082119e-21 Edm =  6.77343e-21 NCalls =     13\r\n",
      "\r\n",
      "Minuit did successfully converge.\r\n",
      "# of function calls: 13\r\n",
      "minimum function Value: 6.773427082119e-21\r\n",
      "minimum edm: 6.773427081817e-21\r\n",
      "minimum internal state vector: LAVector parameters:\r\n",
      " -8.230083281546e-11\r\n",
      "\r\n",
      "minimum internal covariance matrix: LASymMatrix parameters:\r\n",
      "              1\r\n",
      "\r\n",
      "\r\n",
      "# ext. ||   Name    ||   type  ||     Value     ||  Error +/- \r\n",
      "\r\n",
      "   0   ||         x ||  free   || -8.230083281546e-11 ||0.7071067811865\r\n",
      "\r\n",
      "\r\n",
      "\r\n",
      "\r\n",
      "\r\n"
     ]
    }
   ],
   "source": [
    "!./simpleminuit"
   ]
  },
  {
   "cell_type": "markdown",
   "metadata": {
    "slideshow": {
     "slide_type": "slide"
    }
   },
   "source": [
    "## Step 3: Bind parts we need\n",
    "\n",
    "* subclassable FCNBase\n",
    "* MnUserParameters (constructor and `Add(string, double, double)`)\n",
    "* MnMigrad (constructor and operator())\n",
    "* FunctionMinimum (cout)\n"
   ]
  },
  {
   "cell_type": "markdown",
   "metadata": {
    "slideshow": {
     "slide_type": "slide"
    }
   },
   "source": [
    "## Structure of a PyBind11 program\n",
    "\n",
    "#### main.cpp\n",
    "\n",
    "* Builds module\n",
    "* Avoids imports (fast compile)\n",
    "\n",
    "```cpp\n",
    "include <pybind11/pybind11.h>\n",
    "namespace py = pybind11;\n",
    "\n",
    "void init_part1(py::module &);\n",
    "void init_part2(py::module &);\n",
    "\n",
    "PYBIND11_MODULE(mymodule, m) {\n",
    "    m.doc() = \"Real code would never have such poor documentation...\";\n",
    "    init_part1(m);\n",
    "    init_part2(m);\n",
    "}\n",
    "```"
   ]
  },
  {
   "cell_type": "code",
   "execution_count": 53,
   "metadata": {
    "slideshow": {
     "slide_type": "subslide"
    }
   },
   "outputs": [],
   "source": [
    "mkdir -p pyminuit2"
   ]
  },
  {
   "cell_type": "code",
   "execution_count": 10,
   "metadata": {},
   "outputs": [
    {
     "name": "stdout",
     "output_type": "stream",
     "text": [
      "Writing pyminuit2/pyminuit2.cpp\n"
     ]
    }
   ],
   "source": [
    "%%writefile pyminuit2/pyminuit2.cpp\n",
    "\n",
    "#include <pybind11/pybind11.h>\n",
    "\n",
    "namespace py = pybind11;\n",
    "\n",
    "void init_FCNBase(py::module &);\n",
    "void init_MnUserParameters(py::module &);\n",
    "void init_MnMigrad(py::module &);\n",
    "void init_FunctionMinimum(py::module &);\n",
    "\n",
    "PYBIND11_MODULE(minuit2, m) {\n",
    "    init_FCNBase(m);\n",
    "    init_MnUserParameters(m);\n",
    "    init_MnMigrad(m);\n",
    "    init_FunctionMinimum(m);\n",
    "}"
   ]
  },
  {
   "cell_type": "markdown",
   "metadata": {
    "slideshow": {
     "slide_type": "subslide"
    }
   },
   "source": [
    "We will put all headers in a collective header (not a good idea unless you are trying to show files one per slide)."
   ]
  },
  {
   "cell_type": "code",
   "execution_count": null,
   "metadata": {},
   "outputs": [],
   "source": [
    "%%writefile pyminuit2/PyHeader.h\n",
    "#pragma once\n",
    "#include <pybind11/pybind11.h>\n",
    "#include <pybind11/functional.h>\n",
    "#include <pybind11/numpy.h>\n",
    "#include <pybind11/stl.h>\n",
    "\n",
    "#include <Minuit2/FCNBase.h>\n",
    "#include <Minuit2/MnMigrad.h>\n",
    "#include <Minuit2/MnApplication.h>\n",
    "#include <Minuit2/MnUserParameters.h>\n",
    "#include <Minuit2/FunctionMinimum.h>\n",
    "\n",
    "namespace py = pybind11;\n",
    "using namespace pybind11::literals;\n",
    "using namespace ROOT::Minuit2;"
   ]
  },
  {
   "cell_type": "markdown",
   "metadata": {
    "slideshow": {
     "slide_type": "subslide"
    }
   },
   "source": [
    "## Overloads\n",
    "\n",
    "* Pure virtual methods cannot be instantiated in C++\n",
    "* Have to provide \"Trampoline class\" to provide Python class"
   ]
  },
  {
   "cell_type": "code",
   "execution_count": 63,
   "metadata": {
    "slideshow": {
     "slide_type": "subslide"
    }
   },
   "outputs": [
    {
     "name": "stdout",
     "output_type": "stream",
     "text": [
      "Overwriting pyminuit2/FCNBase.cpp\n"
     ]
    }
   ],
   "source": [
    "%%writefile pyminuit2/FCNBase.cpp\n",
    "#include \"PyHeader.h\"\n",
    "\n",
    "class PyFCNBase : public FCNBase {\n",
    "   public:\n",
    "     using FCNBase::FCNBase;\n",
    "\n",
    "     double operator()(const std::vector<double> &v) const override {\n",
    "         PYBIND11_OVERLOAD_PURE_NAME(double, FCNBase, \"__call__\", operator(), v);\n",
    "     }\n",
    "\n",
    "     double Up() const override {\n",
    "         PYBIND11_OVERLOAD_PURE(double, FCNBase, Up, );\n",
    "     }\n",
    " };\n",
    "        \n",
    "void init_FCNBase(py::module &m) {\n",
    "    py::class_<FCNBase, PyFCNBase>(m, \"FCNBase\")\n",
    "         .def(py::init<>())\n",
    "         .def(\"__call__\", &FCNBase::operator())\n",
    "         .def(\"Up\", &FCNBase::Up)\n",
    "    ;\n",
    "}"
   ]
  },
  {
   "cell_type": "markdown",
   "metadata": {
    "slideshow": {
     "slide_type": "subslide"
    }
   },
   "source": [
    "## Overloaded function signatures:\n",
    "* C++11 syntax: `(bool (MnUserParameters::*)(const std::string &, double)) &MnUserParameters::Add`\n",
    "* C++14 syntax: `py::overload_cast<const std::string &, double>(&MnUserParameters::Add)`"
   ]
  },
  {
   "cell_type": "code",
   "execution_count": 92,
   "metadata": {
    "slideshow": {
     "slide_type": "-"
    }
   },
   "outputs": [
    {
     "name": "stdout",
     "output_type": "stream",
     "text": [
      "Overwriting pyminuit2/MnUserParameters.cpp\n"
     ]
    }
   ],
   "source": [
    "%%writefile pyminuit2/MnUserParameters.cpp\n",
    "#include \"PyHeader.h\"\n",
    "\n",
    "void init_MnUserParameters(py::module &m) {\n",
    "    py::class_<MnUserParameters>(m, \"MnUserParameters\")\n",
    "        .def(py::init<>())\n",
    "        .def(\"Add\", (bool (MnUserParameters::*)(const std::string &, double)) &MnUserParameters::Add)\n",
    "        .def(\"Add\", (bool (MnUserParameters::*)(const std::string &, double, double)) &MnUserParameters::Add)\n",
    "    ;\n",
    "}"
   ]
  },
  {
   "cell_type": "markdown",
   "metadata": {
    "slideshow": {
     "slide_type": "subslide"
    }
   },
   "source": [
    "## Adding default arguments (and named arguments)\n",
    "* Using `\"\"_a` literal, names and even defaults can be added "
   ]
  },
  {
   "cell_type": "code",
   "execution_count": 85,
   "metadata": {
    "slideshow": {
     "slide_type": "-"
    }
   },
   "outputs": [
    {
     "name": "stdout",
     "output_type": "stream",
     "text": [
      "Overwriting pyminuit2/MnMigrad.cpp\n"
     ]
    }
   ],
   "source": [
    "%%writefile pyminuit2/MnMigrad.cpp\n",
    "#include \"PyHeader.h\"\n",
    "        \n",
    "void init_MnMigrad(py::module &m) {\n",
    "    py::class_<MnApplication>(m, \"MnApplication\")\n",
    "        .def(\"__call__\",\n",
    "             &MnApplication::operator(),\n",
    "             \"Minimize the function, returns a function minimum\",\n",
    "             \"maxfcn\"_a    = 0,\n",
    "             \"tolerance\"_a = 0.1);\n",
    "    \n",
    "    py::class_<MnMigrad, MnApplication>(m, \"MnMigrad\")\n",
    "        .def(py::init<const FCNBase &, const MnUserParameters &, unsigned int>(), \"fcn\"_a, \"par\"_a, \"stra\"_a = 1)\n",
    "    ;\n",
    "}    "
   ]
  },
  {
   "cell_type": "markdown",
   "metadata": {
    "slideshow": {
     "slide_type": "subslide"
    }
   },
   "source": [
    "## Lambda functions\n",
    "\n",
    "* Pybind11 accepts lambda functions, as well"
   ]
  },
  {
   "cell_type": "code",
   "execution_count": 86,
   "metadata": {
    "slideshow": {
     "slide_type": "-"
    }
   },
   "outputs": [
    {
     "name": "stdout",
     "output_type": "stream",
     "text": [
      "Overwriting pyminuit2/FunctionMinimum.cpp\n"
     ]
    }
   ],
   "source": [
    "%%writefile pyminuit2/FunctionMinimum.cpp\n",
    "#include \"PyHeader.h\"\n",
    "\n",
    "#include <sstream>\n",
    "#include <Minuit2/MnPrint.h>\n",
    "\n",
    "void init_FunctionMinimum(py::module &m) {\n",
    "    py::class_<FunctionMinimum>(m, \"FunctionMinimum\")\n",
    "        .def(\"__str__\", [](const FunctionMinimum &self) {\n",
    "            std::stringstream os;\n",
    "            os << self;\n",
    "            return os.str();\n",
    "        })\n",
    "    ;\n",
    "}"
   ]
  },
  {
   "cell_type": "code",
   "execution_count": 87,
   "metadata": {
    "slideshow": {
     "slide_type": "subslide"
    }
   },
   "outputs": [
    {
     "name": "stdout",
     "output_type": "stream",
     "text": [
      "Overwriting CMakeLists.txt\n"
     ]
    }
   ],
   "source": [
    "%%writefile CMakeLists.txt\n",
    "cmake_minimum_required(VERSION 3.11)\n",
    "project(Minuit2SimpleExamle LANGUAGES CXX)\n",
    "\n",
    "set(CMAKE_POSITION_INDEPENDENT_CODE ON)\n",
    "add_subdirectory(Minuit2-6.14.0-Source)\n",
    "add_executable(simpleminuit simpleminuit.cpp SimpleFCN.h)\n",
    "target_link_libraries(simpleminuit PRIVATE Minuit2::Minuit2)\n",
    "\n",
    "add_subdirectory(pybind11)\n",
    "\n",
    "file(GLOB OUTPUT pyminuit2/*.cpp)\n",
    "pybind11_add_module(minuit2 ${OUTPUT})\n",
    "target_link_libraries(minuit2 PUBLIC Minuit2::Minuit2)"
   ]
  },
  {
   "cell_type": "code",
   "execution_count": 88,
   "metadata": {
    "slideshow": {
     "slide_type": "subslide"
    }
   },
   "outputs": [
    {
     "name": "stdout",
     "output_type": "stream",
     "text": [
      "-- pybind11 v2.2.3\n",
      "-- Configuring done\n",
      "-- Generating done\n",
      "-- Build files have been written to: /eos/user/h/hschrein/SWAN_projects/pybindings_cc\n",
      "[4/4] Linking CXX shared module minuit2.cpython-36m-x86_64-linux-gnu.so\u001b[K[Kp.o\u001b[K\n"
     ]
    }
   ],
   "source": [
    "!cmake .\n",
    "!cmake --build ."
   ]
  },
  {
   "cell_type": "markdown",
   "metadata": {
    "slideshow": {
     "slide_type": "slide"
    }
   },
   "source": [
    "# Usage\n",
    "\n",
    "We can now use our module! (Built in the current directory by CMake)"
   ]
  },
  {
   "cell_type": "code",
   "execution_count": null,
   "metadata": {
    "slideshow": {
     "slide_type": "-"
    }
   },
   "outputs": [],
   "source": [
    "import sys\n",
    "if '.' not in sys.path:\n",
    "    sys.path.append('.')"
   ]
  },
  {
   "cell_type": "code",
   "execution_count": 89,
   "metadata": {
    "slideshow": {
     "slide_type": "subslide"
    }
   },
   "outputs": [],
   "source": [
    "import minuit2\n",
    "\n",
    "class SimpleFCN (minuit2.FCNBase):\n",
    "    def Up(self):\n",
    "        return 0.5\n",
    "    def __call__(self, v):\n",
    "        print(\"val =\", v[0])\n",
    "        return v[0]**2;"
   ]
  },
  {
   "cell_type": "code",
   "execution_count": 90,
   "metadata": {
    "slideshow": {
     "slide_type": "subslide"
    }
   },
   "outputs": [
    {
     "name": "stdout",
     "output_type": "stream",
     "text": [
      "val = 1.0\n",
      "val = 1.001\n",
      "val = 0.999\n",
      "val = 1.0005980198587356\n",
      "val = 0.9994019801412644\n",
      "val = -8.230083281546285e-11\n",
      "val = 0.00034526688527999595\n",
      "val = -0.0003452670498816616\n",
      "val = -8.230083281546285e-11\n",
      "val = 0.00034526688527999595\n",
      "val = -0.0003452670498816616\n",
      "val = 6.905331121533294e-05\n",
      "val = -6.905347581699857e-05\n"
     ]
    }
   ],
   "source": [
    "fcn = SimpleFCN()\n",
    "upar = minuit2.MnUserParameters()\n",
    "upar.Add(\"x\", 1., 0.1)\n",
    "migrad = minuit2.MnMigrad(fcn, upar)\n",
    "min = migrad()"
   ]
  },
  {
   "cell_type": "code",
   "execution_count": 91,
   "metadata": {
    "slideshow": {
     "slide_type": "subslide"
    }
   },
   "outputs": [
    {
     "name": "stdout",
     "output_type": "stream",
     "text": [
      "\n",
      "Minuit did successfully converge.\n",
      "# of function calls: 13\n",
      "minimum function Value: 6.773427082119e-21\n",
      "minimum edm: 6.773427081817e-21\n",
      "minimum internal state vector: LAVector parameters:\n",
      " -8.230083281546e-11\n",
      "\n",
      "minimum internal covariance matrix: LASymMatrix parameters:\n",
      "              1\n",
      "\n",
      "\n",
      "# ext. ||   Name    ||   type  ||     Value     ||  Error +/- \n",
      "\n",
      "   0   ||         x ||  free   || -8.230083281546e-11 ||0.7071067811865\n",
      "\n",
      "\n",
      "\n",
      "\n",
      "\n"
     ]
    }
   ],
   "source": [
    "print(min)"
   ]
  },
  {
   "cell_type": "markdown",
   "metadata": {},
   "source": [
    "# Done\n",
    "\n",
    "* See [GooFit's built in Minuit2 bindings](https://github.com/GooFit/GooFit/tree/master/python/Minuit2) for a more complete example\n",
    "* PyBind11 bindings can talk to each other at the C level!"
   ]
  },
  {
   "cell_type": "markdown",
   "metadata": {
    "slideshow": {
     "slide_type": "slide"
    }
   },
   "source": [
    "# Backup:"
   ]
  },
  {
   "cell_type": "code",
   "execution_count": 7,
   "metadata": {
    "slideshow": {
     "slide_type": "subslide"
    }
   },
   "outputs": [
    {
     "name": "stdout",
     "output_type": "stream",
     "text": [
      "Overwriting setup.py\n"
     ]
    }
   ],
   "source": [
    "%%writefile setup.py\n",
    "\n",
    "from setuptools import setup, Extension\n",
    "from setuptools.command.build_ext import build_ext\n",
    "import sys\n",
    "import setuptools\n",
    "from pathlib import Path # Python 3 or Python 2 backport: pathlib2\n",
    "import pybind11 # Real code should defer this import\n",
    "\n",
    "sources = set(str(p) for p in Path('Minuit2-6.14.0-Source/src').glob('**/*.cxx'))\n",
    "sources.remove('Minuit2-6.14.0-Source/src/TMinuit2TraceObject.cxx')\n",
    "\n",
    "## Add your sources to `sources`\n",
    "sources |= set(str(p) for p in Path('pyminuit2').glob('*.cpp'))\n",
    "\n",
    "ext_modules = [\n",
    "    Extension(\n",
    "        'minuit2',\n",
    "        list(sources),\n",
    "        include_dirs=[\n",
    "            pybind11.get_include(False),\n",
    "            pybind11.get_include(True),\n",
    "            'Minuit2-6.14.0-Source/inc',\n",
    "        ],\n",
    "        language='c++',\n",
    "        define_macros=[('WARNINGMSG', None),\n",
    "                       ('MATH_NO_PLUGIN_MANAGER', None),\n",
    "                       ('ROOT_Math_VecTypes', None)\n",
    "                      ],\n",
    "    ),\n",
    "]\n",
    "\n",
    "class BuildExt(build_ext):\n",
    "    \"\"\"A custom build extension for adding compiler-specific options.\"\"\"\n",
    "    c_opts = {\n",
    "        'msvc': ['/EHsc'],\n",
    "        'unix': [],\n",
    "    }\n",
    "\n",
    "    if sys.platform == 'darwin':\n",
    "        c_opts['unix'] += ['-stdlib=libc++', '-mmacosx-version-min=10.7']\n",
    "\n",
    "    def build_extensions(self):\n",
    "        ct = self.compiler.compiler_type\n",
    "        opts = self.c_opts.get(ct, [])\n",
    "        if ct == 'unix':\n",
    "            opts.append('-DVERSION_INFO=\"%s\"' % self.distribution.get_version())\n",
    "            opts.append('-std=c++14')\n",
    "            opts.append('-fvisibility=hidden')\n",
    "        elif ct == 'msvc':\n",
    "            opts.append('/DVERSION_INFO=\\\\\"%s\\\\\"' % self.distribution.get_version())\n",
    "        for ext in self.extensions:\n",
    "            ext.extra_compile_args = opts\n",
    "        build_ext.build_extensions(self)\n",
    "\n",
    "setup(\n",
    "    name='minuit2',\n",
    "    version='6.14.0',\n",
    "    author='Henry Schriener',\n",
    "    author_email='hschrein@cern.ch',\n",
    "    url='https://github.com/GooFit/Minuit2',\n",
    "    description='A Pybind11 Minuit2 binding',\n",
    "    long_description='',\n",
    "    ext_modules=ext_modules,\n",
    "    install_requires=['pybind11>=2.2', 'numpy>=1.10'],\n",
    "    cmdclass={'build_ext': BuildExt},\n",
    "    zip_safe=False,\n",
    ")"
   ]
  },
  {
   "cell_type": "code",
   "execution_count": 8,
   "metadata": {
    "scrolled": true,
    "slideshow": {
     "slide_type": "subslide"
    }
   },
   "outputs": [
    {
     "name": "stdout",
     "output_type": "stream",
     "text": [
      "running build_ext\n",
      "building 'minuit2' extension\n",
      "creating build\n",
      "creating build/temp.linux-x86_64-3.6\n",
      "creating build/temp.linux-x86_64-3.6/Minuit2-6.14.0-Source\n",
      "creating build/temp.linux-x86_64-3.6/Minuit2-6.14.0-Source/src\n",
      "creating build/temp.linux-x86_64-3.6/Minuit2-6.14.0-Source/src/math\n",
      "/cvmfs/sft-nightlies.cern.ch/lcg/contrib/gcc/6.2binutils/x86_64-slc6/bin/gcc -Wno-unused-result -Wsign-compare -DNDEBUG -g -fwrapv -O3 -Wall -Wstrict-prototypes -fPIC -DWARNINGMSG -DMATH_NO_PLUGIN_MANAGER -DROOT_Math_VecTypes -I/cvmfs/sft-nightlies.cern.ch/lcg/nightlies/dev3python3/Mon/Python/3.6.5/x86_64-slc6-gcc62-opt/include/python3.6m -I/eos/user/h/hschrein/.local/include/python3.6m -IMinuit2-6.14.0-Source/inc -I/cvmfs/sft-nightlies.cern.ch/lcg/nightlies/dev3python3/Mon/Python/3.6.5/x86_64-slc6-gcc62-opt/include/python3.6m -c Minuit2-6.14.0-Source/src/LaSumOfElements.cxx -o build/temp.linux-x86_64-3.6/Minuit2-6.14.0-Source/src/LaSumOfElements.o -DVERSION_INFO=\"6.14.0\" -std=c++14 -fvisibility=hidden\n",
      "\u001b[01m\u001b[Kcc1plus:\u001b[m\u001b[K \u001b[01;35m\u001b[Kwarning: \u001b[m\u001b[Kcommand line option ‘\u001b[01m\u001b[K-Wstrict-prototypes\u001b[m\u001b[K’ is valid for C/ObjC but not for C++\n",
      "/cvmfs/sft-nightlies.cern.ch/lcg/contrib/gcc/6.2binutils/x86_64-slc6/bin/gcc -Wno-unused-result -Wsign-compare -DNDEBUG -g -fwrapv -O3 -Wall -Wstrict-prototypes -fPIC -DWARNINGMSG -DMATH_NO_PLUGIN_MANAGER -DROOT_Math_VecTypes -I/cvmfs/sft-nightlies.cern.ch/lcg/nightlies/dev3python3/Mon/Python/3.6.5/x86_64-slc6-gcc62-opt/include/python3.6m -I/eos/user/h/hschrein/.local/include/python3.6m -IMinuit2-6.14.0-Source/inc -I/cvmfs/sft-nightlies.cern.ch/lcg/nightlies/dev3python3/Mon/Python/3.6.5/x86_64-slc6-gcc62-opt/include/python3.6m -c Minuit2-6.14.0-Source/src/LaOuterProduct.cxx -o build/temp.linux-x86_64-3.6/Minuit2-6.14.0-Source/src/LaOuterProduct.o -DVERSION_INFO=\"6.14.0\" -std=c++14 -fvisibility=hidden\n",
      "\u001b[01m\u001b[Kcc1plus:\u001b[m\u001b[K \u001b[01;35m\u001b[Kwarning: \u001b[m\u001b[Kcommand line option ‘\u001b[01m\u001b[K-Wstrict-prototypes\u001b[m\u001b[K’ is valid for C/ObjC but not for C++\n",
      "/cvmfs/sft-nightlies.cern.ch/lcg/contrib/gcc/6.2binutils/x86_64-slc6/bin/gcc -Wno-unused-result -Wsign-compare -DNDEBUG -g -fwrapv -O3 -Wall -Wstrict-prototypes -fPIC -DWARNINGMSG -DMATH_NO_PLUGIN_MANAGER -DROOT_Math_VecTypes -I/cvmfs/sft-nightlies.cern.ch/lcg/nightlies/dev3python3/Mon/Python/3.6.5/x86_64-slc6-gcc62-opt/include/python3.6m -I/eos/user/h/hschrein/.local/include/python3.6m -IMinuit2-6.14.0-Source/inc -I/cvmfs/sft-nightlies.cern.ch/lcg/nightlies/dev3python3/Mon/Python/3.6.5/x86_64-slc6-gcc62-opt/include/python3.6m -c Minuit2-6.14.0-Source/src/MnUserTransformation.cxx -o build/temp.linux-x86_64-3.6/Minuit2-6.14.0-Source/src/MnUserTransformation.o -DVERSION_INFO=\"6.14.0\" -std=c++14 -fvisibility=hidden\n",
      "\u001b[01m\u001b[Kcc1plus:\u001b[m\u001b[K \u001b[01;35m\u001b[Kwarning: \u001b[m\u001b[Kcommand line option ‘\u001b[01m\u001b[K-Wstrict-prototypes\u001b[m\u001b[K’ is valid for C/ObjC but not for C++\n",
      "/cvmfs/sft-nightlies.cern.ch/lcg/contrib/gcc/6.2binutils/x86_64-slc6/bin/gcc -Wno-unused-result -Wsign-compare -DNDEBUG -g -fwrapv -O3 -Wall -Wstrict-prototypes -fPIC -DWARNINGMSG -DMATH_NO_PLUGIN_MANAGER -DROOT_Math_VecTypes -I/cvmfs/sft-nightlies.cern.ch/lcg/nightlies/dev3python3/Mon/Python/3.6.5/x86_64-slc6-gcc62-opt/include/python3.6m -I/eos/user/h/hschrein/.local/include/python3.6m -IMinuit2-6.14.0-Source/inc -I/cvmfs/sft-nightlies.cern.ch/lcg/nightlies/dev3python3/Mon/Python/3.6.5/x86_64-slc6-gcc62-opt/include/python3.6m -c Minuit2-6.14.0-Source/src/mnteigen.cxx -o build/temp.linux-x86_64-3.6/Minuit2-6.14.0-Source/src/mnteigen.o -DVERSION_INFO=\"6.14.0\" -std=c++14 -fvisibility=hidden\n",
      "\u001b[01m\u001b[Kcc1plus:\u001b[m\u001b[K \u001b[01;35m\u001b[Kwarning: \u001b[m\u001b[Kcommand line option ‘\u001b[01m\u001b[K-Wstrict-prototypes\u001b[m\u001b[K’ is valid for C/ObjC but not for C++\n",
      "/cvmfs/sft-nightlies.cern.ch/lcg/contrib/gcc/6.2binutils/x86_64-slc6/bin/gcc -Wno-unused-result -Wsign-compare -DNDEBUG -g -fwrapv -O3 -Wall -Wstrict-prototypes -fPIC -DWARNINGMSG -DMATH_NO_PLUGIN_MANAGER -DROOT_Math_VecTypes -I/cvmfs/sft-nightlies.cern.ch/lcg/nightlies/dev3python3/Mon/Python/3.6.5/x86_64-slc6-gcc62-opt/include/python3.6m -I/eos/user/h/hschrein/.local/include/python3.6m -IMinuit2-6.14.0-Source/inc -I/cvmfs/sft-nightlies.cern.ch/lcg/nightlies/dev3python3/Mon/Python/3.6.5/x86_64-slc6-gcc62-opt/include/python3.6m -c Minuit2-6.14.0-Source/src/math/MinimizerOptions.cxx -o build/temp.linux-x86_64-3.6/Minuit2-6.14.0-Source/src/math/MinimizerOptions.o -DVERSION_INFO=\"6.14.0\" -std=c++14 -fvisibility=hidden\n",
      "\u001b[01m\u001b[Kcc1plus:\u001b[m\u001b[K \u001b[01;35m\u001b[Kwarning: \u001b[m\u001b[Kcommand line option ‘\u001b[01m\u001b[K-Wstrict-prototypes\u001b[m\u001b[K’ is valid for C/ObjC but not for C++\n",
      "/cvmfs/sft-nightlies.cern.ch/lcg/contrib/gcc/6.2binutils/x86_64-slc6/bin/gcc -Wno-unused-result -Wsign-compare -DNDEBUG -g -fwrapv -O3 -Wall -Wstrict-prototypes -fPIC -DWARNINGMSG -DMATH_NO_PLUGIN_MANAGER -DROOT_Math_VecTypes -I/cvmfs/sft-nightlies.cern.ch/lcg/nightlies/dev3python3/Mon/Python/3.6.5/x86_64-slc6-gcc62-opt/include/python3.6m -I/eos/user/h/hschrein/.local/include/python3.6m -IMinuit2-6.14.0-Source/inc -I/cvmfs/sft-nightlies.cern.ch/lcg/nightlies/dev3python3/Mon/Python/3.6.5/x86_64-slc6-gcc62-opt/include/python3.6m -c Minuit2-6.14.0-Source/src/MnFumiliMinimize.cxx -o build/temp.linux-x86_64-3.6/Minuit2-6.14.0-Source/src/MnFumiliMinimize.o -DVERSION_INFO=\"6.14.0\" -std=c++14 -fvisibility=hidden\n",
      "\u001b[01m\u001b[Kcc1plus:\u001b[m\u001b[K \u001b[01;35m\u001b[Kwarning: \u001b[m\u001b[Kcommand line option ‘\u001b[01m\u001b[K-Wstrict-prototypes\u001b[m\u001b[K’ is valid for C/ObjC but not for C++\n",
      "/cvmfs/sft-nightlies.cern.ch/lcg/contrib/gcc/6.2binutils/x86_64-slc6/bin/gcc -Wno-unused-result -Wsign-compare -DNDEBUG -g -fwrapv -O3 -Wall -Wstrict-prototypes -fPIC -DWARNINGMSG -DMATH_NO_PLUGIN_MANAGER -DROOT_Math_VecTypes -I/cvmfs/sft-nightlies.cern.ch/lcg/nightlies/dev3python3/Mon/Python/3.6.5/x86_64-slc6-gcc62-opt/include/python3.6m -I/eos/user/h/hschrein/.local/include/python3.6m -IMinuit2-6.14.0-Source/inc -I/cvmfs/sft-nightlies.cern.ch/lcg/nightlies/dev3python3/Mon/Python/3.6.5/x86_64-slc6-gcc62-opt/include/python3.6m -c Minuit2-6.14.0-Source/src/MnTiny.cxx -o build/temp.linux-x86_64-3.6/Minuit2-6.14.0-Source/src/MnTiny.o -DVERSION_INFO=\"6.14.0\" -std=c++14 -fvisibility=hidden\n",
      "\u001b[01m\u001b[Kcc1plus:\u001b[m\u001b[K \u001b[01;35m\u001b[Kwarning: \u001b[m\u001b[Kcommand line option ‘\u001b[01m\u001b[K-Wstrict-prototypes\u001b[m\u001b[K’ is valid for C/ObjC but not for C++\n",
      "/cvmfs/sft-nightlies.cern.ch/lcg/contrib/gcc/6.2binutils/x86_64-slc6/bin/gcc -Wno-unused-result -Wsign-compare -DNDEBUG -g -fwrapv -O3 -Wall -Wstrict-prototypes -fPIC -DWARNINGMSG -DMATH_NO_PLUGIN_MANAGER -DROOT_Math_VecTypes -I/cvmfs/sft-nightlies.cern.ch/lcg/nightlies/dev3python3/Mon/Python/3.6.5/x86_64-slc6-gcc62-opt/include/python3.6m -I/eos/user/h/hschrein/.local/include/python3.6m -IMinuit2-6.14.0-Source/inc -I/cvmfs/sft-nightlies.cern.ch/lcg/nightlies/dev3python3/Mon/Python/3.6.5/x86_64-slc6-gcc62-opt/include/python3.6m -c Minuit2-6.14.0-Source/src/mndaxpy.cxx -o build/temp.linux-x86_64-3.6/Minuit2-6.14.0-Source/src/mndaxpy.o -DVERSION_INFO=\"6.14.0\" -std=c++14 -fvisibility=hidden\n",
      "\u001b[01m\u001b[Kcc1plus:\u001b[m\u001b[K \u001b[01;35m\u001b[Kwarning: \u001b[m\u001b[Kcommand line option ‘\u001b[01m\u001b[K-Wstrict-prototypes\u001b[m\u001b[K’ is valid for C/ObjC but not for C++\n",
      "/cvmfs/sft-nightlies.cern.ch/lcg/contrib/gcc/6.2binutils/x86_64-slc6/bin/gcc -Wno-unused-result -Wsign-compare -DNDEBUG -g -fwrapv -O3 -Wall -Wstrict-prototypes -fPIC -DWARNINGMSG -DMATH_NO_PLUGIN_MANAGER -DROOT_Math_VecTypes -I/cvmfs/sft-nightlies.cern.ch/lcg/nightlies/dev3python3/Mon/Python/3.6.5/x86_64-slc6-gcc62-opt/include/python3.6m -I/eos/user/h/hschrein/.local/include/python3.6m -IMinuit2-6.14.0-Source/inc -I/cvmfs/sft-nightlies.cern.ch/lcg/nightlies/dev3python3/Mon/Python/3.6.5/x86_64-slc6-gcc62-opt/include/python3.6m -c Minuit2-6.14.0-Source/src/MinimumBuilder.cxx -o build/temp.linux-x86_64-3.6/Minuit2-6.14.0-Source/src/MinimumBuilder.o -DVERSION_INFO=\"6.14.0\" -std=c++14 -fvisibility=hidden\n",
      "\u001b[01m\u001b[Kcc1plus:\u001b[m\u001b[K \u001b[01;35m\u001b[Kwarning: \u001b[m\u001b[Kcommand line option ‘\u001b[01m\u001b[K-Wstrict-prototypes\u001b[m\u001b[K’ is valid for C/ObjC but not for C++\n",
      "/cvmfs/sft-nightlies.cern.ch/lcg/contrib/gcc/6.2binutils/x86_64-slc6/bin/gcc -Wno-unused-result -Wsign-compare -DNDEBUG -g -fwrapv -O3 -Wall -Wstrict-prototypes -fPIC -DWARNINGMSG -DMATH_NO_PLUGIN_MANAGER -DROOT_Math_VecTypes -I/cvmfs/sft-nightlies.cern.ch/lcg/nightlies/dev3python3/Mon/Python/3.6.5/x86_64-slc6-gcc62-opt/include/python3.6m -I/eos/user/h/hschrein/.local/include/python3.6m -IMinuit2-6.14.0-Source/inc -I/cvmfs/sft-nightlies.cern.ch/lcg/nightlies/dev3python3/Mon/Python/3.6.5/x86_64-slc6-gcc62-opt/include/python3.6m -c Minuit2-6.14.0-Source/src/ScanBuilder.cxx -o build/temp.linux-x86_64-3.6/Minuit2-6.14.0-Source/src/ScanBuilder.o -DVERSION_INFO=\"6.14.0\" -std=c++14 -fvisibility=hidden\n"
     ]
    },
    {
     "name": "stdout",
     "output_type": "stream",
     "text": [
      "\u001b[01m\u001b[Kcc1plus:\u001b[m\u001b[K \u001b[01;35m\u001b[Kwarning: \u001b[m\u001b[Kcommand line option ‘\u001b[01m\u001b[K-Wstrict-prototypes\u001b[m\u001b[K’ is valid for C/ObjC but not for C++\n",
      "/cvmfs/sft-nightlies.cern.ch/lcg/contrib/gcc/6.2binutils/x86_64-slc6/bin/gcc -Wno-unused-result -Wsign-compare -DNDEBUG -g -fwrapv -O3 -Wall -Wstrict-prototypes -fPIC -DWARNINGMSG -DMATH_NO_PLUGIN_MANAGER -DROOT_Math_VecTypes -I/cvmfs/sft-nightlies.cern.ch/lcg/nightlies/dev3python3/Mon/Python/3.6.5/x86_64-slc6-gcc62-opt/include/python3.6m -I/eos/user/h/hschrein/.local/include/python3.6m -IMinuit2-6.14.0-Source/inc -I/cvmfs/sft-nightlies.cern.ch/lcg/nightlies/dev3python3/Mon/Python/3.6.5/x86_64-slc6-gcc62-opt/include/python3.6m -c Minuit2-6.14.0-Source/src/MnUserParameterState.cxx -o build/temp.linux-x86_64-3.6/Minuit2-6.14.0-Source/src/MnUserParameterState.o -DVERSION_INFO=\"6.14.0\" -std=c++14 -fvisibility=hidden\n",
      "\u001b[01m\u001b[Kcc1plus:\u001b[m\u001b[K \u001b[01;35m\u001b[Kwarning: \u001b[m\u001b[Kcommand line option ‘\u001b[01m\u001b[K-Wstrict-prototypes\u001b[m\u001b[K’ is valid for C/ObjC but not for C++\n",
      "/cvmfs/sft-nightlies.cern.ch/lcg/contrib/gcc/6.2binutils/x86_64-slc6/bin/gcc -Wno-unused-result -Wsign-compare -DNDEBUG -g -fwrapv -O3 -Wall -Wstrict-prototypes -fPIC -DWARNINGMSG -DMATH_NO_PLUGIN_MANAGER -DROOT_Math_VecTypes -I/cvmfs/sft-nightlies.cern.ch/lcg/nightlies/dev3python3/Mon/Python/3.6.5/x86_64-slc6-gcc62-opt/include/python3.6m -I/eos/user/h/hschrein/.local/include/python3.6m -IMinuit2-6.14.0-Source/inc -I/cvmfs/sft-nightlies.cern.ch/lcg/nightlies/dev3python3/Mon/Python/3.6.5/x86_64-slc6-gcc62-opt/include/python3.6m -c Minuit2-6.14.0-Source/src/SimplexBuilder.cxx -o build/temp.linux-x86_64-3.6/Minuit2-6.14.0-Source/src/SimplexBuilder.o -DVERSION_INFO=\"6.14.0\" -std=c++14 -fvisibility=hidden\n",
      "\u001b[01m\u001b[Kcc1plus:\u001b[m\u001b[K \u001b[01;35m\u001b[Kwarning: \u001b[m\u001b[Kcommand line option ‘\u001b[01m\u001b[K-Wstrict-prototypes\u001b[m\u001b[K’ is valid for C/ObjC but not for C++\n",
      "/cvmfs/sft-nightlies.cern.ch/lcg/contrib/gcc/6.2binutils/x86_64-slc6/bin/gcc -Wno-unused-result -Wsign-compare -DNDEBUG -g -fwrapv -O3 -Wall -Wstrict-prototypes -fPIC -DWARNINGMSG -DMATH_NO_PLUGIN_MANAGER -DROOT_Math_VecTypes -I/cvmfs/sft-nightlies.cern.ch/lcg/nightlies/dev3python3/Mon/Python/3.6.5/x86_64-slc6-gcc62-opt/include/python3.6m -I/eos/user/h/hschrein/.local/include/python3.6m -IMinuit2-6.14.0-Source/inc -I/cvmfs/sft-nightlies.cern.ch/lcg/nightlies/dev3python3/Mon/Python/3.6.5/x86_64-slc6-gcc62-opt/include/python3.6m -c Minuit2-6.14.0-Source/src/VariableMetricBuilder.cxx -o build/temp.linux-x86_64-3.6/Minuit2-6.14.0-Source/src/VariableMetricBuilder.o -DVERSION_INFO=\"6.14.0\" -std=c++14 -fvisibility=hidden\n",
      "\u001b[01m\u001b[Kcc1plus:\u001b[m\u001b[K \u001b[01;35m\u001b[Kwarning: \u001b[m\u001b[Kcommand line option ‘\u001b[01m\u001b[K-Wstrict-prototypes\u001b[m\u001b[K’ is valid for C/ObjC but not for C++\n",
      "/cvmfs/sft-nightlies.cern.ch/lcg/contrib/gcc/6.2binutils/x86_64-slc6/bin/gcc -Wno-unused-result -Wsign-compare -DNDEBUG -g -fwrapv -O3 -Wall -Wstrict-prototypes -fPIC -DWARNINGMSG -DMATH_NO_PLUGIN_MANAGER -DROOT_Math_VecTypes -I/cvmfs/sft-nightlies.cern.ch/lcg/nightlies/dev3python3/Mon/Python/3.6.5/x86_64-slc6-gcc62-opt/include/python3.6m -I/eos/user/h/hschrein/.local/include/python3.6m -IMinuit2-6.14.0-Source/inc -I/cvmfs/sft-nightlies.cern.ch/lcg/nightlies/dev3python3/Mon/Python/3.6.5/x86_64-slc6-gcc62-opt/include/python3.6m -c Minuit2-6.14.0-Source/src/MnFcn.cxx -o build/temp.linux-x86_64-3.6/Minuit2-6.14.0-Source/src/MnFcn.o -DVERSION_INFO=\"6.14.0\" -std=c++14 -fvisibility=hidden\n",
      "\u001b[01m\u001b[Kcc1plus:\u001b[m\u001b[K \u001b[01;35m\u001b[Kwarning: \u001b[m\u001b[Kcommand line option ‘\u001b[01m\u001b[K-Wstrict-prototypes\u001b[m\u001b[K’ is valid for C/ObjC but not for C++\n",
      "/cvmfs/sft-nightlies.cern.ch/lcg/contrib/gcc/6.2binutils/x86_64-slc6/bin/gcc -Wno-unused-result -Wsign-compare -DNDEBUG -g -fwrapv -O3 -Wall -Wstrict-prototypes -fPIC -DWARNINGMSG -DMATH_NO_PLUGIN_MANAGER -DROOT_Math_VecTypes -I/cvmfs/sft-nightlies.cern.ch/lcg/nightlies/dev3python3/Mon/Python/3.6.5/x86_64-slc6-gcc62-opt/include/python3.6m -I/eos/user/h/hschrein/.local/include/python3.6m -IMinuit2-6.14.0-Source/inc -I/cvmfs/sft-nightlies.cern.ch/lcg/nightlies/dev3python3/Mon/Python/3.6.5/x86_64-slc6-gcc62-opt/include/python3.6m -c Minuit2-6.14.0-Source/src/BasicMinimumError.cxx -o build/temp.linux-x86_64-3.6/Minuit2-6.14.0-Source/src/BasicMinimumError.o -DVERSION_INFO=\"6.14.0\" -std=c++14 -fvisibility=hidden\n",
      "\u001b[01m\u001b[Kcc1plus:\u001b[m\u001b[K \u001b[01;35m\u001b[Kwarning: \u001b[m\u001b[Kcommand line option ‘\u001b[01m\u001b[K-Wstrict-prototypes\u001b[m\u001b[K’ is valid for C/ObjC but not for C++\n",
      "/cvmfs/sft-nightlies.cern.ch/lcg/contrib/gcc/6.2binutils/x86_64-slc6/bin/gcc -Wno-unused-result -Wsign-compare -DNDEBUG -g -fwrapv -O3 -Wall -Wstrict-prototypes -fPIC -DWARNINGMSG -DMATH_NO_PLUGIN_MANAGER -DROOT_Math_VecTypes -I/cvmfs/sft-nightlies.cern.ch/lcg/nightlies/dev3python3/Mon/Python/3.6.5/x86_64-slc6-gcc62-opt/include/python3.6m -I/eos/user/h/hschrein/.local/include/python3.6m -IMinuit2-6.14.0-Source/inc -I/cvmfs/sft-nightlies.cern.ch/lcg/nightlies/dev3python3/Mon/Python/3.6.5/x86_64-slc6-gcc62-opt/include/python3.6m -c Minuit2-6.14.0-Source/src/MnHesse.cxx -o build/temp.linux-x86_64-3.6/Minuit2-6.14.0-Source/src/MnHesse.o -DVERSION_INFO=\"6.14.0\" -std=c++14 -fvisibility=hidden\n",
      "\u001b[01m\u001b[Kcc1plus:\u001b[m\u001b[K \u001b[01;35m\u001b[Kwarning: \u001b[m\u001b[Kcommand line option ‘\u001b[01m\u001b[K-Wstrict-prototypes\u001b[m\u001b[K’ is valid for C/ObjC but not for C++\n",
      "/cvmfs/sft-nightlies.cern.ch/lcg/contrib/gcc/6.2binutils/x86_64-slc6/bin/gcc -Wno-unused-result -Wsign-compare -DNDEBUG -g -fwrapv -O3 -Wall -Wstrict-prototypes -fPIC -DWARNINGMSG -DMATH_NO_PLUGIN_MANAGER -DROOT_Math_VecTypes -I/cvmfs/sft-nightlies.cern.ch/lcg/nightlies/dev3python3/Mon/Python/3.6.5/x86_64-slc6-gcc62-opt/include/python3.6m -I/eos/user/h/hschrein/.local/include/python3.6m -IMinuit2-6.14.0-Source/inc -I/cvmfs/sft-nightlies.cern.ch/lcg/nightlies/dev3python3/Mon/Python/3.6.5/x86_64-slc6-gcc62-opt/include/python3.6m -c Minuit2-6.14.0-Source/src/mnddot.cxx -o build/temp.linux-x86_64-3.6/Minuit2-6.14.0-Source/src/mnddot.o -DVERSION_INFO=\"6.14.0\" -std=c++14 -fvisibility=hidden\n",
      "\u001b[01m\u001b[Kcc1plus:\u001b[m\u001b[K \u001b[01;35m\u001b[Kwarning: \u001b[m\u001b[Kcommand line option ‘\u001b[01m\u001b[K-Wstrict-prototypes\u001b[m\u001b[K’ is valid for C/ObjC but not for C++\n",
      "/cvmfs/sft-nightlies.cern.ch/lcg/contrib/gcc/6.2binutils/x86_64-slc6/bin/gcc -Wno-unused-result -Wsign-compare -DNDEBUG -g -fwrapv -O3 -Wall -Wstrict-prototypes -fPIC -DWARNINGMSG -DMATH_NO_PLUGIN_MANAGER -DROOT_Math_VecTypes -I/cvmfs/sft-nightlies.cern.ch/lcg/nightlies/dev3python3/Mon/Python/3.6.5/x86_64-slc6-gcc62-opt/include/python3.6m -I/eos/user/h/hschrein/.local/include/python3.6m -IMinuit2-6.14.0-Source/inc -I/cvmfs/sft-nightlies.cern.ch/lcg/nightlies/dev3python3/Mon/Python/3.6.5/x86_64-slc6-gcc62-opt/include/python3.6m -c Minuit2-6.14.0-Source/src/LaInnerProduct.cxx -o build/temp.linux-x86_64-3.6/Minuit2-6.14.0-Source/src/LaInnerProduct.o -DVERSION_INFO=\"6.14.0\" -std=c++14 -fvisibility=hidden\n",
      "\u001b[01m\u001b[Kcc1plus:\u001b[m\u001b[K \u001b[01;35m\u001b[Kwarning: \u001b[m\u001b[Kcommand line option ‘\u001b[01m\u001b[K-Wstrict-prototypes\u001b[m\u001b[K’ is valid for C/ObjC but not for C++\n",
      "/cvmfs/sft-nightlies.cern.ch/lcg/contrib/gcc/6.2binutils/x86_64-slc6/bin/gcc -Wno-unused-result -Wsign-compare -DNDEBUG -g -fwrapv -O3 -Wall -Wstrict-prototypes -fPIC -DWARNINGMSG -DMATH_NO_PLUGIN_MANAGER -DROOT_Math_VecTypes -I/cvmfs/sft-nightlies.cern.ch/lcg/nightlies/dev3python3/Mon/Python/3.6.5/x86_64-slc6-gcc62-opt/include/python3.6m -I/eos/user/h/hschrein/.local/include/python3.6m -IMinuit2-6.14.0-Source/inc -I/cvmfs/sft-nightlies.cern.ch/lcg/nightlies/dev3python3/Mon/Python/3.6.5/x86_64-slc6-gcc62-opt/include/python3.6m -c Minuit2-6.14.0-Source/src/SqrtUpParameterTransformation.cxx -o build/temp.linux-x86_64-3.6/Minuit2-6.14.0-Source/src/SqrtUpParameterTransformation.o -DVERSION_INFO=\"6.14.0\" -std=c++14 -fvisibility=hidden\n",
      "\u001b[01m\u001b[Kcc1plus:\u001b[m\u001b[K \u001b[01;35m\u001b[Kwarning: \u001b[m\u001b[Kcommand line option ‘\u001b[01m\u001b[K-Wstrict-prototypes\u001b[m\u001b[K’ is valid for C/ObjC but not for C++\n",
      "/cvmfs/sft-nightlies.cern.ch/lcg/contrib/gcc/6.2binutils/x86_64-slc6/bin/gcc -Wno-unused-result -Wsign-compare -DNDEBUG -g -fwrapv -O3 -Wall -Wstrict-prototypes -fPIC -DWARNINGMSG -DMATH_NO_PLUGIN_MANAGER -DROOT_Math_VecTypes -I/cvmfs/sft-nightlies.cern.ch/lcg/nightlies/dev3python3/Mon/Python/3.6.5/x86_64-slc6-gcc62-opt/include/python3.6m -I/eos/user/h/hschrein/.local/include/python3.6m -IMinuit2-6.14.0-Source/inc -I/cvmfs/sft-nightlies.cern.ch/lcg/nightlies/dev3python3/Mon/Python/3.6.5/x86_64-slc6-gcc62-opt/include/python3.6m -c Minuit2-6.14.0-Source/src/FumiliErrorUpdator.cxx -o build/temp.linux-x86_64-3.6/Minuit2-6.14.0-Source/src/FumiliErrorUpdator.o -DVERSION_INFO=\"6.14.0\" -std=c++14 -fvisibility=hidden\n"
     ]
    },
    {
     "name": "stdout",
     "output_type": "stream",
     "text": [
      "\u001b[01m\u001b[Kcc1plus:\u001b[m\u001b[K \u001b[01;35m\u001b[Kwarning: \u001b[m\u001b[Kcommand line option ‘\u001b[01m\u001b[K-Wstrict-prototypes\u001b[m\u001b[K’ is valid for C/ObjC but not for C++\n",
      "/cvmfs/sft-nightlies.cern.ch/lcg/contrib/gcc/6.2binutils/x86_64-slc6/bin/gcc -Wno-unused-result -Wsign-compare -DNDEBUG -g -fwrapv -O3 -Wall -Wstrict-prototypes -fPIC -DWARNINGMSG -DMATH_NO_PLUGIN_MANAGER -DROOT_Math_VecTypes -I/cvmfs/sft-nightlies.cern.ch/lcg/nightlies/dev3python3/Mon/Python/3.6.5/x86_64-slc6-gcc62-opt/include/python3.6m -I/eos/user/h/hschrein/.local/include/python3.6m -IMinuit2-6.14.0-Source/inc -I/cvmfs/sft-nightlies.cern.ch/lcg/nightlies/dev3python3/Mon/Python/3.6.5/x86_64-slc6-gcc62-opt/include/python3.6m -c Minuit2-6.14.0-Source/src/MnSeedGenerator.cxx -o build/temp.linux-x86_64-3.6/Minuit2-6.14.0-Source/src/MnSeedGenerator.o -DVERSION_INFO=\"6.14.0\" -std=c++14 -fvisibility=hidden\n",
      "\u001b[01m\u001b[Kcc1plus:\u001b[m\u001b[K \u001b[01;35m\u001b[Kwarning: \u001b[m\u001b[Kcommand line option ‘\u001b[01m\u001b[K-Wstrict-prototypes\u001b[m\u001b[K’ is valid for C/ObjC but not for C++\n",
      "/cvmfs/sft-nightlies.cern.ch/lcg/contrib/gcc/6.2binutils/x86_64-slc6/bin/gcc -Wno-unused-result -Wsign-compare -DNDEBUG -g -fwrapv -O3 -Wall -Wstrict-prototypes -fPIC -DWARNINGMSG -DMATH_NO_PLUGIN_MANAGER -DROOT_Math_VecTypes -I/cvmfs/sft-nightlies.cern.ch/lcg/nightlies/dev3python3/Mon/Python/3.6.5/x86_64-slc6-gcc62-opt/include/python3.6m -I/eos/user/h/hschrein/.local/include/python3.6m -IMinuit2-6.14.0-Source/inc -I/cvmfs/sft-nightlies.cern.ch/lcg/nightlies/dev3python3/Mon/Python/3.6.5/x86_64-slc6-gcc62-opt/include/python3.6m -c Minuit2-6.14.0-Source/src/MnPosDef.cxx -o build/temp.linux-x86_64-3.6/Minuit2-6.14.0-Source/src/MnPosDef.o -DVERSION_INFO=\"6.14.0\" -std=c++14 -fvisibility=hidden\n",
      "\u001b[01m\u001b[Kcc1plus:\u001b[m\u001b[K \u001b[01;35m\u001b[Kwarning: \u001b[m\u001b[Kcommand line option ‘\u001b[01m\u001b[K-Wstrict-prototypes\u001b[m\u001b[K’ is valid for C/ObjC but not for C++\n",
      "/cvmfs/sft-nightlies.cern.ch/lcg/contrib/gcc/6.2binutils/x86_64-slc6/bin/gcc -Wno-unused-result -Wsign-compare -DNDEBUG -g -fwrapv -O3 -Wall -Wstrict-prototypes -fPIC -DWARNINGMSG -DMATH_NO_PLUGIN_MANAGER -DROOT_Math_VecTypes -I/cvmfs/sft-nightlies.cern.ch/lcg/nightlies/dev3python3/Mon/Python/3.6.5/x86_64-slc6-gcc62-opt/include/python3.6m -I/eos/user/h/hschrein/.local/include/python3.6m -IMinuit2-6.14.0-Source/inc -I/cvmfs/sft-nightlies.cern.ch/lcg/nightlies/dev3python3/Mon/Python/3.6.5/x86_64-slc6-gcc62-opt/include/python3.6m -c Minuit2-6.14.0-Source/src/MPIProcess.cxx -o build/temp.linux-x86_64-3.6/Minuit2-6.14.0-Source/src/MPIProcess.o -DVERSION_INFO=\"6.14.0\" -std=c++14 -fvisibility=hidden\n",
      "\u001b[01m\u001b[Kcc1plus:\u001b[m\u001b[K \u001b[01;35m\u001b[Kwarning: \u001b[m\u001b[Kcommand line option ‘\u001b[01m\u001b[K-Wstrict-prototypes\u001b[m\u001b[K’ is valid for C/ObjC but not for C++\n",
      "/cvmfs/sft-nightlies.cern.ch/lcg/contrib/gcc/6.2binutils/x86_64-slc6/bin/gcc -Wno-unused-result -Wsign-compare -DNDEBUG -g -fwrapv -O3 -Wall -Wstrict-prototypes -fPIC -DWARNINGMSG -DMATH_NO_PLUGIN_MANAGER -DROOT_Math_VecTypes -I/cvmfs/sft-nightlies.cern.ch/lcg/nightlies/dev3python3/Mon/Python/3.6.5/x86_64-slc6-gcc62-opt/include/python3.6m -I/eos/user/h/hschrein/.local/include/python3.6m -IMinuit2-6.14.0-Source/inc -I/cvmfs/sft-nightlies.cern.ch/lcg/nightlies/dev3python3/Mon/Python/3.6.5/x86_64-slc6-gcc62-opt/include/python3.6m -c Minuit2-6.14.0-Source/src/mntplot.cxx -o build/temp.linux-x86_64-3.6/Minuit2-6.14.0-Source/src/mntplot.o -DVERSION_INFO=\"6.14.0\" -std=c++14 -fvisibility=hidden\n",
      "\u001b[01m\u001b[Kcc1plus:\u001b[m\u001b[K \u001b[01;35m\u001b[Kwarning: \u001b[m\u001b[Kcommand line option ‘\u001b[01m\u001b[K-Wstrict-prototypes\u001b[m\u001b[K’ is valid for C/ObjC but not for C++\n",
      "/cvmfs/sft-nightlies.cern.ch/lcg/contrib/gcc/6.2binutils/x86_64-slc6/bin/gcc -Wno-unused-result -Wsign-compare -DNDEBUG -g -fwrapv -O3 -Wall -Wstrict-prototypes -fPIC -DWARNINGMSG -DMATH_NO_PLUGIN_MANAGER -DROOT_Math_VecTypes -I/cvmfs/sft-nightlies.cern.ch/lcg/nightlies/dev3python3/Mon/Python/3.6.5/x86_64-slc6-gcc62-opt/include/python3.6m -I/eos/user/h/hschrein/.local/include/python3.6m -IMinuit2-6.14.0-Source/inc -I/cvmfs/sft-nightlies.cern.ch/lcg/nightlies/dev3python3/Mon/Python/3.6.5/x86_64-slc6-gcc62-opt/include/python3.6m -c Minuit2-6.14.0-Source/src/AnalyticalGradientCalculator.cxx -o build/temp.linux-x86_64-3.6/Minuit2-6.14.0-Source/src/AnalyticalGradientCalculator.o -DVERSION_INFO=\"6.14.0\" -std=c++14 -fvisibility=hidden\n",
      "\u001b[01m\u001b[Kcc1plus:\u001b[m\u001b[K \u001b[01;35m\u001b[Kwarning: \u001b[m\u001b[Kcommand line option ‘\u001b[01m\u001b[K-Wstrict-prototypes\u001b[m\u001b[K’ is valid for C/ObjC but not for C++\n",
      "/cvmfs/sft-nightlies.cern.ch/lcg/contrib/gcc/6.2binutils/x86_64-slc6/bin/gcc -Wno-unused-result -Wsign-compare -DNDEBUG -g -fwrapv -O3 -Wall -Wstrict-prototypes -fPIC -DWARNINGMSG -DMATH_NO_PLUGIN_MANAGER -DROOT_Math_VecTypes -I/cvmfs/sft-nightlies.cern.ch/lcg/nightlies/dev3python3/Mon/Python/3.6.5/x86_64-slc6-gcc62-opt/include/python3.6m -I/eos/user/h/hschrein/.local/include/python3.6m -IMinuit2-6.14.0-Source/inc -I/cvmfs/sft-nightlies.cern.ch/lcg/nightlies/dev3python3/Mon/Python/3.6.5/x86_64-slc6-gcc62-opt/include/python3.6m -c Minuit2-6.14.0-Source/src/MnStrategy.cxx -o build/temp.linux-x86_64-3.6/Minuit2-6.14.0-Source/src/MnStrategy.o -DVERSION_INFO=\"6.14.0\" -std=c++14 -fvisibility=hidden\n",
      "\u001b[01m\u001b[Kcc1plus:\u001b[m\u001b[K \u001b[01;35m\u001b[Kwarning: \u001b[m\u001b[Kcommand line option ‘\u001b[01m\u001b[K-Wstrict-prototypes\u001b[m\u001b[K’ is valid for C/ObjC but not for C++\n",
      "/cvmfs/sft-nightlies.cern.ch/lcg/contrib/gcc/6.2binutils/x86_64-slc6/bin/gcc -Wno-unused-result -Wsign-compare -DNDEBUG -g -fwrapv -O3 -Wall -Wstrict-prototypes -fPIC -DWARNINGMSG -DMATH_NO_PLUGIN_MANAGER -DROOT_Math_VecTypes -I/cvmfs/sft-nightlies.cern.ch/lcg/nightlies/dev3python3/Mon/Python/3.6.5/x86_64-slc6-gcc62-opt/include/python3.6m -I/eos/user/h/hschrein/.local/include/python3.6m -IMinuit2-6.14.0-Source/inc -I/cvmfs/sft-nightlies.cern.ch/lcg/nightlies/dev3python3/Mon/Python/3.6.5/x86_64-slc6-gcc62-opt/include/python3.6m -c Minuit2-6.14.0-Source/src/ModularFunctionMinimizer.cxx -o build/temp.linux-x86_64-3.6/Minuit2-6.14.0-Source/src/ModularFunctionMinimizer.o -DVERSION_INFO=\"6.14.0\" -std=c++14 -fvisibility=hidden\n",
      "\u001b[01m\u001b[Kcc1plus:\u001b[m\u001b[K \u001b[01;35m\u001b[Kwarning: \u001b[m\u001b[Kcommand line option ‘\u001b[01m\u001b[K-Wstrict-prototypes\u001b[m\u001b[K’ is valid for C/ObjC but not for C++\n",
      "/cvmfs/sft-nightlies.cern.ch/lcg/contrib/gcc/6.2binutils/x86_64-slc6/bin/gcc -Wno-unused-result -Wsign-compare -DNDEBUG -g -fwrapv -O3 -Wall -Wstrict-prototypes -fPIC -DWARNINGMSG -DMATH_NO_PLUGIN_MANAGER -DROOT_Math_VecTypes -I/cvmfs/sft-nightlies.cern.ch/lcg/nightlies/dev3python3/Mon/Python/3.6.5/x86_64-slc6-gcc62-opt/include/python3.6m -I/eos/user/h/hschrein/.local/include/python3.6m -IMinuit2-6.14.0-Source/inc -I/cvmfs/sft-nightlies.cern.ch/lcg/nightlies/dev3python3/Mon/Python/3.6.5/x86_64-slc6-gcc62-opt/include/python3.6m -c Minuit2-6.14.0-Source/src/mndscal.cxx -o build/temp.linux-x86_64-3.6/Minuit2-6.14.0-Source/src/mndscal.o -DVERSION_INFO=\"6.14.0\" -std=c++14 -fvisibility=hidden\n",
      "\u001b[01m\u001b[Kcc1plus:\u001b[m\u001b[K \u001b[01;35m\u001b[Kwarning: \u001b[m\u001b[Kcommand line option ‘\u001b[01m\u001b[K-Wstrict-prototypes\u001b[m\u001b[K’ is valid for C/ObjC but not for C++\n",
      "/cvmfs/sft-nightlies.cern.ch/lcg/contrib/gcc/6.2binutils/x86_64-slc6/bin/gcc -Wno-unused-result -Wsign-compare -DNDEBUG -g -fwrapv -O3 -Wall -Wstrict-prototypes -fPIC -DWARNINGMSG -DMATH_NO_PLUGIN_MANAGER -DROOT_Math_VecTypes -I/cvmfs/sft-nightlies.cern.ch/lcg/nightlies/dev3python3/Mon/Python/3.6.5/x86_64-slc6-gcc62-opt/include/python3.6m -I/eos/user/h/hschrein/.local/include/python3.6m -IMinuit2-6.14.0-Source/inc -I/cvmfs/sft-nightlies.cern.ch/lcg/nightlies/dev3python3/Mon/Python/3.6.5/x86_64-slc6-gcc62-opt/include/python3.6m -c Minuit2-6.14.0-Source/src/mndspmv.cxx -o build/temp.linux-x86_64-3.6/Minuit2-6.14.0-Source/src/mndspmv.o -DVERSION_INFO=\"6.14.0\" -std=c++14 -fvisibility=hidden\n",
      "\u001b[01m\u001b[Kcc1plus:\u001b[m\u001b[K \u001b[01;35m\u001b[Kwarning: \u001b[m\u001b[Kcommand line option ‘\u001b[01m\u001b[K-Wstrict-prototypes\u001b[m\u001b[K’ is valid for C/ObjC but not for C++\n",
      "/cvmfs/sft-nightlies.cern.ch/lcg/contrib/gcc/6.2binutils/x86_64-slc6/bin/gcc -Wno-unused-result -Wsign-compare -DNDEBUG -g -fwrapv -O3 -Wall -Wstrict-prototypes -fPIC -DWARNINGMSG -DMATH_NO_PLUGIN_MANAGER -DROOT_Math_VecTypes -I/cvmfs/sft-nightlies.cern.ch/lcg/nightlies/dev3python3/Mon/Python/3.6.5/x86_64-slc6-gcc62-opt/include/python3.6m -I/eos/user/h/hschrein/.local/include/python3.6m -IMinuit2-6.14.0-Source/inc -I/cvmfs/sft-nightlies.cern.ch/lcg/nightlies/dev3python3/Mon/Python/3.6.5/x86_64-slc6-gcc62-opt/include/python3.6m -c Minuit2-6.14.0-Source/src/MnMachinePrecision.cxx -o build/temp.linux-x86_64-3.6/Minuit2-6.14.0-Source/src/MnMachinePrecision.o -DVERSION_INFO=\"6.14.0\" -std=c++14 -fvisibility=hidden\n"
     ]
    },
    {
     "name": "stdout",
     "output_type": "stream",
     "text": [
      "\u001b[01m\u001b[Kcc1plus:\u001b[m\u001b[K \u001b[01;35m\u001b[Kwarning: \u001b[m\u001b[Kcommand line option ‘\u001b[01m\u001b[K-Wstrict-prototypes\u001b[m\u001b[K’ is valid for C/ObjC but not for C++\n",
      "/cvmfs/sft-nightlies.cern.ch/lcg/contrib/gcc/6.2binutils/x86_64-slc6/bin/gcc -Wno-unused-result -Wsign-compare -DNDEBUG -g -fwrapv -O3 -Wall -Wstrict-prototypes -fPIC -DWARNINGMSG -DMATH_NO_PLUGIN_MANAGER -DROOT_Math_VecTypes -I/cvmfs/sft-nightlies.cern.ch/lcg/nightlies/dev3python3/Mon/Python/3.6.5/x86_64-slc6-gcc62-opt/include/python3.6m -I/eos/user/h/hschrein/.local/include/python3.6m -IMinuit2-6.14.0-Source/inc -I/cvmfs/sft-nightlies.cern.ch/lcg/nightlies/dev3python3/Mon/Python/3.6.5/x86_64-slc6-gcc62-opt/include/python3.6m -c Minuit2-6.14.0-Source/src/FumiliStandardMaximumLikelihoodFCN.cxx -o build/temp.linux-x86_64-3.6/Minuit2-6.14.0-Source/src/FumiliStandardMaximumLikelihoodFCN.o -DVERSION_INFO=\"6.14.0\" -std=c++14 -fvisibility=hidden\n",
      "\u001b[01m\u001b[Kcc1plus:\u001b[m\u001b[K \u001b[01;35m\u001b[Kwarning: \u001b[m\u001b[Kcommand line option ‘\u001b[01m\u001b[K-Wstrict-prototypes\u001b[m\u001b[K’ is valid for C/ObjC but not for C++\n",
      "/cvmfs/sft-nightlies.cern.ch/lcg/contrib/gcc/6.2binutils/x86_64-slc6/bin/gcc -Wno-unused-result -Wsign-compare -DNDEBUG -g -fwrapv -O3 -Wall -Wstrict-prototypes -fPIC -DWARNINGMSG -DMATH_NO_PLUGIN_MANAGER -DROOT_Math_VecTypes -I/cvmfs/sft-nightlies.cern.ch/lcg/nightlies/dev3python3/Mon/Python/3.6.5/x86_64-slc6-gcc62-opt/include/python3.6m -I/eos/user/h/hschrein/.local/include/python3.6m -IMinuit2-6.14.0-Source/inc -I/cvmfs/sft-nightlies.cern.ch/lcg/nightlies/dev3python3/Mon/Python/3.6.5/x86_64-slc6-gcc62-opt/include/python3.6m -c Minuit2-6.14.0-Source/src/MnUserParameters.cxx -o build/temp.linux-x86_64-3.6/Minuit2-6.14.0-Source/src/MnUserParameters.o -DVERSION_INFO=\"6.14.0\" -std=c++14 -fvisibility=hidden\n",
      "\u001b[01m\u001b[Kcc1plus:\u001b[m\u001b[K \u001b[01;35m\u001b[Kwarning: \u001b[m\u001b[Kcommand line option ‘\u001b[01m\u001b[K-Wstrict-prototypes\u001b[m\u001b[K’ is valid for C/ObjC but not for C++\n",
      "/cvmfs/sft-nightlies.cern.ch/lcg/contrib/gcc/6.2binutils/x86_64-slc6/bin/gcc -Wno-unused-result -Wsign-compare -DNDEBUG -g -fwrapv -O3 -Wall -Wstrict-prototypes -fPIC -DWARNINGMSG -DMATH_NO_PLUGIN_MANAGER -DROOT_Math_VecTypes -I/cvmfs/sft-nightlies.cern.ch/lcg/nightlies/dev3python3/Mon/Python/3.6.5/x86_64-slc6-gcc62-opt/include/python3.6m -I/eos/user/h/hschrein/.local/include/python3.6m -IMinuit2-6.14.0-Source/inc -I/cvmfs/sft-nightlies.cern.ch/lcg/nightlies/dev3python3/Mon/Python/3.6.5/x86_64-slc6-gcc62-opt/include/python3.6m -c Minuit2-6.14.0-Source/src/MnCovarianceSqueeze.cxx -o build/temp.linux-x86_64-3.6/Minuit2-6.14.0-Source/src/MnCovarianceSqueeze.o -DVERSION_INFO=\"6.14.0\" -std=c++14 -fvisibility=hidden\n",
      "\u001b[01m\u001b[Kcc1plus:\u001b[m\u001b[K \u001b[01;35m\u001b[Kwarning: \u001b[m\u001b[Kcommand line option ‘\u001b[01m\u001b[K-Wstrict-prototypes\u001b[m\u001b[K’ is valid for C/ObjC but not for C++\n",
      "/cvmfs/sft-nightlies.cern.ch/lcg/contrib/gcc/6.2binutils/x86_64-slc6/bin/gcc -Wno-unused-result -Wsign-compare -DNDEBUG -g -fwrapv -O3 -Wall -Wstrict-prototypes -fPIC -DWARNINGMSG -DMATH_NO_PLUGIN_MANAGER -DROOT_Math_VecTypes -I/cvmfs/sft-nightlies.cern.ch/lcg/nightlies/dev3python3/Mon/Python/3.6.5/x86_64-slc6-gcc62-opt/include/python3.6m -I/eos/user/h/hschrein/.local/include/python3.6m -IMinuit2-6.14.0-Source/inc -I/cvmfs/sft-nightlies.cern.ch/lcg/nightlies/dev3python3/Mon/Python/3.6.5/x86_64-slc6-gcc62-opt/include/python3.6m -c Minuit2-6.14.0-Source/src/CombinedMinimumBuilder.cxx -o build/temp.linux-x86_64-3.6/Minuit2-6.14.0-Source/src/CombinedMinimumBuilder.o -DVERSION_INFO=\"6.14.0\" -std=c++14 -fvisibility=hidden\n",
      "\u001b[01m\u001b[Kcc1plus:\u001b[m\u001b[K \u001b[01;35m\u001b[Kwarning: \u001b[m\u001b[Kcommand line option ‘\u001b[01m\u001b[K-Wstrict-prototypes\u001b[m\u001b[K’ is valid for C/ObjC but not for C++\n",
      "/cvmfs/sft-nightlies.cern.ch/lcg/contrib/gcc/6.2binutils/x86_64-slc6/bin/gcc -Wno-unused-result -Wsign-compare -DNDEBUG -g -fwrapv -O3 -Wall -Wstrict-prototypes -fPIC -DWARNINGMSG -DMATH_NO_PLUGIN_MANAGER -DROOT_Math_VecTypes -I/cvmfs/sft-nightlies.cern.ch/lcg/nightlies/dev3python3/Mon/Python/3.6.5/x86_64-slc6-gcc62-opt/include/python3.6m -I/eos/user/h/hschrein/.local/include/python3.6m -IMinuit2-6.14.0-Source/inc -I/cvmfs/sft-nightlies.cern.ch/lcg/nightlies/dev3python3/Mon/Python/3.6.5/x86_64-slc6-gcc62-opt/include/python3.6m -c Minuit2-6.14.0-Source/src/FumiliStandardChi2FCN.cxx -o build/temp.linux-x86_64-3.6/Minuit2-6.14.0-Source/src/FumiliStandardChi2FCN.o -DVERSION_INFO=\"6.14.0\" -std=c++14 -fvisibility=hidden\n",
      "\u001b[01m\u001b[Kcc1plus:\u001b[m\u001b[K \u001b[01;35m\u001b[Kwarning: \u001b[m\u001b[Kcommand line option ‘\u001b[01m\u001b[K-Wstrict-prototypes\u001b[m\u001b[K’ is valid for C/ObjC but not for C++\n",
      "/cvmfs/sft-nightlies.cern.ch/lcg/contrib/gcc/6.2binutils/x86_64-slc6/bin/gcc -Wno-unused-result -Wsign-compare -DNDEBUG -g -fwrapv -O3 -Wall -Wstrict-prototypes -fPIC -DWARNINGMSG -DMATH_NO_PLUGIN_MANAGER -DROOT_Math_VecTypes -I/cvmfs/sft-nightlies.cern.ch/lcg/nightlies/dev3python3/Mon/Python/3.6.5/x86_64-slc6-gcc62-opt/include/python3.6m -I/eos/user/h/hschrein/.local/include/python3.6m -IMinuit2-6.14.0-Source/inc -I/cvmfs/sft-nightlies.cern.ch/lcg/nightlies/dev3python3/Mon/Python/3.6.5/x86_64-slc6-gcc62-opt/include/python3.6m -c Minuit2-6.14.0-Source/src/HessianGradientCalculator.cxx -o build/temp.linux-x86_64-3.6/Minuit2-6.14.0-Source/src/HessianGradientCalculator.o -DVERSION_INFO=\"6.14.0\" -std=c++14 -fvisibility=hidden\n",
      "\u001b[01m\u001b[Kcc1plus:\u001b[m\u001b[K \u001b[01;35m\u001b[Kwarning: \u001b[m\u001b[Kcommand line option ‘\u001b[01m\u001b[K-Wstrict-prototypes\u001b[m\u001b[K’ is valid for C/ObjC but not for C++\n",
      "/cvmfs/sft-nightlies.cern.ch/lcg/contrib/gcc/6.2binutils/x86_64-slc6/bin/gcc -Wno-unused-result -Wsign-compare -DNDEBUG -g -fwrapv -O3 -Wall -Wstrict-prototypes -fPIC -DWARNINGMSG -DMATH_NO_PLUGIN_MANAGER -DROOT_Math_VecTypes -I/cvmfs/sft-nightlies.cern.ch/lcg/nightlies/dev3python3/Mon/Python/3.6.5/x86_64-slc6-gcc62-opt/include/python3.6m -I/eos/user/h/hschrein/.local/include/python3.6m -IMinuit2-6.14.0-Source/inc -I/cvmfs/sft-nightlies.cern.ch/lcg/nightlies/dev3python3/Mon/Python/3.6.5/x86_64-slc6-gcc62-opt/include/python3.6m -c Minuit2-6.14.0-Source/src/LaEigenValues.cxx -o build/temp.linux-x86_64-3.6/Minuit2-6.14.0-Source/src/LaEigenValues.o -DVERSION_INFO=\"6.14.0\" -std=c++14 -fvisibility=hidden\n",
      "\u001b[01m\u001b[Kcc1plus:\u001b[m\u001b[K \u001b[01;35m\u001b[Kwarning: \u001b[m\u001b[Kcommand line option ‘\u001b[01m\u001b[K-Wstrict-prototypes\u001b[m\u001b[K’ is valid for C/ObjC but not for C++\n",
      "/cvmfs/sft-nightlies.cern.ch/lcg/contrib/gcc/6.2binutils/x86_64-slc6/bin/gcc -Wno-unused-result -Wsign-compare -DNDEBUG -g -fwrapv -O3 -Wall -Wstrict-prototypes -fPIC -DWARNINGMSG -DMATH_NO_PLUGIN_MANAGER -DROOT_Math_VecTypes -I/cvmfs/sft-nightlies.cern.ch/lcg/nightlies/dev3python3/Mon/Python/3.6.5/x86_64-slc6-gcc62-opt/include/python3.6m -I/eos/user/h/hschrein/.local/include/python3.6m -IMinuit2-6.14.0-Source/inc -I/cvmfs/sft-nightlies.cern.ch/lcg/nightlies/dev3python3/Mon/Python/3.6.5/x86_64-slc6-gcc62-opt/include/python3.6m -c Minuit2-6.14.0-Source/src/MnMinos.cxx -o build/temp.linux-x86_64-3.6/Minuit2-6.14.0-Source/src/MnMinos.o -DVERSION_INFO=\"6.14.0\" -std=c++14 -fvisibility=hidden\n",
      "\u001b[01m\u001b[Kcc1plus:\u001b[m\u001b[K \u001b[01;35m\u001b[Kwarning: \u001b[m\u001b[Kcommand line option ‘\u001b[01m\u001b[K-Wstrict-prototypes\u001b[m\u001b[K’ is valid for C/ObjC but not for C++\n",
      "/cvmfs/sft-nightlies.cern.ch/lcg/contrib/gcc/6.2binutils/x86_64-slc6/bin/gcc -Wno-unused-result -Wsign-compare -DNDEBUG -g -fwrapv -O3 -Wall -Wstrict-prototypes -fPIC -DWARNINGMSG -DMATH_NO_PLUGIN_MANAGER -DROOT_Math_VecTypes -I/cvmfs/sft-nightlies.cern.ch/lcg/nightlies/dev3python3/Mon/Python/3.6.5/x86_64-slc6-gcc62-opt/include/python3.6m -I/eos/user/h/hschrein/.local/include/python3.6m -IMinuit2-6.14.0-Source/inc -I/cvmfs/sft-nightlies.cern.ch/lcg/nightlies/dev3python3/Mon/Python/3.6.5/x86_64-slc6-gcc62-opt/include/python3.6m -c Minuit2-6.14.0-Source/src/MnTraceObject.cxx -o build/temp.linux-x86_64-3.6/Minuit2-6.14.0-Source/src/MnTraceObject.o -DVERSION_INFO=\"6.14.0\" -std=c++14 -fvisibility=hidden\n",
      "\u001b[01m\u001b[Kcc1plus:\u001b[m\u001b[K \u001b[01;35m\u001b[Kwarning: \u001b[m\u001b[Kcommand line option ‘\u001b[01m\u001b[K-Wstrict-prototypes\u001b[m\u001b[K’ is valid for C/ObjC but not for C++\n",
      "/cvmfs/sft-nightlies.cern.ch/lcg/contrib/gcc/6.2binutils/x86_64-slc6/bin/gcc -Wno-unused-result -Wsign-compare -DNDEBUG -g -fwrapv -O3 -Wall -Wstrict-prototypes -fPIC -DWARNINGMSG -DMATH_NO_PLUGIN_MANAGER -DROOT_Math_VecTypes -I/cvmfs/sft-nightlies.cern.ch/lcg/nightlies/dev3python3/Mon/Python/3.6.5/x86_64-slc6-gcc62-opt/include/python3.6m -I/eos/user/h/hschrein/.local/include/python3.6m -IMinuit2-6.14.0-Source/inc -I/cvmfs/sft-nightlies.cern.ch/lcg/nightlies/dev3python3/Mon/Python/3.6.5/x86_64-slc6-gcc62-opt/include/python3.6m -c Minuit2-6.14.0-Source/src/mnxerbla.cxx -o build/temp.linux-x86_64-3.6/Minuit2-6.14.0-Source/src/mnxerbla.o -DVERSION_INFO=\"6.14.0\" -std=c++14 -fvisibility=hidden\n"
     ]
    },
    {
     "name": "stdout",
     "output_type": "stream",
     "text": [
      "\u001b[01m\u001b[Kcc1plus:\u001b[m\u001b[K \u001b[01;35m\u001b[Kwarning: \u001b[m\u001b[Kcommand line option ‘\u001b[01m\u001b[K-Wstrict-prototypes\u001b[m\u001b[K’ is valid for C/ObjC but not for C++\n",
      "/cvmfs/sft-nightlies.cern.ch/lcg/contrib/gcc/6.2binutils/x86_64-slc6/bin/gcc -Wno-unused-result -Wsign-compare -DNDEBUG -g -fwrapv -O3 -Wall -Wstrict-prototypes -fPIC -DWARNINGMSG -DMATH_NO_PLUGIN_MANAGER -DROOT_Math_VecTypes -I/cvmfs/sft-nightlies.cern.ch/lcg/nightlies/dev3python3/Mon/Python/3.6.5/x86_64-slc6-gcc62-opt/include/python3.6m -I/eos/user/h/hschrein/.local/include/python3.6m -IMinuit2-6.14.0-Source/inc -I/cvmfs/sft-nightlies.cern.ch/lcg/nightlies/dev3python3/Mon/Python/3.6.5/x86_64-slc6-gcc62-opt/include/python3.6m -c Minuit2-6.14.0-Source/src/mnbins.cxx -o build/temp.linux-x86_64-3.6/Minuit2-6.14.0-Source/src/mnbins.o -DVERSION_INFO=\"6.14.0\" -std=c++14 -fvisibility=hidden\n",
      "\u001b[01m\u001b[Kcc1plus:\u001b[m\u001b[K \u001b[01;35m\u001b[Kwarning: \u001b[m\u001b[Kcommand line option ‘\u001b[01m\u001b[K-Wstrict-prototypes\u001b[m\u001b[K’ is valid for C/ObjC but not for C++\n",
      "/cvmfs/sft-nightlies.cern.ch/lcg/contrib/gcc/6.2binutils/x86_64-slc6/bin/gcc -Wno-unused-result -Wsign-compare -DNDEBUG -g -fwrapv -O3 -Wall -Wstrict-prototypes -fPIC -DWARNINGMSG -DMATH_NO_PLUGIN_MANAGER -DROOT_Math_VecTypes -I/cvmfs/sft-nightlies.cern.ch/lcg/nightlies/dev3python3/Mon/Python/3.6.5/x86_64-slc6-gcc62-opt/include/python3.6m -I/eos/user/h/hschrein/.local/include/python3.6m -IMinuit2-6.14.0-Source/inc -I/cvmfs/sft-nightlies.cern.ch/lcg/nightlies/dev3python3/Mon/Python/3.6.5/x86_64-slc6-gcc62-opt/include/python3.6m -c Minuit2-6.14.0-Source/src/BFGSErrorUpdator.cxx -o build/temp.linux-x86_64-3.6/Minuit2-6.14.0-Source/src/BFGSErrorUpdator.o -DVERSION_INFO=\"6.14.0\" -std=c++14 -fvisibility=hidden\n",
      "\u001b[01m\u001b[Kcc1plus:\u001b[m\u001b[K \u001b[01;35m\u001b[Kwarning: \u001b[m\u001b[Kcommand line option ‘\u001b[01m\u001b[K-Wstrict-prototypes\u001b[m\u001b[K’ is valid for C/ObjC but not for C++\n",
      "/cvmfs/sft-nightlies.cern.ch/lcg/contrib/gcc/6.2binutils/x86_64-slc6/bin/gcc -Wno-unused-result -Wsign-compare -DNDEBUG -g -fwrapv -O3 -Wall -Wstrict-prototypes -fPIC -DWARNINGMSG -DMATH_NO_PLUGIN_MANAGER -DROOT_Math_VecTypes -I/cvmfs/sft-nightlies.cern.ch/lcg/nightlies/dev3python3/Mon/Python/3.6.5/x86_64-slc6-gcc62-opt/include/python3.6m -I/eos/user/h/hschrein/.local/include/python3.6m -IMinuit2-6.14.0-Source/inc -I/cvmfs/sft-nightlies.cern.ch/lcg/nightlies/dev3python3/Mon/Python/3.6.5/x86_64-slc6-gcc62-opt/include/python3.6m -c Minuit2-6.14.0-Source/src/MnUserFcn.cxx -o build/temp.linux-x86_64-3.6/Minuit2-6.14.0-Source/src/MnUserFcn.o -DVERSION_INFO=\"6.14.0\" -std=c++14 -fvisibility=hidden\n",
      "\u001b[01m\u001b[Kcc1plus:\u001b[m\u001b[K \u001b[01;35m\u001b[Kwarning: \u001b[m\u001b[Kcommand line option ‘\u001b[01m\u001b[K-Wstrict-prototypes\u001b[m\u001b[K’ is valid for C/ObjC but not for C++\n",
      "/cvmfs/sft-nightlies.cern.ch/lcg/contrib/gcc/6.2binutils/x86_64-slc6/bin/gcc -Wno-unused-result -Wsign-compare -DNDEBUG -g -fwrapv -O3 -Wall -Wstrict-prototypes -fPIC -DWARNINGMSG -DMATH_NO_PLUGIN_MANAGER -DROOT_Math_VecTypes -I/cvmfs/sft-nightlies.cern.ch/lcg/nightlies/dev3python3/Mon/Python/3.6.5/x86_64-slc6-gcc62-opt/include/python3.6m -I/eos/user/h/hschrein/.local/include/python3.6m -IMinuit2-6.14.0-Source/inc -I/cvmfs/sft-nightlies.cern.ch/lcg/nightlies/dev3python3/Mon/Python/3.6.5/x86_64-slc6-gcc62-opt/include/python3.6m -c Minuit2-6.14.0-Source/src/math/GenAlgoOptions.cxx -o build/temp.linux-x86_64-3.6/Minuit2-6.14.0-Source/src/math/GenAlgoOptions.o -DVERSION_INFO=\"6.14.0\" -std=c++14 -fvisibility=hidden\n",
      "\u001b[01m\u001b[Kcc1plus:\u001b[m\u001b[K \u001b[01;35m\u001b[Kwarning: \u001b[m\u001b[Kcommand line option ‘\u001b[01m\u001b[K-Wstrict-prototypes\u001b[m\u001b[K’ is valid for C/ObjC but not for C++\n",
      "/cvmfs/sft-nightlies.cern.ch/lcg/contrib/gcc/6.2binutils/x86_64-slc6/bin/gcc -Wno-unused-result -Wsign-compare -DNDEBUG -g -fwrapv -O3 -Wall -Wstrict-prototypes -fPIC -DWARNINGMSG -DMATH_NO_PLUGIN_MANAGER -DROOT_Math_VecTypes -I/cvmfs/sft-nightlies.cern.ch/lcg/nightlies/dev3python3/Mon/Python/3.6.5/x86_64-slc6-gcc62-opt/include/python3.6m -I/eos/user/h/hschrein/.local/include/python3.6m -IMinuit2-6.14.0-Source/inc -I/cvmfs/sft-nightlies.cern.ch/lcg/nightlies/dev3python3/Mon/Python/3.6.5/x86_64-slc6-gcc62-opt/include/python3.6m -c Minuit2-6.14.0-Source/src/VariableMetricEDMEstimator.cxx -o build/temp.linux-x86_64-3.6/Minuit2-6.14.0-Source/src/VariableMetricEDMEstimator.o -DVERSION_INFO=\"6.14.0\" -std=c++14 -fvisibility=hidden\n",
      "\u001b[01m\u001b[Kcc1plus:\u001b[m\u001b[K \u001b[01;35m\u001b[Kwarning: \u001b[m\u001b[Kcommand line option ‘\u001b[01m\u001b[K-Wstrict-prototypes\u001b[m\u001b[K’ is valid for C/ObjC but not for C++\n",
      "/cvmfs/sft-nightlies.cern.ch/lcg/contrib/gcc/6.2binutils/x86_64-slc6/bin/gcc -Wno-unused-result -Wsign-compare -DNDEBUG -g -fwrapv -O3 -Wall -Wstrict-prototypes -fPIC -DWARNINGMSG -DMATH_NO_PLUGIN_MANAGER -DROOT_Math_VecTypes -I/cvmfs/sft-nightlies.cern.ch/lcg/nightlies/dev3python3/Mon/Python/3.6.5/x86_64-slc6-gcc62-opt/include/python3.6m -I/eos/user/h/hschrein/.local/include/python3.6m -IMinuit2-6.14.0-Source/inc -I/cvmfs/sft-nightlies.cern.ch/lcg/nightlies/dev3python3/Mon/Python/3.6.5/x86_64-slc6-gcc62-opt/include/python3.6m -c Minuit2-6.14.0-Source/src/SimplexSeedGenerator.cxx -o build/temp.linux-x86_64-3.6/Minuit2-6.14.0-Source/src/SimplexSeedGenerator.o -DVERSION_INFO=\"6.14.0\" -std=c++14 -fvisibility=hidden\n",
      "\u001b[01m\u001b[Kcc1plus:\u001b[m\u001b[K \u001b[01;35m\u001b[Kwarning: \u001b[m\u001b[Kcommand line option ‘\u001b[01m\u001b[K-Wstrict-prototypes\u001b[m\u001b[K’ is valid for C/ObjC but not for C++\n",
      "/cvmfs/sft-nightlies.cern.ch/lcg/contrib/gcc/6.2binutils/x86_64-slc6/bin/gcc -Wno-unused-result -Wsign-compare -DNDEBUG -g -fwrapv -O3 -Wall -Wstrict-prototypes -fPIC -DWARNINGMSG -DMATH_NO_PLUGIN_MANAGER -DROOT_Math_VecTypes -I/cvmfs/sft-nightlies.cern.ch/lcg/nightlies/dev3python3/Mon/Python/3.6.5/x86_64-slc6-gcc62-opt/include/python3.6m -I/eos/user/h/hschrein/.local/include/python3.6m -IMinuit2-6.14.0-Source/inc -I/cvmfs/sft-nightlies.cern.ch/lcg/nightlies/dev3python3/Mon/Python/3.6.5/x86_64-slc6-gcc62-opt/include/python3.6m -c Minuit2-6.14.0-Source/src/SinParameterTransformation.cxx -o build/temp.linux-x86_64-3.6/Minuit2-6.14.0-Source/src/SinParameterTransformation.o -DVERSION_INFO=\"6.14.0\" -std=c++14 -fvisibility=hidden\n",
      "\u001b[01m\u001b[Kcc1plus:\u001b[m\u001b[K \u001b[01;35m\u001b[Kwarning: \u001b[m\u001b[Kcommand line option ‘\u001b[01m\u001b[K-Wstrict-prototypes\u001b[m\u001b[K’ is valid for C/ObjC but not for C++\n",
      "/cvmfs/sft-nightlies.cern.ch/lcg/contrib/gcc/6.2binutils/x86_64-slc6/bin/gcc -Wno-unused-result -Wsign-compare -DNDEBUG -g -fwrapv -O3 -Wall -Wstrict-prototypes -fPIC -DWARNINGMSG -DMATH_NO_PLUGIN_MANAGER -DROOT_Math_VecTypes -I/cvmfs/sft-nightlies.cern.ch/lcg/nightlies/dev3python3/Mon/Python/3.6.5/x86_64-slc6-gcc62-opt/include/python3.6m -I/eos/user/h/hschrein/.local/include/python3.6m -IMinuit2-6.14.0-Source/inc -I/cvmfs/sft-nightlies.cern.ch/lcg/nightlies/dev3python3/Mon/Python/3.6.5/x86_64-slc6-gcc62-opt/include/python3.6m -c Minuit2-6.14.0-Source/src/FumiliGradientCalculator.cxx -o build/temp.linux-x86_64-3.6/Minuit2-6.14.0-Source/src/FumiliGradientCalculator.o -DVERSION_INFO=\"6.14.0\" -std=c++14 -fvisibility=hidden\n",
      "\u001b[01m\u001b[Kcc1plus:\u001b[m\u001b[K \u001b[01;35m\u001b[Kwarning: \u001b[m\u001b[Kcommand line option ‘\u001b[01m\u001b[K-Wstrict-prototypes\u001b[m\u001b[K’ is valid for C/ObjC but not for C++\n",
      "/cvmfs/sft-nightlies.cern.ch/lcg/contrib/gcc/6.2binutils/x86_64-slc6/bin/gcc -Wno-unused-result -Wsign-compare -DNDEBUG -g -fwrapv -O3 -Wall -Wstrict-prototypes -fPIC -DWARNINGMSG -DMATH_NO_PLUGIN_MANAGER -DROOT_Math_VecTypes -I/cvmfs/sft-nightlies.cern.ch/lcg/nightlies/dev3python3/Mon/Python/3.6.5/x86_64-slc6-gcc62-opt/include/python3.6m -I/eos/user/h/hschrein/.local/include/python3.6m -IMinuit2-6.14.0-Source/inc -I/cvmfs/sft-nightlies.cern.ch/lcg/nightlies/dev3python3/Mon/Python/3.6.5/x86_64-slc6-gcc62-opt/include/python3.6m -c Minuit2-6.14.0-Source/src/mndspr.cxx -o build/temp.linux-x86_64-3.6/Minuit2-6.14.0-Source/src/mndspr.o -DVERSION_INFO=\"6.14.0\" -std=c++14 -fvisibility=hidden\n",
      "\u001b[01m\u001b[Kcc1plus:\u001b[m\u001b[K \u001b[01;35m\u001b[Kwarning: \u001b[m\u001b[Kcommand line option ‘\u001b[01m\u001b[K-Wstrict-prototypes\u001b[m\u001b[K’ is valid for C/ObjC but not for C++\n",
      "/cvmfs/sft-nightlies.cern.ch/lcg/contrib/gcc/6.2binutils/x86_64-slc6/bin/gcc -Wno-unused-result -Wsign-compare -DNDEBUG -g -fwrapv -O3 -Wall -Wstrict-prototypes -fPIC -DWARNINGMSG -DMATH_NO_PLUGIN_MANAGER -DROOT_Math_VecTypes -I/cvmfs/sft-nightlies.cern.ch/lcg/nightlies/dev3python3/Mon/Python/3.6.5/x86_64-slc6-gcc62-opt/include/python3.6m -I/eos/user/h/hschrein/.local/include/python3.6m -IMinuit2-6.14.0-Source/inc -I/cvmfs/sft-nightlies.cern.ch/lcg/nightlies/dev3python3/Mon/Python/3.6.5/x86_64-slc6-gcc62-opt/include/python3.6m -c Minuit2-6.14.0-Source/src/MnLineSearch.cxx -o build/temp.linux-x86_64-3.6/Minuit2-6.14.0-Source/src/MnLineSearch.o -DVERSION_INFO=\"6.14.0\" -std=c++14 -fvisibility=hidden\n"
     ]
    },
    {
     "name": "stdout",
     "output_type": "stream",
     "text": [
      "\u001b[01m\u001b[Kcc1plus:\u001b[m\u001b[K \u001b[01;35m\u001b[Kwarning: \u001b[m\u001b[Kcommand line option ‘\u001b[01m\u001b[K-Wstrict-prototypes\u001b[m\u001b[K’ is valid for C/ObjC but not for C++\n",
      "/cvmfs/sft-nightlies.cern.ch/lcg/contrib/gcc/6.2binutils/x86_64-slc6/bin/gcc -Wno-unused-result -Wsign-compare -DNDEBUG -g -fwrapv -O3 -Wall -Wstrict-prototypes -fPIC -DWARNINGMSG -DMATH_NO_PLUGIN_MANAGER -DROOT_Math_VecTypes -I/cvmfs/sft-nightlies.cern.ch/lcg/nightlies/dev3python3/Mon/Python/3.6.5/x86_64-slc6-gcc62-opt/include/python3.6m -I/eos/user/h/hschrein/.local/include/python3.6m -IMinuit2-6.14.0-Source/inc -I/cvmfs/sft-nightlies.cern.ch/lcg/nightlies/dev3python3/Mon/Python/3.6.5/x86_64-slc6-gcc62-opt/include/python3.6m -c Minuit2-6.14.0-Source/src/MnGlobalCorrelationCoeff.cxx -o build/temp.linux-x86_64-3.6/Minuit2-6.14.0-Source/src/MnGlobalCorrelationCoeff.o -DVERSION_INFO=\"6.14.0\" -std=c++14 -fvisibility=hidden\n",
      "\u001b[01m\u001b[Kcc1plus:\u001b[m\u001b[K \u001b[01;35m\u001b[Kwarning: \u001b[m\u001b[Kcommand line option ‘\u001b[01m\u001b[K-Wstrict-prototypes\u001b[m\u001b[K’ is valid for C/ObjC but not for C++\n",
      "/cvmfs/sft-nightlies.cern.ch/lcg/contrib/gcc/6.2binutils/x86_64-slc6/bin/gcc -Wno-unused-result -Wsign-compare -DNDEBUG -g -fwrapv -O3 -Wall -Wstrict-prototypes -fPIC -DWARNINGMSG -DMATH_NO_PLUGIN_MANAGER -DROOT_Math_VecTypes -I/cvmfs/sft-nightlies.cern.ch/lcg/nightlies/dev3python3/Mon/Python/3.6.5/x86_64-slc6-gcc62-opt/include/python3.6m -I/eos/user/h/hschrein/.local/include/python3.6m -IMinuit2-6.14.0-Source/inc -I/cvmfs/sft-nightlies.cern.ch/lcg/nightlies/dev3python3/Mon/Python/3.6.5/x86_64-slc6-gcc62-opt/include/python3.6m -c Minuit2-6.14.0-Source/src/LaVtMVSimilarity.cxx -o build/temp.linux-x86_64-3.6/Minuit2-6.14.0-Source/src/LaVtMVSimilarity.o -DVERSION_INFO=\"6.14.0\" -std=c++14 -fvisibility=hidden\n",
      "\u001b[01m\u001b[Kcc1plus:\u001b[m\u001b[K \u001b[01;35m\u001b[Kwarning: \u001b[m\u001b[Kcommand line option ‘\u001b[01m\u001b[K-Wstrict-prototypes\u001b[m\u001b[K’ is valid for C/ObjC but not for C++\n",
      "/cvmfs/sft-nightlies.cern.ch/lcg/contrib/gcc/6.2binutils/x86_64-slc6/bin/gcc -Wno-unused-result -Wsign-compare -DNDEBUG -g -fwrapv -O3 -Wall -Wstrict-prototypes -fPIC -DWARNINGMSG -DMATH_NO_PLUGIN_MANAGER -DROOT_Math_VecTypes -I/cvmfs/sft-nightlies.cern.ch/lcg/nightlies/dev3python3/Mon/Python/3.6.5/x86_64-slc6-gcc62-opt/include/python3.6m -I/eos/user/h/hschrein/.local/include/python3.6m -IMinuit2-6.14.0-Source/inc -I/cvmfs/sft-nightlies.cern.ch/lcg/nightlies/dev3python3/Mon/Python/3.6.5/x86_64-slc6-gcc62-opt/include/python3.6m -c Minuit2-6.14.0-Source/src/Numerical2PGradientCalculator.cxx -o build/temp.linux-x86_64-3.6/Minuit2-6.14.0-Source/src/Numerical2PGradientCalculator.o -DVERSION_INFO=\"6.14.0\" -std=c++14 -fvisibility=hidden\n",
      "\u001b[01m\u001b[Kcc1plus:\u001b[m\u001b[K \u001b[01;35m\u001b[Kwarning: \u001b[m\u001b[Kcommand line option ‘\u001b[01m\u001b[K-Wstrict-prototypes\u001b[m\u001b[K’ is valid for C/ObjC but not for C++\n",
      "/cvmfs/sft-nightlies.cern.ch/lcg/contrib/gcc/6.2binutils/x86_64-slc6/bin/gcc -Wno-unused-result -Wsign-compare -DNDEBUG -g -fwrapv -O3 -Wall -Wstrict-prototypes -fPIC -DWARNINGMSG -DMATH_NO_PLUGIN_MANAGER -DROOT_Math_VecTypes -I/cvmfs/sft-nightlies.cern.ch/lcg/nightlies/dev3python3/Mon/Python/3.6.5/x86_64-slc6-gcc62-opt/include/python3.6m -I/eos/user/h/hschrein/.local/include/python3.6m -IMinuit2-6.14.0-Source/inc -I/cvmfs/sft-nightlies.cern.ch/lcg/nightlies/dev3python3/Mon/Python/3.6.5/x86_64-slc6-gcc62-opt/include/python3.6m -c Minuit2-6.14.0-Source/src/FumiliBuilder.cxx -o build/temp.linux-x86_64-3.6/Minuit2-6.14.0-Source/src/FumiliBuilder.o -DVERSION_INFO=\"6.14.0\" -std=c++14 -fvisibility=hidden\n",
      "\u001b[01m\u001b[Kcc1plus:\u001b[m\u001b[K \u001b[01;35m\u001b[Kwarning: \u001b[m\u001b[Kcommand line option ‘\u001b[01m\u001b[K-Wstrict-prototypes\u001b[m\u001b[K’ is valid for C/ObjC but not for C++\n",
      "/cvmfs/sft-nightlies.cern.ch/lcg/contrib/gcc/6.2binutils/x86_64-slc6/bin/gcc -Wno-unused-result -Wsign-compare -DNDEBUG -g -fwrapv -O3 -Wall -Wstrict-prototypes -fPIC -DWARNINGMSG -DMATH_NO_PLUGIN_MANAGER -DROOT_Math_VecTypes -I/cvmfs/sft-nightlies.cern.ch/lcg/nightlies/dev3python3/Mon/Python/3.6.5/x86_64-slc6-gcc62-opt/include/python3.6m -I/eos/user/h/hschrein/.local/include/python3.6m -IMinuit2-6.14.0-Source/inc -I/cvmfs/sft-nightlies.cern.ch/lcg/nightlies/dev3python3/Mon/Python/3.6.5/x86_64-slc6-gcc62-opt/include/python3.6m -c Minuit2-6.14.0-Source/src/mnvert.cxx -o build/temp.linux-x86_64-3.6/Minuit2-6.14.0-Source/src/mnvert.o -DVERSION_INFO=\"6.14.0\" -std=c++14 -fvisibility=hidden\n",
      "\u001b[01m\u001b[Kcc1plus:\u001b[m\u001b[K \u001b[01;35m\u001b[Kwarning: \u001b[m\u001b[Kcommand line option ‘\u001b[01m\u001b[K-Wstrict-prototypes\u001b[m\u001b[K’ is valid for C/ObjC but not for C++\n",
      "/cvmfs/sft-nightlies.cern.ch/lcg/contrib/gcc/6.2binutils/x86_64-slc6/bin/gcc -Wno-unused-result -Wsign-compare -DNDEBUG -g -fwrapv -O3 -Wall -Wstrict-prototypes -fPIC -DWARNINGMSG -DMATH_NO_PLUGIN_MANAGER -DROOT_Math_VecTypes -I/cvmfs/sft-nightlies.cern.ch/lcg/nightlies/dev3python3/Mon/Python/3.6.5/x86_64-slc6-gcc62-opt/include/python3.6m -I/eos/user/h/hschrein/.local/include/python3.6m -IMinuit2-6.14.0-Source/inc -I/cvmfs/sft-nightlies.cern.ch/lcg/nightlies/dev3python3/Mon/Python/3.6.5/x86_64-slc6-gcc62-opt/include/python3.6m -c Minuit2-6.14.0-Source/src/MnContours.cxx -o build/temp.linux-x86_64-3.6/Minuit2-6.14.0-Source/src/MnContours.o -DVERSION_INFO=\"6.14.0\" -std=c++14 -fvisibility=hidden\n",
      "\u001b[01m\u001b[Kcc1plus:\u001b[m\u001b[K \u001b[01;35m\u001b[Kwarning: \u001b[m\u001b[Kcommand line option ‘\u001b[01m\u001b[K-Wstrict-prototypes\u001b[m\u001b[K’ is valid for C/ObjC but not for C++\n",
      "/cvmfs/sft-nightlies.cern.ch/lcg/contrib/gcc/6.2binutils/x86_64-slc6/bin/gcc -Wno-unused-result -Wsign-compare -DNDEBUG -g -fwrapv -O3 -Wall -Wstrict-prototypes -fPIC -DWARNINGMSG -DMATH_NO_PLUGIN_MANAGER -DROOT_Math_VecTypes -I/cvmfs/sft-nightlies.cern.ch/lcg/nightlies/dev3python3/Mon/Python/3.6.5/x86_64-slc6-gcc62-opt/include/python3.6m -I/eos/user/h/hschrein/.local/include/python3.6m -IMinuit2-6.14.0-Source/inc -I/cvmfs/sft-nightlies.cern.ch/lcg/nightlies/dev3python3/Mon/Python/3.6.5/x86_64-slc6-gcc62-opt/include/python3.6m -c Minuit2-6.14.0-Source/src/SimplexParameters.cxx -o build/temp.linux-x86_64-3.6/Minuit2-6.14.0-Source/src/SimplexParameters.o -DVERSION_INFO=\"6.14.0\" -std=c++14 -fvisibility=hidden\n",
      "\u001b[01m\u001b[Kcc1plus:\u001b[m\u001b[K \u001b[01;35m\u001b[Kwarning: \u001b[m\u001b[Kcommand line option ‘\u001b[01m\u001b[K-Wstrict-prototypes\u001b[m\u001b[K’ is valid for C/ObjC but not for C++\n",
      "/cvmfs/sft-nightlies.cern.ch/lcg/contrib/gcc/6.2binutils/x86_64-slc6/bin/gcc -Wno-unused-result -Wsign-compare -DNDEBUG -g -fwrapv -O3 -Wall -Wstrict-prototypes -fPIC -DWARNINGMSG -DMATH_NO_PLUGIN_MANAGER -DROOT_Math_VecTypes -I/cvmfs/sft-nightlies.cern.ch/lcg/nightlies/dev3python3/Mon/Python/3.6.5/x86_64-slc6-gcc62-opt/include/python3.6m -I/eos/user/h/hschrein/.local/include/python3.6m -IMinuit2-6.14.0-Source/inc -I/cvmfs/sft-nightlies.cern.ch/lcg/nightlies/dev3python3/Mon/Python/3.6.5/x86_64-slc6-gcc62-opt/include/python3.6m -c Minuit2-6.14.0-Source/src/InitialGradientCalculator.cxx -o build/temp.linux-x86_64-3.6/Minuit2-6.14.0-Source/src/InitialGradientCalculator.o -DVERSION_INFO=\"6.14.0\" -std=c++14 -fvisibility=hidden\n",
      "\u001b[01m\u001b[Kcc1plus:\u001b[m\u001b[K \u001b[01;35m\u001b[Kwarning: \u001b[m\u001b[Kcommand line option ‘\u001b[01m\u001b[K-Wstrict-prototypes\u001b[m\u001b[K’ is valid for C/ObjC but not for C++\n",
      "/cvmfs/sft-nightlies.cern.ch/lcg/contrib/gcc/6.2binutils/x86_64-slc6/bin/gcc -Wno-unused-result -Wsign-compare -DNDEBUG -g -fwrapv -O3 -Wall -Wstrict-prototypes -fPIC -DWARNINGMSG -DMATH_NO_PLUGIN_MANAGER -DROOT_Math_VecTypes -I/cvmfs/sft-nightlies.cern.ch/lcg/nightlies/dev3python3/Mon/Python/3.6.5/x86_64-slc6-gcc62-opt/include/python3.6m -I/eos/user/h/hschrein/.local/include/python3.6m -IMinuit2-6.14.0-Source/inc -I/cvmfs/sft-nightlies.cern.ch/lcg/nightlies/dev3python3/Mon/Python/3.6.5/x86_64-slc6-gcc62-opt/include/python3.6m -c Minuit2-6.14.0-Source/src/MnParameterScan.cxx -o build/temp.linux-x86_64-3.6/Minuit2-6.14.0-Source/src/MnParameterScan.o -DVERSION_INFO=\"6.14.0\" -std=c++14 -fvisibility=hidden\n",
      "\u001b[01m\u001b[Kcc1plus:\u001b[m\u001b[K \u001b[01;35m\u001b[Kwarning: \u001b[m\u001b[Kcommand line option ‘\u001b[01m\u001b[K-Wstrict-prototypes\u001b[m\u001b[K’ is valid for C/ObjC but not for C++\n",
      "/cvmfs/sft-nightlies.cern.ch/lcg/contrib/gcc/6.2binutils/x86_64-slc6/bin/gcc -Wno-unused-result -Wsign-compare -DNDEBUG -g -fwrapv -O3 -Wall -Wstrict-prototypes -fPIC -DWARNINGMSG -DMATH_NO_PLUGIN_MANAGER -DROOT_Math_VecTypes -I/cvmfs/sft-nightlies.cern.ch/lcg/nightlies/dev3python3/Mon/Python/3.6.5/x86_64-slc6-gcc62-opt/include/python3.6m -I/eos/user/h/hschrein/.local/include/python3.6m -IMinuit2-6.14.0-Source/inc -I/cvmfs/sft-nightlies.cern.ch/lcg/nightlies/dev3python3/Mon/Python/3.6.5/x86_64-slc6-gcc62-opt/include/python3.6m -c Minuit2-6.14.0-Source/src/MnEigen.cxx -o build/temp.linux-x86_64-3.6/Minuit2-6.14.0-Source/src/MnEigen.o -DVERSION_INFO=\"6.14.0\" -std=c++14 -fvisibility=hidden\n"
     ]
    },
    {
     "name": "stdout",
     "output_type": "stream",
     "text": [
      "\u001b[01m\u001b[Kcc1plus:\u001b[m\u001b[K \u001b[01;35m\u001b[Kwarning: \u001b[m\u001b[Kcommand line option ‘\u001b[01m\u001b[K-Wstrict-prototypes\u001b[m\u001b[K’ is valid for C/ObjC but not for C++\n",
      "/cvmfs/sft-nightlies.cern.ch/lcg/contrib/gcc/6.2binutils/x86_64-slc6/bin/gcc -Wno-unused-result -Wsign-compare -DNDEBUG -g -fwrapv -O3 -Wall -Wstrict-prototypes -fPIC -DWARNINGMSG -DMATH_NO_PLUGIN_MANAGER -DROOT_Math_VecTypes -I/cvmfs/sft-nightlies.cern.ch/lcg/nightlies/dev3python3/Mon/Python/3.6.5/x86_64-slc6-gcc62-opt/include/python3.6m -I/eos/user/h/hschrein/.local/include/python3.6m -IMinuit2-6.14.0-Source/inc -I/cvmfs/sft-nightlies.cern.ch/lcg/nightlies/dev3python3/Mon/Python/3.6.5/x86_64-slc6-gcc62-opt/include/python3.6m -c Minuit2-6.14.0-Source/src/NegativeG2LineSearch.cxx -o build/temp.linux-x86_64-3.6/Minuit2-6.14.0-Source/src/NegativeG2LineSearch.o -DVERSION_INFO=\"6.14.0\" -std=c++14 -fvisibility=hidden\n",
      "\u001b[01m\u001b[Kcc1plus:\u001b[m\u001b[K \u001b[01;35m\u001b[Kwarning: \u001b[m\u001b[Kcommand line option ‘\u001b[01m\u001b[K-Wstrict-prototypes\u001b[m\u001b[K’ is valid for C/ObjC but not for C++\n",
      "/cvmfs/sft-nightlies.cern.ch/lcg/contrib/gcc/6.2binutils/x86_64-slc6/bin/gcc -Wno-unused-result -Wsign-compare -DNDEBUG -g -fwrapv -O3 -Wall -Wstrict-prototypes -fPIC -DWARNINGMSG -DMATH_NO_PLUGIN_MANAGER -DROOT_Math_VecTypes -I/cvmfs/sft-nightlies.cern.ch/lcg/nightlies/dev3python3/Mon/Python/3.6.5/x86_64-slc6-gcc62-opt/include/python3.6m -I/eos/user/h/hschrein/.local/include/python3.6m -IMinuit2-6.14.0-Source/inc -I/cvmfs/sft-nightlies.cern.ch/lcg/nightlies/dev3python3/Mon/Python/3.6.5/x86_64-slc6-gcc62-opt/include/python3.6m -c Minuit2-6.14.0-Source/src/MnPlot.cxx -o build/temp.linux-x86_64-3.6/Minuit2-6.14.0-Source/src/MnPlot.o -DVERSION_INFO=\"6.14.0\" -std=c++14 -fvisibility=hidden\n",
      "\u001b[01m\u001b[Kcc1plus:\u001b[m\u001b[K \u001b[01;35m\u001b[Kwarning: \u001b[m\u001b[Kcommand line option ‘\u001b[01m\u001b[K-Wstrict-prototypes\u001b[m\u001b[K’ is valid for C/ObjC but not for C++\n",
      "/cvmfs/sft-nightlies.cern.ch/lcg/contrib/gcc/6.2binutils/x86_64-slc6/bin/gcc -Wno-unused-result -Wsign-compare -DNDEBUG -g -fwrapv -O3 -Wall -Wstrict-prototypes -fPIC -DWARNINGMSG -DMATH_NO_PLUGIN_MANAGER -DROOT_Math_VecTypes -I/cvmfs/sft-nightlies.cern.ch/lcg/nightlies/dev3python3/Mon/Python/3.6.5/x86_64-slc6-gcc62-opt/include/python3.6m -I/eos/user/h/hschrein/.local/include/python3.6m -IMinuit2-6.14.0-Source/inc -I/cvmfs/sft-nightlies.cern.ch/lcg/nightlies/dev3python3/Mon/Python/3.6.5/x86_64-slc6-gcc62-opt/include/python3.6m -c Minuit2-6.14.0-Source/src/MnScan.cxx -o build/temp.linux-x86_64-3.6/Minuit2-6.14.0-Source/src/MnScan.o -DVERSION_INFO=\"6.14.0\" -std=c++14 -fvisibility=hidden\n",
      "\u001b[01m\u001b[Kcc1plus:\u001b[m\u001b[K \u001b[01;35m\u001b[Kwarning: \u001b[m\u001b[Kcommand line option ‘\u001b[01m\u001b[K-Wstrict-prototypes\u001b[m\u001b[K’ is valid for C/ObjC but not for C++\n",
      "/cvmfs/sft-nightlies.cern.ch/lcg/contrib/gcc/6.2binutils/x86_64-slc6/bin/gcc -Wno-unused-result -Wsign-compare -DNDEBUG -g -fwrapv -O3 -Wall -Wstrict-prototypes -fPIC -DWARNINGMSG -DMATH_NO_PLUGIN_MANAGER -DROOT_Math_VecTypes -I/cvmfs/sft-nightlies.cern.ch/lcg/nightlies/dev3python3/Mon/Python/3.6.5/x86_64-slc6-gcc62-opt/include/python3.6m -I/eos/user/h/hschrein/.local/include/python3.6m -IMinuit2-6.14.0-Source/inc -I/cvmfs/sft-nightlies.cern.ch/lcg/nightlies/dev3python3/Mon/Python/3.6.5/x86_64-slc6-gcc62-opt/include/python3.6m -c Minuit2-6.14.0-Source/src/mndasum.cxx -o build/temp.linux-x86_64-3.6/Minuit2-6.14.0-Source/src/mndasum.o -DVERSION_INFO=\"6.14.0\" -std=c++14 -fvisibility=hidden\n",
      "\u001b[01m\u001b[Kcc1plus:\u001b[m\u001b[K \u001b[01;35m\u001b[Kwarning: \u001b[m\u001b[Kcommand line option ‘\u001b[01m\u001b[K-Wstrict-prototypes\u001b[m\u001b[K’ is valid for C/ObjC but not for C++\n",
      "/cvmfs/sft-nightlies.cern.ch/lcg/contrib/gcc/6.2binutils/x86_64-slc6/bin/gcc -Wno-unused-result -Wsign-compare -DNDEBUG -g -fwrapv -O3 -Wall -Wstrict-prototypes -fPIC -DWARNINGMSG -DMATH_NO_PLUGIN_MANAGER -DROOT_Math_VecTypes -I/cvmfs/sft-nightlies.cern.ch/lcg/nightlies/dev3python3/Mon/Python/3.6.5/x86_64-slc6-gcc62-opt/include/python3.6m -I/eos/user/h/hschrein/.local/include/python3.6m -IMinuit2-6.14.0-Source/inc -I/cvmfs/sft-nightlies.cern.ch/lcg/nightlies/dev3python3/Mon/Python/3.6.5/x86_64-slc6-gcc62-opt/include/python3.6m -c Minuit2-6.14.0-Source/src/FumiliMinimizer.cxx -o build/temp.linux-x86_64-3.6/Minuit2-6.14.0-Source/src/FumiliMinimizer.o -DVERSION_INFO=\"6.14.0\" -std=c++14 -fvisibility=hidden\n",
      "\u001b[01m\u001b[Kcc1plus:\u001b[m\u001b[K \u001b[01;35m\u001b[Kwarning: \u001b[m\u001b[Kcommand line option ‘\u001b[01m\u001b[K-Wstrict-prototypes\u001b[m\u001b[K’ is valid for C/ObjC but not for C++\n",
      "/cvmfs/sft-nightlies.cern.ch/lcg/contrib/gcc/6.2binutils/x86_64-slc6/bin/gcc -Wno-unused-result -Wsign-compare -DNDEBUG -g -fwrapv -O3 -Wall -Wstrict-prototypes -fPIC -DWARNINGMSG -DMATH_NO_PLUGIN_MANAGER -DROOT_Math_VecTypes -I/cvmfs/sft-nightlies.cern.ch/lcg/nightlies/dev3python3/Mon/Python/3.6.5/x86_64-slc6-gcc62-opt/include/python3.6m -I/eos/user/h/hschrein/.local/include/python3.6m -IMinuit2-6.14.0-Source/inc -I/cvmfs/sft-nightlies.cern.ch/lcg/nightlies/dev3python3/Mon/Python/3.6.5/x86_64-slc6-gcc62-opt/include/python3.6m -c Minuit2-6.14.0-Source/src/MnPrint.cxx -o build/temp.linux-x86_64-3.6/Minuit2-6.14.0-Source/src/MnPrint.o -DVERSION_INFO=\"6.14.0\" -std=c++14 -fvisibility=hidden\n",
      "\u001b[01m\u001b[Kcc1plus:\u001b[m\u001b[K \u001b[01;35m\u001b[Kwarning: \u001b[m\u001b[Kcommand line option ‘\u001b[01m\u001b[K-Wstrict-prototypes\u001b[m\u001b[K’ is valid for C/ObjC but not for C++\n",
      "/cvmfs/sft-nightlies.cern.ch/lcg/contrib/gcc/6.2binutils/x86_64-slc6/bin/gcc -Wno-unused-result -Wsign-compare -DNDEBUG -g -fwrapv -O3 -Wall -Wstrict-prototypes -fPIC -DWARNINGMSG -DMATH_NO_PLUGIN_MANAGER -DROOT_Math_VecTypes -I/cvmfs/sft-nightlies.cern.ch/lcg/nightlies/dev3python3/Mon/Python/3.6.5/x86_64-slc6-gcc62-opt/include/python3.6m -I/eos/user/h/hschrein/.local/include/python3.6m -IMinuit2-6.14.0-Source/inc -I/cvmfs/sft-nightlies.cern.ch/lcg/nightlies/dev3python3/Mon/Python/3.6.5/x86_64-slc6-gcc62-opt/include/python3.6m -c Minuit2-6.14.0-Source/src/ParametricFunction.cxx -o build/temp.linux-x86_64-3.6/Minuit2-6.14.0-Source/src/ParametricFunction.o -DVERSION_INFO=\"6.14.0\" -std=c++14 -fvisibility=hidden\n",
      "\u001b[01m\u001b[Kcc1plus:\u001b[m\u001b[K \u001b[01;35m\u001b[Kwarning: \u001b[m\u001b[Kcommand line option ‘\u001b[01m\u001b[K-Wstrict-prototypes\u001b[m\u001b[K’ is valid for C/ObjC but not for C++\n",
      "/cvmfs/sft-nightlies.cern.ch/lcg/contrib/gcc/6.2binutils/x86_64-slc6/bin/gcc -Wno-unused-result -Wsign-compare -DNDEBUG -g -fwrapv -O3 -Wall -Wstrict-prototypes -fPIC -DWARNINGMSG -DMATH_NO_PLUGIN_MANAGER -DROOT_Math_VecTypes -I/cvmfs/sft-nightlies.cern.ch/lcg/nightlies/dev3python3/Mon/Python/3.6.5/x86_64-slc6-gcc62-opt/include/python3.6m -I/eos/user/h/hschrein/.local/include/python3.6m -IMinuit2-6.14.0-Source/inc -I/cvmfs/sft-nightlies.cern.ch/lcg/nightlies/dev3python3/Mon/Python/3.6.5/x86_64-slc6-gcc62-opt/include/python3.6m -c Minuit2-6.14.0-Source/src/MnApplication.cxx -o build/temp.linux-x86_64-3.6/Minuit2-6.14.0-Source/src/MnApplication.o -DVERSION_INFO=\"6.14.0\" -std=c++14 -fvisibility=hidden\n",
      "\u001b[01m\u001b[Kcc1plus:\u001b[m\u001b[K \u001b[01;35m\u001b[Kwarning: \u001b[m\u001b[Kcommand line option ‘\u001b[01m\u001b[K-Wstrict-prototypes\u001b[m\u001b[K’ is valid for C/ObjC but not for C++\n",
      "/cvmfs/sft-nightlies.cern.ch/lcg/contrib/gcc/6.2binutils/x86_64-slc6/bin/gcc -Wno-unused-result -Wsign-compare -DNDEBUG -g -fwrapv -O3 -Wall -Wstrict-prototypes -fPIC -DWARNINGMSG -DMATH_NO_PLUGIN_MANAGER -DROOT_Math_VecTypes -I/cvmfs/sft-nightlies.cern.ch/lcg/nightlies/dev3python3/Mon/Python/3.6.5/x86_64-slc6-gcc62-opt/include/python3.6m -I/eos/user/h/hschrein/.local/include/python3.6m -IMinuit2-6.14.0-Source/inc -I/cvmfs/sft-nightlies.cern.ch/lcg/nightlies/dev3python3/Mon/Python/3.6.5/x86_64-slc6-gcc62-opt/include/python3.6m -c Minuit2-6.14.0-Source/src/Minuit2Minimizer.cxx -o build/temp.linux-x86_64-3.6/Minuit2-6.14.0-Source/src/Minuit2Minimizer.o -DVERSION_INFO=\"6.14.0\" -std=c++14 -fvisibility=hidden\n",
      "\u001b[01m\u001b[Kcc1plus:\u001b[m\u001b[K \u001b[01;35m\u001b[Kwarning: \u001b[m\u001b[Kcommand line option ‘\u001b[01m\u001b[K-Wstrict-prototypes\u001b[m\u001b[K’ is valid for C/ObjC but not for C++\n",
      "/cvmfs/sft-nightlies.cern.ch/lcg/contrib/gcc/6.2binutils/x86_64-slc6/bin/gcc -Wno-unused-result -Wsign-compare -DNDEBUG -g -fwrapv -O3 -Wall -Wstrict-prototypes -fPIC -DWARNINGMSG -DMATH_NO_PLUGIN_MANAGER -DROOT_Math_VecTypes -I/cvmfs/sft-nightlies.cern.ch/lcg/nightlies/dev3python3/Mon/Python/3.6.5/x86_64-slc6-gcc62-opt/include/python3.6m -I/eos/user/h/hschrein/.local/include/python3.6m -IMinuit2-6.14.0-Source/inc -I/cvmfs/sft-nightlies.cern.ch/lcg/nightlies/dev3python3/Mon/Python/3.6.5/x86_64-slc6-gcc62-opt/include/python3.6m -c Minuit2-6.14.0-Source/src/MnFunctionCross.cxx -o build/temp.linux-x86_64-3.6/Minuit2-6.14.0-Source/src/MnFunctionCross.o -DVERSION_INFO=\"6.14.0\" -std=c++14 -fvisibility=hidden\n"
     ]
    },
    {
     "name": "stdout",
     "output_type": "stream",
     "text": [
      "\u001b[01m\u001b[Kcc1plus:\u001b[m\u001b[K \u001b[01;35m\u001b[Kwarning: \u001b[m\u001b[Kcommand line option ‘\u001b[01m\u001b[K-Wstrict-prototypes\u001b[m\u001b[K’ is valid for C/ObjC but not for C++\n",
      "/cvmfs/sft-nightlies.cern.ch/lcg/contrib/gcc/6.2binutils/x86_64-slc6/bin/gcc -Wno-unused-result -Wsign-compare -DNDEBUG -g -fwrapv -O3 -Wall -Wstrict-prototypes -fPIC -DWARNINGMSG -DMATH_NO_PLUGIN_MANAGER -DROOT_Math_VecTypes -I/cvmfs/sft-nightlies.cern.ch/lcg/nightlies/dev3python3/Mon/Python/3.6.5/x86_64-slc6-gcc62-opt/include/python3.6m -I/eos/user/h/hschrein/.local/include/python3.6m -IMinuit2-6.14.0-Source/inc -I/cvmfs/sft-nightlies.cern.ch/lcg/nightlies/dev3python3/Mon/Python/3.6.5/x86_64-slc6-gcc62-opt/include/python3.6m -c Minuit2-6.14.0-Source/src/LaInverse.cxx -o build/temp.linux-x86_64-3.6/Minuit2-6.14.0-Source/src/LaInverse.o -DVERSION_INFO=\"6.14.0\" -std=c++14 -fvisibility=hidden\n",
      "\u001b[01m\u001b[Kcc1plus:\u001b[m\u001b[K \u001b[01;35m\u001b[Kwarning: \u001b[m\u001b[Kcommand line option ‘\u001b[01m\u001b[K-Wstrict-prototypes\u001b[m\u001b[K’ is valid for C/ObjC but not for C++\n",
      "/cvmfs/sft-nightlies.cern.ch/lcg/contrib/gcc/6.2binutils/x86_64-slc6/bin/gcc -Wno-unused-result -Wsign-compare -DNDEBUG -g -fwrapv -O3 -Wall -Wstrict-prototypes -fPIC -DWARNINGMSG -DMATH_NO_PLUGIN_MANAGER -DROOT_Math_VecTypes -I/cvmfs/sft-nightlies.cern.ch/lcg/nightlies/dev3python3/Mon/Python/3.6.5/x86_64-slc6-gcc62-opt/include/python3.6m -I/eos/user/h/hschrein/.local/include/python3.6m -IMinuit2-6.14.0-Source/inc -I/cvmfs/sft-nightlies.cern.ch/lcg/nightlies/dev3python3/Mon/Python/3.6.5/x86_64-slc6-gcc62-opt/include/python3.6m -c Minuit2-6.14.0-Source/src/mnlsame.cxx -o build/temp.linux-x86_64-3.6/Minuit2-6.14.0-Source/src/mnlsame.o -DVERSION_INFO=\"6.14.0\" -std=c++14 -fvisibility=hidden\n",
      "\u001b[01m\u001b[Kcc1plus:\u001b[m\u001b[K \u001b[01;35m\u001b[Kwarning: \u001b[m\u001b[Kcommand line option ‘\u001b[01m\u001b[K-Wstrict-prototypes\u001b[m\u001b[K’ is valid for C/ObjC but not for C++\n",
      "/cvmfs/sft-nightlies.cern.ch/lcg/contrib/gcc/6.2binutils/x86_64-slc6/bin/gcc -Wno-unused-result -Wsign-compare -DNDEBUG -g -fwrapv -O3 -Wall -Wstrict-prototypes -fPIC -DWARNINGMSG -DMATH_NO_PLUGIN_MANAGER -DROOT_Math_VecTypes -I/cvmfs/sft-nightlies.cern.ch/lcg/nightlies/dev3python3/Mon/Python/3.6.5/x86_64-slc6-gcc62-opt/include/python3.6m -I/eos/user/h/hschrein/.local/include/python3.6m -IMinuit2-6.14.0-Source/inc -I/cvmfs/sft-nightlies.cern.ch/lcg/nightlies/dev3python3/Mon/Python/3.6.5/x86_64-slc6-gcc62-opt/include/python3.6m -c Minuit2-6.14.0-Source/src/SqrtLowParameterTransformation.cxx -o build/temp.linux-x86_64-3.6/Minuit2-6.14.0-Source/src/SqrtLowParameterTransformation.o -DVERSION_INFO=\"6.14.0\" -std=c++14 -fvisibility=hidden\n",
      "\u001b[01m\u001b[Kcc1plus:\u001b[m\u001b[K \u001b[01;35m\u001b[Kwarning: \u001b[m\u001b[Kcommand line option ‘\u001b[01m\u001b[K-Wstrict-prototypes\u001b[m\u001b[K’ is valid for C/ObjC but not for C++\n",
      "/cvmfs/sft-nightlies.cern.ch/lcg/contrib/gcc/6.2binutils/x86_64-slc6/bin/gcc -Wno-unused-result -Wsign-compare -DNDEBUG -g -fwrapv -O3 -Wall -Wstrict-prototypes -fPIC -DWARNINGMSG -DMATH_NO_PLUGIN_MANAGER -DROOT_Math_VecTypes -I/cvmfs/sft-nightlies.cern.ch/lcg/nightlies/dev3python3/Mon/Python/3.6.5/x86_64-slc6-gcc62-opt/include/python3.6m -I/eos/user/h/hschrein/.local/include/python3.6m -IMinuit2-6.14.0-Source/inc -I/cvmfs/sft-nightlies.cern.ch/lcg/nightlies/dev3python3/Mon/Python/3.6.5/x86_64-slc6-gcc62-opt/include/python3.6m -c Minuit2-6.14.0-Source/src/MnParabolaFactory.cxx -o build/temp.linux-x86_64-3.6/Minuit2-6.14.0-Source/src/MnParabolaFactory.o -DVERSION_INFO=\"6.14.0\" -std=c++14 -fvisibility=hidden\n",
      "\u001b[01m\u001b[Kcc1plus:\u001b[m\u001b[K \u001b[01;35m\u001b[Kwarning: \u001b[m\u001b[Kcommand line option ‘\u001b[01m\u001b[K-Wstrict-prototypes\u001b[m\u001b[K’ is valid for C/ObjC but not for C++\n",
      "/cvmfs/sft-nightlies.cern.ch/lcg/contrib/gcc/6.2binutils/x86_64-slc6/bin/gcc -Wno-unused-result -Wsign-compare -DNDEBUG -g -fwrapv -O3 -Wall -Wstrict-prototypes -fPIC -DWARNINGMSG -DMATH_NO_PLUGIN_MANAGER -DROOT_Math_VecTypes -I/cvmfs/sft-nightlies.cern.ch/lcg/nightlies/dev3python3/Mon/Python/3.6.5/x86_64-slc6-gcc62-opt/include/python3.6m -I/eos/user/h/hschrein/.local/include/python3.6m -IMinuit2-6.14.0-Source/inc -I/cvmfs/sft-nightlies.cern.ch/lcg/nightlies/dev3python3/Mon/Python/3.6.5/x86_64-slc6-gcc62-opt/include/python3.6m -c Minuit2-6.14.0-Source/src/DavidonErrorUpdator.cxx -o build/temp.linux-x86_64-3.6/Minuit2-6.14.0-Source/src/DavidonErrorUpdator.o -DVERSION_INFO=\"6.14.0\" -std=c++14 -fvisibility=hidden\n",
      "\u001b[01m\u001b[Kcc1plus:\u001b[m\u001b[K \u001b[01;35m\u001b[Kwarning: \u001b[m\u001b[Kcommand line option ‘\u001b[01m\u001b[K-Wstrict-prototypes\u001b[m\u001b[K’ is valid for C/ObjC but not for C++\n",
      "creating build/lib.linux-x86_64-3.6\n",
      "/cvmfs/sft-nightlies.cern.ch/lcg/contrib/gcc/6.2binutils/x86_64-slc6/bin/g++ -pthread -shared -Wl,-rpath,$ORIGIN/../lib build/temp.linux-x86_64-3.6/Minuit2-6.14.0-Source/src/LaSumOfElements.o build/temp.linux-x86_64-3.6/Minuit2-6.14.0-Source/src/LaOuterProduct.o build/temp.linux-x86_64-3.6/Minuit2-6.14.0-Source/src/MnUserTransformation.o build/temp.linux-x86_64-3.6/Minuit2-6.14.0-Source/src/mnteigen.o build/temp.linux-x86_64-3.6/Minuit2-6.14.0-Source/src/math/MinimizerOptions.o build/temp.linux-x86_64-3.6/Minuit2-6.14.0-Source/src/MnFumiliMinimize.o build/temp.linux-x86_64-3.6/Minuit2-6.14.0-Source/src/MnTiny.o build/temp.linux-x86_64-3.6/Minuit2-6.14.0-Source/src/mndaxpy.o build/temp.linux-x86_64-3.6/Minuit2-6.14.0-Source/src/MinimumBuilder.o build/temp.linux-x86_64-3.6/Minuit2-6.14.0-Source/src/ScanBuilder.o build/temp.linux-x86_64-3.6/Minuit2-6.14.0-Source/src/MnUserParameterState.o build/temp.linux-x86_64-3.6/Minuit2-6.14.0-Source/src/SimplexBuilder.o build/temp.linux-x86_64-3.6/Minuit2-6.14.0-Source/src/VariableMetricBuilder.o build/temp.linux-x86_64-3.6/Minuit2-6.14.0-Source/src/MnFcn.o build/temp.linux-x86_64-3.6/Minuit2-6.14.0-Source/src/BasicMinimumError.o build/temp.linux-x86_64-3.6/Minuit2-6.14.0-Source/src/MnHesse.o build/temp.linux-x86_64-3.6/Minuit2-6.14.0-Source/src/mnddot.o build/temp.linux-x86_64-3.6/Minuit2-6.14.0-Source/src/LaInnerProduct.o build/temp.linux-x86_64-3.6/Minuit2-6.14.0-Source/src/SqrtUpParameterTransformation.o build/temp.linux-x86_64-3.6/Minuit2-6.14.0-Source/src/FumiliErrorUpdator.o build/temp.linux-x86_64-3.6/Minuit2-6.14.0-Source/src/MnSeedGenerator.o build/temp.linux-x86_64-3.6/Minuit2-6.14.0-Source/src/MnPosDef.o build/temp.linux-x86_64-3.6/Minuit2-6.14.0-Source/src/MPIProcess.o build/temp.linux-x86_64-3.6/Minuit2-6.14.0-Source/src/mntplot.o build/temp.linux-x86_64-3.6/Minuit2-6.14.0-Source/src/AnalyticalGradientCalculator.o build/temp.linux-x86_64-3.6/Minuit2-6.14.0-Source/src/MnStrategy.o build/temp.linux-x86_64-3.6/Minuit2-6.14.0-Source/src/ModularFunctionMinimizer.o build/temp.linux-x86_64-3.6/Minuit2-6.14.0-Source/src/mndscal.o build/temp.linux-x86_64-3.6/Minuit2-6.14.0-Source/src/mndspmv.o build/temp.linux-x86_64-3.6/Minuit2-6.14.0-Source/src/MnMachinePrecision.o build/temp.linux-x86_64-3.6/Minuit2-6.14.0-Source/src/FumiliStandardMaximumLikelihoodFCN.o build/temp.linux-x86_64-3.6/Minuit2-6.14.0-Source/src/MnUserParameters.o build/temp.linux-x86_64-3.6/Minuit2-6.14.0-Source/src/MnCovarianceSqueeze.o build/temp.linux-x86_64-3.6/Minuit2-6.14.0-Source/src/CombinedMinimumBuilder.o build/temp.linux-x86_64-3.6/Minuit2-6.14.0-Source/src/FumiliStandardChi2FCN.o build/temp.linux-x86_64-3.6/Minuit2-6.14.0-Source/src/HessianGradientCalculator.o build/temp.linux-x86_64-3.6/Minuit2-6.14.0-Source/src/LaEigenValues.o build/temp.linux-x86_64-3.6/Minuit2-6.14.0-Source/src/MnMinos.o build/temp.linux-x86_64-3.6/Minuit2-6.14.0-Source/src/MnTraceObject.o build/temp.linux-x86_64-3.6/Minuit2-6.14.0-Source/src/mnxerbla.o build/temp.linux-x86_64-3.6/Minuit2-6.14.0-Source/src/mnbins.o build/temp.linux-x86_64-3.6/Minuit2-6.14.0-Source/src/BFGSErrorUpdator.o build/temp.linux-x86_64-3.6/Minuit2-6.14.0-Source/src/MnUserFcn.o build/temp.linux-x86_64-3.6/Minuit2-6.14.0-Source/src/math/GenAlgoOptions.o build/temp.linux-x86_64-3.6/Minuit2-6.14.0-Source/src/VariableMetricEDMEstimator.o build/temp.linux-x86_64-3.6/Minuit2-6.14.0-Source/src/SimplexSeedGenerator.o build/temp.linux-x86_64-3.6/Minuit2-6.14.0-Source/src/SinParameterTransformation.o build/temp.linux-x86_64-3.6/Minuit2-6.14.0-Source/src/FumiliGradientCalculator.o build/temp.linux-x86_64-3.6/Minuit2-6.14.0-Source/src/mndspr.o build/temp.linux-x86_64-3.6/Minuit2-6.14.0-Source/src/MnLineSearch.o build/temp.linux-x86_64-3.6/Minuit2-6.14.0-Source/src/MnGlobalCorrelationCoeff.o build/temp.linux-x86_64-3.6/Minuit2-6.14.0-Source/src/LaVtMVSimilarity.o build/temp.linux-x86_64-3.6/Minuit2-6.14.0-Source/src/Numerical2PGradientCalculator.o build/temp.linux-x86_64-3.6/Minuit2-6.14.0-Source/src/FumiliBuilder.o build/temp.linux-x86_64-3.6/Minuit2-6.14.0-Source/src/mnvert.o build/temp.linux-x86_64-3.6/Minuit2-6.14.0-Source/src/MnContours.o build/temp.linux-x86_64-3.6/Minuit2-6.14.0-Source/src/SimplexParameters.o build/temp.linux-x86_64-3.6/Minuit2-6.14.0-Source/src/InitialGradientCalculator.o build/temp.linux-x86_64-3.6/Minuit2-6.14.0-Source/src/MnParameterScan.o build/temp.linux-x86_64-3.6/Minuit2-6.14.0-Source/src/MnEigen.o build/temp.linux-x86_64-3.6/Minuit2-6.14.0-Source/src/NegativeG2LineSearch.o build/temp.linux-x86_64-3.6/Minuit2-6.14.0-Source/src/MnPlot.o build/temp.linux-x86_64-3.6/Minuit2-6.14.0-Source/src/MnScan.o build/temp.linux-x86_64-3.6/Minuit2-6.14.0-Source/src/mndasum.o build/temp.linux-x86_64-3.6/Minuit2-6.14.0-Source/src/FumiliMinimizer.o build/temp.linux-x86_64-3.6/Minuit2-6.14.0-Source/src/MnPrint.o build/temp.linux-x86_64-3.6/Minuit2-6.14.0-Source/src/ParametricFunction.o build/temp.linux-x86_64-3.6/Minuit2-6.14.0-Source/src/MnApplication.o build/temp.linux-x86_64-3.6/Minuit2-6.14.0-Source/src/Minuit2Minimizer.o build/temp.linux-x86_64-3.6/Minuit2-6.14.0-Source/src/MnFunctionCross.o build/temp.linux-x86_64-3.6/Minuit2-6.14.0-Source/src/LaInverse.o build/temp.linux-x86_64-3.6/Minuit2-6.14.0-Source/src/mnlsame.o build/temp.linux-x86_64-3.6/Minuit2-6.14.0-Source/src/SqrtLowParameterTransformation.o build/temp.linux-x86_64-3.6/Minuit2-6.14.0-Source/src/MnParabolaFactory.o build/temp.linux-x86_64-3.6/Minuit2-6.14.0-Source/src/DavidonErrorUpdator.o -L/cvmfs/sft-nightlies.cern.ch/lcg/nightlies/dev3python3/Mon/Python/3.6.5/x86_64-slc6-gcc62-opt/lib -lpython3.6m -o build/lib.linux-x86_64-3.6/minuit2.cpython-36m-x86_64-linux-gnu.so\n"
     ]
    }
   ],
   "source": [
    "!python setup.py build_ext"
   ]
  }
 ],
 "metadata": {
  "celltoolbar": "Slideshow",
  "kernelspec": {
   "display_name": "Python 3",
   "language": "python",
   "name": "python3"
  },
  "language_info": {
   "codemirror_mode": {
    "name": "ipython",
    "version": 3
   },
   "file_extension": ".py",
   "mimetype": "text/x-python",
   "name": "python",
   "nbconvert_exporter": "python",
   "pygments_lexer": "ipython3",
   "version": "3.6.5"
  }
 },
 "nbformat": 4,
 "nbformat_minor": 2
}
