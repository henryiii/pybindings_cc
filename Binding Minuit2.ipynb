{
 "cells": [
  {
   "cell_type": "markdown",
   "metadata": {
    "slideshow": {
     "slide_type": "slide"
    }
   },
   "source": [
    "# Binding detailed example: Miniut2\n",
    "\n",
    "Let's try a non-trivial example: Minuit2 (6.14.0 standalone edition)\n",
    "\n",
    "### Requirements\n",
    "\n",
    "* Minuit2 6.14.0 standalone edition\n",
    "* PyBind11\n",
    "* C++11 compatible compiler\n",
    "\n",
    "### Expectations\n",
    "* Be able to minimize a very simple function and get some parameters"
   ]
  },
  {
   "cell_type": "code",
   "execution_count": null,
   "metadata": {},
   "outputs": [],
   "source": []
  }
 ],
 "metadata": {
  "celltoolbar": "Slideshow",
  "kernelspec": {
   "display_name": "Anaconda Python 3",
   "language": "python",
   "name": "anaconda"
  },
  "language_info": {
   "codemirror_mode": {
    "name": "ipython",
    "version": 3
   },
   "file_extension": ".py",
   "mimetype": "text/x-python",
   "name": "python",
   "nbconvert_exporter": "python",
   "pygments_lexer": "ipython3",
   "version": "3.6.5"
  }
 },
 "nbformat": 4,
 "nbformat_minor": 2
}
