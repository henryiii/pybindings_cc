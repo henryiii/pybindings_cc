{
 "cells": [
  {
   "cell_type": "markdown",
   "metadata": {
    "slideshow": {
     "slide_type": "slide"
    }
   },
   "source": [
    "# Binding detailed example: Miniut2\n",
    "\n",
    "Let's try a non-trivial example: Minuit2 (6.14.0 standalone edition)\n",
    "\n",
    "### Requirements\n",
    "\n",
    "* Minuit2 6.14.0 standalone edition\n",
    "* PyBind11\n",
    "* NumPy\n",
    "* C++11 compatible compiler\n",
    "\n",
    "### Expectations\n",
    "* Be able to minimize a very simple function and get some parameters"
   ]
  },
  {
   "cell_type": "markdown",
   "metadata": {},
   "source": [
    "# Step 1: get source\n",
    "\n",
    "* Download Minuit2 source (provided in `Minuit2-6.14.0-Source`)\n",
    "* Install PyBind11 or add as submodule (assuming install for now)\n",
    "* Setup build of Minuit2 (use provided `setup.py`)\n",
    "    - Simplified assumption: pybind11 already installed\n",
    "    - Uses Python 3 (or install pathlib2 on Python2)\n",
    "    - I left the Windows code in but use at own risk"
   ]
  },
  {
   "cell_type": "markdown",
   "metadata": {},
   "source": [
    "# Step 2: plan interface\n",
    "\n",
    "* You should know what the C++ looks like, and know what you want the Python to look like"
   ]
  },
  {
   "cell_type": "code",
   "execution_count": 79,
   "metadata": {},
   "outputs": [
    {
     "name": "stdout",
     "output_type": "stream",
     "text": [
      "Overwriting simpleminuit.cpp\n"
     ]
    }
   ],
   "source": [
    "%%writefile simpleminuit.cpp\n",
    "\n",
    "#include <Minuit2/FCNBase.h>\n",
    "#include <Minuit2/FunctionMinimum.h>\n",
    "#include <Minuit2/MnPrint.h>\n",
    "#include <Minuit2/MnMigrad.h>\n",
    "\n",
    "using namespace ROOT::Minuit2;\n",
    "\n",
    "class SimpleFCN : public FCNBase {\n",
    "    double Up() const override {return 0.5;}\n",
    "    double operator()(const std::vector<double> &v) const override {\n",
    "        std::cout << \"val = \" << v.at(0) << std::endl;\n",
    "        return v.at(0)*v.at(0);\n",
    "    }\n",
    "};\n",
    "\n",
    "int main() {\n",
    "    SimpleFCN fcn;\n",
    "    MnUserParameters upar;\n",
    "    upar.Add(\"x\", 1., 0.1);\n",
    "    MnMigrad migrad(fcn, upar);\n",
    "    FunctionMinimum min = migrad();\n",
    "    std::cout << min << std::endl;\n",
    "}"
   ]
  },
  {
   "cell_type": "code",
   "execution_count": 80,
   "metadata": {},
   "outputs": [
    {
     "name": "stdout",
     "output_type": "stream",
     "text": [
      "Overwriting CMakeLists.txt\n"
     ]
    }
   ],
   "source": [
    "%%writefile CMakeLists.txt\n",
    "cmake_minimum_required(VERSION 3.11)\n",
    "project(Minuit2SimpleExamle LANGUAGES CXX)\n",
    "\n",
    "add_subdirectory(Minuit2-6.14.0-Source)\n",
    "add_executable(simpleminuit simpleminuit.cpp)\n",
    "target_link_libraries(simpleminuit PRIVATE Minuit2::Minuit2)"
   ]
  },
  {
   "cell_type": "code",
   "execution_count": 81,
   "metadata": {},
   "outputs": [
    {
     "name": "stdout",
     "output_type": "stream",
     "text": [
      "-- Configuring done\n",
      "-- Generating done\n",
      "-- Build files have been written to: /Users/henryiii/git/presentations/physics/pychep\n"
     ]
    }
   ],
   "source": [
    "!cmake ."
   ]
  },
  {
   "cell_type": "code",
   "execution_count": 82,
   "metadata": {},
   "outputs": [
    {
     "name": "stdout",
     "output_type": "stream",
     "text": [
      "[  3%] Built target Math\n",
      "[ 97%] Built target Minuit2\n",
      "\u001b[35m\u001b[1mScanning dependencies of target simpleminuit\u001b[0m\n",
      "[ 98%] \u001b[32mBuilding CXX object CMakeFiles/simpleminuit.dir/simpleminuit.cpp.o\u001b[0m\n",
      "[100%] \u001b[32m\u001b[1mLinking CXX executable simpleminuit\u001b[0m\n",
      "[100%] Built target simpleminuit\n"
     ]
    }
   ],
   "source": [
    "!cmake --build ."
   ]
  },
  {
   "cell_type": "code",
   "execution_count": 83,
   "metadata": {},
   "outputs": [
    {
     "name": "stdout",
     "output_type": "stream",
     "text": [
      "val = 1\r\n",
      "val = 1.001\r\n",
      "val = 0.999\r\n",
      "val = 1.0006\r\n",
      "val = 0.999402\r\n",
      "val = -8.23008e-11\r\n",
      "val = 0.000345267\r\n",
      "val = -0.000345267\r\n",
      "val = -8.23008e-11\r\n",
      "val = 0.000345267\r\n",
      "val = -0.000345267\r\n",
      "val = 6.90533e-05\r\n",
      "val = -6.90535e-05\r\n",
      "\r\n",
      "Minuit did successfully converge.\r\n",
      "# of function calls: 13\r\n",
      "minimum function Value: 6.773427082119e-21\r\n",
      "minimum edm: 6.773427081817e-21\r\n",
      "minimum internal state vector: LAVector parameters:\r\n",
      " -8.230083281546e-11\r\n",
      "\r\n",
      "minimum internal covariance matrix: LASymMatrix parameters:\r\n",
      "              1\r\n",
      "\r\n",
      "\r\n",
      "# ext. ||   Name    ||   type  ||     Value     ||  Error +/- \r\n",
      "\r\n",
      "   0   ||         x ||  free   || -8.230083281546e-11 ||0.7071067811865\r\n",
      "\r\n",
      "\r\n",
      "\r\n",
      "\r\n",
      "\r\n"
     ]
    }
   ],
   "source": [
    "!./simpleminuit"
   ]
  },
  {
   "cell_type": "markdown",
   "metadata": {},
   "source": [
    "## what we need\n",
    "\n",
    "* subclass FCNBase\n",
    "* MnUserParameters (constructor and Add)\n",
    "* MnMigrad (constructor and operator())\n",
    "* FunctionMinimum (cout)\n"
   ]
  },
  {
   "cell_type": "code",
   "execution_count": 33,
   "metadata": {},
   "outputs": [
    {
     "name": "stdout",
     "output_type": "stream",
     "text": [
      "Overwriting setup.py\n"
     ]
    }
   ],
   "source": [
    "%%writefile setup.py\n",
    "\n",
    "from setuptools import setup, Extension\n",
    "from setuptools.command.build_ext import build_ext\n",
    "import sys\n",
    "import setuptools\n",
    "from pathlib import Path # Python 3 or Python 2 backport: pathlib2\n",
    "import pybind11 # Real code should defer this import\n",
    "\n",
    "sources = set(str(p) for p in Path('Minuit2-6.14.0-Source/src').glob('**/*.cxx'))\n",
    "sources.remove('Minuit2-6.14.0-Source/src/TMinuit2TraceObject.cxx')\n",
    "\n",
    "## Add your sources to `sources`\n",
    "sources |= set(str(p) for p in Path('pyminuit2').glob('*.cpp'))\n",
    "\n",
    "ext_modules = [\n",
    "    Extension(\n",
    "        'minuit2',\n",
    "        list(sources),\n",
    "        include_dirs=[\n",
    "            pybind11.get_include(False),\n",
    "            pybind11.get_include(True),\n",
    "            'Minuit2-6.14.0-Source/inc',\n",
    "        ],\n",
    "        language='c++',\n",
    "        define_macros=[('WARNINGMSG', None),\n",
    "                       ('MATH_NO_PLUGIN_MANAGER', None),\n",
    "                       ('ROOT_Math_VecTypes', None)\n",
    "                      ],\n",
    "    ),\n",
    "]\n",
    "\n",
    "class BuildExt(build_ext):\n",
    "    \"\"\"A custom build extension for adding compiler-specific options.\"\"\"\n",
    "    c_opts = {\n",
    "        'msvc': ['/EHsc'],\n",
    "        'unix': [],\n",
    "    }\n",
    "\n",
    "    if sys.platform == 'darwin':\n",
    "        c_opts['unix'] += ['-stdlib=libc++', '-mmacosx-version-min=10.7']\n",
    "\n",
    "    def build_extensions(self):\n",
    "        ct = self.compiler.compiler_type\n",
    "        opts = self.c_opts.get(ct, [])\n",
    "        if ct == 'unix':\n",
    "            opts.append('-DVERSION_INFO=\"%s\"' % self.distribution.get_version())\n",
    "            opts.append('-std=c++14')\n",
    "            opts.append('-fvisibility=hidden')\n",
    "        elif ct == 'msvc':\n",
    "            opts.append('/DVERSION_INFO=\\\\\"%s\\\\\"' % self.distribution.get_version())\n",
    "        for ext in self.extensions:\n",
    "            ext.extra_compile_args = opts\n",
    "        build_ext.build_extensions(self)\n",
    "\n",
    "setup(\n",
    "    name='minuit2',\n",
    "    version='6.14.0',\n",
    "    author='Henry Schriener',\n",
    "    author_email='hschrein@cern.ch',\n",
    "    url='https://github.com/GooFit/Minuit2',\n",
    "    description='A Pybind11 Minuit2 binding',\n",
    "    long_description='',\n",
    "    ext_modules=ext_modules,\n",
    "    install_requires=['pybind11>=2.2', 'numpy>=1.10'],\n",
    "    cmdclass={'build_ext': BuildExt},\n",
    "    zip_safe=False,\n",
    ")"
   ]
  },
  {
   "cell_type": "code",
   "execution_count": 35,
   "metadata": {
    "scrolled": true
   },
   "outputs": [
    {
     "name": "stdout",
     "output_type": "stream",
     "text": [
      "running build_ext\n",
      "building 'minuit2' extension\n",
      "creating build/temp.macosx-10.7-x86_64-3.6\n",
      "creating build/temp.macosx-10.7-x86_64-3.6/Minuit2-6.14.0-Source\n",
      "creating build/temp.macosx-10.7-x86_64-3.6/Minuit2-6.14.0-Source/src\n",
      "creating build/temp.macosx-10.7-x86_64-3.6/Minuit2-6.14.0-Source/src/math\n",
      "gcc -Wno-unused-result -Wsign-compare -Wunreachable-code -DNDEBUG -g -fwrapv -O3 -Wall -Wstrict-prototypes -I/Users/henryiii/anaconda/include -arch x86_64 -I/Users/henryiii/anaconda/include -arch x86_64 -DWARNINGMSG -DMATH_NO_PLUGIN_MANAGER -DROOT_Math_VecTypes -I/Users/henryiii/anaconda/include/python3.6m -I/Users/henryiii/.local/include/python3.6m -IMinuit2-6.14.0-Source/inc -I/Users/henryiii/anaconda/include/python3.6m -c Minuit2-6.14.0-Source/src/MnUserParameters.cxx -o build/temp.macosx-10.7-x86_64-3.6/Minuit2-6.14.0-Source/src/MnUserParameters.o -stdlib=libc++ -mmacosx-version-min=10.7 -DVERSION_INFO=\"6.14.0\" -std=c++14 -fvisibility=hidden\n",
      "gcc -Wno-unused-result -Wsign-compare -Wunreachable-code -DNDEBUG -g -fwrapv -O3 -Wall -Wstrict-prototypes -I/Users/henryiii/anaconda/include -arch x86_64 -I/Users/henryiii/anaconda/include -arch x86_64 -DWARNINGMSG -DMATH_NO_PLUGIN_MANAGER -DROOT_Math_VecTypes -I/Users/henryiii/anaconda/include/python3.6m -I/Users/henryiii/.local/include/python3.6m -IMinuit2-6.14.0-Source/inc -I/Users/henryiii/anaconda/include/python3.6m -c Minuit2-6.14.0-Source/src/MnTiny.cxx -o build/temp.macosx-10.7-x86_64-3.6/Minuit2-6.14.0-Source/src/MnTiny.o -stdlib=libc++ -mmacosx-version-min=10.7 -DVERSION_INFO=\"6.14.0\" -std=c++14 -fvisibility=hidden\n",
      "gcc -Wno-unused-result -Wsign-compare -Wunreachable-code -DNDEBUG -g -fwrapv -O3 -Wall -Wstrict-prototypes -I/Users/henryiii/anaconda/include -arch x86_64 -I/Users/henryiii/anaconda/include -arch x86_64 -DWARNINGMSG -DMATH_NO_PLUGIN_MANAGER -DROOT_Math_VecTypes -I/Users/henryiii/anaconda/include/python3.6m -I/Users/henryiii/.local/include/python3.6m -IMinuit2-6.14.0-Source/inc -I/Users/henryiii/anaconda/include/python3.6m -c Minuit2-6.14.0-Source/src/mnddot.cxx -o build/temp.macosx-10.7-x86_64-3.6/Minuit2-6.14.0-Source/src/mnddot.o -stdlib=libc++ -mmacosx-version-min=10.7 -DVERSION_INFO=\"6.14.0\" -std=c++14 -fvisibility=hidden\n",
      "gcc -Wno-unused-result -Wsign-compare -Wunreachable-code -DNDEBUG -g -fwrapv -O3 -Wall -Wstrict-prototypes -I/Users/henryiii/anaconda/include -arch x86_64 -I/Users/henryiii/anaconda/include -arch x86_64 -DWARNINGMSG -DMATH_NO_PLUGIN_MANAGER -DROOT_Math_VecTypes -I/Users/henryiii/anaconda/include/python3.6m -I/Users/henryiii/.local/include/python3.6m -IMinuit2-6.14.0-Source/inc -I/Users/henryiii/anaconda/include/python3.6m -c Minuit2-6.14.0-Source/src/MnUserTransformation.cxx -o build/temp.macosx-10.7-x86_64-3.6/Minuit2-6.14.0-Source/src/MnUserTransformation.o -stdlib=libc++ -mmacosx-version-min=10.7 -DVERSION_INFO=\"6.14.0\" -std=c++14 -fvisibility=hidden\n",
      "gcc -Wno-unused-result -Wsign-compare -Wunreachable-code -DNDEBUG -g -fwrapv -O3 -Wall -Wstrict-prototypes -I/Users/henryiii/anaconda/include -arch x86_64 -I/Users/henryiii/anaconda/include -arch x86_64 -DWARNINGMSG -DMATH_NO_PLUGIN_MANAGER -DROOT_Math_VecTypes -I/Users/henryiii/anaconda/include/python3.6m -I/Users/henryiii/.local/include/python3.6m -IMinuit2-6.14.0-Source/inc -I/Users/henryiii/anaconda/include/python3.6m -c Minuit2-6.14.0-Source/src/mnxerbla.cxx -o build/temp.macosx-10.7-x86_64-3.6/Minuit2-6.14.0-Source/src/mnxerbla.o -stdlib=libc++ -mmacosx-version-min=10.7 -DVERSION_INFO=\"6.14.0\" -std=c++14 -fvisibility=hidden\n",
      "gcc -Wno-unused-result -Wsign-compare -Wunreachable-code -DNDEBUG -g -fwrapv -O3 -Wall -Wstrict-prototypes -I/Users/henryiii/anaconda/include -arch x86_64 -I/Users/henryiii/anaconda/include -arch x86_64 -DWARNINGMSG -DMATH_NO_PLUGIN_MANAGER -DROOT_Math_VecTypes -I/Users/henryiii/anaconda/include/python3.6m -I/Users/henryiii/.local/include/python3.6m -IMinuit2-6.14.0-Source/inc -I/Users/henryiii/anaconda/include/python3.6m -c Minuit2-6.14.0-Source/src/mndspr.cxx -o build/temp.macosx-10.7-x86_64-3.6/Minuit2-6.14.0-Source/src/mndspr.o -stdlib=libc++ -mmacosx-version-min=10.7 -DVERSION_INFO=\"6.14.0\" -std=c++14 -fvisibility=hidden\n",
      "gcc -Wno-unused-result -Wsign-compare -Wunreachable-code -DNDEBUG -g -fwrapv -O3 -Wall -Wstrict-prototypes -I/Users/henryiii/anaconda/include -arch x86_64 -I/Users/henryiii/anaconda/include -arch x86_64 -DWARNINGMSG -DMATH_NO_PLUGIN_MANAGER -DROOT_Math_VecTypes -I/Users/henryiii/anaconda/include/python3.6m -I/Users/henryiii/.local/include/python3.6m -IMinuit2-6.14.0-Source/inc -I/Users/henryiii/anaconda/include/python3.6m -c Minuit2-6.14.0-Source/src/MnPosDef.cxx -o build/temp.macosx-10.7-x86_64-3.6/Minuit2-6.14.0-Source/src/MnPosDef.o -stdlib=libc++ -mmacosx-version-min=10.7 -DVERSION_INFO=\"6.14.0\" -std=c++14 -fvisibility=hidden\n",
      "gcc -Wno-unused-result -Wsign-compare -Wunreachable-code -DNDEBUG -g -fwrapv -O3 -Wall -Wstrict-prototypes -I/Users/henryiii/anaconda/include -arch x86_64 -I/Users/henryiii/anaconda/include -arch x86_64 -DWARNINGMSG -DMATH_NO_PLUGIN_MANAGER -DROOT_Math_VecTypes -I/Users/henryiii/anaconda/include/python3.6m -I/Users/henryiii/.local/include/python3.6m -IMinuit2-6.14.0-Source/inc -I/Users/henryiii/anaconda/include/python3.6m -c Minuit2-6.14.0-Source/src/MnSeedGenerator.cxx -o build/temp.macosx-10.7-x86_64-3.6/Minuit2-6.14.0-Source/src/MnSeedGenerator.o -stdlib=libc++ -mmacosx-version-min=10.7 -DVERSION_INFO=\"6.14.0\" -std=c++14 -fvisibility=hidden\n",
      "gcc -Wno-unused-result -Wsign-compare -Wunreachable-code -DNDEBUG -g -fwrapv -O3 -Wall -Wstrict-prototypes -I/Users/henryiii/anaconda/include -arch x86_64 -I/Users/henryiii/anaconda/include -arch x86_64 -DWARNINGMSG -DMATH_NO_PLUGIN_MANAGER -DROOT_Math_VecTypes -I/Users/henryiii/anaconda/include/python3.6m -I/Users/henryiii/.local/include/python3.6m -IMinuit2-6.14.0-Source/inc -I/Users/henryiii/anaconda/include/python3.6m -c Minuit2-6.14.0-Source/src/MnScan.cxx -o build/temp.macosx-10.7-x86_64-3.6/Minuit2-6.14.0-Source/src/MnScan.o -stdlib=libc++ -mmacosx-version-min=10.7 -DVERSION_INFO=\"6.14.0\" -std=c++14 -fvisibility=hidden\n",
      "gcc -Wno-unused-result -Wsign-compare -Wunreachable-code -DNDEBUG -g -fwrapv -O3 -Wall -Wstrict-prototypes -I/Users/henryiii/anaconda/include -arch x86_64 -I/Users/henryiii/anaconda/include -arch x86_64 -DWARNINGMSG -DMATH_NO_PLUGIN_MANAGER -DROOT_Math_VecTypes -I/Users/henryiii/anaconda/include/python3.6m -I/Users/henryiii/.local/include/python3.6m -IMinuit2-6.14.0-Source/inc -I/Users/henryiii/anaconda/include/python3.6m -c Minuit2-6.14.0-Source/src/ModularFunctionMinimizer.cxx -o build/temp.macosx-10.7-x86_64-3.6/Minuit2-6.14.0-Source/src/ModularFunctionMinimizer.o -stdlib=libc++ -mmacosx-version-min=10.7 -DVERSION_INFO=\"6.14.0\" -std=c++14 -fvisibility=hidden\n",
      "gcc -Wno-unused-result -Wsign-compare -Wunreachable-code -DNDEBUG -g -fwrapv -O3 -Wall -Wstrict-prototypes -I/Users/henryiii/anaconda/include -arch x86_64 -I/Users/henryiii/anaconda/include -arch x86_64 -DWARNINGMSG -DMATH_NO_PLUGIN_MANAGER -DROOT_Math_VecTypes -I/Users/henryiii/anaconda/include/python3.6m -I/Users/henryiii/.local/include/python3.6m -IMinuit2-6.14.0-Source/inc -I/Users/henryiii/anaconda/include/python3.6m -c Minuit2-6.14.0-Source/src/SqrtUpParameterTransformation.cxx -o build/temp.macosx-10.7-x86_64-3.6/Minuit2-6.14.0-Source/src/SqrtUpParameterTransformation.o -stdlib=libc++ -mmacosx-version-min=10.7 -DVERSION_INFO=\"6.14.0\" -std=c++14 -fvisibility=hidden\n",
      "gcc -Wno-unused-result -Wsign-compare -Wunreachable-code -DNDEBUG -g -fwrapv -O3 -Wall -Wstrict-prototypes -I/Users/henryiii/anaconda/include -arch x86_64 -I/Users/henryiii/anaconda/include -arch x86_64 -DWARNINGMSG -DMATH_NO_PLUGIN_MANAGER -DROOT_Math_VecTypes -I/Users/henryiii/anaconda/include/python3.6m -I/Users/henryiii/.local/include/python3.6m -IMinuit2-6.14.0-Source/inc -I/Users/henryiii/anaconda/include/python3.6m -c Minuit2-6.14.0-Source/src/MnParameterScan.cxx -o build/temp.macosx-10.7-x86_64-3.6/Minuit2-6.14.0-Source/src/MnParameterScan.o -stdlib=libc++ -mmacosx-version-min=10.7 -DVERSION_INFO=\"6.14.0\" -std=c++14 -fvisibility=hidden\n",
      "gcc -Wno-unused-result -Wsign-compare -Wunreachable-code -DNDEBUG -g -fwrapv -O3 -Wall -Wstrict-prototypes -I/Users/henryiii/anaconda/include -arch x86_64 -I/Users/henryiii/anaconda/include -arch x86_64 -DWARNINGMSG -DMATH_NO_PLUGIN_MANAGER -DROOT_Math_VecTypes -I/Users/henryiii/anaconda/include/python3.6m -I/Users/henryiii/.local/include/python3.6m -IMinuit2-6.14.0-Source/inc -I/Users/henryiii/anaconda/include/python3.6m -c Minuit2-6.14.0-Source/src/MnFunctionCross.cxx -o build/temp.macosx-10.7-x86_64-3.6/Minuit2-6.14.0-Source/src/MnFunctionCross.o -stdlib=libc++ -mmacosx-version-min=10.7 -DVERSION_INFO=\"6.14.0\" -std=c++14 -fvisibility=hidden\n"
     ]
    },
    {
     "name": "stdout",
     "output_type": "stream",
     "text": [
      "gcc -Wno-unused-result -Wsign-compare -Wunreachable-code -DNDEBUG -g -fwrapv -O3 -Wall -Wstrict-prototypes -I/Users/henryiii/anaconda/include -arch x86_64 -I/Users/henryiii/anaconda/include -arch x86_64 -DWARNINGMSG -DMATH_NO_PLUGIN_MANAGER -DROOT_Math_VecTypes -I/Users/henryiii/anaconda/include/python3.6m -I/Users/henryiii/.local/include/python3.6m -IMinuit2-6.14.0-Source/inc -I/Users/henryiii/anaconda/include/python3.6m -c Minuit2-6.14.0-Source/src/AnalyticalGradientCalculator.cxx -o build/temp.macosx-10.7-x86_64-3.6/Minuit2-6.14.0-Source/src/AnalyticalGradientCalculator.o -stdlib=libc++ -mmacosx-version-min=10.7 -DVERSION_INFO=\"6.14.0\" -std=c++14 -fvisibility=hidden\n",
      "gcc -Wno-unused-result -Wsign-compare -Wunreachable-code -DNDEBUG -g -fwrapv -O3 -Wall -Wstrict-prototypes -I/Users/henryiii/anaconda/include -arch x86_64 -I/Users/henryiii/anaconda/include -arch x86_64 -DWARNINGMSG -DMATH_NO_PLUGIN_MANAGER -DROOT_Math_VecTypes -I/Users/henryiii/anaconda/include/python3.6m -I/Users/henryiii/.local/include/python3.6m -IMinuit2-6.14.0-Source/inc -I/Users/henryiii/anaconda/include/python3.6m -c Minuit2-6.14.0-Source/src/MnHesse.cxx -o build/temp.macosx-10.7-x86_64-3.6/Minuit2-6.14.0-Source/src/MnHesse.o -stdlib=libc++ -mmacosx-version-min=10.7 -DVERSION_INFO=\"6.14.0\" -std=c++14 -fvisibility=hidden\n",
      "gcc -Wno-unused-result -Wsign-compare -Wunreachable-code -DNDEBUG -g -fwrapv -O3 -Wall -Wstrict-prototypes -I/Users/henryiii/anaconda/include -arch x86_64 -I/Users/henryiii/anaconda/include -arch x86_64 -DWARNINGMSG -DMATH_NO_PLUGIN_MANAGER -DROOT_Math_VecTypes -I/Users/henryiii/anaconda/include/python3.6m -I/Users/henryiii/.local/include/python3.6m -IMinuit2-6.14.0-Source/inc -I/Users/henryiii/anaconda/include/python3.6m -c Minuit2-6.14.0-Source/src/MnEigen.cxx -o build/temp.macosx-10.7-x86_64-3.6/Minuit2-6.14.0-Source/src/MnEigen.o -stdlib=libc++ -mmacosx-version-min=10.7 -DVERSION_INFO=\"6.14.0\" -std=c++14 -fvisibility=hidden\n",
      "gcc -Wno-unused-result -Wsign-compare -Wunreachable-code -DNDEBUG -g -fwrapv -O3 -Wall -Wstrict-prototypes -I/Users/henryiii/anaconda/include -arch x86_64 -I/Users/henryiii/anaconda/include -arch x86_64 -DWARNINGMSG -DMATH_NO_PLUGIN_MANAGER -DROOT_Math_VecTypes -I/Users/henryiii/anaconda/include/python3.6m -I/Users/henryiii/.local/include/python3.6m -IMinuit2-6.14.0-Source/inc -I/Users/henryiii/anaconda/include/python3.6m -c Minuit2-6.14.0-Source/src/HessianGradientCalculator.cxx -o build/temp.macosx-10.7-x86_64-3.6/Minuit2-6.14.0-Source/src/HessianGradientCalculator.o -stdlib=libc++ -mmacosx-version-min=10.7 -DVERSION_INFO=\"6.14.0\" -std=c++14 -fvisibility=hidden\n",
      "gcc -Wno-unused-result -Wsign-compare -Wunreachable-code -DNDEBUG -g -fwrapv -O3 -Wall -Wstrict-prototypes -I/Users/henryiii/anaconda/include -arch x86_64 -I/Users/henryiii/anaconda/include -arch x86_64 -DWARNINGMSG -DMATH_NO_PLUGIN_MANAGER -DROOT_Math_VecTypes -I/Users/henryiii/anaconda/include/python3.6m -I/Users/henryiii/.local/include/python3.6m -IMinuit2-6.14.0-Source/inc -I/Users/henryiii/anaconda/include/python3.6m -c Minuit2-6.14.0-Source/src/MnLineSearch.cxx -o build/temp.macosx-10.7-x86_64-3.6/Minuit2-6.14.0-Source/src/MnLineSearch.o -stdlib=libc++ -mmacosx-version-min=10.7 -DVERSION_INFO=\"6.14.0\" -std=c++14 -fvisibility=hidden\n",
      "gcc -Wno-unused-result -Wsign-compare -Wunreachable-code -DNDEBUG -g -fwrapv -O3 -Wall -Wstrict-prototypes -I/Users/henryiii/anaconda/include -arch x86_64 -I/Users/henryiii/anaconda/include -arch x86_64 -DWARNINGMSG -DMATH_NO_PLUGIN_MANAGER -DROOT_Math_VecTypes -I/Users/henryiii/anaconda/include/python3.6m -I/Users/henryiii/.local/include/python3.6m -IMinuit2-6.14.0-Source/inc -I/Users/henryiii/anaconda/include/python3.6m -c Minuit2-6.14.0-Source/src/MnGlobalCorrelationCoeff.cxx -o build/temp.macosx-10.7-x86_64-3.6/Minuit2-6.14.0-Source/src/MnGlobalCorrelationCoeff.o -stdlib=libc++ -mmacosx-version-min=10.7 -DVERSION_INFO=\"6.14.0\" -std=c++14 -fvisibility=hidden\n",
      "gcc -Wno-unused-result -Wsign-compare -Wunreachable-code -DNDEBUG -g -fwrapv -O3 -Wall -Wstrict-prototypes -I/Users/henryiii/anaconda/include -arch x86_64 -I/Users/henryiii/anaconda/include -arch x86_64 -DWARNINGMSG -DMATH_NO_PLUGIN_MANAGER -DROOT_Math_VecTypes -I/Users/henryiii/anaconda/include/python3.6m -I/Users/henryiii/.local/include/python3.6m -IMinuit2-6.14.0-Source/inc -I/Users/henryiii/anaconda/include/python3.6m -c Minuit2-6.14.0-Source/src/ScanBuilder.cxx -o build/temp.macosx-10.7-x86_64-3.6/Minuit2-6.14.0-Source/src/ScanBuilder.o -stdlib=libc++ -mmacosx-version-min=10.7 -DVERSION_INFO=\"6.14.0\" -std=c++14 -fvisibility=hidden\n",
      "gcc -Wno-unused-result -Wsign-compare -Wunreachable-code -DNDEBUG -g -fwrapv -O3 -Wall -Wstrict-prototypes -I/Users/henryiii/anaconda/include -arch x86_64 -I/Users/henryiii/anaconda/include -arch x86_64 -DWARNINGMSG -DMATH_NO_PLUGIN_MANAGER -DROOT_Math_VecTypes -I/Users/henryiii/anaconda/include/python3.6m -I/Users/henryiii/.local/include/python3.6m -IMinuit2-6.14.0-Source/inc -I/Users/henryiii/anaconda/include/python3.6m -c Minuit2-6.14.0-Source/src/MnFumiliMinimize.cxx -o build/temp.macosx-10.7-x86_64-3.6/Minuit2-6.14.0-Source/src/MnFumiliMinimize.o -stdlib=libc++ -mmacosx-version-min=10.7 -DVERSION_INFO=\"6.14.0\" -std=c++14 -fvisibility=hidden\n",
      "gcc -Wno-unused-result -Wsign-compare -Wunreachable-code -DNDEBUG -g -fwrapv -O3 -Wall -Wstrict-prototypes -I/Users/henryiii/anaconda/include -arch x86_64 -I/Users/henryiii/anaconda/include -arch x86_64 -DWARNINGMSG -DMATH_NO_PLUGIN_MANAGER -DROOT_Math_VecTypes -I/Users/henryiii/anaconda/include/python3.6m -I/Users/henryiii/.local/include/python3.6m -IMinuit2-6.14.0-Source/inc -I/Users/henryiii/anaconda/include/python3.6m -c Minuit2-6.14.0-Source/src/mnlsame.cxx -o build/temp.macosx-10.7-x86_64-3.6/Minuit2-6.14.0-Source/src/mnlsame.o -stdlib=libc++ -mmacosx-version-min=10.7 -DVERSION_INFO=\"6.14.0\" -std=c++14 -fvisibility=hidden\n",
      "gcc -Wno-unused-result -Wsign-compare -Wunreachable-code -DNDEBUG -g -fwrapv -O3 -Wall -Wstrict-prototypes -I/Users/henryiii/anaconda/include -arch x86_64 -I/Users/henryiii/anaconda/include -arch x86_64 -DWARNINGMSG -DMATH_NO_PLUGIN_MANAGER -DROOT_Math_VecTypes -I/Users/henryiii/anaconda/include/python3.6m -I/Users/henryiii/.local/include/python3.6m -IMinuit2-6.14.0-Source/inc -I/Users/henryiii/anaconda/include/python3.6m -c Minuit2-6.14.0-Source/src/MnUserFcn.cxx -o build/temp.macosx-10.7-x86_64-3.6/Minuit2-6.14.0-Source/src/MnUserFcn.o -stdlib=libc++ -mmacosx-version-min=10.7 -DVERSION_INFO=\"6.14.0\" -std=c++14 -fvisibility=hidden\n",
      "gcc -Wno-unused-result -Wsign-compare -Wunreachable-code -DNDEBUG -g -fwrapv -O3 -Wall -Wstrict-prototypes -I/Users/henryiii/anaconda/include -arch x86_64 -I/Users/henryiii/anaconda/include -arch x86_64 -DWARNINGMSG -DMATH_NO_PLUGIN_MANAGER -DROOT_Math_VecTypes -I/Users/henryiii/anaconda/include/python3.6m -I/Users/henryiii/.local/include/python3.6m -IMinuit2-6.14.0-Source/inc -I/Users/henryiii/anaconda/include/python3.6m -c Minuit2-6.14.0-Source/src/mnbins.cxx -o build/temp.macosx-10.7-x86_64-3.6/Minuit2-6.14.0-Source/src/mnbins.o -stdlib=libc++ -mmacosx-version-min=10.7 -DVERSION_INFO=\"6.14.0\" -std=c++14 -fvisibility=hidden\n",
      "gcc -Wno-unused-result -Wsign-compare -Wunreachable-code -DNDEBUG -g -fwrapv -O3 -Wall -Wstrict-prototypes -I/Users/henryiii/anaconda/include -arch x86_64 -I/Users/henryiii/anaconda/include -arch x86_64 -DWARNINGMSG -DMATH_NO_PLUGIN_MANAGER -DROOT_Math_VecTypes -I/Users/henryiii/anaconda/include/python3.6m -I/Users/henryiii/.local/include/python3.6m -IMinuit2-6.14.0-Source/inc -I/Users/henryiii/anaconda/include/python3.6m -c Minuit2-6.14.0-Source/src/SimplexBuilder.cxx -o build/temp.macosx-10.7-x86_64-3.6/Minuit2-6.14.0-Source/src/SimplexBuilder.o -stdlib=libc++ -mmacosx-version-min=10.7 -DVERSION_INFO=\"6.14.0\" -std=c++14 -fvisibility=hidden\n",
      "gcc -Wno-unused-result -Wsign-compare -Wunreachable-code -DNDEBUG -g -fwrapv -O3 -Wall -Wstrict-prototypes -I/Users/henryiii/anaconda/include -arch x86_64 -I/Users/henryiii/anaconda/include -arch x86_64 -DWARNINGMSG -DMATH_NO_PLUGIN_MANAGER -DROOT_Math_VecTypes -I/Users/henryiii/anaconda/include/python3.6m -I/Users/henryiii/.local/include/python3.6m -IMinuit2-6.14.0-Source/inc -I/Users/henryiii/anaconda/include/python3.6m -c Minuit2-6.14.0-Source/src/MnStrategy.cxx -o build/temp.macosx-10.7-x86_64-3.6/Minuit2-6.14.0-Source/src/MnStrategy.o -stdlib=libc++ -mmacosx-version-min=10.7 -DVERSION_INFO=\"6.14.0\" -std=c++14 -fvisibility=hidden\n"
     ]
    },
    {
     "name": "stdout",
     "output_type": "stream",
     "text": [
      "gcc -Wno-unused-result -Wsign-compare -Wunreachable-code -DNDEBUG -g -fwrapv -O3 -Wall -Wstrict-prototypes -I/Users/henryiii/anaconda/include -arch x86_64 -I/Users/henryiii/anaconda/include -arch x86_64 -DWARNINGMSG -DMATH_NO_PLUGIN_MANAGER -DROOT_Math_VecTypes -I/Users/henryiii/anaconda/include/python3.6m -I/Users/henryiii/.local/include/python3.6m -IMinuit2-6.14.0-Source/inc -I/Users/henryiii/anaconda/include/python3.6m -c Minuit2-6.14.0-Source/src/FumiliBuilder.cxx -o build/temp.macosx-10.7-x86_64-3.6/Minuit2-6.14.0-Source/src/FumiliBuilder.o -stdlib=libc++ -mmacosx-version-min=10.7 -DVERSION_INFO=\"6.14.0\" -std=c++14 -fvisibility=hidden\n",
      "gcc -Wno-unused-result -Wsign-compare -Wunreachable-code -DNDEBUG -g -fwrapv -O3 -Wall -Wstrict-prototypes -I/Users/henryiii/anaconda/include -arch x86_64 -I/Users/henryiii/anaconda/include -arch x86_64 -DWARNINGMSG -DMATH_NO_PLUGIN_MANAGER -DROOT_Math_VecTypes -I/Users/henryiii/anaconda/include/python3.6m -I/Users/henryiii/.local/include/python3.6m -IMinuit2-6.14.0-Source/inc -I/Users/henryiii/anaconda/include/python3.6m -c Minuit2-6.14.0-Source/src/mnteigen.cxx -o build/temp.macosx-10.7-x86_64-3.6/Minuit2-6.14.0-Source/src/mnteigen.o -stdlib=libc++ -mmacosx-version-min=10.7 -DVERSION_INFO=\"6.14.0\" -std=c++14 -fvisibility=hidden\n",
      "gcc -Wno-unused-result -Wsign-compare -Wunreachable-code -DNDEBUG -g -fwrapv -O3 -Wall -Wstrict-prototypes -I/Users/henryiii/anaconda/include -arch x86_64 -I/Users/henryiii/anaconda/include -arch x86_64 -DWARNINGMSG -DMATH_NO_PLUGIN_MANAGER -DROOT_Math_VecTypes -I/Users/henryiii/anaconda/include/python3.6m -I/Users/henryiii/.local/include/python3.6m -IMinuit2-6.14.0-Source/inc -I/Users/henryiii/anaconda/include/python3.6m -c Minuit2-6.14.0-Source/src/LaEigenValues.cxx -o build/temp.macosx-10.7-x86_64-3.6/Minuit2-6.14.0-Source/src/LaEigenValues.o -stdlib=libc++ -mmacosx-version-min=10.7 -DVERSION_INFO=\"6.14.0\" -std=c++14 -fvisibility=hidden\n",
      "gcc -Wno-unused-result -Wsign-compare -Wunreachable-code -DNDEBUG -g -fwrapv -O3 -Wall -Wstrict-prototypes -I/Users/henryiii/anaconda/include -arch x86_64 -I/Users/henryiii/anaconda/include -arch x86_64 -DWARNINGMSG -DMATH_NO_PLUGIN_MANAGER -DROOT_Math_VecTypes -I/Users/henryiii/anaconda/include/python3.6m -I/Users/henryiii/.local/include/python3.6m -IMinuit2-6.14.0-Source/inc -I/Users/henryiii/anaconda/include/python3.6m -c Minuit2-6.14.0-Source/src/SinParameterTransformation.cxx -o build/temp.macosx-10.7-x86_64-3.6/Minuit2-6.14.0-Source/src/SinParameterTransformation.o -stdlib=libc++ -mmacosx-version-min=10.7 -DVERSION_INFO=\"6.14.0\" -std=c++14 -fvisibility=hidden\n",
      "gcc -Wno-unused-result -Wsign-compare -Wunreachable-code -DNDEBUG -g -fwrapv -O3 -Wall -Wstrict-prototypes -I/Users/henryiii/anaconda/include -arch x86_64 -I/Users/henryiii/anaconda/include -arch x86_64 -DWARNINGMSG -DMATH_NO_PLUGIN_MANAGER -DROOT_Math_VecTypes -I/Users/henryiii/anaconda/include/python3.6m -I/Users/henryiii/.local/include/python3.6m -IMinuit2-6.14.0-Source/inc -I/Users/henryiii/anaconda/include/python3.6m -c Minuit2-6.14.0-Source/src/InitialGradientCalculator.cxx -o build/temp.macosx-10.7-x86_64-3.6/Minuit2-6.14.0-Source/src/InitialGradientCalculator.o -stdlib=libc++ -mmacosx-version-min=10.7 -DVERSION_INFO=\"6.14.0\" -std=c++14 -fvisibility=hidden\n",
      "gcc -Wno-unused-result -Wsign-compare -Wunreachable-code -DNDEBUG -g -fwrapv -O3 -Wall -Wstrict-prototypes -I/Users/henryiii/anaconda/include -arch x86_64 -I/Users/henryiii/anaconda/include -arch x86_64 -DWARNINGMSG -DMATH_NO_PLUGIN_MANAGER -DROOT_Math_VecTypes -I/Users/henryiii/anaconda/include/python3.6m -I/Users/henryiii/.local/include/python3.6m -IMinuit2-6.14.0-Source/inc -I/Users/henryiii/anaconda/include/python3.6m -c Minuit2-6.14.0-Source/src/Minuit2Minimizer.cxx -o build/temp.macosx-10.7-x86_64-3.6/Minuit2-6.14.0-Source/src/Minuit2Minimizer.o -stdlib=libc++ -mmacosx-version-min=10.7 -DVERSION_INFO=\"6.14.0\" -std=c++14 -fvisibility=hidden\n",
      "gcc -Wno-unused-result -Wsign-compare -Wunreachable-code -DNDEBUG -g -fwrapv -O3 -Wall -Wstrict-prototypes -I/Users/henryiii/anaconda/include -arch x86_64 -I/Users/henryiii/anaconda/include -arch x86_64 -DWARNINGMSG -DMATH_NO_PLUGIN_MANAGER -DROOT_Math_VecTypes -I/Users/henryiii/anaconda/include/python3.6m -I/Users/henryiii/.local/include/python3.6m -IMinuit2-6.14.0-Source/inc -I/Users/henryiii/anaconda/include/python3.6m -c Minuit2-6.14.0-Source/src/mndaxpy.cxx -o build/temp.macosx-10.7-x86_64-3.6/Minuit2-6.14.0-Source/src/mndaxpy.o -stdlib=libc++ -mmacosx-version-min=10.7 -DVERSION_INFO=\"6.14.0\" -std=c++14 -fvisibility=hidden\n",
      "gcc -Wno-unused-result -Wsign-compare -Wunreachable-code -DNDEBUG -g -fwrapv -O3 -Wall -Wstrict-prototypes -I/Users/henryiii/anaconda/include -arch x86_64 -I/Users/henryiii/anaconda/include -arch x86_64 -DWARNINGMSG -DMATH_NO_PLUGIN_MANAGER -DROOT_Math_VecTypes -I/Users/henryiii/anaconda/include/python3.6m -I/Users/henryiii/.local/include/python3.6m -IMinuit2-6.14.0-Source/inc -I/Users/henryiii/anaconda/include/python3.6m -c Minuit2-6.14.0-Source/src/MnPrint.cxx -o build/temp.macosx-10.7-x86_64-3.6/Minuit2-6.14.0-Source/src/MnPrint.o -stdlib=libc++ -mmacosx-version-min=10.7 -DVERSION_INFO=\"6.14.0\" -std=c++14 -fvisibility=hidden\n",
      "gcc -Wno-unused-result -Wsign-compare -Wunreachable-code -DNDEBUG -g -fwrapv -O3 -Wall -Wstrict-prototypes -I/Users/henryiii/anaconda/include -arch x86_64 -I/Users/henryiii/anaconda/include -arch x86_64 -DWARNINGMSG -DMATH_NO_PLUGIN_MANAGER -DROOT_Math_VecTypes -I/Users/henryiii/anaconda/include/python3.6m -I/Users/henryiii/.local/include/python3.6m -IMinuit2-6.14.0-Source/inc -I/Users/henryiii/anaconda/include/python3.6m -c Minuit2-6.14.0-Source/src/LaSumOfElements.cxx -o build/temp.macosx-10.7-x86_64-3.6/Minuit2-6.14.0-Source/src/LaSumOfElements.o -stdlib=libc++ -mmacosx-version-min=10.7 -DVERSION_INFO=\"6.14.0\" -std=c++14 -fvisibility=hidden\n",
      "gcc -Wno-unused-result -Wsign-compare -Wunreachable-code -DNDEBUG -g -fwrapv -O3 -Wall -Wstrict-prototypes -I/Users/henryiii/anaconda/include -arch x86_64 -I/Users/henryiii/anaconda/include -arch x86_64 -DWARNINGMSG -DMATH_NO_PLUGIN_MANAGER -DROOT_Math_VecTypes -I/Users/henryiii/anaconda/include/python3.6m -I/Users/henryiii/.local/include/python3.6m -IMinuit2-6.14.0-Source/inc -I/Users/henryiii/anaconda/include/python3.6m -c Minuit2-6.14.0-Source/src/LaOuterProduct.cxx -o build/temp.macosx-10.7-x86_64-3.6/Minuit2-6.14.0-Source/src/LaOuterProduct.o -stdlib=libc++ -mmacosx-version-min=10.7 -DVERSION_INFO=\"6.14.0\" -std=c++14 -fvisibility=hidden\n",
      "gcc -Wno-unused-result -Wsign-compare -Wunreachable-code -DNDEBUG -g -fwrapv -O3 -Wall -Wstrict-prototypes -I/Users/henryiii/anaconda/include -arch x86_64 -I/Users/henryiii/anaconda/include -arch x86_64 -DWARNINGMSG -DMATH_NO_PLUGIN_MANAGER -DROOT_Math_VecTypes -I/Users/henryiii/anaconda/include/python3.6m -I/Users/henryiii/.local/include/python3.6m -IMinuit2-6.14.0-Source/inc -I/Users/henryiii/anaconda/include/python3.6m -c Minuit2-6.14.0-Source/src/math/GenAlgoOptions.cxx -o build/temp.macosx-10.7-x86_64-3.6/Minuit2-6.14.0-Source/src/math/GenAlgoOptions.o -stdlib=libc++ -mmacosx-version-min=10.7 -DVERSION_INFO=\"6.14.0\" -std=c++14 -fvisibility=hidden\n",
      "gcc -Wno-unused-result -Wsign-compare -Wunreachable-code -DNDEBUG -g -fwrapv -O3 -Wall -Wstrict-prototypes -I/Users/henryiii/anaconda/include -arch x86_64 -I/Users/henryiii/anaconda/include -arch x86_64 -DWARNINGMSG -DMATH_NO_PLUGIN_MANAGER -DROOT_Math_VecTypes -I/Users/henryiii/anaconda/include/python3.6m -I/Users/henryiii/.local/include/python3.6m -IMinuit2-6.14.0-Source/inc -I/Users/henryiii/anaconda/include/python3.6m -c Minuit2-6.14.0-Source/src/LaInnerProduct.cxx -o build/temp.macosx-10.7-x86_64-3.6/Minuit2-6.14.0-Source/src/LaInnerProduct.o -stdlib=libc++ -mmacosx-version-min=10.7 -DVERSION_INFO=\"6.14.0\" -std=c++14 -fvisibility=hidden\n",
      "gcc -Wno-unused-result -Wsign-compare -Wunreachable-code -DNDEBUG -g -fwrapv -O3 -Wall -Wstrict-prototypes -I/Users/henryiii/anaconda/include -arch x86_64 -I/Users/henryiii/anaconda/include -arch x86_64 -DWARNINGMSG -DMATH_NO_PLUGIN_MANAGER -DROOT_Math_VecTypes -I/Users/henryiii/anaconda/include/python3.6m -I/Users/henryiii/.local/include/python3.6m -IMinuit2-6.14.0-Source/inc -I/Users/henryiii/anaconda/include/python3.6m -c Minuit2-6.14.0-Source/src/LaInverse.cxx -o build/temp.macosx-10.7-x86_64-3.6/Minuit2-6.14.0-Source/src/LaInverse.o -stdlib=libc++ -mmacosx-version-min=10.7 -DVERSION_INFO=\"6.14.0\" -std=c++14 -fvisibility=hidden\n"
     ]
    },
    {
     "name": "stdout",
     "output_type": "stream",
     "text": [
      "gcc -Wno-unused-result -Wsign-compare -Wunreachable-code -DNDEBUG -g -fwrapv -O3 -Wall -Wstrict-prototypes -I/Users/henryiii/anaconda/include -arch x86_64 -I/Users/henryiii/anaconda/include -arch x86_64 -DWARNINGMSG -DMATH_NO_PLUGIN_MANAGER -DROOT_Math_VecTypes -I/Users/henryiii/anaconda/include/python3.6m -I/Users/henryiii/.local/include/python3.6m -IMinuit2-6.14.0-Source/inc -I/Users/henryiii/anaconda/include/python3.6m -c Minuit2-6.14.0-Source/src/FumiliStandardMaximumLikelihoodFCN.cxx -o build/temp.macosx-10.7-x86_64-3.6/Minuit2-6.14.0-Source/src/FumiliStandardMaximumLikelihoodFCN.o -stdlib=libc++ -mmacosx-version-min=10.7 -DVERSION_INFO=\"6.14.0\" -std=c++14 -fvisibility=hidden\n",
      "gcc -Wno-unused-result -Wsign-compare -Wunreachable-code -DNDEBUG -g -fwrapv -O3 -Wall -Wstrict-prototypes -I/Users/henryiii/anaconda/include -arch x86_64 -I/Users/henryiii/anaconda/include -arch x86_64 -DWARNINGMSG -DMATH_NO_PLUGIN_MANAGER -DROOT_Math_VecTypes -I/Users/henryiii/anaconda/include/python3.6m -I/Users/henryiii/.local/include/python3.6m -IMinuit2-6.14.0-Source/inc -I/Users/henryiii/anaconda/include/python3.6m -c Minuit2-6.14.0-Source/src/mndasum.cxx -o build/temp.macosx-10.7-x86_64-3.6/Minuit2-6.14.0-Source/src/mndasum.o -stdlib=libc++ -mmacosx-version-min=10.7 -DVERSION_INFO=\"6.14.0\" -std=c++14 -fvisibility=hidden\n",
      "gcc -Wno-unused-result -Wsign-compare -Wunreachable-code -DNDEBUG -g -fwrapv -O3 -Wall -Wstrict-prototypes -I/Users/henryiii/anaconda/include -arch x86_64 -I/Users/henryiii/anaconda/include -arch x86_64 -DWARNINGMSG -DMATH_NO_PLUGIN_MANAGER -DROOT_Math_VecTypes -I/Users/henryiii/anaconda/include/python3.6m -I/Users/henryiii/.local/include/python3.6m -IMinuit2-6.14.0-Source/inc -I/Users/henryiii/anaconda/include/python3.6m -c Minuit2-6.14.0-Source/src/MnTraceObject.cxx -o build/temp.macosx-10.7-x86_64-3.6/Minuit2-6.14.0-Source/src/MnTraceObject.o -stdlib=libc++ -mmacosx-version-min=10.7 -DVERSION_INFO=\"6.14.0\" -std=c++14 -fvisibility=hidden\n",
      "gcc -Wno-unused-result -Wsign-compare -Wunreachable-code -DNDEBUG -g -fwrapv -O3 -Wall -Wstrict-prototypes -I/Users/henryiii/anaconda/include -arch x86_64 -I/Users/henryiii/anaconda/include -arch x86_64 -DWARNINGMSG -DMATH_NO_PLUGIN_MANAGER -DROOT_Math_VecTypes -I/Users/henryiii/anaconda/include/python3.6m -I/Users/henryiii/.local/include/python3.6m -IMinuit2-6.14.0-Source/inc -I/Users/henryiii/anaconda/include/python3.6m -c Minuit2-6.14.0-Source/src/BFGSErrorUpdator.cxx -o build/temp.macosx-10.7-x86_64-3.6/Minuit2-6.14.0-Source/src/BFGSErrorUpdator.o -stdlib=libc++ -mmacosx-version-min=10.7 -DVERSION_INFO=\"6.14.0\" -std=c++14 -fvisibility=hidden\n",
      "gcc -Wno-unused-result -Wsign-compare -Wunreachable-code -DNDEBUG -g -fwrapv -O3 -Wall -Wstrict-prototypes -I/Users/henryiii/anaconda/include -arch x86_64 -I/Users/henryiii/anaconda/include -arch x86_64 -DWARNINGMSG -DMATH_NO_PLUGIN_MANAGER -DROOT_Math_VecTypes -I/Users/henryiii/anaconda/include/python3.6m -I/Users/henryiii/.local/include/python3.6m -IMinuit2-6.14.0-Source/inc -I/Users/henryiii/anaconda/include/python3.6m -c Minuit2-6.14.0-Source/src/SqrtLowParameterTransformation.cxx -o build/temp.macosx-10.7-x86_64-3.6/Minuit2-6.14.0-Source/src/SqrtLowParameterTransformation.o -stdlib=libc++ -mmacosx-version-min=10.7 -DVERSION_INFO=\"6.14.0\" -std=c++14 -fvisibility=hidden\n",
      "gcc -Wno-unused-result -Wsign-compare -Wunreachable-code -DNDEBUG -g -fwrapv -O3 -Wall -Wstrict-prototypes -I/Users/henryiii/anaconda/include -arch x86_64 -I/Users/henryiii/anaconda/include -arch x86_64 -DWARNINGMSG -DMATH_NO_PLUGIN_MANAGER -DROOT_Math_VecTypes -I/Users/henryiii/anaconda/include/python3.6m -I/Users/henryiii/.local/include/python3.6m -IMinuit2-6.14.0-Source/inc -I/Users/henryiii/anaconda/include/python3.6m -c Minuit2-6.14.0-Source/src/LaVtMVSimilarity.cxx -o build/temp.macosx-10.7-x86_64-3.6/Minuit2-6.14.0-Source/src/LaVtMVSimilarity.o -stdlib=libc++ -mmacosx-version-min=10.7 -DVERSION_INFO=\"6.14.0\" -std=c++14 -fvisibility=hidden\n",
      "gcc -Wno-unused-result -Wsign-compare -Wunreachable-code -DNDEBUG -g -fwrapv -O3 -Wall -Wstrict-prototypes -I/Users/henryiii/anaconda/include -arch x86_64 -I/Users/henryiii/anaconda/include -arch x86_64 -DWARNINGMSG -DMATH_NO_PLUGIN_MANAGER -DROOT_Math_VecTypes -I/Users/henryiii/anaconda/include/python3.6m -I/Users/henryiii/.local/include/python3.6m -IMinuit2-6.14.0-Source/inc -I/Users/henryiii/anaconda/include/python3.6m -c Minuit2-6.14.0-Source/src/ParametricFunction.cxx -o build/temp.macosx-10.7-x86_64-3.6/Minuit2-6.14.0-Source/src/ParametricFunction.o -stdlib=libc++ -mmacosx-version-min=10.7 -DVERSION_INFO=\"6.14.0\" -std=c++14 -fvisibility=hidden\n",
      "gcc -Wno-unused-result -Wsign-compare -Wunreachable-code -DNDEBUG -g -fwrapv -O3 -Wall -Wstrict-prototypes -I/Users/henryiii/anaconda/include -arch x86_64 -I/Users/henryiii/anaconda/include -arch x86_64 -DWARNINGMSG -DMATH_NO_PLUGIN_MANAGER -DROOT_Math_VecTypes -I/Users/henryiii/anaconda/include/python3.6m -I/Users/henryiii/.local/include/python3.6m -IMinuit2-6.14.0-Source/inc -I/Users/henryiii/anaconda/include/python3.6m -c Minuit2-6.14.0-Source/src/VariableMetricEDMEstimator.cxx -o build/temp.macosx-10.7-x86_64-3.6/Minuit2-6.14.0-Source/src/VariableMetricEDMEstimator.o -stdlib=libc++ -mmacosx-version-min=10.7 -DVERSION_INFO=\"6.14.0\" -std=c++14 -fvisibility=hidden\n",
      "gcc -Wno-unused-result -Wsign-compare -Wunreachable-code -DNDEBUG -g -fwrapv -O3 -Wall -Wstrict-prototypes -I/Users/henryiii/anaconda/include -arch x86_64 -I/Users/henryiii/anaconda/include -arch x86_64 -DWARNINGMSG -DMATH_NO_PLUGIN_MANAGER -DROOT_Math_VecTypes -I/Users/henryiii/anaconda/include/python3.6m -I/Users/henryiii/.local/include/python3.6m -IMinuit2-6.14.0-Source/inc -I/Users/henryiii/anaconda/include/python3.6m -c Minuit2-6.14.0-Source/src/math/MinimizerOptions.cxx -o build/temp.macosx-10.7-x86_64-3.6/Minuit2-6.14.0-Source/src/math/MinimizerOptions.o -stdlib=libc++ -mmacosx-version-min=10.7 -DVERSION_INFO=\"6.14.0\" -std=c++14 -fvisibility=hidden\n",
      "gcc -Wno-unused-result -Wsign-compare -Wunreachable-code -DNDEBUG -g -fwrapv -O3 -Wall -Wstrict-prototypes -I/Users/henryiii/anaconda/include -arch x86_64 -I/Users/henryiii/anaconda/include -arch x86_64 -DWARNINGMSG -DMATH_NO_PLUGIN_MANAGER -DROOT_Math_VecTypes -I/Users/henryiii/anaconda/include/python3.6m -I/Users/henryiii/.local/include/python3.6m -IMinuit2-6.14.0-Source/inc -I/Users/henryiii/anaconda/include/python3.6m -c Minuit2-6.14.0-Source/src/SimplexSeedGenerator.cxx -o build/temp.macosx-10.7-x86_64-3.6/Minuit2-6.14.0-Source/src/SimplexSeedGenerator.o -stdlib=libc++ -mmacosx-version-min=10.7 -DVERSION_INFO=\"6.14.0\" -std=c++14 -fvisibility=hidden\n",
      "gcc -Wno-unused-result -Wsign-compare -Wunreachable-code -DNDEBUG -g -fwrapv -O3 -Wall -Wstrict-prototypes -I/Users/henryiii/anaconda/include -arch x86_64 -I/Users/henryiii/anaconda/include -arch x86_64 -DWARNINGMSG -DMATH_NO_PLUGIN_MANAGER -DROOT_Math_VecTypes -I/Users/henryiii/anaconda/include/python3.6m -I/Users/henryiii/.local/include/python3.6m -IMinuit2-6.14.0-Source/inc -I/Users/henryiii/anaconda/include/python3.6m -c Minuit2-6.14.0-Source/src/mndspmv.cxx -o build/temp.macosx-10.7-x86_64-3.6/Minuit2-6.14.0-Source/src/mndspmv.o -stdlib=libc++ -mmacosx-version-min=10.7 -DVERSION_INFO=\"6.14.0\" -std=c++14 -fvisibility=hidden\n",
      "gcc -Wno-unused-result -Wsign-compare -Wunreachable-code -DNDEBUG -g -fwrapv -O3 -Wall -Wstrict-prototypes -I/Users/henryiii/anaconda/include -arch x86_64 -I/Users/henryiii/anaconda/include -arch x86_64 -DWARNINGMSG -DMATH_NO_PLUGIN_MANAGER -DROOT_Math_VecTypes -I/Users/henryiii/anaconda/include/python3.6m -I/Users/henryiii/.local/include/python3.6m -IMinuit2-6.14.0-Source/inc -I/Users/henryiii/anaconda/include/python3.6m -c Minuit2-6.14.0-Source/src/MnMinos.cxx -o build/temp.macosx-10.7-x86_64-3.6/Minuit2-6.14.0-Source/src/MnMinos.o -stdlib=libc++ -mmacosx-version-min=10.7 -DVERSION_INFO=\"6.14.0\" -std=c++14 -fvisibility=hidden\n",
      "gcc -Wno-unused-result -Wsign-compare -Wunreachable-code -DNDEBUG -g -fwrapv -O3 -Wall -Wstrict-prototypes -I/Users/henryiii/anaconda/include -arch x86_64 -I/Users/henryiii/anaconda/include -arch x86_64 -DWARNINGMSG -DMATH_NO_PLUGIN_MANAGER -DROOT_Math_VecTypes -I/Users/henryiii/anaconda/include/python3.6m -I/Users/henryiii/.local/include/python3.6m -IMinuit2-6.14.0-Source/inc -I/Users/henryiii/anaconda/include/python3.6m -c Minuit2-6.14.0-Source/src/MnContours.cxx -o build/temp.macosx-10.7-x86_64-3.6/Minuit2-6.14.0-Source/src/MnContours.o -stdlib=libc++ -mmacosx-version-min=10.7 -DVERSION_INFO=\"6.14.0\" -std=c++14 -fvisibility=hidden\n"
     ]
    },
    {
     "name": "stdout",
     "output_type": "stream",
     "text": [
      "gcc -Wno-unused-result -Wsign-compare -Wunreachable-code -DNDEBUG -g -fwrapv -O3 -Wall -Wstrict-prototypes -I/Users/henryiii/anaconda/include -arch x86_64 -I/Users/henryiii/anaconda/include -arch x86_64 -DWARNINGMSG -DMATH_NO_PLUGIN_MANAGER -DROOT_Math_VecTypes -I/Users/henryiii/anaconda/include/python3.6m -I/Users/henryiii/.local/include/python3.6m -IMinuit2-6.14.0-Source/inc -I/Users/henryiii/anaconda/include/python3.6m -c Minuit2-6.14.0-Source/src/MnFcn.cxx -o build/temp.macosx-10.7-x86_64-3.6/Minuit2-6.14.0-Source/src/MnFcn.o -stdlib=libc++ -mmacosx-version-min=10.7 -DVERSION_INFO=\"6.14.0\" -std=c++14 -fvisibility=hidden\n",
      "gcc -Wno-unused-result -Wsign-compare -Wunreachable-code -DNDEBUG -g -fwrapv -O3 -Wall -Wstrict-prototypes -I/Users/henryiii/anaconda/include -arch x86_64 -I/Users/henryiii/anaconda/include -arch x86_64 -DWARNINGMSG -DMATH_NO_PLUGIN_MANAGER -DROOT_Math_VecTypes -I/Users/henryiii/anaconda/include/python3.6m -I/Users/henryiii/.local/include/python3.6m -IMinuit2-6.14.0-Source/inc -I/Users/henryiii/anaconda/include/python3.6m -c Minuit2-6.14.0-Source/src/NegativeG2LineSearch.cxx -o build/temp.macosx-10.7-x86_64-3.6/Minuit2-6.14.0-Source/src/NegativeG2LineSearch.o -stdlib=libc++ -mmacosx-version-min=10.7 -DVERSION_INFO=\"6.14.0\" -std=c++14 -fvisibility=hidden\n",
      "gcc -Wno-unused-result -Wsign-compare -Wunreachable-code -DNDEBUG -g -fwrapv -O3 -Wall -Wstrict-prototypes -I/Users/henryiii/anaconda/include -arch x86_64 -I/Users/henryiii/anaconda/include -arch x86_64 -DWARNINGMSG -DMATH_NO_PLUGIN_MANAGER -DROOT_Math_VecTypes -I/Users/henryiii/anaconda/include/python3.6m -I/Users/henryiii/.local/include/python3.6m -IMinuit2-6.14.0-Source/inc -I/Users/henryiii/anaconda/include/python3.6m -c Minuit2-6.14.0-Source/src/DavidonErrorUpdator.cxx -o build/temp.macosx-10.7-x86_64-3.6/Minuit2-6.14.0-Source/src/DavidonErrorUpdator.o -stdlib=libc++ -mmacosx-version-min=10.7 -DVERSION_INFO=\"6.14.0\" -std=c++14 -fvisibility=hidden\n",
      "gcc -Wno-unused-result -Wsign-compare -Wunreachable-code -DNDEBUG -g -fwrapv -O3 -Wall -Wstrict-prototypes -I/Users/henryiii/anaconda/include -arch x86_64 -I/Users/henryiii/anaconda/include -arch x86_64 -DWARNINGMSG -DMATH_NO_PLUGIN_MANAGER -DROOT_Math_VecTypes -I/Users/henryiii/anaconda/include/python3.6m -I/Users/henryiii/.local/include/python3.6m -IMinuit2-6.14.0-Source/inc -I/Users/henryiii/anaconda/include/python3.6m -c Minuit2-6.14.0-Source/src/FumiliStandardChi2FCN.cxx -o build/temp.macosx-10.7-x86_64-3.6/Minuit2-6.14.0-Source/src/FumiliStandardChi2FCN.o -stdlib=libc++ -mmacosx-version-min=10.7 -DVERSION_INFO=\"6.14.0\" -std=c++14 -fvisibility=hidden\n",
      "gcc -Wno-unused-result -Wsign-compare -Wunreachable-code -DNDEBUG -g -fwrapv -O3 -Wall -Wstrict-prototypes -I/Users/henryiii/anaconda/include -arch x86_64 -I/Users/henryiii/anaconda/include -arch x86_64 -DWARNINGMSG -DMATH_NO_PLUGIN_MANAGER -DROOT_Math_VecTypes -I/Users/henryiii/anaconda/include/python3.6m -I/Users/henryiii/.local/include/python3.6m -IMinuit2-6.14.0-Source/inc -I/Users/henryiii/anaconda/include/python3.6m -c Minuit2-6.14.0-Source/src/VariableMetricBuilder.cxx -o build/temp.macosx-10.7-x86_64-3.6/Minuit2-6.14.0-Source/src/VariableMetricBuilder.o -stdlib=libc++ -mmacosx-version-min=10.7 -DVERSION_INFO=\"6.14.0\" -std=c++14 -fvisibility=hidden\n",
      "gcc -Wno-unused-result -Wsign-compare -Wunreachable-code -DNDEBUG -g -fwrapv -O3 -Wall -Wstrict-prototypes -I/Users/henryiii/anaconda/include -arch x86_64 -I/Users/henryiii/anaconda/include -arch x86_64 -DWARNINGMSG -DMATH_NO_PLUGIN_MANAGER -DROOT_Math_VecTypes -I/Users/henryiii/anaconda/include/python3.6m -I/Users/henryiii/.local/include/python3.6m -IMinuit2-6.14.0-Source/inc -I/Users/henryiii/anaconda/include/python3.6m -c Minuit2-6.14.0-Source/src/CombinedMinimumBuilder.cxx -o build/temp.macosx-10.7-x86_64-3.6/Minuit2-6.14.0-Source/src/CombinedMinimumBuilder.o -stdlib=libc++ -mmacosx-version-min=10.7 -DVERSION_INFO=\"6.14.0\" -std=c++14 -fvisibility=hidden\n",
      "gcc -Wno-unused-result -Wsign-compare -Wunreachable-code -DNDEBUG -g -fwrapv -O3 -Wall -Wstrict-prototypes -I/Users/henryiii/anaconda/include -arch x86_64 -I/Users/henryiii/anaconda/include -arch x86_64 -DWARNINGMSG -DMATH_NO_PLUGIN_MANAGER -DROOT_Math_VecTypes -I/Users/henryiii/anaconda/include/python3.6m -I/Users/henryiii/.local/include/python3.6m -IMinuit2-6.14.0-Source/inc -I/Users/henryiii/anaconda/include/python3.6m -c Minuit2-6.14.0-Source/src/FumiliMinimizer.cxx -o build/temp.macosx-10.7-x86_64-3.6/Minuit2-6.14.0-Source/src/FumiliMinimizer.o -stdlib=libc++ -mmacosx-version-min=10.7 -DVERSION_INFO=\"6.14.0\" -std=c++14 -fvisibility=hidden\n",
      "gcc -Wno-unused-result -Wsign-compare -Wunreachable-code -DNDEBUG -g -fwrapv -O3 -Wall -Wstrict-prototypes -I/Users/henryiii/anaconda/include -arch x86_64 -I/Users/henryiii/anaconda/include -arch x86_64 -DWARNINGMSG -DMATH_NO_PLUGIN_MANAGER -DROOT_Math_VecTypes -I/Users/henryiii/anaconda/include/python3.6m -I/Users/henryiii/.local/include/python3.6m -IMinuit2-6.14.0-Source/inc -I/Users/henryiii/anaconda/include/python3.6m -c Minuit2-6.14.0-Source/src/MPIProcess.cxx -o build/temp.macosx-10.7-x86_64-3.6/Minuit2-6.14.0-Source/src/MPIProcess.o -stdlib=libc++ -mmacosx-version-min=10.7 -DVERSION_INFO=\"6.14.0\" -std=c++14 -fvisibility=hidden\n",
      "gcc -Wno-unused-result -Wsign-compare -Wunreachable-code -DNDEBUG -g -fwrapv -O3 -Wall -Wstrict-prototypes -I/Users/henryiii/anaconda/include -arch x86_64 -I/Users/henryiii/anaconda/include -arch x86_64 -DWARNINGMSG -DMATH_NO_PLUGIN_MANAGER -DROOT_Math_VecTypes -I/Users/henryiii/anaconda/include/python3.6m -I/Users/henryiii/.local/include/python3.6m -IMinuit2-6.14.0-Source/inc -I/Users/henryiii/anaconda/include/python3.6m -c Minuit2-6.14.0-Source/src/MnPlot.cxx -o build/temp.macosx-10.7-x86_64-3.6/Minuit2-6.14.0-Source/src/MnPlot.o -stdlib=libc++ -mmacosx-version-min=10.7 -DVERSION_INFO=\"6.14.0\" -std=c++14 -fvisibility=hidden\n",
      "gcc -Wno-unused-result -Wsign-compare -Wunreachable-code -DNDEBUG -g -fwrapv -O3 -Wall -Wstrict-prototypes -I/Users/henryiii/anaconda/include -arch x86_64 -I/Users/henryiii/anaconda/include -arch x86_64 -DWARNINGMSG -DMATH_NO_PLUGIN_MANAGER -DROOT_Math_VecTypes -I/Users/henryiii/anaconda/include/python3.6m -I/Users/henryiii/.local/include/python3.6m -IMinuit2-6.14.0-Source/inc -I/Users/henryiii/anaconda/include/python3.6m -c Minuit2-6.14.0-Source/src/SimplexParameters.cxx -o build/temp.macosx-10.7-x86_64-3.6/Minuit2-6.14.0-Source/src/SimplexParameters.o -stdlib=libc++ -mmacosx-version-min=10.7 -DVERSION_INFO=\"6.14.0\" -std=c++14 -fvisibility=hidden\n",
      "gcc -Wno-unused-result -Wsign-compare -Wunreachable-code -DNDEBUG -g -fwrapv -O3 -Wall -Wstrict-prototypes -I/Users/henryiii/anaconda/include -arch x86_64 -I/Users/henryiii/anaconda/include -arch x86_64 -DWARNINGMSG -DMATH_NO_PLUGIN_MANAGER -DROOT_Math_VecTypes -I/Users/henryiii/anaconda/include/python3.6m -I/Users/henryiii/.local/include/python3.6m -IMinuit2-6.14.0-Source/inc -I/Users/henryiii/anaconda/include/python3.6m -c Minuit2-6.14.0-Source/src/mnvert.cxx -o build/temp.macosx-10.7-x86_64-3.6/Minuit2-6.14.0-Source/src/mnvert.o -stdlib=libc++ -mmacosx-version-min=10.7 -DVERSION_INFO=\"6.14.0\" -std=c++14 -fvisibility=hidden\n",
      "gcc -Wno-unused-result -Wsign-compare -Wunreachable-code -DNDEBUG -g -fwrapv -O3 -Wall -Wstrict-prototypes -I/Users/henryiii/anaconda/include -arch x86_64 -I/Users/henryiii/anaconda/include -arch x86_64 -DWARNINGMSG -DMATH_NO_PLUGIN_MANAGER -DROOT_Math_VecTypes -I/Users/henryiii/anaconda/include/python3.6m -I/Users/henryiii/.local/include/python3.6m -IMinuit2-6.14.0-Source/inc -I/Users/henryiii/anaconda/include/python3.6m -c Minuit2-6.14.0-Source/src/Numerical2PGradientCalculator.cxx -o build/temp.macosx-10.7-x86_64-3.6/Minuit2-6.14.0-Source/src/Numerical2PGradientCalculator.o -stdlib=libc++ -mmacosx-version-min=10.7 -DVERSION_INFO=\"6.14.0\" -std=c++14 -fvisibility=hidden\n",
      "gcc -Wno-unused-result -Wsign-compare -Wunreachable-code -DNDEBUG -g -fwrapv -O3 -Wall -Wstrict-prototypes -I/Users/henryiii/anaconda/include -arch x86_64 -I/Users/henryiii/anaconda/include -arch x86_64 -DWARNINGMSG -DMATH_NO_PLUGIN_MANAGER -DROOT_Math_VecTypes -I/Users/henryiii/anaconda/include/python3.6m -I/Users/henryiii/.local/include/python3.6m -IMinuit2-6.14.0-Source/inc -I/Users/henryiii/anaconda/include/python3.6m -c Minuit2-6.14.0-Source/src/mntplot.cxx -o build/temp.macosx-10.7-x86_64-3.6/Minuit2-6.14.0-Source/src/mntplot.o -stdlib=libc++ -mmacosx-version-min=10.7 -DVERSION_INFO=\"6.14.0\" -std=c++14 -fvisibility=hidden\n"
     ]
    },
    {
     "name": "stdout",
     "output_type": "stream",
     "text": [
      "gcc -Wno-unused-result -Wsign-compare -Wunreachable-code -DNDEBUG -g -fwrapv -O3 -Wall -Wstrict-prototypes -I/Users/henryiii/anaconda/include -arch x86_64 -I/Users/henryiii/anaconda/include -arch x86_64 -DWARNINGMSG -DMATH_NO_PLUGIN_MANAGER -DROOT_Math_VecTypes -I/Users/henryiii/anaconda/include/python3.6m -I/Users/henryiii/.local/include/python3.6m -IMinuit2-6.14.0-Source/inc -I/Users/henryiii/anaconda/include/python3.6m -c Minuit2-6.14.0-Source/src/FumiliGradientCalculator.cxx -o build/temp.macosx-10.7-x86_64-3.6/Minuit2-6.14.0-Source/src/FumiliGradientCalculator.o -stdlib=libc++ -mmacosx-version-min=10.7 -DVERSION_INFO=\"6.14.0\" -std=c++14 -fvisibility=hidden\n",
      "gcc -Wno-unused-result -Wsign-compare -Wunreachable-code -DNDEBUG -g -fwrapv -O3 -Wall -Wstrict-prototypes -I/Users/henryiii/anaconda/include -arch x86_64 -I/Users/henryiii/anaconda/include -arch x86_64 -DWARNINGMSG -DMATH_NO_PLUGIN_MANAGER -DROOT_Math_VecTypes -I/Users/henryiii/anaconda/include/python3.6m -I/Users/henryiii/.local/include/python3.6m -IMinuit2-6.14.0-Source/inc -I/Users/henryiii/anaconda/include/python3.6m -c Minuit2-6.14.0-Source/src/MnParabolaFactory.cxx -o build/temp.macosx-10.7-x86_64-3.6/Minuit2-6.14.0-Source/src/MnParabolaFactory.o -stdlib=libc++ -mmacosx-version-min=10.7 -DVERSION_INFO=\"6.14.0\" -std=c++14 -fvisibility=hidden\n",
      "gcc -Wno-unused-result -Wsign-compare -Wunreachable-code -DNDEBUG -g -fwrapv -O3 -Wall -Wstrict-prototypes -I/Users/henryiii/anaconda/include -arch x86_64 -I/Users/henryiii/anaconda/include -arch x86_64 -DWARNINGMSG -DMATH_NO_PLUGIN_MANAGER -DROOT_Math_VecTypes -I/Users/henryiii/anaconda/include/python3.6m -I/Users/henryiii/.local/include/python3.6m -IMinuit2-6.14.0-Source/inc -I/Users/henryiii/anaconda/include/python3.6m -c Minuit2-6.14.0-Source/src/mndscal.cxx -o build/temp.macosx-10.7-x86_64-3.6/Minuit2-6.14.0-Source/src/mndscal.o -stdlib=libc++ -mmacosx-version-min=10.7 -DVERSION_INFO=\"6.14.0\" -std=c++14 -fvisibility=hidden\n",
      "gcc -Wno-unused-result -Wsign-compare -Wunreachable-code -DNDEBUG -g -fwrapv -O3 -Wall -Wstrict-prototypes -I/Users/henryiii/anaconda/include -arch x86_64 -I/Users/henryiii/anaconda/include -arch x86_64 -DWARNINGMSG -DMATH_NO_PLUGIN_MANAGER -DROOT_Math_VecTypes -I/Users/henryiii/anaconda/include/python3.6m -I/Users/henryiii/.local/include/python3.6m -IMinuit2-6.14.0-Source/inc -I/Users/henryiii/anaconda/include/python3.6m -c Minuit2-6.14.0-Source/src/BasicMinimumError.cxx -o build/temp.macosx-10.7-x86_64-3.6/Minuit2-6.14.0-Source/src/BasicMinimumError.o -stdlib=libc++ -mmacosx-version-min=10.7 -DVERSION_INFO=\"6.14.0\" -std=c++14 -fvisibility=hidden\n",
      "gcc -Wno-unused-result -Wsign-compare -Wunreachable-code -DNDEBUG -g -fwrapv -O3 -Wall -Wstrict-prototypes -I/Users/henryiii/anaconda/include -arch x86_64 -I/Users/henryiii/anaconda/include -arch x86_64 -DWARNINGMSG -DMATH_NO_PLUGIN_MANAGER -DROOT_Math_VecTypes -I/Users/henryiii/anaconda/include/python3.6m -I/Users/henryiii/.local/include/python3.6m -IMinuit2-6.14.0-Source/inc -I/Users/henryiii/anaconda/include/python3.6m -c Minuit2-6.14.0-Source/src/MnUserParameterState.cxx -o build/temp.macosx-10.7-x86_64-3.6/Minuit2-6.14.0-Source/src/MnUserParameterState.o -stdlib=libc++ -mmacosx-version-min=10.7 -DVERSION_INFO=\"6.14.0\" -std=c++14 -fvisibility=hidden\n",
      "gcc -Wno-unused-result -Wsign-compare -Wunreachable-code -DNDEBUG -g -fwrapv -O3 -Wall -Wstrict-prototypes -I/Users/henryiii/anaconda/include -arch x86_64 -I/Users/henryiii/anaconda/include -arch x86_64 -DWARNINGMSG -DMATH_NO_PLUGIN_MANAGER -DROOT_Math_VecTypes -I/Users/henryiii/anaconda/include/python3.6m -I/Users/henryiii/.local/include/python3.6m -IMinuit2-6.14.0-Source/inc -I/Users/henryiii/anaconda/include/python3.6m -c Minuit2-6.14.0-Source/src/FumiliErrorUpdator.cxx -o build/temp.macosx-10.7-x86_64-3.6/Minuit2-6.14.0-Source/src/FumiliErrorUpdator.o -stdlib=libc++ -mmacosx-version-min=10.7 -DVERSION_INFO=\"6.14.0\" -std=c++14 -fvisibility=hidden\n",
      "gcc -Wno-unused-result -Wsign-compare -Wunreachable-code -DNDEBUG -g -fwrapv -O3 -Wall -Wstrict-prototypes -I/Users/henryiii/anaconda/include -arch x86_64 -I/Users/henryiii/anaconda/include -arch x86_64 -DWARNINGMSG -DMATH_NO_PLUGIN_MANAGER -DROOT_Math_VecTypes -I/Users/henryiii/anaconda/include/python3.6m -I/Users/henryiii/.local/include/python3.6m -IMinuit2-6.14.0-Source/inc -I/Users/henryiii/anaconda/include/python3.6m -c Minuit2-6.14.0-Source/src/MnApplication.cxx -o build/temp.macosx-10.7-x86_64-3.6/Minuit2-6.14.0-Source/src/MnApplication.o -stdlib=libc++ -mmacosx-version-min=10.7 -DVERSION_INFO=\"6.14.0\" -std=c++14 -fvisibility=hidden\n",
      "gcc -Wno-unused-result -Wsign-compare -Wunreachable-code -DNDEBUG -g -fwrapv -O3 -Wall -Wstrict-prototypes -I/Users/henryiii/anaconda/include -arch x86_64 -I/Users/henryiii/anaconda/include -arch x86_64 -DWARNINGMSG -DMATH_NO_PLUGIN_MANAGER -DROOT_Math_VecTypes -I/Users/henryiii/anaconda/include/python3.6m -I/Users/henryiii/.local/include/python3.6m -IMinuit2-6.14.0-Source/inc -I/Users/henryiii/anaconda/include/python3.6m -c Minuit2-6.14.0-Source/src/MnMachinePrecision.cxx -o build/temp.macosx-10.7-x86_64-3.6/Minuit2-6.14.0-Source/src/MnMachinePrecision.o -stdlib=libc++ -mmacosx-version-min=10.7 -DVERSION_INFO=\"6.14.0\" -std=c++14 -fvisibility=hidden\n",
      "gcc -Wno-unused-result -Wsign-compare -Wunreachable-code -DNDEBUG -g -fwrapv -O3 -Wall -Wstrict-prototypes -I/Users/henryiii/anaconda/include -arch x86_64 -I/Users/henryiii/anaconda/include -arch x86_64 -DWARNINGMSG -DMATH_NO_PLUGIN_MANAGER -DROOT_Math_VecTypes -I/Users/henryiii/anaconda/include/python3.6m -I/Users/henryiii/.local/include/python3.6m -IMinuit2-6.14.0-Source/inc -I/Users/henryiii/anaconda/include/python3.6m -c Minuit2-6.14.0-Source/src/MnCovarianceSqueeze.cxx -o build/temp.macosx-10.7-x86_64-3.6/Minuit2-6.14.0-Source/src/MnCovarianceSqueeze.o -stdlib=libc++ -mmacosx-version-min=10.7 -DVERSION_INFO=\"6.14.0\" -std=c++14 -fvisibility=hidden\n",
      "gcc -Wno-unused-result -Wsign-compare -Wunreachable-code -DNDEBUG -g -fwrapv -O3 -Wall -Wstrict-prototypes -I/Users/henryiii/anaconda/include -arch x86_64 -I/Users/henryiii/anaconda/include -arch x86_64 -DWARNINGMSG -DMATH_NO_PLUGIN_MANAGER -DROOT_Math_VecTypes -I/Users/henryiii/anaconda/include/python3.6m -I/Users/henryiii/.local/include/python3.6m -IMinuit2-6.14.0-Source/inc -I/Users/henryiii/anaconda/include/python3.6m -c Minuit2-6.14.0-Source/src/MinimumBuilder.cxx -o build/temp.macosx-10.7-x86_64-3.6/Minuit2-6.14.0-Source/src/MinimumBuilder.o -stdlib=libc++ -mmacosx-version-min=10.7 -DVERSION_INFO=\"6.14.0\" -std=c++14 -fvisibility=hidden\n",
      "creating build/lib.macosx-10.7-x86_64-3.6\n",
      "g++ -bundle -undefined dynamic_lookup -L/Users/henryiii/anaconda/lib -arch x86_64 -L/Users/henryiii/anaconda/lib -arch x86_64 -arch x86_64 build/temp.macosx-10.7-x86_64-3.6/Minuit2-6.14.0-Source/src/MnUserParameters.o build/temp.macosx-10.7-x86_64-3.6/Minuit2-6.14.0-Source/src/MnTiny.o build/temp.macosx-10.7-x86_64-3.6/Minuit2-6.14.0-Source/src/mnddot.o build/temp.macosx-10.7-x86_64-3.6/Minuit2-6.14.0-Source/src/MnUserTransformation.o build/temp.macosx-10.7-x86_64-3.6/Minuit2-6.14.0-Source/src/mnxerbla.o build/temp.macosx-10.7-x86_64-3.6/Minuit2-6.14.0-Source/src/mndspr.o build/temp.macosx-10.7-x86_64-3.6/Minuit2-6.14.0-Source/src/MnPosDef.o build/temp.macosx-10.7-x86_64-3.6/Minuit2-6.14.0-Source/src/MnSeedGenerator.o build/temp.macosx-10.7-x86_64-3.6/Minuit2-6.14.0-Source/src/MnScan.o build/temp.macosx-10.7-x86_64-3.6/Minuit2-6.14.0-Source/src/ModularFunctionMinimizer.o build/temp.macosx-10.7-x86_64-3.6/Minuit2-6.14.0-Source/src/SqrtUpParameterTransformation.o build/temp.macosx-10.7-x86_64-3.6/Minuit2-6.14.0-Source/src/MnParameterScan.o build/temp.macosx-10.7-x86_64-3.6/Minuit2-6.14.0-Source/src/MnFunctionCross.o build/temp.macosx-10.7-x86_64-3.6/Minuit2-6.14.0-Source/src/AnalyticalGradientCalculator.o build/temp.macosx-10.7-x86_64-3.6/Minuit2-6.14.0-Source/src/MnHesse.o build/temp.macosx-10.7-x86_64-3.6/Minuit2-6.14.0-Source/src/MnEigen.o build/temp.macosx-10.7-x86_64-3.6/Minuit2-6.14.0-Source/src/HessianGradientCalculator.o build/temp.macosx-10.7-x86_64-3.6/Minuit2-6.14.0-Source/src/MnLineSearch.o build/temp.macosx-10.7-x86_64-3.6/Minuit2-6.14.0-Source/src/MnGlobalCorrelationCoeff.o build/temp.macosx-10.7-x86_64-3.6/Minuit2-6.14.0-Source/src/ScanBuilder.o build/temp.macosx-10.7-x86_64-3.6/Minuit2-6.14.0-Source/src/MnFumiliMinimize.o build/temp.macosx-10.7-x86_64-3.6/Minuit2-6.14.0-Source/src/mnlsame.o build/temp.macosx-10.7-x86_64-3.6/Minuit2-6.14.0-Source/src/MnUserFcn.o build/temp.macosx-10.7-x86_64-3.6/Minuit2-6.14.0-Source/src/mnbins.o build/temp.macosx-10.7-x86_64-3.6/Minuit2-6.14.0-Source/src/SimplexBuilder.o build/temp.macosx-10.7-x86_64-3.6/Minuit2-6.14.0-Source/src/MnStrategy.o build/temp.macosx-10.7-x86_64-3.6/Minuit2-6.14.0-Source/src/FumiliBuilder.o build/temp.macosx-10.7-x86_64-3.6/Minuit2-6.14.0-Source/src/mnteigen.o build/temp.macosx-10.7-x86_64-3.6/Minuit2-6.14.0-Source/src/LaEigenValues.o build/temp.macosx-10.7-x86_64-3.6/Minuit2-6.14.0-Source/src/SinParameterTransformation.o build/temp.macosx-10.7-x86_64-3.6/Minuit2-6.14.0-Source/src/InitialGradientCalculator.o build/temp.macosx-10.7-x86_64-3.6/Minuit2-6.14.0-Source/src/Minuit2Minimizer.o build/temp.macosx-10.7-x86_64-3.6/Minuit2-6.14.0-Source/src/mndaxpy.o build/temp.macosx-10.7-x86_64-3.6/Minuit2-6.14.0-Source/src/MnPrint.o build/temp.macosx-10.7-x86_64-3.6/Minuit2-6.14.0-Source/src/LaSumOfElements.o build/temp.macosx-10.7-x86_64-3.6/Minuit2-6.14.0-Source/src/LaOuterProduct.o build/temp.macosx-10.7-x86_64-3.6/Minuit2-6.14.0-Source/src/math/GenAlgoOptions.o build/temp.macosx-10.7-x86_64-3.6/Minuit2-6.14.0-Source/src/LaInnerProduct.o build/temp.macosx-10.7-x86_64-3.6/Minuit2-6.14.0-Source/src/LaInverse.o build/temp.macosx-10.7-x86_64-3.6/Minuit2-6.14.0-Source/src/FumiliStandardMaximumLikelihoodFCN.o build/temp.macosx-10.7-x86_64-3.6/Minuit2-6.14.0-Source/src/mndasum.o build/temp.macosx-10.7-x86_64-3.6/Minuit2-6.14.0-Source/src/MnTraceObject.o build/temp.macosx-10.7-x86_64-3.6/Minuit2-6.14.0-Source/src/BFGSErrorUpdator.o build/temp.macosx-10.7-x86_64-3.6/Minuit2-6.14.0-Source/src/SqrtLowParameterTransformation.o build/temp.macosx-10.7-x86_64-3.6/Minuit2-6.14.0-Source/src/LaVtMVSimilarity.o build/temp.macosx-10.7-x86_64-3.6/Minuit2-6.14.0-Source/src/ParametricFunction.o build/temp.macosx-10.7-x86_64-3.6/Minuit2-6.14.0-Source/src/VariableMetricEDMEstimator.o build/temp.macosx-10.7-x86_64-3.6/Minuit2-6.14.0-Source/src/math/MinimizerOptions.o build/temp.macosx-10.7-x86_64-3.6/Minuit2-6.14.0-Source/src/SimplexSeedGenerator.o build/temp.macosx-10.7-x86_64-3.6/Minuit2-6.14.0-Source/src/mndspmv.o build/temp.macosx-10.7-x86_64-3.6/Minuit2-6.14.0-Source/src/MnMinos.o build/temp.macosx-10.7-x86_64-3.6/Minuit2-6.14.0-Source/src/MnContours.o build/temp.macosx-10.7-x86_64-3.6/Minuit2-6.14.0-Source/src/MnFcn.o build/temp.macosx-10.7-x86_64-3.6/Minuit2-6.14.0-Source/src/NegativeG2LineSearch.o build/temp.macosx-10.7-x86_64-3.6/Minuit2-6.14.0-Source/src/DavidonErrorUpdator.o build/temp.macosx-10.7-x86_64-3.6/Minuit2-6.14.0-Source/src/FumiliStandardChi2FCN.o build/temp.macosx-10.7-x86_64-3.6/Minuit2-6.14.0-Source/src/VariableMetricBuilder.o build/temp.macosx-10.7-x86_64-3.6/Minuit2-6.14.0-Source/src/CombinedMinimumBuilder.o build/temp.macosx-10.7-x86_64-3.6/Minuit2-6.14.0-Source/src/FumiliMinimizer.o build/temp.macosx-10.7-x86_64-3.6/Minuit2-6.14.0-Source/src/MPIProcess.o build/temp.macosx-10.7-x86_64-3.6/Minuit2-6.14.0-Source/src/MnPlot.o build/temp.macosx-10.7-x86_64-3.6/Minuit2-6.14.0-Source/src/SimplexParameters.o build/temp.macosx-10.7-x86_64-3.6/Minuit2-6.14.0-Source/src/mnvert.o build/temp.macosx-10.7-x86_64-3.6/Minuit2-6.14.0-Source/src/Numerical2PGradientCalculator.o build/temp.macosx-10.7-x86_64-3.6/Minuit2-6.14.0-Source/src/mntplot.o build/temp.macosx-10.7-x86_64-3.6/Minuit2-6.14.0-Source/src/FumiliGradientCalculator.o build/temp.macosx-10.7-x86_64-3.6/Minuit2-6.14.0-Source/src/MnParabolaFactory.o build/temp.macosx-10.7-x86_64-3.6/Minuit2-6.14.0-Source/src/mndscal.o build/temp.macosx-10.7-x86_64-3.6/Minuit2-6.14.0-Source/src/BasicMinimumError.o build/temp.macosx-10.7-x86_64-3.6/Minuit2-6.14.0-Source/src/MnUserParameterState.o build/temp.macosx-10.7-x86_64-3.6/Minuit2-6.14.0-Source/src/FumiliErrorUpdator.o build/temp.macosx-10.7-x86_64-3.6/Minuit2-6.14.0-Source/src/MnApplication.o build/temp.macosx-10.7-x86_64-3.6/Minuit2-6.14.0-Source/src/MnMachinePrecision.o build/temp.macosx-10.7-x86_64-3.6/Minuit2-6.14.0-Source/src/MnCovarianceSqueeze.o build/temp.macosx-10.7-x86_64-3.6/Minuit2-6.14.0-Source/src/MinimumBuilder.o -o build/lib.macosx-10.7-x86_64-3.6/minuit2.cpython-36m-darwin.so\n",
      "clang: \u001b[0;1;35mwarning: \u001b[0mlibstdc++ is deprecated; move to libc++ with a minimum deployment target of OS X 10.9 [-Wdeprecated]\u001b[0m\n"
     ]
    }
   ],
   "source": [
    "!python setup.py build_ext"
   ]
  },
  {
   "cell_type": "markdown",
   "metadata": {},
   "source": [
    "## Structure of a PyBind11 program\n",
    "\n",
    "#### main.cpp\n",
    "\n",
    "* Builds module\n",
    "* Avoids imports (fast compile)\n",
    "\n",
    "```cpp\n",
    "include <pybind11/pybind11.h>\n",
    "namespace py = pybind11;\n",
    "\n",
    "void init_part1(py::module &);\n",
    "void init_part2(py::module &);\n",
    "\n",
    "PYBIND11_MODULE(mymodule, m) {\n",
    "    m.doc() = \"Real code would never have such poor documentation...\";\n",
    "    \n",
    "    init_part1(m);\n",
    "    init_part2(m);\n",
    "}\n",
    "```"
   ]
  },
  {
   "cell_type": "code",
   "execution_count": 38,
   "metadata": {},
   "outputs": [],
   "source": [
    "mkdir pyminuit2"
   ]
  },
  {
   "cell_type": "code",
   "execution_count": 87,
   "metadata": {},
   "outputs": [
    {
     "name": "stdout",
     "output_type": "stream",
     "text": [
      "Overwriting pyminuit2/pyminuit2.cpp\n"
     ]
    }
   ],
   "source": [
    "%%writefile pyminuit2/pyminuit2.cpp\n",
    "\n",
    "#include <pybind11/pybind11.h>\n",
    "\n",
    "namespace py = pybind11;\n",
    "\n",
    "void init_FCNBase(py::module &);\n",
    "void init_MnUserParameters(py::module &);\n",
    "void init_MnMigrad(py::module &);\n",
    "void init_FunctionMinimum(py::module &);\n",
    "\n",
    "PYBIND11_MODULE(minuit2, m) {\n",
    "    init_FCNBase(m);\n",
    "    init_MnUserParameters(m);\n",
    "    init_MnMigrad(m);\n",
    "    init_FunctionMinimum(m);\n",
    "}"
   ]
  },
  {
   "cell_type": "code",
   "execution_count": 105,
   "metadata": {},
   "outputs": [
    {
     "name": "stdout",
     "output_type": "stream",
     "text": [
      "Overwriting pyminuit2/FCNBase.cpp\n"
     ]
    }
   ],
   "source": [
    "%%writefile pyminuit2/FCNBase.cpp\n",
    "\n",
    "#include <pybind11/pybind11.h>\n",
    "#include <pybind11/stl.h>\n",
    "\n",
    "#include <Minuit2/FCNBase.h>\n",
    "\n",
    "namespace py = pybind11;\n",
    "using namespace ROOT::Minuit2;\n",
    "\n",
    "class PyFCNBase : public FCNBase {\n",
    "   public:\n",
    "     using FCNBase::FCNBase;\n",
    "\n",
    "     double operator()(const std::vector<double> &v) const override {\n",
    "         PYBIND11_OVERLOAD_PURE_NAME(double, FCNBase, \"__call__\", operator(), v);\n",
    "     }\n",
    "\n",
    "     double Up() const override {\n",
    "         PYBIND11_OVERLOAD_PURE(double, FCNBase, Up, );\n",
    "     }\n",
    " };\n",
    "        \n",
    "void init_FCNBase(py::module &m) {\n",
    "    py::class_<FCNBase, PyFCNBase>(m, \"FCNBase\")\n",
    "         .def(py::init<>())\n",
    "         .def(\"__call__\", &FCNBase::operator())\n",
    "         .def(\"Up\", &FCNBase::Up)\n",
    "    ;\n",
    "}"
   ]
  },
  {
   "cell_type": "code",
   "execution_count": 106,
   "metadata": {},
   "outputs": [
    {
     "name": "stdout",
     "output_type": "stream",
     "text": [
      "Overwriting pyminuit2/MnUserParameters.cpp\n"
     ]
    }
   ],
   "source": [
    "%%writefile pyminuit2/MnUserParameters.cpp\n",
    "\n",
    "#include <pybind11/pybind11.h>\n",
    "\n",
    "#include <pybind11/functional.h>\n",
    "#include <pybind11/numpy.h>\n",
    "#include <pybind11/stl.h>\n",
    "\n",
    "#include <Minuit2/MnUserParameters.h>\n",
    "\n",
    "#include <string>\n",
    "\n",
    "namespace py = pybind11;\n",
    "using namespace pybind11::literals;\n",
    "\n",
    "using namespace ROOT::Minuit2;\n",
    "\n",
    "void init_MnUserParameters(py::module &m) {\n",
    "    py::class_<MnUserParameters>(m, \"MnUserParameters\")\n",
    "        .def(py::init<>())\n",
    "        .def(\"Add\", (bool (MnUserParameters::*)(const std::string &, double)) & MnUserParameters::Add)\n",
    "        .def(\"Add\", (bool (MnUserParameters::*)(const std::string &, double, double)) & MnUserParameters::Add)\n",
    "        .def(\"Add\",\n",
    "             (bool (MnUserParameters::*)(const std::string &, double, double, double, double)) & MnUserParameters::Add)\n",
    "    ;\n",
    "}"
   ]
  },
  {
   "cell_type": "code",
   "execution_count": 107,
   "metadata": {},
   "outputs": [
    {
     "name": "stdout",
     "output_type": "stream",
     "text": [
      "Overwriting pyminuit2/MnMigrad.cpp\n"
     ]
    }
   ],
   "source": [
    "%%writefile pyminuit2/MnMigrad.cpp\n",
    "\n",
    "#include <pybind11/pybind11.h>\n",
    "#include <pybind11/stl.h>\n",
    "\n",
    "#include <Minuit2/FCNBase.h>\n",
    "#include <Minuit2/MnMigrad.h>\n",
    "#include <Minuit2/MnApplication.h>\n",
    "#include <Minuit2/MnUserParameters.h>\n",
    "#include <Minuit2/FunctionMinimum.h>\n",
    "\n",
    "namespace py = pybind11;\n",
    "using namespace pybind11::literals;\n",
    "using namespace ROOT::Minuit2;\n",
    "        \n",
    "void init_MnMigrad(py::module &m) {\n",
    "    py::class_<MnApplication>(m, \"MnApplication\")\n",
    "        .def(\"__call__\",\n",
    "             &MnApplication::operator(),\n",
    "             \"Minimize the function, returns a function minimum\",\n",
    "             \"maxfcn\"_a    = 0,\n",
    "             \"tolerance\"_a = 0.1)\n",
    "    ;\n",
    "    \n",
    "    py::class_<MnMigrad, MnApplication>(m, \"MnMigrad\")\n",
    "        .def(py::init<const FCNBase &, const MnUserParameters &, unsigned int>(), \"fcn\"_a, \"par\"_a, \"stra\"_a = 1)\n",
    "    ;\n",
    "}    "
   ]
  },
  {
   "cell_type": "code",
   "execution_count": 108,
   "metadata": {},
   "outputs": [
    {
     "name": "stdout",
     "output_type": "stream",
     "text": [
      "Overwriting pyminuit2/FunctionMinimum.cpp\n"
     ]
    }
   ],
   "source": [
    "%%writefile pyminuit2/FunctionMinimum.cpp\n",
    "\n",
    "#include <pybind11/pybind11.h>\n",
    "\n",
    "#include <sstream>\n",
    "\n",
    "#include <Minuit2/FunctionMinimum.h>\n",
    "#include <Minuit2/MnPrint.h>\n",
    "\n",
    "namespace py = pybind11;\n",
    "using namespace pybind11::literals;\n",
    "\n",
    "using namespace ROOT::Minuit2;\n",
    "\n",
    "void init_FunctionMinimum(py::module &m) {\n",
    "    py::class_<FunctionMinimum>(m, \"FunctionMinimum\")\n",
    "        .def(\"__str__\", [](const FunctionMinimum &self) {\n",
    "            std::stringstream os;\n",
    "            os << self;\n",
    "            return os.str();\n",
    "        })\n",
    "    ;\n",
    "}"
   ]
  },
  {
   "cell_type": "code",
   "execution_count": 109,
   "metadata": {},
   "outputs": [
    {
     "name": "stdout",
     "output_type": "stream",
     "text": [
      "running build_ext\n",
      "building 'minuit2' extension\n",
      "gcc -Wno-unused-result -Wsign-compare -Wunreachable-code -DNDEBUG -g -fwrapv -O3 -Wall -Wstrict-prototypes -I/Users/henryiii/anaconda/include -arch x86_64 -I/Users/henryiii/anaconda/include -arch x86_64 -DWARNINGMSG -DMATH_NO_PLUGIN_MANAGER -DROOT_Math_VecTypes -I/Users/henryiii/anaconda/include/python3.6m -I/Users/henryiii/.local/include/python3.6m -IMinuit2-6.14.0-Source/inc -I/Users/henryiii/anaconda/include/python3.6m -c Minuit2-6.14.0-Source/src/FumiliStandardChi2FCN.cxx -o build/temp.macosx-10.7-x86_64-3.6/Minuit2-6.14.0-Source/src/FumiliStandardChi2FCN.o -stdlib=libc++ -mmacosx-version-min=10.7 -DVERSION_INFO=\"6.14.0\" -std=c++14 -fvisibility=hidden\n",
      "gcc -Wno-unused-result -Wsign-compare -Wunreachable-code -DNDEBUG -g -fwrapv -O3 -Wall -Wstrict-prototypes -I/Users/henryiii/anaconda/include -arch x86_64 -I/Users/henryiii/anaconda/include -arch x86_64 -DWARNINGMSG -DMATH_NO_PLUGIN_MANAGER -DROOT_Math_VecTypes -I/Users/henryiii/anaconda/include/python3.6m -I/Users/henryiii/.local/include/python3.6m -IMinuit2-6.14.0-Source/inc -I/Users/henryiii/anaconda/include/python3.6m -c Minuit2-6.14.0-Source/src/FumiliMinimizer.cxx -o build/temp.macosx-10.7-x86_64-3.6/Minuit2-6.14.0-Source/src/FumiliMinimizer.o -stdlib=libc++ -mmacosx-version-min=10.7 -DVERSION_INFO=\"6.14.0\" -std=c++14 -fvisibility=hidden\n",
      "gcc -Wno-unused-result -Wsign-compare -Wunreachable-code -DNDEBUG -g -fwrapv -O3 -Wall -Wstrict-prototypes -I/Users/henryiii/anaconda/include -arch x86_64 -I/Users/henryiii/anaconda/include -arch x86_64 -DWARNINGMSG -DMATH_NO_PLUGIN_MANAGER -DROOT_Math_VecTypes -I/Users/henryiii/anaconda/include/python3.6m -I/Users/henryiii/.local/include/python3.6m -IMinuit2-6.14.0-Source/inc -I/Users/henryiii/anaconda/include/python3.6m -c Minuit2-6.14.0-Source/src/MPIProcess.cxx -o build/temp.macosx-10.7-x86_64-3.6/Minuit2-6.14.0-Source/src/MPIProcess.o -stdlib=libc++ -mmacosx-version-min=10.7 -DVERSION_INFO=\"6.14.0\" -std=c++14 -fvisibility=hidden\n",
      "gcc -Wno-unused-result -Wsign-compare -Wunreachable-code -DNDEBUG -g -fwrapv -O3 -Wall -Wstrict-prototypes -I/Users/henryiii/anaconda/include -arch x86_64 -I/Users/henryiii/anaconda/include -arch x86_64 -DWARNINGMSG -DMATH_NO_PLUGIN_MANAGER -DROOT_Math_VecTypes -I/Users/henryiii/anaconda/include/python3.6m -I/Users/henryiii/.local/include/python3.6m -IMinuit2-6.14.0-Source/inc -I/Users/henryiii/anaconda/include/python3.6m -c Minuit2-6.14.0-Source/src/mntplot.cxx -o build/temp.macosx-10.7-x86_64-3.6/Minuit2-6.14.0-Source/src/mntplot.o -stdlib=libc++ -mmacosx-version-min=10.7 -DVERSION_INFO=\"6.14.0\" -std=c++14 -fvisibility=hidden\n",
      "gcc -Wno-unused-result -Wsign-compare -Wunreachable-code -DNDEBUG -g -fwrapv -O3 -Wall -Wstrict-prototypes -I/Users/henryiii/anaconda/include -arch x86_64 -I/Users/henryiii/anaconda/include -arch x86_64 -DWARNINGMSG -DMATH_NO_PLUGIN_MANAGER -DROOT_Math_VecTypes -I/Users/henryiii/anaconda/include/python3.6m -I/Users/henryiii/.local/include/python3.6m -IMinuit2-6.14.0-Source/inc -I/Users/henryiii/anaconda/include/python3.6m -c pyminuit2/MnMigrad.cpp -o build/temp.macosx-10.7-x86_64-3.6/pyminuit2/MnMigrad.o -stdlib=libc++ -mmacosx-version-min=10.7 -DVERSION_INFO=\"6.14.0\" -std=c++14 -fvisibility=hidden\n",
      "gcc -Wno-unused-result -Wsign-compare -Wunreachable-code -DNDEBUG -g -fwrapv -O3 -Wall -Wstrict-prototypes -I/Users/henryiii/anaconda/include -arch x86_64 -I/Users/henryiii/anaconda/include -arch x86_64 -DWARNINGMSG -DMATH_NO_PLUGIN_MANAGER -DROOT_Math_VecTypes -I/Users/henryiii/anaconda/include/python3.6m -I/Users/henryiii/.local/include/python3.6m -IMinuit2-6.14.0-Source/inc -I/Users/henryiii/anaconda/include/python3.6m -c Minuit2-6.14.0-Source/src/mnxerbla.cxx -o build/temp.macosx-10.7-x86_64-3.6/Minuit2-6.14.0-Source/src/mnxerbla.o -stdlib=libc++ -mmacosx-version-min=10.7 -DVERSION_INFO=\"6.14.0\" -std=c++14 -fvisibility=hidden\n",
      "gcc -Wno-unused-result -Wsign-compare -Wunreachable-code -DNDEBUG -g -fwrapv -O3 -Wall -Wstrict-prototypes -I/Users/henryiii/anaconda/include -arch x86_64 -I/Users/henryiii/anaconda/include -arch x86_64 -DWARNINGMSG -DMATH_NO_PLUGIN_MANAGER -DROOT_Math_VecTypes -I/Users/henryiii/anaconda/include/python3.6m -I/Users/henryiii/.local/include/python3.6m -IMinuit2-6.14.0-Source/inc -I/Users/henryiii/anaconda/include/python3.6m -c Minuit2-6.14.0-Source/src/MnUserParameterState.cxx -o build/temp.macosx-10.7-x86_64-3.6/Minuit2-6.14.0-Source/src/MnUserParameterState.o -stdlib=libc++ -mmacosx-version-min=10.7 -DVERSION_INFO=\"6.14.0\" -std=c++14 -fvisibility=hidden\n",
      "gcc -Wno-unused-result -Wsign-compare -Wunreachable-code -DNDEBUG -g -fwrapv -O3 -Wall -Wstrict-prototypes -I/Users/henryiii/anaconda/include -arch x86_64 -I/Users/henryiii/anaconda/include -arch x86_64 -DWARNINGMSG -DMATH_NO_PLUGIN_MANAGER -DROOT_Math_VecTypes -I/Users/henryiii/anaconda/include/python3.6m -I/Users/henryiii/.local/include/python3.6m -IMinuit2-6.14.0-Source/inc -I/Users/henryiii/anaconda/include/python3.6m -c pyminuit2/pyminuit2.cpp -o build/temp.macosx-10.7-x86_64-3.6/pyminuit2/pyminuit2.o -stdlib=libc++ -mmacosx-version-min=10.7 -DVERSION_INFO=\"6.14.0\" -std=c++14 -fvisibility=hidden\n",
      "gcc -Wno-unused-result -Wsign-compare -Wunreachable-code -DNDEBUG -g -fwrapv -O3 -Wall -Wstrict-prototypes -I/Users/henryiii/anaconda/include -arch x86_64 -I/Users/henryiii/anaconda/include -arch x86_64 -DWARNINGMSG -DMATH_NO_PLUGIN_MANAGER -DROOT_Math_VecTypes -I/Users/henryiii/anaconda/include/python3.6m -I/Users/henryiii/.local/include/python3.6m -IMinuit2-6.14.0-Source/inc -I/Users/henryiii/anaconda/include/python3.6m -c Minuit2-6.14.0-Source/src/MnMinos.cxx -o build/temp.macosx-10.7-x86_64-3.6/Minuit2-6.14.0-Source/src/MnMinos.o -stdlib=libc++ -mmacosx-version-min=10.7 -DVERSION_INFO=\"6.14.0\" -std=c++14 -fvisibility=hidden\n",
      "gcc -Wno-unused-result -Wsign-compare -Wunreachable-code -DNDEBUG -g -fwrapv -O3 -Wall -Wstrict-prototypes -I/Users/henryiii/anaconda/include -arch x86_64 -I/Users/henryiii/anaconda/include -arch x86_64 -DWARNINGMSG -DMATH_NO_PLUGIN_MANAGER -DROOT_Math_VecTypes -I/Users/henryiii/anaconda/include/python3.6m -I/Users/henryiii/.local/include/python3.6m -IMinuit2-6.14.0-Source/inc -I/Users/henryiii/anaconda/include/python3.6m -c Minuit2-6.14.0-Source/src/ParametricFunction.cxx -o build/temp.macosx-10.7-x86_64-3.6/Minuit2-6.14.0-Source/src/ParametricFunction.o -stdlib=libc++ -mmacosx-version-min=10.7 -DVERSION_INFO=\"6.14.0\" -std=c++14 -fvisibility=hidden\n",
      "gcc -Wno-unused-result -Wsign-compare -Wunreachable-code -DNDEBUG -g -fwrapv -O3 -Wall -Wstrict-prototypes -I/Users/henryiii/anaconda/include -arch x86_64 -I/Users/henryiii/anaconda/include -arch x86_64 -DWARNINGMSG -DMATH_NO_PLUGIN_MANAGER -DROOT_Math_VecTypes -I/Users/henryiii/anaconda/include/python3.6m -I/Users/henryiii/.local/include/python3.6m -IMinuit2-6.14.0-Source/inc -I/Users/henryiii/anaconda/include/python3.6m -c Minuit2-6.14.0-Source/src/FumiliGradientCalculator.cxx -o build/temp.macosx-10.7-x86_64-3.6/Minuit2-6.14.0-Source/src/FumiliGradientCalculator.o -stdlib=libc++ -mmacosx-version-min=10.7 -DVERSION_INFO=\"6.14.0\" -std=c++14 -fvisibility=hidden\n",
      "gcc -Wno-unused-result -Wsign-compare -Wunreachable-code -DNDEBUG -g -fwrapv -O3 -Wall -Wstrict-prototypes -I/Users/henryiii/anaconda/include -arch x86_64 -I/Users/henryiii/anaconda/include -arch x86_64 -DWARNINGMSG -DMATH_NO_PLUGIN_MANAGER -DROOT_Math_VecTypes -I/Users/henryiii/anaconda/include/python3.6m -I/Users/henryiii/.local/include/python3.6m -IMinuit2-6.14.0-Source/inc -I/Users/henryiii/anaconda/include/python3.6m -c Minuit2-6.14.0-Source/src/MnSeedGenerator.cxx -o build/temp.macosx-10.7-x86_64-3.6/Minuit2-6.14.0-Source/src/MnSeedGenerator.o -stdlib=libc++ -mmacosx-version-min=10.7 -DVERSION_INFO=\"6.14.0\" -std=c++14 -fvisibility=hidden\n",
      "gcc -Wno-unused-result -Wsign-compare -Wunreachable-code -DNDEBUG -g -fwrapv -O3 -Wall -Wstrict-prototypes -I/Users/henryiii/anaconda/include -arch x86_64 -I/Users/henryiii/anaconda/include -arch x86_64 -DWARNINGMSG -DMATH_NO_PLUGIN_MANAGER -DROOT_Math_VecTypes -I/Users/henryiii/anaconda/include/python3.6m -I/Users/henryiii/.local/include/python3.6m -IMinuit2-6.14.0-Source/inc -I/Users/henryiii/anaconda/include/python3.6m -c Minuit2-6.14.0-Source/src/DavidonErrorUpdator.cxx -o build/temp.macosx-10.7-x86_64-3.6/Minuit2-6.14.0-Source/src/DavidonErrorUpdator.o -stdlib=libc++ -mmacosx-version-min=10.7 -DVERSION_INFO=\"6.14.0\" -std=c++14 -fvisibility=hidden\n"
     ]
    },
    {
     "name": "stdout",
     "output_type": "stream",
     "text": [
      "gcc -Wno-unused-result -Wsign-compare -Wunreachable-code -DNDEBUG -g -fwrapv -O3 -Wall -Wstrict-prototypes -I/Users/henryiii/anaconda/include -arch x86_64 -I/Users/henryiii/anaconda/include -arch x86_64 -DWARNINGMSG -DMATH_NO_PLUGIN_MANAGER -DROOT_Math_VecTypes -I/Users/henryiii/anaconda/include/python3.6m -I/Users/henryiii/.local/include/python3.6m -IMinuit2-6.14.0-Source/inc -I/Users/henryiii/anaconda/include/python3.6m -c Minuit2-6.14.0-Source/src/FumiliBuilder.cxx -o build/temp.macosx-10.7-x86_64-3.6/Minuit2-6.14.0-Source/src/FumiliBuilder.o -stdlib=libc++ -mmacosx-version-min=10.7 -DVERSION_INFO=\"6.14.0\" -std=c++14 -fvisibility=hidden\n",
      "gcc -Wno-unused-result -Wsign-compare -Wunreachable-code -DNDEBUG -g -fwrapv -O3 -Wall -Wstrict-prototypes -I/Users/henryiii/anaconda/include -arch x86_64 -I/Users/henryiii/anaconda/include -arch x86_64 -DWARNINGMSG -DMATH_NO_PLUGIN_MANAGER -DROOT_Math_VecTypes -I/Users/henryiii/anaconda/include/python3.6m -I/Users/henryiii/.local/include/python3.6m -IMinuit2-6.14.0-Source/inc -I/Users/henryiii/anaconda/include/python3.6m -c Minuit2-6.14.0-Source/src/MnApplication.cxx -o build/temp.macosx-10.7-x86_64-3.6/Minuit2-6.14.0-Source/src/MnApplication.o -stdlib=libc++ -mmacosx-version-min=10.7 -DVERSION_INFO=\"6.14.0\" -std=c++14 -fvisibility=hidden\n",
      "gcc -Wno-unused-result -Wsign-compare -Wunreachable-code -DNDEBUG -g -fwrapv -O3 -Wall -Wstrict-prototypes -I/Users/henryiii/anaconda/include -arch x86_64 -I/Users/henryiii/anaconda/include -arch x86_64 -DWARNINGMSG -DMATH_NO_PLUGIN_MANAGER -DROOT_Math_VecTypes -I/Users/henryiii/anaconda/include/python3.6m -I/Users/henryiii/.local/include/python3.6m -IMinuit2-6.14.0-Source/inc -I/Users/henryiii/anaconda/include/python3.6m -c Minuit2-6.14.0-Source/src/SqrtUpParameterTransformation.cxx -o build/temp.macosx-10.7-x86_64-3.6/Minuit2-6.14.0-Source/src/SqrtUpParameterTransformation.o -stdlib=libc++ -mmacosx-version-min=10.7 -DVERSION_INFO=\"6.14.0\" -std=c++14 -fvisibility=hidden\n",
      "gcc -Wno-unused-result -Wsign-compare -Wunreachable-code -DNDEBUG -g -fwrapv -O3 -Wall -Wstrict-prototypes -I/Users/henryiii/anaconda/include -arch x86_64 -I/Users/henryiii/anaconda/include -arch x86_64 -DWARNINGMSG -DMATH_NO_PLUGIN_MANAGER -DROOT_Math_VecTypes -I/Users/henryiii/anaconda/include/python3.6m -I/Users/henryiii/.local/include/python3.6m -IMinuit2-6.14.0-Source/inc -I/Users/henryiii/anaconda/include/python3.6m -c Minuit2-6.14.0-Source/src/LaVtMVSimilarity.cxx -o build/temp.macosx-10.7-x86_64-3.6/Minuit2-6.14.0-Source/src/LaVtMVSimilarity.o -stdlib=libc++ -mmacosx-version-min=10.7 -DVERSION_INFO=\"6.14.0\" -std=c++14 -fvisibility=hidden\n",
      "gcc -Wno-unused-result -Wsign-compare -Wunreachable-code -DNDEBUG -g -fwrapv -O3 -Wall -Wstrict-prototypes -I/Users/henryiii/anaconda/include -arch x86_64 -I/Users/henryiii/anaconda/include -arch x86_64 -DWARNINGMSG -DMATH_NO_PLUGIN_MANAGER -DROOT_Math_VecTypes -I/Users/henryiii/anaconda/include/python3.6m -I/Users/henryiii/.local/include/python3.6m -IMinuit2-6.14.0-Source/inc -I/Users/henryiii/anaconda/include/python3.6m -c Minuit2-6.14.0-Source/src/math/GenAlgoOptions.cxx -o build/temp.macosx-10.7-x86_64-3.6/Minuit2-6.14.0-Source/src/math/GenAlgoOptions.o -stdlib=libc++ -mmacosx-version-min=10.7 -DVERSION_INFO=\"6.14.0\" -std=c++14 -fvisibility=hidden\n",
      "gcc -Wno-unused-result -Wsign-compare -Wunreachable-code -DNDEBUG -g -fwrapv -O3 -Wall -Wstrict-prototypes -I/Users/henryiii/anaconda/include -arch x86_64 -I/Users/henryiii/anaconda/include -arch x86_64 -DWARNINGMSG -DMATH_NO_PLUGIN_MANAGER -DROOT_Math_VecTypes -I/Users/henryiii/anaconda/include/python3.6m -I/Users/henryiii/.local/include/python3.6m -IMinuit2-6.14.0-Source/inc -I/Users/henryiii/anaconda/include/python3.6m -c Minuit2-6.14.0-Source/src/MinimumBuilder.cxx -o build/temp.macosx-10.7-x86_64-3.6/Minuit2-6.14.0-Source/src/MinimumBuilder.o -stdlib=libc++ -mmacosx-version-min=10.7 -DVERSION_INFO=\"6.14.0\" -std=c++14 -fvisibility=hidden\n",
      "gcc -Wno-unused-result -Wsign-compare -Wunreachable-code -DNDEBUG -g -fwrapv -O3 -Wall -Wstrict-prototypes -I/Users/henryiii/anaconda/include -arch x86_64 -I/Users/henryiii/anaconda/include -arch x86_64 -DWARNINGMSG -DMATH_NO_PLUGIN_MANAGER -DROOT_Math_VecTypes -I/Users/henryiii/anaconda/include/python3.6m -I/Users/henryiii/.local/include/python3.6m -IMinuit2-6.14.0-Source/inc -I/Users/henryiii/anaconda/include/python3.6m -c Minuit2-6.14.0-Source/src/mnteigen.cxx -o build/temp.macosx-10.7-x86_64-3.6/Minuit2-6.14.0-Source/src/mnteigen.o -stdlib=libc++ -mmacosx-version-min=10.7 -DVERSION_INFO=\"6.14.0\" -std=c++14 -fvisibility=hidden\n",
      "gcc -Wno-unused-result -Wsign-compare -Wunreachable-code -DNDEBUG -g -fwrapv -O3 -Wall -Wstrict-prototypes -I/Users/henryiii/anaconda/include -arch x86_64 -I/Users/henryiii/anaconda/include -arch x86_64 -DWARNINGMSG -DMATH_NO_PLUGIN_MANAGER -DROOT_Math_VecTypes -I/Users/henryiii/anaconda/include/python3.6m -I/Users/henryiii/.local/include/python3.6m -IMinuit2-6.14.0-Source/inc -I/Users/henryiii/anaconda/include/python3.6m -c Minuit2-6.14.0-Source/src/SqrtLowParameterTransformation.cxx -o build/temp.macosx-10.7-x86_64-3.6/Minuit2-6.14.0-Source/src/SqrtLowParameterTransformation.o -stdlib=libc++ -mmacosx-version-min=10.7 -DVERSION_INFO=\"6.14.0\" -std=c++14 -fvisibility=hidden\n",
      "gcc -Wno-unused-result -Wsign-compare -Wunreachable-code -DNDEBUG -g -fwrapv -O3 -Wall -Wstrict-prototypes -I/Users/henryiii/anaconda/include -arch x86_64 -I/Users/henryiii/anaconda/include -arch x86_64 -DWARNINGMSG -DMATH_NO_PLUGIN_MANAGER -DROOT_Math_VecTypes -I/Users/henryiii/anaconda/include/python3.6m -I/Users/henryiii/.local/include/python3.6m -IMinuit2-6.14.0-Source/inc -I/Users/henryiii/anaconda/include/python3.6m -c Minuit2-6.14.0-Source/src/LaEigenValues.cxx -o build/temp.macosx-10.7-x86_64-3.6/Minuit2-6.14.0-Source/src/LaEigenValues.o -stdlib=libc++ -mmacosx-version-min=10.7 -DVERSION_INFO=\"6.14.0\" -std=c++14 -fvisibility=hidden\n",
      "gcc -Wno-unused-result -Wsign-compare -Wunreachable-code -DNDEBUG -g -fwrapv -O3 -Wall -Wstrict-prototypes -I/Users/henryiii/anaconda/include -arch x86_64 -I/Users/henryiii/anaconda/include -arch x86_64 -DWARNINGMSG -DMATH_NO_PLUGIN_MANAGER -DROOT_Math_VecTypes -I/Users/henryiii/anaconda/include/python3.6m -I/Users/henryiii/.local/include/python3.6m -IMinuit2-6.14.0-Source/inc -I/Users/henryiii/anaconda/include/python3.6m -c Minuit2-6.14.0-Source/src/math/MinimizerOptions.cxx -o build/temp.macosx-10.7-x86_64-3.6/Minuit2-6.14.0-Source/src/math/MinimizerOptions.o -stdlib=libc++ -mmacosx-version-min=10.7 -DVERSION_INFO=\"6.14.0\" -std=c++14 -fvisibility=hidden\n",
      "gcc -Wno-unused-result -Wsign-compare -Wunreachable-code -DNDEBUG -g -fwrapv -O3 -Wall -Wstrict-prototypes -I/Users/henryiii/anaconda/include -arch x86_64 -I/Users/henryiii/anaconda/include -arch x86_64 -DWARNINGMSG -DMATH_NO_PLUGIN_MANAGER -DROOT_Math_VecTypes -I/Users/henryiii/anaconda/include/python3.6m -I/Users/henryiii/.local/include/python3.6m -IMinuit2-6.14.0-Source/inc -I/Users/henryiii/anaconda/include/python3.6m -c Minuit2-6.14.0-Source/src/MnUserParameters.cxx -o build/temp.macosx-10.7-x86_64-3.6/Minuit2-6.14.0-Source/src/MnUserParameters.o -stdlib=libc++ -mmacosx-version-min=10.7 -DVERSION_INFO=\"6.14.0\" -std=c++14 -fvisibility=hidden\n",
      "gcc -Wno-unused-result -Wsign-compare -Wunreachable-code -DNDEBUG -g -fwrapv -O3 -Wall -Wstrict-prototypes -I/Users/henryiii/anaconda/include -arch x86_64 -I/Users/henryiii/anaconda/include -arch x86_64 -DWARNINGMSG -DMATH_NO_PLUGIN_MANAGER -DROOT_Math_VecTypes -I/Users/henryiii/anaconda/include/python3.6m -I/Users/henryiii/.local/include/python3.6m -IMinuit2-6.14.0-Source/inc -I/Users/henryiii/anaconda/include/python3.6m -c Minuit2-6.14.0-Source/src/MnFcn.cxx -o build/temp.macosx-10.7-x86_64-3.6/Minuit2-6.14.0-Source/src/MnFcn.o -stdlib=libc++ -mmacosx-version-min=10.7 -DVERSION_INFO=\"6.14.0\" -std=c++14 -fvisibility=hidden\n",
      "gcc -Wno-unused-result -Wsign-compare -Wunreachable-code -DNDEBUG -g -fwrapv -O3 -Wall -Wstrict-prototypes -I/Users/henryiii/anaconda/include -arch x86_64 -I/Users/henryiii/anaconda/include -arch x86_64 -DWARNINGMSG -DMATH_NO_PLUGIN_MANAGER -DROOT_Math_VecTypes -I/Users/henryiii/anaconda/include/python3.6m -I/Users/henryiii/.local/include/python3.6m -IMinuit2-6.14.0-Source/inc -I/Users/henryiii/anaconda/include/python3.6m -c Minuit2-6.14.0-Source/src/ScanBuilder.cxx -o build/temp.macosx-10.7-x86_64-3.6/Minuit2-6.14.0-Source/src/ScanBuilder.o -stdlib=libc++ -mmacosx-version-min=10.7 -DVERSION_INFO=\"6.14.0\" -std=c++14 -fvisibility=hidden\n"
     ]
    },
    {
     "name": "stdout",
     "output_type": "stream",
     "text": [
      "gcc -Wno-unused-result -Wsign-compare -Wunreachable-code -DNDEBUG -g -fwrapv -O3 -Wall -Wstrict-prototypes -I/Users/henryiii/anaconda/include -arch x86_64 -I/Users/henryiii/anaconda/include -arch x86_64 -DWARNINGMSG -DMATH_NO_PLUGIN_MANAGER -DROOT_Math_VecTypes -I/Users/henryiii/anaconda/include/python3.6m -I/Users/henryiii/.local/include/python3.6m -IMinuit2-6.14.0-Source/inc -I/Users/henryiii/anaconda/include/python3.6m -c Minuit2-6.14.0-Source/src/mndscal.cxx -o build/temp.macosx-10.7-x86_64-3.6/Minuit2-6.14.0-Source/src/mndscal.o -stdlib=libc++ -mmacosx-version-min=10.7 -DVERSION_INFO=\"6.14.0\" -std=c++14 -fvisibility=hidden\n",
      "gcc -Wno-unused-result -Wsign-compare -Wunreachable-code -DNDEBUG -g -fwrapv -O3 -Wall -Wstrict-prototypes -I/Users/henryiii/anaconda/include -arch x86_64 -I/Users/henryiii/anaconda/include -arch x86_64 -DWARNINGMSG -DMATH_NO_PLUGIN_MANAGER -DROOT_Math_VecTypes -I/Users/henryiii/anaconda/include/python3.6m -I/Users/henryiii/.local/include/python3.6m -IMinuit2-6.14.0-Source/inc -I/Users/henryiii/anaconda/include/python3.6m -c Minuit2-6.14.0-Source/src/MnPlot.cxx -o build/temp.macosx-10.7-x86_64-3.6/Minuit2-6.14.0-Source/src/MnPlot.o -stdlib=libc++ -mmacosx-version-min=10.7 -DVERSION_INFO=\"6.14.0\" -std=c++14 -fvisibility=hidden\n",
      "gcc -Wno-unused-result -Wsign-compare -Wunreachable-code -DNDEBUG -g -fwrapv -O3 -Wall -Wstrict-prototypes -I/Users/henryiii/anaconda/include -arch x86_64 -I/Users/henryiii/anaconda/include -arch x86_64 -DWARNINGMSG -DMATH_NO_PLUGIN_MANAGER -DROOT_Math_VecTypes -I/Users/henryiii/anaconda/include/python3.6m -I/Users/henryiii/.local/include/python3.6m -IMinuit2-6.14.0-Source/inc -I/Users/henryiii/anaconda/include/python3.6m -c Minuit2-6.14.0-Source/src/ModularFunctionMinimizer.cxx -o build/temp.macosx-10.7-x86_64-3.6/Minuit2-6.14.0-Source/src/ModularFunctionMinimizer.o -stdlib=libc++ -mmacosx-version-min=10.7 -DVERSION_INFO=\"6.14.0\" -std=c++14 -fvisibility=hidden\n",
      "gcc -Wno-unused-result -Wsign-compare -Wunreachable-code -DNDEBUG -g -fwrapv -O3 -Wall -Wstrict-prototypes -I/Users/henryiii/anaconda/include -arch x86_64 -I/Users/henryiii/anaconda/include -arch x86_64 -DWARNINGMSG -DMATH_NO_PLUGIN_MANAGER -DROOT_Math_VecTypes -I/Users/henryiii/anaconda/include/python3.6m -I/Users/henryiii/.local/include/python3.6m -IMinuit2-6.14.0-Source/inc -I/Users/henryiii/anaconda/include/python3.6m -c Minuit2-6.14.0-Source/src/InitialGradientCalculator.cxx -o build/temp.macosx-10.7-x86_64-3.6/Minuit2-6.14.0-Source/src/InitialGradientCalculator.o -stdlib=libc++ -mmacosx-version-min=10.7 -DVERSION_INFO=\"6.14.0\" -std=c++14 -fvisibility=hidden\n",
      "gcc -Wno-unused-result -Wsign-compare -Wunreachable-code -DNDEBUG -g -fwrapv -O3 -Wall -Wstrict-prototypes -I/Users/henryiii/anaconda/include -arch x86_64 -I/Users/henryiii/anaconda/include -arch x86_64 -DWARNINGMSG -DMATH_NO_PLUGIN_MANAGER -DROOT_Math_VecTypes -I/Users/henryiii/anaconda/include/python3.6m -I/Users/henryiii/.local/include/python3.6m -IMinuit2-6.14.0-Source/inc -I/Users/henryiii/anaconda/include/python3.6m -c Minuit2-6.14.0-Source/src/mndspmv.cxx -o build/temp.macosx-10.7-x86_64-3.6/Minuit2-6.14.0-Source/src/mndspmv.o -stdlib=libc++ -mmacosx-version-min=10.7 -DVERSION_INFO=\"6.14.0\" -std=c++14 -fvisibility=hidden\n",
      "gcc -Wno-unused-result -Wsign-compare -Wunreachable-code -DNDEBUG -g -fwrapv -O3 -Wall -Wstrict-prototypes -I/Users/henryiii/anaconda/include -arch x86_64 -I/Users/henryiii/anaconda/include -arch x86_64 -DWARNINGMSG -DMATH_NO_PLUGIN_MANAGER -DROOT_Math_VecTypes -I/Users/henryiii/anaconda/include/python3.6m -I/Users/henryiii/.local/include/python3.6m -IMinuit2-6.14.0-Source/inc -I/Users/henryiii/anaconda/include/python3.6m -c Minuit2-6.14.0-Source/src/MnHesse.cxx -o build/temp.macosx-10.7-x86_64-3.6/Minuit2-6.14.0-Source/src/MnHesse.o -stdlib=libc++ -mmacosx-version-min=10.7 -DVERSION_INFO=\"6.14.0\" -std=c++14 -fvisibility=hidden\n",
      "gcc -Wno-unused-result -Wsign-compare -Wunreachable-code -DNDEBUG -g -fwrapv -O3 -Wall -Wstrict-prototypes -I/Users/henryiii/anaconda/include -arch x86_64 -I/Users/henryiii/anaconda/include -arch x86_64 -DWARNINGMSG -DMATH_NO_PLUGIN_MANAGER -DROOT_Math_VecTypes -I/Users/henryiii/anaconda/include/python3.6m -I/Users/henryiii/.local/include/python3.6m -IMinuit2-6.14.0-Source/inc -I/Users/henryiii/anaconda/include/python3.6m -c Minuit2-6.14.0-Source/src/NegativeG2LineSearch.cxx -o build/temp.macosx-10.7-x86_64-3.6/Minuit2-6.14.0-Source/src/NegativeG2LineSearch.o -stdlib=libc++ -mmacosx-version-min=10.7 -DVERSION_INFO=\"6.14.0\" -std=c++14 -fvisibility=hidden\n",
      "gcc -Wno-unused-result -Wsign-compare -Wunreachable-code -DNDEBUG -g -fwrapv -O3 -Wall -Wstrict-prototypes -I/Users/henryiii/anaconda/include -arch x86_64 -I/Users/henryiii/anaconda/include -arch x86_64 -DWARNINGMSG -DMATH_NO_PLUGIN_MANAGER -DROOT_Math_VecTypes -I/Users/henryiii/anaconda/include/python3.6m -I/Users/henryiii/.local/include/python3.6m -IMinuit2-6.14.0-Source/inc -I/Users/henryiii/anaconda/include/python3.6m -c Minuit2-6.14.0-Source/src/MnGlobalCorrelationCoeff.cxx -o build/temp.macosx-10.7-x86_64-3.6/Minuit2-6.14.0-Source/src/MnGlobalCorrelationCoeff.o -stdlib=libc++ -mmacosx-version-min=10.7 -DVERSION_INFO=\"6.14.0\" -std=c++14 -fvisibility=hidden\n",
      "gcc -Wno-unused-result -Wsign-compare -Wunreachable-code -DNDEBUG -g -fwrapv -O3 -Wall -Wstrict-prototypes -I/Users/henryiii/anaconda/include -arch x86_64 -I/Users/henryiii/anaconda/include -arch x86_64 -DWARNINGMSG -DMATH_NO_PLUGIN_MANAGER -DROOT_Math_VecTypes -I/Users/henryiii/anaconda/include/python3.6m -I/Users/henryiii/.local/include/python3.6m -IMinuit2-6.14.0-Source/inc -I/Users/henryiii/anaconda/include/python3.6m -c Minuit2-6.14.0-Source/src/FumiliErrorUpdator.cxx -o build/temp.macosx-10.7-x86_64-3.6/Minuit2-6.14.0-Source/src/FumiliErrorUpdator.o -stdlib=libc++ -mmacosx-version-min=10.7 -DVERSION_INFO=\"6.14.0\" -std=c++14 -fvisibility=hidden\n",
      "gcc -Wno-unused-result -Wsign-compare -Wunreachable-code -DNDEBUG -g -fwrapv -O3 -Wall -Wstrict-prototypes -I/Users/henryiii/anaconda/include -arch x86_64 -I/Users/henryiii/anaconda/include -arch x86_64 -DWARNINGMSG -DMATH_NO_PLUGIN_MANAGER -DROOT_Math_VecTypes -I/Users/henryiii/anaconda/include/python3.6m -I/Users/henryiii/.local/include/python3.6m -IMinuit2-6.14.0-Source/inc -I/Users/henryiii/anaconda/include/python3.6m -c Minuit2-6.14.0-Source/src/LaInnerProduct.cxx -o build/temp.macosx-10.7-x86_64-3.6/Minuit2-6.14.0-Source/src/LaInnerProduct.o -stdlib=libc++ -mmacosx-version-min=10.7 -DVERSION_INFO=\"6.14.0\" -std=c++14 -fvisibility=hidden\n",
      "gcc -Wno-unused-result -Wsign-compare -Wunreachable-code -DNDEBUG -g -fwrapv -O3 -Wall -Wstrict-prototypes -I/Users/henryiii/anaconda/include -arch x86_64 -I/Users/henryiii/anaconda/include -arch x86_64 -DWARNINGMSG -DMATH_NO_PLUGIN_MANAGER -DROOT_Math_VecTypes -I/Users/henryiii/anaconda/include/python3.6m -I/Users/henryiii/.local/include/python3.6m -IMinuit2-6.14.0-Source/inc -I/Users/henryiii/anaconda/include/python3.6m -c Minuit2-6.14.0-Source/src/MnFumiliMinimize.cxx -o build/temp.macosx-10.7-x86_64-3.6/Minuit2-6.14.0-Source/src/MnFumiliMinimize.o -stdlib=libc++ -mmacosx-version-min=10.7 -DVERSION_INFO=\"6.14.0\" -std=c++14 -fvisibility=hidden\n",
      "gcc -Wno-unused-result -Wsign-compare -Wunreachable-code -DNDEBUG -g -fwrapv -O3 -Wall -Wstrict-prototypes -I/Users/henryiii/anaconda/include -arch x86_64 -I/Users/henryiii/anaconda/include -arch x86_64 -DWARNINGMSG -DMATH_NO_PLUGIN_MANAGER -DROOT_Math_VecTypes -I/Users/henryiii/anaconda/include/python3.6m -I/Users/henryiii/.local/include/python3.6m -IMinuit2-6.14.0-Source/inc -I/Users/henryiii/anaconda/include/python3.6m -c Minuit2-6.14.0-Source/src/MnFunctionCross.cxx -o build/temp.macosx-10.7-x86_64-3.6/Minuit2-6.14.0-Source/src/MnFunctionCross.o -stdlib=libc++ -mmacosx-version-min=10.7 -DVERSION_INFO=\"6.14.0\" -std=c++14 -fvisibility=hidden\n",
      "gcc -Wno-unused-result -Wsign-compare -Wunreachable-code -DNDEBUG -g -fwrapv -O3 -Wall -Wstrict-prototypes -I/Users/henryiii/anaconda/include -arch x86_64 -I/Users/henryiii/anaconda/include -arch x86_64 -DWARNINGMSG -DMATH_NO_PLUGIN_MANAGER -DROOT_Math_VecTypes -I/Users/henryiii/anaconda/include/python3.6m -I/Users/henryiii/.local/include/python3.6m -IMinuit2-6.14.0-Source/inc -I/Users/henryiii/anaconda/include/python3.6m -c Minuit2-6.14.0-Source/src/SimplexSeedGenerator.cxx -o build/temp.macosx-10.7-x86_64-3.6/Minuit2-6.14.0-Source/src/SimplexSeedGenerator.o -stdlib=libc++ -mmacosx-version-min=10.7 -DVERSION_INFO=\"6.14.0\" -std=c++14 -fvisibility=hidden\n"
     ]
    },
    {
     "name": "stdout",
     "output_type": "stream",
     "text": [
      "gcc -Wno-unused-result -Wsign-compare -Wunreachable-code -DNDEBUG -g -fwrapv -O3 -Wall -Wstrict-prototypes -I/Users/henryiii/anaconda/include -arch x86_64 -I/Users/henryiii/anaconda/include -arch x86_64 -DWARNINGMSG -DMATH_NO_PLUGIN_MANAGER -DROOT_Math_VecTypes -I/Users/henryiii/anaconda/include/python3.6m -I/Users/henryiii/.local/include/python3.6m -IMinuit2-6.14.0-Source/inc -I/Users/henryiii/anaconda/include/python3.6m -c Minuit2-6.14.0-Source/src/VariableMetricBuilder.cxx -o build/temp.macosx-10.7-x86_64-3.6/Minuit2-6.14.0-Source/src/VariableMetricBuilder.o -stdlib=libc++ -mmacosx-version-min=10.7 -DVERSION_INFO=\"6.14.0\" -std=c++14 -fvisibility=hidden\n",
      "gcc -Wno-unused-result -Wsign-compare -Wunreachable-code -DNDEBUG -g -fwrapv -O3 -Wall -Wstrict-prototypes -I/Users/henryiii/anaconda/include -arch x86_64 -I/Users/henryiii/anaconda/include -arch x86_64 -DWARNINGMSG -DMATH_NO_PLUGIN_MANAGER -DROOT_Math_VecTypes -I/Users/henryiii/anaconda/include/python3.6m -I/Users/henryiii/.local/include/python3.6m -IMinuit2-6.14.0-Source/inc -I/Users/henryiii/anaconda/include/python3.6m -c Minuit2-6.14.0-Source/src/MnStrategy.cxx -o build/temp.macosx-10.7-x86_64-3.6/Minuit2-6.14.0-Source/src/MnStrategy.o -stdlib=libc++ -mmacosx-version-min=10.7 -DVERSION_INFO=\"6.14.0\" -std=c++14 -fvisibility=hidden\n",
      "gcc -Wno-unused-result -Wsign-compare -Wunreachable-code -DNDEBUG -g -fwrapv -O3 -Wall -Wstrict-prototypes -I/Users/henryiii/anaconda/include -arch x86_64 -I/Users/henryiii/anaconda/include -arch x86_64 -DWARNINGMSG -DMATH_NO_PLUGIN_MANAGER -DROOT_Math_VecTypes -I/Users/henryiii/anaconda/include/python3.6m -I/Users/henryiii/.local/include/python3.6m -IMinuit2-6.14.0-Source/inc -I/Users/henryiii/anaconda/include/python3.6m -c Minuit2-6.14.0-Source/src/BFGSErrorUpdator.cxx -o build/temp.macosx-10.7-x86_64-3.6/Minuit2-6.14.0-Source/src/BFGSErrorUpdator.o -stdlib=libc++ -mmacosx-version-min=10.7 -DVERSION_INFO=\"6.14.0\" -std=c++14 -fvisibility=hidden\n",
      "gcc -Wno-unused-result -Wsign-compare -Wunreachable-code -DNDEBUG -g -fwrapv -O3 -Wall -Wstrict-prototypes -I/Users/henryiii/anaconda/include -arch x86_64 -I/Users/henryiii/anaconda/include -arch x86_64 -DWARNINGMSG -DMATH_NO_PLUGIN_MANAGER -DROOT_Math_VecTypes -I/Users/henryiii/anaconda/include/python3.6m -I/Users/henryiii/.local/include/python3.6m -IMinuit2-6.14.0-Source/inc -I/Users/henryiii/anaconda/include/python3.6m -c Minuit2-6.14.0-Source/src/mnbins.cxx -o build/temp.macosx-10.7-x86_64-3.6/Minuit2-6.14.0-Source/src/mnbins.o -stdlib=libc++ -mmacosx-version-min=10.7 -DVERSION_INFO=\"6.14.0\" -std=c++14 -fvisibility=hidden\n",
      "gcc -Wno-unused-result -Wsign-compare -Wunreachable-code -DNDEBUG -g -fwrapv -O3 -Wall -Wstrict-prototypes -I/Users/henryiii/anaconda/include -arch x86_64 -I/Users/henryiii/anaconda/include -arch x86_64 -DWARNINGMSG -DMATH_NO_PLUGIN_MANAGER -DROOT_Math_VecTypes -I/Users/henryiii/anaconda/include/python3.6m -I/Users/henryiii/.local/include/python3.6m -IMinuit2-6.14.0-Source/inc -I/Users/henryiii/anaconda/include/python3.6m -c Minuit2-6.14.0-Source/src/MnCovarianceSqueeze.cxx -o build/temp.macosx-10.7-x86_64-3.6/Minuit2-6.14.0-Source/src/MnCovarianceSqueeze.o -stdlib=libc++ -mmacosx-version-min=10.7 -DVERSION_INFO=\"6.14.0\" -std=c++14 -fvisibility=hidden\n",
      "gcc -Wno-unused-result -Wsign-compare -Wunreachable-code -DNDEBUG -g -fwrapv -O3 -Wall -Wstrict-prototypes -I/Users/henryiii/anaconda/include -arch x86_64 -I/Users/henryiii/anaconda/include -arch x86_64 -DWARNINGMSG -DMATH_NO_PLUGIN_MANAGER -DROOT_Math_VecTypes -I/Users/henryiii/anaconda/include/python3.6m -I/Users/henryiii/.local/include/python3.6m -IMinuit2-6.14.0-Source/inc -I/Users/henryiii/anaconda/include/python3.6m -c Minuit2-6.14.0-Source/src/MnMachinePrecision.cxx -o build/temp.macosx-10.7-x86_64-3.6/Minuit2-6.14.0-Source/src/MnMachinePrecision.o -stdlib=libc++ -mmacosx-version-min=10.7 -DVERSION_INFO=\"6.14.0\" -std=c++14 -fvisibility=hidden\n",
      "gcc -Wno-unused-result -Wsign-compare -Wunreachable-code -DNDEBUG -g -fwrapv -O3 -Wall -Wstrict-prototypes -I/Users/henryiii/anaconda/include -arch x86_64 -I/Users/henryiii/anaconda/include -arch x86_64 -DWARNINGMSG -DMATH_NO_PLUGIN_MANAGER -DROOT_Math_VecTypes -I/Users/henryiii/anaconda/include/python3.6m -I/Users/henryiii/.local/include/python3.6m -IMinuit2-6.14.0-Source/inc -I/Users/henryiii/anaconda/include/python3.6m -c Minuit2-6.14.0-Source/src/CombinedMinimumBuilder.cxx -o build/temp.macosx-10.7-x86_64-3.6/Minuit2-6.14.0-Source/src/CombinedMinimumBuilder.o -stdlib=libc++ -mmacosx-version-min=10.7 -DVERSION_INFO=\"6.14.0\" -std=c++14 -fvisibility=hidden\n",
      "gcc -Wno-unused-result -Wsign-compare -Wunreachable-code -DNDEBUG -g -fwrapv -O3 -Wall -Wstrict-prototypes -I/Users/henryiii/anaconda/include -arch x86_64 -I/Users/henryiii/anaconda/include -arch x86_64 -DWARNINGMSG -DMATH_NO_PLUGIN_MANAGER -DROOT_Math_VecTypes -I/Users/henryiii/anaconda/include/python3.6m -I/Users/henryiii/.local/include/python3.6m -IMinuit2-6.14.0-Source/inc -I/Users/henryiii/anaconda/include/python3.6m -c Minuit2-6.14.0-Source/src/MnScan.cxx -o build/temp.macosx-10.7-x86_64-3.6/Minuit2-6.14.0-Source/src/MnScan.o -stdlib=libc++ -mmacosx-version-min=10.7 -DVERSION_INFO=\"6.14.0\" -std=c++14 -fvisibility=hidden\n",
      "gcc -Wno-unused-result -Wsign-compare -Wunreachable-code -DNDEBUG -g -fwrapv -O3 -Wall -Wstrict-prototypes -I/Users/henryiii/anaconda/include -arch x86_64 -I/Users/henryiii/anaconda/include -arch x86_64 -DWARNINGMSG -DMATH_NO_PLUGIN_MANAGER -DROOT_Math_VecTypes -I/Users/henryiii/anaconda/include/python3.6m -I/Users/henryiii/.local/include/python3.6m -IMinuit2-6.14.0-Source/inc -I/Users/henryiii/anaconda/include/python3.6m -c Minuit2-6.14.0-Source/src/MnPosDef.cxx -o build/temp.macosx-10.7-x86_64-3.6/Minuit2-6.14.0-Source/src/MnPosDef.o -stdlib=libc++ -mmacosx-version-min=10.7 -DVERSION_INFO=\"6.14.0\" -std=c++14 -fvisibility=hidden\n",
      "gcc -Wno-unused-result -Wsign-compare -Wunreachable-code -DNDEBUG -g -fwrapv -O3 -Wall -Wstrict-prototypes -I/Users/henryiii/anaconda/include -arch x86_64 -I/Users/henryiii/anaconda/include -arch x86_64 -DWARNINGMSG -DMATH_NO_PLUGIN_MANAGER -DROOT_Math_VecTypes -I/Users/henryiii/anaconda/include/python3.6m -I/Users/henryiii/.local/include/python3.6m -IMinuit2-6.14.0-Source/inc -I/Users/henryiii/anaconda/include/python3.6m -c Minuit2-6.14.0-Source/src/SimplexBuilder.cxx -o build/temp.macosx-10.7-x86_64-3.6/Minuit2-6.14.0-Source/src/SimplexBuilder.o -stdlib=libc++ -mmacosx-version-min=10.7 -DVERSION_INFO=\"6.14.0\" -std=c++14 -fvisibility=hidden\n",
      "gcc -Wno-unused-result -Wsign-compare -Wunreachable-code -DNDEBUG -g -fwrapv -O3 -Wall -Wstrict-prototypes -I/Users/henryiii/anaconda/include -arch x86_64 -I/Users/henryiii/anaconda/include -arch x86_64 -DWARNINGMSG -DMATH_NO_PLUGIN_MANAGER -DROOT_Math_VecTypes -I/Users/henryiii/anaconda/include/python3.6m -I/Users/henryiii/.local/include/python3.6m -IMinuit2-6.14.0-Source/inc -I/Users/henryiii/anaconda/include/python3.6m -c Minuit2-6.14.0-Source/src/HessianGradientCalculator.cxx -o build/temp.macosx-10.7-x86_64-3.6/Minuit2-6.14.0-Source/src/HessianGradientCalculator.o -stdlib=libc++ -mmacosx-version-min=10.7 -DVERSION_INFO=\"6.14.0\" -std=c++14 -fvisibility=hidden\n",
      "gcc -Wno-unused-result -Wsign-compare -Wunreachable-code -DNDEBUG -g -fwrapv -O3 -Wall -Wstrict-prototypes -I/Users/henryiii/anaconda/include -arch x86_64 -I/Users/henryiii/anaconda/include -arch x86_64 -DWARNINGMSG -DMATH_NO_PLUGIN_MANAGER -DROOT_Math_VecTypes -I/Users/henryiii/anaconda/include/python3.6m -I/Users/henryiii/.local/include/python3.6m -IMinuit2-6.14.0-Source/inc -I/Users/henryiii/anaconda/include/python3.6m -c Minuit2-6.14.0-Source/src/mndasum.cxx -o build/temp.macosx-10.7-x86_64-3.6/Minuit2-6.14.0-Source/src/mndasum.o -stdlib=libc++ -mmacosx-version-min=10.7 -DVERSION_INFO=\"6.14.0\" -std=c++14 -fvisibility=hidden\n",
      "gcc -Wno-unused-result -Wsign-compare -Wunreachable-code -DNDEBUG -g -fwrapv -O3 -Wall -Wstrict-prototypes -I/Users/henryiii/anaconda/include -arch x86_64 -I/Users/henryiii/anaconda/include -arch x86_64 -DWARNINGMSG -DMATH_NO_PLUGIN_MANAGER -DROOT_Math_VecTypes -I/Users/henryiii/anaconda/include/python3.6m -I/Users/henryiii/.local/include/python3.6m -IMinuit2-6.14.0-Source/inc -I/Users/henryiii/anaconda/include/python3.6m -c Minuit2-6.14.0-Source/src/VariableMetricEDMEstimator.cxx -o build/temp.macosx-10.7-x86_64-3.6/Minuit2-6.14.0-Source/src/VariableMetricEDMEstimator.o -stdlib=libc++ -mmacosx-version-min=10.7 -DVERSION_INFO=\"6.14.0\" -std=c++14 -fvisibility=hidden\n"
     ]
    },
    {
     "name": "stdout",
     "output_type": "stream",
     "text": [
      "gcc -Wno-unused-result -Wsign-compare -Wunreachable-code -DNDEBUG -g -fwrapv -O3 -Wall -Wstrict-prototypes -I/Users/henryiii/anaconda/include -arch x86_64 -I/Users/henryiii/anaconda/include -arch x86_64 -DWARNINGMSG -DMATH_NO_PLUGIN_MANAGER -DROOT_Math_VecTypes -I/Users/henryiii/anaconda/include/python3.6m -I/Users/henryiii/.local/include/python3.6m -IMinuit2-6.14.0-Source/inc -I/Users/henryiii/anaconda/include/python3.6m -c Minuit2-6.14.0-Source/src/Numerical2PGradientCalculator.cxx -o build/temp.macosx-10.7-x86_64-3.6/Minuit2-6.14.0-Source/src/Numerical2PGradientCalculator.o -stdlib=libc++ -mmacosx-version-min=10.7 -DVERSION_INFO=\"6.14.0\" -std=c++14 -fvisibility=hidden\n",
      "gcc -Wno-unused-result -Wsign-compare -Wunreachable-code -DNDEBUG -g -fwrapv -O3 -Wall -Wstrict-prototypes -I/Users/henryiii/anaconda/include -arch x86_64 -I/Users/henryiii/anaconda/include -arch x86_64 -DWARNINGMSG -DMATH_NO_PLUGIN_MANAGER -DROOT_Math_VecTypes -I/Users/henryiii/anaconda/include/python3.6m -I/Users/henryiii/.local/include/python3.6m -IMinuit2-6.14.0-Source/inc -I/Users/henryiii/anaconda/include/python3.6m -c Minuit2-6.14.0-Source/src/MnParabolaFactory.cxx -o build/temp.macosx-10.7-x86_64-3.6/Minuit2-6.14.0-Source/src/MnParabolaFactory.o -stdlib=libc++ -mmacosx-version-min=10.7 -DVERSION_INFO=\"6.14.0\" -std=c++14 -fvisibility=hidden\n",
      "gcc -Wno-unused-result -Wsign-compare -Wunreachable-code -DNDEBUG -g -fwrapv -O3 -Wall -Wstrict-prototypes -I/Users/henryiii/anaconda/include -arch x86_64 -I/Users/henryiii/anaconda/include -arch x86_64 -DWARNINGMSG -DMATH_NO_PLUGIN_MANAGER -DROOT_Math_VecTypes -I/Users/henryiii/anaconda/include/python3.6m -I/Users/henryiii/.local/include/python3.6m -IMinuit2-6.14.0-Source/inc -I/Users/henryiii/anaconda/include/python3.6m -c Minuit2-6.14.0-Source/src/MnEigen.cxx -o build/temp.macosx-10.7-x86_64-3.6/Minuit2-6.14.0-Source/src/MnEigen.o -stdlib=libc++ -mmacosx-version-min=10.7 -DVERSION_INFO=\"6.14.0\" -std=c++14 -fvisibility=hidden\n",
      "gcc -Wno-unused-result -Wsign-compare -Wunreachable-code -DNDEBUG -g -fwrapv -O3 -Wall -Wstrict-prototypes -I/Users/henryiii/anaconda/include -arch x86_64 -I/Users/henryiii/anaconda/include -arch x86_64 -DWARNINGMSG -DMATH_NO_PLUGIN_MANAGER -DROOT_Math_VecTypes -I/Users/henryiii/anaconda/include/python3.6m -I/Users/henryiii/.local/include/python3.6m -IMinuit2-6.14.0-Source/inc -I/Users/henryiii/anaconda/include/python3.6m -c Minuit2-6.14.0-Source/src/SimplexParameters.cxx -o build/temp.macosx-10.7-x86_64-3.6/Minuit2-6.14.0-Source/src/SimplexParameters.o -stdlib=libc++ -mmacosx-version-min=10.7 -DVERSION_INFO=\"6.14.0\" -std=c++14 -fvisibility=hidden\n",
      "gcc -Wno-unused-result -Wsign-compare -Wunreachable-code -DNDEBUG -g -fwrapv -O3 -Wall -Wstrict-prototypes -I/Users/henryiii/anaconda/include -arch x86_64 -I/Users/henryiii/anaconda/include -arch x86_64 -DWARNINGMSG -DMATH_NO_PLUGIN_MANAGER -DROOT_Math_VecTypes -I/Users/henryiii/anaconda/include/python3.6m -I/Users/henryiii/.local/include/python3.6m -IMinuit2-6.14.0-Source/inc -I/Users/henryiii/anaconda/include/python3.6m -c Minuit2-6.14.0-Source/src/MnLineSearch.cxx -o build/temp.macosx-10.7-x86_64-3.6/Minuit2-6.14.0-Source/src/MnLineSearch.o -stdlib=libc++ -mmacosx-version-min=10.7 -DVERSION_INFO=\"6.14.0\" -std=c++14 -fvisibility=hidden\n",
      "gcc -Wno-unused-result -Wsign-compare -Wunreachable-code -DNDEBUG -g -fwrapv -O3 -Wall -Wstrict-prototypes -I/Users/henryiii/anaconda/include -arch x86_64 -I/Users/henryiii/anaconda/include -arch x86_64 -DWARNINGMSG -DMATH_NO_PLUGIN_MANAGER -DROOT_Math_VecTypes -I/Users/henryiii/anaconda/include/python3.6m -I/Users/henryiii/.local/include/python3.6m -IMinuit2-6.14.0-Source/inc -I/Users/henryiii/anaconda/include/python3.6m -c Minuit2-6.14.0-Source/src/MnUserFcn.cxx -o build/temp.macosx-10.7-x86_64-3.6/Minuit2-6.14.0-Source/src/MnUserFcn.o -stdlib=libc++ -mmacosx-version-min=10.7 -DVERSION_INFO=\"6.14.0\" -std=c++14 -fvisibility=hidden\n",
      "gcc -Wno-unused-result -Wsign-compare -Wunreachable-code -DNDEBUG -g -fwrapv -O3 -Wall -Wstrict-prototypes -I/Users/henryiii/anaconda/include -arch x86_64 -I/Users/henryiii/anaconda/include -arch x86_64 -DWARNINGMSG -DMATH_NO_PLUGIN_MANAGER -DROOT_Math_VecTypes -I/Users/henryiii/anaconda/include/python3.6m -I/Users/henryiii/.local/include/python3.6m -IMinuit2-6.14.0-Source/inc -I/Users/henryiii/anaconda/include/python3.6m -c Minuit2-6.14.0-Source/src/MnUserTransformation.cxx -o build/temp.macosx-10.7-x86_64-3.6/Minuit2-6.14.0-Source/src/MnUserTransformation.o -stdlib=libc++ -mmacosx-version-min=10.7 -DVERSION_INFO=\"6.14.0\" -std=c++14 -fvisibility=hidden\n",
      "gcc -Wno-unused-result -Wsign-compare -Wunreachable-code -DNDEBUG -g -fwrapv -O3 -Wall -Wstrict-prototypes -I/Users/henryiii/anaconda/include -arch x86_64 -I/Users/henryiii/anaconda/include -arch x86_64 -DWARNINGMSG -DMATH_NO_PLUGIN_MANAGER -DROOT_Math_VecTypes -I/Users/henryiii/anaconda/include/python3.6m -I/Users/henryiii/.local/include/python3.6m -IMinuit2-6.14.0-Source/inc -I/Users/henryiii/anaconda/include/python3.6m -c pyminuit2/FunctionMinimum.cpp -o build/temp.macosx-10.7-x86_64-3.6/pyminuit2/FunctionMinimum.o -stdlib=libc++ -mmacosx-version-min=10.7 -DVERSION_INFO=\"6.14.0\" -std=c++14 -fvisibility=hidden\n",
      "gcc -Wno-unused-result -Wsign-compare -Wunreachable-code -DNDEBUG -g -fwrapv -O3 -Wall -Wstrict-prototypes -I/Users/henryiii/anaconda/include -arch x86_64 -I/Users/henryiii/anaconda/include -arch x86_64 -DWARNINGMSG -DMATH_NO_PLUGIN_MANAGER -DROOT_Math_VecTypes -I/Users/henryiii/anaconda/include/python3.6m -I/Users/henryiii/.local/include/python3.6m -IMinuit2-6.14.0-Source/inc -I/Users/henryiii/anaconda/include/python3.6m -c Minuit2-6.14.0-Source/src/mnddot.cxx -o build/temp.macosx-10.7-x86_64-3.6/Minuit2-6.14.0-Source/src/mnddot.o -stdlib=libc++ -mmacosx-version-min=10.7 -DVERSION_INFO=\"6.14.0\" -std=c++14 -fvisibility=hidden\n",
      "gcc -Wno-unused-result -Wsign-compare -Wunreachable-code -DNDEBUG -g -fwrapv -O3 -Wall -Wstrict-prototypes -I/Users/henryiii/anaconda/include -arch x86_64 -I/Users/henryiii/anaconda/include -arch x86_64 -DWARNINGMSG -DMATH_NO_PLUGIN_MANAGER -DROOT_Math_VecTypes -I/Users/henryiii/anaconda/include/python3.6m -I/Users/henryiii/.local/include/python3.6m -IMinuit2-6.14.0-Source/inc -I/Users/henryiii/anaconda/include/python3.6m -c Minuit2-6.14.0-Source/src/MnTiny.cxx -o build/temp.macosx-10.7-x86_64-3.6/Minuit2-6.14.0-Source/src/MnTiny.o -stdlib=libc++ -mmacosx-version-min=10.7 -DVERSION_INFO=\"6.14.0\" -std=c++14 -fvisibility=hidden\n",
      "gcc -Wno-unused-result -Wsign-compare -Wunreachable-code -DNDEBUG -g -fwrapv -O3 -Wall -Wstrict-prototypes -I/Users/henryiii/anaconda/include -arch x86_64 -I/Users/henryiii/anaconda/include -arch x86_64 -DWARNINGMSG -DMATH_NO_PLUGIN_MANAGER -DROOT_Math_VecTypes -I/Users/henryiii/anaconda/include/python3.6m -I/Users/henryiii/.local/include/python3.6m -IMinuit2-6.14.0-Source/inc -I/Users/henryiii/anaconda/include/python3.6m -c pyminuit2/FCNBase.cpp -o build/temp.macosx-10.7-x86_64-3.6/pyminuit2/FCNBase.o -stdlib=libc++ -mmacosx-version-min=10.7 -DVERSION_INFO=\"6.14.0\" -std=c++14 -fvisibility=hidden\n",
      "gcc -Wno-unused-result -Wsign-compare -Wunreachable-code -DNDEBUG -g -fwrapv -O3 -Wall -Wstrict-prototypes -I/Users/henryiii/anaconda/include -arch x86_64 -I/Users/henryiii/anaconda/include -arch x86_64 -DWARNINGMSG -DMATH_NO_PLUGIN_MANAGER -DROOT_Math_VecTypes -I/Users/henryiii/anaconda/include/python3.6m -I/Users/henryiii/.local/include/python3.6m -IMinuit2-6.14.0-Source/inc -I/Users/henryiii/anaconda/include/python3.6m -c Minuit2-6.14.0-Source/src/AnalyticalGradientCalculator.cxx -o build/temp.macosx-10.7-x86_64-3.6/Minuit2-6.14.0-Source/src/AnalyticalGradientCalculator.o -stdlib=libc++ -mmacosx-version-min=10.7 -DVERSION_INFO=\"6.14.0\" -std=c++14 -fvisibility=hidden\n",
      "gcc -Wno-unused-result -Wsign-compare -Wunreachable-code -DNDEBUG -g -fwrapv -O3 -Wall -Wstrict-prototypes -I/Users/henryiii/anaconda/include -arch x86_64 -I/Users/henryiii/anaconda/include -arch x86_64 -DWARNINGMSG -DMATH_NO_PLUGIN_MANAGER -DROOT_Math_VecTypes -I/Users/henryiii/anaconda/include/python3.6m -I/Users/henryiii/.local/include/python3.6m -IMinuit2-6.14.0-Source/inc -I/Users/henryiii/anaconda/include/python3.6m -c Minuit2-6.14.0-Source/src/LaSumOfElements.cxx -o build/temp.macosx-10.7-x86_64-3.6/Minuit2-6.14.0-Source/src/LaSumOfElements.o -stdlib=libc++ -mmacosx-version-min=10.7 -DVERSION_INFO=\"6.14.0\" -std=c++14 -fvisibility=hidden\n"
     ]
    },
    {
     "name": "stdout",
     "output_type": "stream",
     "text": [
      "gcc -Wno-unused-result -Wsign-compare -Wunreachable-code -DNDEBUG -g -fwrapv -O3 -Wall -Wstrict-prototypes -I/Users/henryiii/anaconda/include -arch x86_64 -I/Users/henryiii/anaconda/include -arch x86_64 -DWARNINGMSG -DMATH_NO_PLUGIN_MANAGER -DROOT_Math_VecTypes -I/Users/henryiii/anaconda/include/python3.6m -I/Users/henryiii/.local/include/python3.6m -IMinuit2-6.14.0-Source/inc -I/Users/henryiii/anaconda/include/python3.6m -c Minuit2-6.14.0-Source/src/MnContours.cxx -o build/temp.macosx-10.7-x86_64-3.6/Minuit2-6.14.0-Source/src/MnContours.o -stdlib=libc++ -mmacosx-version-min=10.7 -DVERSION_INFO=\"6.14.0\" -std=c++14 -fvisibility=hidden\n",
      "gcc -Wno-unused-result -Wsign-compare -Wunreachable-code -DNDEBUG -g -fwrapv -O3 -Wall -Wstrict-prototypes -I/Users/henryiii/anaconda/include -arch x86_64 -I/Users/henryiii/anaconda/include -arch x86_64 -DWARNINGMSG -DMATH_NO_PLUGIN_MANAGER -DROOT_Math_VecTypes -I/Users/henryiii/anaconda/include/python3.6m -I/Users/henryiii/.local/include/python3.6m -IMinuit2-6.14.0-Source/inc -I/Users/henryiii/anaconda/include/python3.6m -c Minuit2-6.14.0-Source/src/MnPrint.cxx -o build/temp.macosx-10.7-x86_64-3.6/Minuit2-6.14.0-Source/src/MnPrint.o -stdlib=libc++ -mmacosx-version-min=10.7 -DVERSION_INFO=\"6.14.0\" -std=c++14 -fvisibility=hidden\n",
      "gcc -Wno-unused-result -Wsign-compare -Wunreachable-code -DNDEBUG -g -fwrapv -O3 -Wall -Wstrict-prototypes -I/Users/henryiii/anaconda/include -arch x86_64 -I/Users/henryiii/anaconda/include -arch x86_64 -DWARNINGMSG -DMATH_NO_PLUGIN_MANAGER -DROOT_Math_VecTypes -I/Users/henryiii/anaconda/include/python3.6m -I/Users/henryiii/.local/include/python3.6m -IMinuit2-6.14.0-Source/inc -I/Users/henryiii/anaconda/include/python3.6m -c Minuit2-6.14.0-Source/src/MnTraceObject.cxx -o build/temp.macosx-10.7-x86_64-3.6/Minuit2-6.14.0-Source/src/MnTraceObject.o -stdlib=libc++ -mmacosx-version-min=10.7 -DVERSION_INFO=\"6.14.0\" -std=c++14 -fvisibility=hidden\n",
      "gcc -Wno-unused-result -Wsign-compare -Wunreachable-code -DNDEBUG -g -fwrapv -O3 -Wall -Wstrict-prototypes -I/Users/henryiii/anaconda/include -arch x86_64 -I/Users/henryiii/anaconda/include -arch x86_64 -DWARNINGMSG -DMATH_NO_PLUGIN_MANAGER -DROOT_Math_VecTypes -I/Users/henryiii/anaconda/include/python3.6m -I/Users/henryiii/.local/include/python3.6m -IMinuit2-6.14.0-Source/inc -I/Users/henryiii/anaconda/include/python3.6m -c Minuit2-6.14.0-Source/src/mndspr.cxx -o build/temp.macosx-10.7-x86_64-3.6/Minuit2-6.14.0-Source/src/mndspr.o -stdlib=libc++ -mmacosx-version-min=10.7 -DVERSION_INFO=\"6.14.0\" -std=c++14 -fvisibility=hidden\n",
      "gcc -Wno-unused-result -Wsign-compare -Wunreachable-code -DNDEBUG -g -fwrapv -O3 -Wall -Wstrict-prototypes -I/Users/henryiii/anaconda/include -arch x86_64 -I/Users/henryiii/anaconda/include -arch x86_64 -DWARNINGMSG -DMATH_NO_PLUGIN_MANAGER -DROOT_Math_VecTypes -I/Users/henryiii/anaconda/include/python3.6m -I/Users/henryiii/.local/include/python3.6m -IMinuit2-6.14.0-Source/inc -I/Users/henryiii/anaconda/include/python3.6m -c pyminuit2/MnUserParameters.cpp -o build/temp.macosx-10.7-x86_64-3.6/pyminuit2/MnUserParameters.o -stdlib=libc++ -mmacosx-version-min=10.7 -DVERSION_INFO=\"6.14.0\" -std=c++14 -fvisibility=hidden\n",
      "gcc -Wno-unused-result -Wsign-compare -Wunreachable-code -DNDEBUG -g -fwrapv -O3 -Wall -Wstrict-prototypes -I/Users/henryiii/anaconda/include -arch x86_64 -I/Users/henryiii/anaconda/include -arch x86_64 -DWARNINGMSG -DMATH_NO_PLUGIN_MANAGER -DROOT_Math_VecTypes -I/Users/henryiii/anaconda/include/python3.6m -I/Users/henryiii/.local/include/python3.6m -IMinuit2-6.14.0-Source/inc -I/Users/henryiii/anaconda/include/python3.6m -c Minuit2-6.14.0-Source/src/mnlsame.cxx -o build/temp.macosx-10.7-x86_64-3.6/Minuit2-6.14.0-Source/src/mnlsame.o -stdlib=libc++ -mmacosx-version-min=10.7 -DVERSION_INFO=\"6.14.0\" -std=c++14 -fvisibility=hidden\n",
      "gcc -Wno-unused-result -Wsign-compare -Wunreachable-code -DNDEBUG -g -fwrapv -O3 -Wall -Wstrict-prototypes -I/Users/henryiii/anaconda/include -arch x86_64 -I/Users/henryiii/anaconda/include -arch x86_64 -DWARNINGMSG -DMATH_NO_PLUGIN_MANAGER -DROOT_Math_VecTypes -I/Users/henryiii/anaconda/include/python3.6m -I/Users/henryiii/.local/include/python3.6m -IMinuit2-6.14.0-Source/inc -I/Users/henryiii/anaconda/include/python3.6m -c Minuit2-6.14.0-Source/src/MnParameterScan.cxx -o build/temp.macosx-10.7-x86_64-3.6/Minuit2-6.14.0-Source/src/MnParameterScan.o -stdlib=libc++ -mmacosx-version-min=10.7 -DVERSION_INFO=\"6.14.0\" -std=c++14 -fvisibility=hidden\n",
      "gcc -Wno-unused-result -Wsign-compare -Wunreachable-code -DNDEBUG -g -fwrapv -O3 -Wall -Wstrict-prototypes -I/Users/henryiii/anaconda/include -arch x86_64 -I/Users/henryiii/anaconda/include -arch x86_64 -DWARNINGMSG -DMATH_NO_PLUGIN_MANAGER -DROOT_Math_VecTypes -I/Users/henryiii/anaconda/include/python3.6m -I/Users/henryiii/.local/include/python3.6m -IMinuit2-6.14.0-Source/inc -I/Users/henryiii/anaconda/include/python3.6m -c Minuit2-6.14.0-Source/src/FumiliStandardMaximumLikelihoodFCN.cxx -o build/temp.macosx-10.7-x86_64-3.6/Minuit2-6.14.0-Source/src/FumiliStandardMaximumLikelihoodFCN.o -stdlib=libc++ -mmacosx-version-min=10.7 -DVERSION_INFO=\"6.14.0\" -std=c++14 -fvisibility=hidden\n",
      "gcc -Wno-unused-result -Wsign-compare -Wunreachable-code -DNDEBUG -g -fwrapv -O3 -Wall -Wstrict-prototypes -I/Users/henryiii/anaconda/include -arch x86_64 -I/Users/henryiii/anaconda/include -arch x86_64 -DWARNINGMSG -DMATH_NO_PLUGIN_MANAGER -DROOT_Math_VecTypes -I/Users/henryiii/anaconda/include/python3.6m -I/Users/henryiii/.local/include/python3.6m -IMinuit2-6.14.0-Source/inc -I/Users/henryiii/anaconda/include/python3.6m -c Minuit2-6.14.0-Source/src/BasicMinimumError.cxx -o build/temp.macosx-10.7-x86_64-3.6/Minuit2-6.14.0-Source/src/BasicMinimumError.o -stdlib=libc++ -mmacosx-version-min=10.7 -DVERSION_INFO=\"6.14.0\" -std=c++14 -fvisibility=hidden\n",
      "gcc -Wno-unused-result -Wsign-compare -Wunreachable-code -DNDEBUG -g -fwrapv -O3 -Wall -Wstrict-prototypes -I/Users/henryiii/anaconda/include -arch x86_64 -I/Users/henryiii/anaconda/include -arch x86_64 -DWARNINGMSG -DMATH_NO_PLUGIN_MANAGER -DROOT_Math_VecTypes -I/Users/henryiii/anaconda/include/python3.6m -I/Users/henryiii/.local/include/python3.6m -IMinuit2-6.14.0-Source/inc -I/Users/henryiii/anaconda/include/python3.6m -c Minuit2-6.14.0-Source/src/mnvert.cxx -o build/temp.macosx-10.7-x86_64-3.6/Minuit2-6.14.0-Source/src/mnvert.o -stdlib=libc++ -mmacosx-version-min=10.7 -DVERSION_INFO=\"6.14.0\" -std=c++14 -fvisibility=hidden\n",
      "gcc -Wno-unused-result -Wsign-compare -Wunreachable-code -DNDEBUG -g -fwrapv -O3 -Wall -Wstrict-prototypes -I/Users/henryiii/anaconda/include -arch x86_64 -I/Users/henryiii/anaconda/include -arch x86_64 -DWARNINGMSG -DMATH_NO_PLUGIN_MANAGER -DROOT_Math_VecTypes -I/Users/henryiii/anaconda/include/python3.6m -I/Users/henryiii/.local/include/python3.6m -IMinuit2-6.14.0-Source/inc -I/Users/henryiii/anaconda/include/python3.6m -c Minuit2-6.14.0-Source/src/LaInverse.cxx -o build/temp.macosx-10.7-x86_64-3.6/Minuit2-6.14.0-Source/src/LaInverse.o -stdlib=libc++ -mmacosx-version-min=10.7 -DVERSION_INFO=\"6.14.0\" -std=c++14 -fvisibility=hidden\n",
      "gcc -Wno-unused-result -Wsign-compare -Wunreachable-code -DNDEBUG -g -fwrapv -O3 -Wall -Wstrict-prototypes -I/Users/henryiii/anaconda/include -arch x86_64 -I/Users/henryiii/anaconda/include -arch x86_64 -DWARNINGMSG -DMATH_NO_PLUGIN_MANAGER -DROOT_Math_VecTypes -I/Users/henryiii/anaconda/include/python3.6m -I/Users/henryiii/.local/include/python3.6m -IMinuit2-6.14.0-Source/inc -I/Users/henryiii/anaconda/include/python3.6m -c Minuit2-6.14.0-Source/src/Minuit2Minimizer.cxx -o build/temp.macosx-10.7-x86_64-3.6/Minuit2-6.14.0-Source/src/Minuit2Minimizer.o -stdlib=libc++ -mmacosx-version-min=10.7 -DVERSION_INFO=\"6.14.0\" -std=c++14 -fvisibility=hidden\n",
      "gcc -Wno-unused-result -Wsign-compare -Wunreachable-code -DNDEBUG -g -fwrapv -O3 -Wall -Wstrict-prototypes -I/Users/henryiii/anaconda/include -arch x86_64 -I/Users/henryiii/anaconda/include -arch x86_64 -DWARNINGMSG -DMATH_NO_PLUGIN_MANAGER -DROOT_Math_VecTypes -I/Users/henryiii/anaconda/include/python3.6m -I/Users/henryiii/.local/include/python3.6m -IMinuit2-6.14.0-Source/inc -I/Users/henryiii/anaconda/include/python3.6m -c Minuit2-6.14.0-Source/src/LaOuterProduct.cxx -o build/temp.macosx-10.7-x86_64-3.6/Minuit2-6.14.0-Source/src/LaOuterProduct.o -stdlib=libc++ -mmacosx-version-min=10.7 -DVERSION_INFO=\"6.14.0\" -std=c++14 -fvisibility=hidden\n"
     ]
    },
    {
     "name": "stdout",
     "output_type": "stream",
     "text": [
      "gcc -Wno-unused-result -Wsign-compare -Wunreachable-code -DNDEBUG -g -fwrapv -O3 -Wall -Wstrict-prototypes -I/Users/henryiii/anaconda/include -arch x86_64 -I/Users/henryiii/anaconda/include -arch x86_64 -DWARNINGMSG -DMATH_NO_PLUGIN_MANAGER -DROOT_Math_VecTypes -I/Users/henryiii/anaconda/include/python3.6m -I/Users/henryiii/.local/include/python3.6m -IMinuit2-6.14.0-Source/inc -I/Users/henryiii/anaconda/include/python3.6m -c Minuit2-6.14.0-Source/src/SinParameterTransformation.cxx -o build/temp.macosx-10.7-x86_64-3.6/Minuit2-6.14.0-Source/src/SinParameterTransformation.o -stdlib=libc++ -mmacosx-version-min=10.7 -DVERSION_INFO=\"6.14.0\" -std=c++14 -fvisibility=hidden\n",
      "gcc -Wno-unused-result -Wsign-compare -Wunreachable-code -DNDEBUG -g -fwrapv -O3 -Wall -Wstrict-prototypes -I/Users/henryiii/anaconda/include -arch x86_64 -I/Users/henryiii/anaconda/include -arch x86_64 -DWARNINGMSG -DMATH_NO_PLUGIN_MANAGER -DROOT_Math_VecTypes -I/Users/henryiii/anaconda/include/python3.6m -I/Users/henryiii/.local/include/python3.6m -IMinuit2-6.14.0-Source/inc -I/Users/henryiii/anaconda/include/python3.6m -c Minuit2-6.14.0-Source/src/mndaxpy.cxx -o build/temp.macosx-10.7-x86_64-3.6/Minuit2-6.14.0-Source/src/mndaxpy.o -stdlib=libc++ -mmacosx-version-min=10.7 -DVERSION_INFO=\"6.14.0\" -std=c++14 -fvisibility=hidden\n",
      "g++ -bundle -undefined dynamic_lookup -L/Users/henryiii/anaconda/lib -arch x86_64 -L/Users/henryiii/anaconda/lib -arch x86_64 -arch x86_64 build/temp.macosx-10.7-x86_64-3.6/Minuit2-6.14.0-Source/src/FumiliStandardChi2FCN.o build/temp.macosx-10.7-x86_64-3.6/Minuit2-6.14.0-Source/src/FumiliMinimizer.o build/temp.macosx-10.7-x86_64-3.6/Minuit2-6.14.0-Source/src/MPIProcess.o build/temp.macosx-10.7-x86_64-3.6/Minuit2-6.14.0-Source/src/mntplot.o build/temp.macosx-10.7-x86_64-3.6/pyminuit2/MnMigrad.o build/temp.macosx-10.7-x86_64-3.6/Minuit2-6.14.0-Source/src/mnxerbla.o build/temp.macosx-10.7-x86_64-3.6/Minuit2-6.14.0-Source/src/MnUserParameterState.o build/temp.macosx-10.7-x86_64-3.6/pyminuit2/pyminuit2.o build/temp.macosx-10.7-x86_64-3.6/Minuit2-6.14.0-Source/src/MnMinos.o build/temp.macosx-10.7-x86_64-3.6/Minuit2-6.14.0-Source/src/ParametricFunction.o build/temp.macosx-10.7-x86_64-3.6/Minuit2-6.14.0-Source/src/FumiliGradientCalculator.o build/temp.macosx-10.7-x86_64-3.6/Minuit2-6.14.0-Source/src/MnSeedGenerator.o build/temp.macosx-10.7-x86_64-3.6/Minuit2-6.14.0-Source/src/DavidonErrorUpdator.o build/temp.macosx-10.7-x86_64-3.6/Minuit2-6.14.0-Source/src/FumiliBuilder.o build/temp.macosx-10.7-x86_64-3.6/Minuit2-6.14.0-Source/src/MnApplication.o build/temp.macosx-10.7-x86_64-3.6/Minuit2-6.14.0-Source/src/SqrtUpParameterTransformation.o build/temp.macosx-10.7-x86_64-3.6/Minuit2-6.14.0-Source/src/LaVtMVSimilarity.o build/temp.macosx-10.7-x86_64-3.6/Minuit2-6.14.0-Source/src/math/GenAlgoOptions.o build/temp.macosx-10.7-x86_64-3.6/Minuit2-6.14.0-Source/src/MinimumBuilder.o build/temp.macosx-10.7-x86_64-3.6/Minuit2-6.14.0-Source/src/mnteigen.o build/temp.macosx-10.7-x86_64-3.6/Minuit2-6.14.0-Source/src/SqrtLowParameterTransformation.o build/temp.macosx-10.7-x86_64-3.6/Minuit2-6.14.0-Source/src/LaEigenValues.o build/temp.macosx-10.7-x86_64-3.6/Minuit2-6.14.0-Source/src/math/MinimizerOptions.o build/temp.macosx-10.7-x86_64-3.6/Minuit2-6.14.0-Source/src/MnUserParameters.o build/temp.macosx-10.7-x86_64-3.6/Minuit2-6.14.0-Source/src/MnFcn.o build/temp.macosx-10.7-x86_64-3.6/Minuit2-6.14.0-Source/src/ScanBuilder.o build/temp.macosx-10.7-x86_64-3.6/Minuit2-6.14.0-Source/src/mndscal.o build/temp.macosx-10.7-x86_64-3.6/Minuit2-6.14.0-Source/src/MnPlot.o build/temp.macosx-10.7-x86_64-3.6/Minuit2-6.14.0-Source/src/ModularFunctionMinimizer.o build/temp.macosx-10.7-x86_64-3.6/Minuit2-6.14.0-Source/src/InitialGradientCalculator.o build/temp.macosx-10.7-x86_64-3.6/Minuit2-6.14.0-Source/src/mndspmv.o build/temp.macosx-10.7-x86_64-3.6/Minuit2-6.14.0-Source/src/MnHesse.o build/temp.macosx-10.7-x86_64-3.6/Minuit2-6.14.0-Source/src/NegativeG2LineSearch.o build/temp.macosx-10.7-x86_64-3.6/Minuit2-6.14.0-Source/src/MnGlobalCorrelationCoeff.o build/temp.macosx-10.7-x86_64-3.6/Minuit2-6.14.0-Source/src/FumiliErrorUpdator.o build/temp.macosx-10.7-x86_64-3.6/Minuit2-6.14.0-Source/src/LaInnerProduct.o build/temp.macosx-10.7-x86_64-3.6/Minuit2-6.14.0-Source/src/MnFumiliMinimize.o build/temp.macosx-10.7-x86_64-3.6/Minuit2-6.14.0-Source/src/MnFunctionCross.o build/temp.macosx-10.7-x86_64-3.6/Minuit2-6.14.0-Source/src/SimplexSeedGenerator.o build/temp.macosx-10.7-x86_64-3.6/Minuit2-6.14.0-Source/src/VariableMetricBuilder.o build/temp.macosx-10.7-x86_64-3.6/Minuit2-6.14.0-Source/src/MnStrategy.o build/temp.macosx-10.7-x86_64-3.6/Minuit2-6.14.0-Source/src/BFGSErrorUpdator.o build/temp.macosx-10.7-x86_64-3.6/Minuit2-6.14.0-Source/src/mnbins.o build/temp.macosx-10.7-x86_64-3.6/Minuit2-6.14.0-Source/src/MnCovarianceSqueeze.o build/temp.macosx-10.7-x86_64-3.6/Minuit2-6.14.0-Source/src/MnMachinePrecision.o build/temp.macosx-10.7-x86_64-3.6/Minuit2-6.14.0-Source/src/CombinedMinimumBuilder.o build/temp.macosx-10.7-x86_64-3.6/Minuit2-6.14.0-Source/src/MnScan.o build/temp.macosx-10.7-x86_64-3.6/Minuit2-6.14.0-Source/src/MnPosDef.o build/temp.macosx-10.7-x86_64-3.6/Minuit2-6.14.0-Source/src/SimplexBuilder.o build/temp.macosx-10.7-x86_64-3.6/Minuit2-6.14.0-Source/src/HessianGradientCalculator.o build/temp.macosx-10.7-x86_64-3.6/Minuit2-6.14.0-Source/src/mndasum.o build/temp.macosx-10.7-x86_64-3.6/Minuit2-6.14.0-Source/src/VariableMetricEDMEstimator.o build/temp.macosx-10.7-x86_64-3.6/Minuit2-6.14.0-Source/src/Numerical2PGradientCalculator.o build/temp.macosx-10.7-x86_64-3.6/Minuit2-6.14.0-Source/src/MnParabolaFactory.o build/temp.macosx-10.7-x86_64-3.6/Minuit2-6.14.0-Source/src/MnEigen.o build/temp.macosx-10.7-x86_64-3.6/Minuit2-6.14.0-Source/src/SimplexParameters.o build/temp.macosx-10.7-x86_64-3.6/Minuit2-6.14.0-Source/src/MnLineSearch.o build/temp.macosx-10.7-x86_64-3.6/Minuit2-6.14.0-Source/src/MnUserFcn.o build/temp.macosx-10.7-x86_64-3.6/Minuit2-6.14.0-Source/src/MnUserTransformation.o build/temp.macosx-10.7-x86_64-3.6/pyminuit2/FunctionMinimum.o build/temp.macosx-10.7-x86_64-3.6/Minuit2-6.14.0-Source/src/mnddot.o build/temp.macosx-10.7-x86_64-3.6/Minuit2-6.14.0-Source/src/MnTiny.o build/temp.macosx-10.7-x86_64-3.6/pyminuit2/FCNBase.o build/temp.macosx-10.7-x86_64-3.6/Minuit2-6.14.0-Source/src/AnalyticalGradientCalculator.o build/temp.macosx-10.7-x86_64-3.6/Minuit2-6.14.0-Source/src/LaSumOfElements.o build/temp.macosx-10.7-x86_64-3.6/Minuit2-6.14.0-Source/src/MnContours.o build/temp.macosx-10.7-x86_64-3.6/Minuit2-6.14.0-Source/src/MnPrint.o build/temp.macosx-10.7-x86_64-3.6/Minuit2-6.14.0-Source/src/MnTraceObject.o build/temp.macosx-10.7-x86_64-3.6/Minuit2-6.14.0-Source/src/mndspr.o build/temp.macosx-10.7-x86_64-3.6/pyminuit2/MnUserParameters.o build/temp.macosx-10.7-x86_64-3.6/Minuit2-6.14.0-Source/src/mnlsame.o build/temp.macosx-10.7-x86_64-3.6/Minuit2-6.14.0-Source/src/MnParameterScan.o build/temp.macosx-10.7-x86_64-3.6/Minuit2-6.14.0-Source/src/FumiliStandardMaximumLikelihoodFCN.o build/temp.macosx-10.7-x86_64-3.6/Minuit2-6.14.0-Source/src/BasicMinimumError.o build/temp.macosx-10.7-x86_64-3.6/Minuit2-6.14.0-Source/src/mnvert.o build/temp.macosx-10.7-x86_64-3.6/Minuit2-6.14.0-Source/src/LaInverse.o build/temp.macosx-10.7-x86_64-3.6/Minuit2-6.14.0-Source/src/Minuit2Minimizer.o build/temp.macosx-10.7-x86_64-3.6/Minuit2-6.14.0-Source/src/LaOuterProduct.o build/temp.macosx-10.7-x86_64-3.6/Minuit2-6.14.0-Source/src/SinParameterTransformation.o build/temp.macosx-10.7-x86_64-3.6/Minuit2-6.14.0-Source/src/mndaxpy.o -o build/lib.macosx-10.7-x86_64-3.6/minuit2.cpython-36m-darwin.so\n",
      "clang: \u001b[0;1;35mwarning: \u001b[0mlibstdc++ is deprecated; move to libc++ with a minimum deployment target of OS X 10.9 [-Wdeprecated]\u001b[0m\n"
     ]
    }
   ],
   "source": [
    "!python setup.py build_ext"
   ]
  },
  {
   "cell_type": "code",
   "execution_count": 2,
   "metadata": {},
   "outputs": [],
   "source": [
    "import sys"
   ]
  },
  {
   "cell_type": "code",
   "execution_count": 3,
   "metadata": {},
   "outputs": [],
   "source": [
    "sys.path.append('build/lib.macosx-10.7-x86_64-3.6')"
   ]
  },
  {
   "cell_type": "code",
   "execution_count": 4,
   "metadata": {},
   "outputs": [],
   "source": [
    "import minuit2"
   ]
  },
  {
   "cell_type": "code",
   "execution_count": 5,
   "metadata": {},
   "outputs": [
    {
     "name": "stdout",
     "output_type": "stream",
     "text": [
      "val = 1.0\n",
      "val = 1.001\n",
      "val = 0.999\n",
      "val = 1.0005980198587356\n",
      "val = 0.9994019801412644\n",
      "val = -8.230083281546285e-11\n",
      "val = 0.00034526688527999595\n",
      "val = -0.0003452670498816616\n",
      "val = -8.230083281546285e-11\n",
      "val = 0.00034526688527999595\n",
      "val = -0.0003452670498816616\n",
      "val = 6.905331121533294e-05\n",
      "val = -6.905347581699857e-05\n",
      "\n",
      "Minuit did successfully converge.\n",
      "# of function calls: 13\n",
      "minimum function Value: 6.773427082119e-21\n",
      "minimum edm: 6.773427081817e-21\n",
      "minimum internal state vector: LAVector parameters:\n",
      " -8.230083281546e-11\n",
      "\n",
      "minimum internal covariance matrix: LASymMatrix parameters:\n",
      "              1\n",
      "\n",
      "\n",
      "# ext. ||   Name    ||   type  ||     Value     ||  Error +/- \n",
      "\n",
      "   0   ||         x ||  free   || -8.230083281546e-11 ||0.7071067811865\n",
      "\n",
      "\n",
      "\n",
      "\n",
      "\n"
     ]
    }
   ],
   "source": [
    "class SimpleFCN (minuit2.FCNBase):\n",
    "    def Up(self):\n",
    "        return 0.5\n",
    "    def __call__(self, v):\n",
    "        print(\"val =\", v[0])\n",
    "        return v[0]**2;\n",
    "\n",
    "\n",
    "fcn = SimpleFCN()\n",
    "upar = minuit2.MnUserParameters()\n",
    "upar.Add(\"x\", 1., 0.1)\n",
    "migrad = minuit2.MnMigrad(fcn, upar)\n",
    "min = migrad()\n",
    "print(min)\n"
   ]
  },
  {
   "cell_type": "code",
   "execution_count": null,
   "metadata": {},
   "outputs": [],
   "source": []
  }
 ],
 "metadata": {
  "celltoolbar": "Slideshow",
  "kernelspec": {
   "display_name": "Anaconda Python 3",
   "language": "python",
   "name": "anaconda"
  },
  "language_info": {
   "codemirror_mode": {
    "name": "ipython",
    "version": 3
   },
   "file_extension": ".py",
   "mimetype": "text/x-python",
   "name": "python",
   "nbconvert_exporter": "python",
   "pygments_lexer": "ipython3",
   "version": "3.6.5"
  }
 },
 "nbformat": 4,
 "nbformat_minor": 2
}
